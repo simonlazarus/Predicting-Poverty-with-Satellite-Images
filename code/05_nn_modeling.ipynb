{
  "nbformat": 4,
  "nbformat_minor": 0,
  "metadata": {
    "colab": {
      "provenance": [],
      "machine_shape": "hm"
    },
    "kernelspec": {
      "name": "python3",
      "display_name": "Python 3"
    },
    "language_info": {
      "name": "python"
    },
    "accelerator": "GPU",
    "gpuClass": "premium"
  },
  "cells": [
    {
      "cell_type": "markdown",
      "source": [
        "# Summary of this notebook\n",
        "\n",
        "In this notebook, we train Convolutional Neural Networks (CNNs) on the various satellite image channels to predict whether a given village is in the poorest third of all villages.  After setting up the appropriate TensorFlow image dataset generators, we begin by training custom-architected CNNs on RGB and SWIR1 images.  Since these models do not perform well, we thereafter employ transfer learning: We train the final layer of `EfficientNetV2M`, a large image-processing CNN trained on [imagenet](https://www.image-net.org/).\n",
        "\n",
        "We train different versions of `EfficientNetV2M` on each of the image types: RGB, NIR, SWIR1, SWIR2, TEMP1 and NIGHTLIGHTS.  We then export the predictions of each of these models, in the form of probabilities of being in the poorest third of all villages, in dataframes for the `train`, `test` and `val` datasets.  This enables us to create ensemble models (in the [next notebook](./06_final_modeling.ipynb)) using these predicted probabilities and other features.\n",
        "\n",
        "Throughout this notebook, we train models on the `train` data and use the `test` data for comparison and early stopping.  We then make *predictions* for all three of the `train`, `test` and `val` datasets, but we do not *use* the `val` dataset in any way that could influence our modeling choices."
      ],
      "metadata": {
        "id": "4zAf0d_TXqMg"
      }
    },
    {
      "cell_type": "code",
      "source": [
        "#If using Google Colab and Google Drive, run the following commands\n",
        "\n",
        "from google.colab import drive\n",
        "drive.mount('/content/drive')"
      ],
      "metadata": {
        "id": "TZHR_fOLry1q",
        "outputId": "ceaafdf7-366a-4eaf-9e97-94f7316fd354",
        "colab": {
          "base_uri": "https://localhost:8080/"
        }
      },
      "execution_count": null,
      "outputs": [
        {
          "output_type": "stream",
          "name": "stdout",
          "text": [
            "Mounted at /content/drive\n"
          ]
        }
      ]
    },
    {
      "cell_type": "code",
      "source": [
        "#REPLACE THIS COMMAND WITH THE APPROPRIATE PATH TO THE \"code\" FOLDER ON YOUR GOOGLE DRIVE\n",
        "%cd ./drive/MyDrive/poverty_project/group_project/code"
      ],
      "metadata": {
        "id": "t7LzllWFryuG",
        "colab": {
          "base_uri": "https://localhost:8080/"
        },
        "outputId": "3467084c-5616-4b0d-d1e4-aac04a79b686"
      },
      "execution_count": null,
      "outputs": [
        {
          "output_type": "stream",
          "name": "stdout",
          "text": [
            "/content/drive/MyDrive/poverty_project/group_project/code\n"
          ]
        }
      ]
    },
    {
      "cell_type": "markdown",
      "source": [
        "## Imports"
      ],
      "metadata": {
        "id": "p5ng6jnZoTGs"
      }
    },
    {
      "cell_type": "code",
      "execution_count": null,
      "metadata": {
        "id": "05c2QWkWrZsv"
      },
      "outputs": [],
      "source": [
        "import pandas as pd\n",
        "import numpy as np\n",
        "import matplotlib.pyplot as plt\n",
        "\n",
        "from keras_preprocessing.image import ImageDataGenerator\n",
        "\n",
        "from tensorflow.keras.layers import Dense, Conv2D, MaxPooling2D, Dropout, Flatten, Input, Rescaling, GlobalAveragePooling2D, Resizing\n",
        "from tensorflow.keras.models import Sequential, load_model\n",
        "from tensorflow.keras.utils import image_dataset_from_directory\n",
        "from tensorflow.keras import layers\n",
        "from tensorflow.keras.callbacks import EarlyStopping, ModelCheckpoint\n",
        "from tensorflow.keras.applications import EfficientNetV2M\n",
        "from tensorflow.keras.optimizers import Adam\n",
        "\n",
        "from sklearn import metrics\n",
        "\n",
        "from os import listdir\n",
        "from os.path import isfile, join\n",
        "import os\n",
        "import itertools"
      ]
    },
    {
      "cell_type": "markdown",
      "source": [
        "### Read in the non-image data"
      ],
      "metadata": {
        "id": "MlqYQOd8-mnU"
      }
    },
    {
      "cell_type": "code",
      "source": [
        "train_csv_location = '../data/train.csv'\n",
        "test_csv_location = '../data/test.csv'\n",
        "val_csv_location = '../data/val.csv'"
      ],
      "metadata": {
        "id": "KVd-Ai14mS5l"
      },
      "execution_count": null,
      "outputs": []
    },
    {
      "cell_type": "code",
      "source": [
        "train = pd.read_csv(train_csv_location, index_col='index')\n",
        "train.head()"
      ],
      "metadata": {
        "colab": {
          "base_uri": "https://localhost:8080/",
          "height": 238
        },
        "id": "m6jOaflBoSdS",
        "outputId": "802da648-df3d-4773-f093-a60c7c637a1d"
      },
      "execution_count": null,
      "outputs": [
        {
          "output_type": "execute_result",
          "data": {
            "text/plain": [
              "                               country    year  ...  longitude  is_poorest\n",
              "index                                           ...                       \n",
              "lesotho_2014_00-254            lesotho  2014.0  ...  27.936529           0\n",
              "burkina_faso_2010_00-162  burkina_faso  2010.0  ...  -3.322228           1\n",
              "mali_2012_00-381                  mali  2012.0  ...  -6.966146           0\n",
              "lesotho_2009_00-237            lesotho  2009.0  ...  28.033241           0\n",
              "zimbabwe_2010_00-125          zimbabwe  2010.0  ...  30.610455           1\n",
              "\n",
              "[5 rows x 8 columns]"
            ],
            "text/html": [
              "\n",
              "  <div id=\"df-d3430137-ab01-48ae-a8e3-178e6f6f70f6\">\n",
              "    <div class=\"colab-df-container\">\n",
              "      <div>\n",
              "<style scoped>\n",
              "    .dataframe tbody tr th:only-of-type {\n",
              "        vertical-align: middle;\n",
              "    }\n",
              "\n",
              "    .dataframe tbody tr th {\n",
              "        vertical-align: top;\n",
              "    }\n",
              "\n",
              "    .dataframe thead th {\n",
              "        text-align: right;\n",
              "    }\n",
              "</style>\n",
              "<table border=\"1\" class=\"dataframe\">\n",
              "  <thead>\n",
              "    <tr style=\"text-align: right;\">\n",
              "      <th></th>\n",
              "      <th>country</th>\n",
              "      <th>year</th>\n",
              "      <th>wealth_index</th>\n",
              "      <th>is_urban</th>\n",
              "      <th>households</th>\n",
              "      <th>latitude</th>\n",
              "      <th>longitude</th>\n",
              "      <th>is_poorest</th>\n",
              "    </tr>\n",
              "    <tr>\n",
              "      <th>index</th>\n",
              "      <th></th>\n",
              "      <th></th>\n",
              "      <th></th>\n",
              "      <th></th>\n",
              "      <th></th>\n",
              "      <th></th>\n",
              "      <th></th>\n",
              "      <th></th>\n",
              "    </tr>\n",
              "  </thead>\n",
              "  <tbody>\n",
              "    <tr>\n",
              "      <th>lesotho_2014_00-254</th>\n",
              "      <td>lesotho</td>\n",
              "      <td>2014.0</td>\n",
              "      <td>0.983558</td>\n",
              "      <td>1.0</td>\n",
              "      <td>24.0</td>\n",
              "      <td>-28.909042</td>\n",
              "      <td>27.936529</td>\n",
              "      <td>0</td>\n",
              "    </tr>\n",
              "    <tr>\n",
              "      <th>burkina_faso_2010_00-162</th>\n",
              "      <td>burkina_faso</td>\n",
              "      <td>2010.0</td>\n",
              "      <td>-0.604069</td>\n",
              "      <td>0.0</td>\n",
              "      <td>25.0</td>\n",
              "      <td>11.163129</td>\n",
              "      <td>-3.322228</td>\n",
              "      <td>1</td>\n",
              "    </tr>\n",
              "    <tr>\n",
              "      <th>mali_2012_00-381</th>\n",
              "      <td>mali</td>\n",
              "      <td>2012.0</td>\n",
              "      <td>-0.371823</td>\n",
              "      <td>0.0</td>\n",
              "      <td>25.0</td>\n",
              "      <td>11.877264</td>\n",
              "      <td>-6.966146</td>\n",
              "      <td>0</td>\n",
              "    </tr>\n",
              "    <tr>\n",
              "      <th>lesotho_2009_00-237</th>\n",
              "      <td>lesotho</td>\n",
              "      <td>2009.0</td>\n",
              "      <td>-0.110702</td>\n",
              "      <td>0.0</td>\n",
              "      <td>23.0</td>\n",
              "      <td>-29.518770</td>\n",
              "      <td>28.033241</td>\n",
              "      <td>0</td>\n",
              "    </tr>\n",
              "    <tr>\n",
              "      <th>zimbabwe_2010_00-125</th>\n",
              "      <td>zimbabwe</td>\n",
              "      <td>2010.0</td>\n",
              "      <td>-0.749686</td>\n",
              "      <td>0.0</td>\n",
              "      <td>28.0</td>\n",
              "      <td>-16.217611</td>\n",
              "      <td>30.610455</td>\n",
              "      <td>1</td>\n",
              "    </tr>\n",
              "  </tbody>\n",
              "</table>\n",
              "</div>\n",
              "      <button class=\"colab-df-convert\" onclick=\"convertToInteractive('df-d3430137-ab01-48ae-a8e3-178e6f6f70f6')\"\n",
              "              title=\"Convert this dataframe to an interactive table.\"\n",
              "              style=\"display:none;\">\n",
              "        \n",
              "  <svg xmlns=\"http://www.w3.org/2000/svg\" height=\"24px\"viewBox=\"0 0 24 24\"\n",
              "       width=\"24px\">\n",
              "    <path d=\"M0 0h24v24H0V0z\" fill=\"none\"/>\n",
              "    <path d=\"M18.56 5.44l.94 2.06.94-2.06 2.06-.94-2.06-.94-.94-2.06-.94 2.06-2.06.94zm-11 1L8.5 8.5l.94-2.06 2.06-.94-2.06-.94L8.5 2.5l-.94 2.06-2.06.94zm10 10l.94 2.06.94-2.06 2.06-.94-2.06-.94-.94-2.06-.94 2.06-2.06.94z\"/><path d=\"M17.41 7.96l-1.37-1.37c-.4-.4-.92-.59-1.43-.59-.52 0-1.04.2-1.43.59L10.3 9.45l-7.72 7.72c-.78.78-.78 2.05 0 2.83L4 21.41c.39.39.9.59 1.41.59.51 0 1.02-.2 1.41-.59l7.78-7.78 2.81-2.81c.8-.78.8-2.07 0-2.86zM5.41 20L4 18.59l7.72-7.72 1.47 1.35L5.41 20z\"/>\n",
              "  </svg>\n",
              "      </button>\n",
              "      \n",
              "  <style>\n",
              "    .colab-df-container {\n",
              "      display:flex;\n",
              "      flex-wrap:wrap;\n",
              "      gap: 12px;\n",
              "    }\n",
              "\n",
              "    .colab-df-convert {\n",
              "      background-color: #E8F0FE;\n",
              "      border: none;\n",
              "      border-radius: 50%;\n",
              "      cursor: pointer;\n",
              "      display: none;\n",
              "      fill: #1967D2;\n",
              "      height: 32px;\n",
              "      padding: 0 0 0 0;\n",
              "      width: 32px;\n",
              "    }\n",
              "\n",
              "    .colab-df-convert:hover {\n",
              "      background-color: #E2EBFA;\n",
              "      box-shadow: 0px 1px 2px rgba(60, 64, 67, 0.3), 0px 1px 3px 1px rgba(60, 64, 67, 0.15);\n",
              "      fill: #174EA6;\n",
              "    }\n",
              "\n",
              "    [theme=dark] .colab-df-convert {\n",
              "      background-color: #3B4455;\n",
              "      fill: #D2E3FC;\n",
              "    }\n",
              "\n",
              "    [theme=dark] .colab-df-convert:hover {\n",
              "      background-color: #434B5C;\n",
              "      box-shadow: 0px 1px 3px 1px rgba(0, 0, 0, 0.15);\n",
              "      filter: drop-shadow(0px 1px 2px rgba(0, 0, 0, 0.3));\n",
              "      fill: #FFFFFF;\n",
              "    }\n",
              "  </style>\n",
              "\n",
              "      <script>\n",
              "        const buttonEl =\n",
              "          document.querySelector('#df-d3430137-ab01-48ae-a8e3-178e6f6f70f6 button.colab-df-convert');\n",
              "        buttonEl.style.display =\n",
              "          google.colab.kernel.accessAllowed ? 'block' : 'none';\n",
              "\n",
              "        async function convertToInteractive(key) {\n",
              "          const element = document.querySelector('#df-d3430137-ab01-48ae-a8e3-178e6f6f70f6');\n",
              "          const dataTable =\n",
              "            await google.colab.kernel.invokeFunction('convertToInteractive',\n",
              "                                                     [key], {});\n",
              "          if (!dataTable) return;\n",
              "\n",
              "          const docLinkHtml = 'Like what you see? Visit the ' +\n",
              "            '<a target=\"_blank\" href=https://colab.research.google.com/notebooks/data_table.ipynb>data table notebook</a>'\n",
              "            + ' to learn more about interactive tables.';\n",
              "          element.innerHTML = '';\n",
              "          dataTable['output_type'] = 'display_data';\n",
              "          await google.colab.output.renderOutput(dataTable, element);\n",
              "          const docLink = document.createElement('div');\n",
              "          docLink.innerHTML = docLinkHtml;\n",
              "          element.appendChild(docLink);\n",
              "        }\n",
              "      </script>\n",
              "    </div>\n",
              "  </div>\n",
              "  "
            ]
          },
          "metadata": {},
          "execution_count": 223
        }
      ]
    },
    {
      "cell_type": "code",
      "source": [
        "test = pd.read_csv(test_csv_location, index_col='index')\n",
        "val = pd.read_csv(val_csv_location, index_col='index')"
      ],
      "metadata": {
        "id": "9Cw-iIdqAywh"
      },
      "execution_count": null,
      "outputs": []
    },
    {
      "cell_type": "markdown",
      "source": [
        "## Tensorflow image dataset generators for RGB images"
      ],
      "metadata": {
        "id": "OhcsBfatxfC4"
      }
    },
    {
      "cell_type": "code",
      "source": [
        "rgb_image_path = '../data/dhs_images_separated/RGB'"
      ],
      "metadata": {
        "id": "n65TpvNUx0aH"
      },
      "execution_count": null,
      "outputs": []
    },
    {
      "cell_type": "code",
      "source": [
        "rgb_train_ds = image_dataset_from_directory(\n",
        "    f\"{rgb_image_path}/train\",\n",
        "    label_mode = 'binary',\n",
        "    batch_size = 32,\n",
        "    seed = 42, \n",
        "    image_size=[255,255]\n",
        ")"
      ],
      "metadata": {
        "colab": {
          "base_uri": "https://localhost:8080/"
        },
        "id": "Vx_j03eVxlCK",
        "outputId": "a4f7cc4a-4e66-46cb-b870-6b7c8ee3fa42"
      },
      "execution_count": null,
      "outputs": [
        {
          "output_type": "stream",
          "name": "stdout",
          "text": [
            "Found 17520 files belonging to 2 classes.\n"
          ]
        }
      ]
    },
    {
      "cell_type": "code",
      "source": [
        "rgb_test_ds = image_dataset_from_directory(\n",
        "    f\"{rgb_image_path}/test\",\n",
        "    label_mode = 'binary',\n",
        "    batch_size = 32,\n",
        "    seed = 42, \n",
        "    image_size=[255,255]\n",
        ")"
      ],
      "metadata": {
        "colab": {
          "base_uri": "https://localhost:8080/"
        },
        "id": "tgqgm9V4xk7y",
        "outputId": "358a6473-45b3-474c-febe-d1f9f24c7094"
      },
      "execution_count": null,
      "outputs": [
        {
          "output_type": "stream",
          "name": "stdout",
          "text": [
            "Found 974 files belonging to 2 classes.\n"
          ]
        }
      ]
    },
    {
      "cell_type": "code",
      "source": [
        "rgb_val_ds = image_dataset_from_directory(\n",
        "    f\"{rgb_image_path}/val\",\n",
        "    label_mode = 'binary',\n",
        "    batch_size = 32,\n",
        "    seed = 42, \n",
        "    image_size=[255,255]\n",
        ")"
      ],
      "metadata": {
        "colab": {
          "base_uri": "https://localhost:8080/"
        },
        "id": "35j7WDpRxk2M",
        "outputId": "5d739192-709a-4935-b5a9-871cb31a5ec4"
      },
      "execution_count": null,
      "outputs": [
        {
          "output_type": "stream",
          "name": "stdout",
          "text": [
            "Found 973 files belonging to 2 classes.\n"
          ]
        }
      ]
    },
    {
      "cell_type": "markdown",
      "source": [
        "## Tensorflow image dataset generators for NIGHTLIGHTS images"
      ],
      "metadata": {
        "id": "FKYt7rmzrvS7"
      }
    },
    {
      "cell_type": "markdown",
      "source": [
        "The NIGHTLIGHTS images come from different satellites than the others (all of which come from LANDSAT).  The NIGHTLIGHTS images were captured at 8x8 resolution (from the DMSP satellite, in the years 2009-2011) or 16x16 resolution (from the VIIRS satellite, in the years 2012-2017) and then scaled up to 255x255 pixels when downloaded in the `.tfrecord.gz` files.\n",
        "\n",
        "As such, we can save computational time and resources by scaling these images down to their original (smaller) resolutions.  However, in order to ensure consistency across the images from the DMSP and VIIRS satellites, we rescale *all* NIGHTLIGHTS images down to 8x8 resolution."
      ],
      "metadata": {
        "id": "Q7BAHMxk6XeY"
      }
    },
    {
      "cell_type": "code",
      "source": [
        "nl_image_path = '../data/dhs_images_separated/NIGHTLIGHTS'\n",
        "\n",
        "#Resize all images to be 8x8, fitting with the lowest resolution found among\n",
        "#the original NIGHTLIGHTS images (2009-2011)\n",
        "nl_image_resize = [8,8]"
      ],
      "metadata": {
        "id": "Bb5zUjBvr71V"
      },
      "execution_count": null,
      "outputs": []
    },
    {
      "cell_type": "code",
      "source": [
        "nl_train_ds = image_dataset_from_directory(\n",
        "    f\"{nl_image_path}/train\",\n",
        "    label_mode = 'binary',\n",
        "    batch_size = 32,\n",
        "    seed = 42, \n",
        "    image_size = nl_image_resize,\n",
        ")"
      ],
      "metadata": {
        "colab": {
          "base_uri": "https://localhost:8080/"
        },
        "id": "alRjXgR5ud-L",
        "outputId": "ad975ec3-cce1-4339-90b9-c21bb7968485"
      },
      "execution_count": null,
      "outputs": [
        {
          "output_type": "stream",
          "name": "stdout",
          "text": [
            "Found 17520 files belonging to 2 classes.\n"
          ]
        }
      ]
    },
    {
      "cell_type": "code",
      "source": [
        "nl_test_ds = image_dataset_from_directory(\n",
        "    f\"{nl_image_path}/test\",\n",
        "    label_mode = 'binary',\n",
        "    batch_size = 32,\n",
        "    seed = 42, \n",
        "    image_size = nl_image_resize,\n",
        ")"
      ],
      "metadata": {
        "colab": {
          "base_uri": "https://localhost:8080/"
        },
        "id": "jwi5nfAQr0G5",
        "outputId": "1bf3e3b9-8b61-4999-ab86-ec455500df1e"
      },
      "execution_count": null,
      "outputs": [
        {
          "output_type": "stream",
          "name": "stdout",
          "text": [
            "Found 974 files belonging to 2 classes.\n"
          ]
        }
      ]
    },
    {
      "cell_type": "code",
      "source": [
        "nl_val_ds = image_dataset_from_directory(\n",
        "    f\"{nl_image_path}/val\",\n",
        "    label_mode = 'binary',\n",
        "    batch_size = 32,\n",
        "    seed = 42, \n",
        "    image_size = nl_image_resize\n",
        ")"
      ],
      "metadata": {
        "colab": {
          "base_uri": "https://localhost:8080/"
        },
        "id": "YTIDecL-r2ku",
        "outputId": "24b20cde-b936-4311-ebea-37145a57a565"
      },
      "execution_count": null,
      "outputs": [
        {
          "output_type": "stream",
          "name": "stdout",
          "text": [
            "Found 973 files belonging to 2 classes.\n"
          ]
        }
      ]
    },
    {
      "cell_type": "markdown",
      "source": [
        "## Tensorflow image dataset generators from NIR, SWIR1, SWIR2 and TEMP1 channels"
      ],
      "metadata": {
        "id": "Dbek9jtngbb6"
      }
    },
    {
      "cell_type": "code",
      "source": [
        "NIR_image_path = '../data/dhs_images_separated/NIR'\n",
        "SWIR1_image_path = '../data/dhs_images_separated/SWIR1'\n",
        "SWIR2_image_path = '../data/dhs_images_separated/SWIR2'\n",
        "TEMP1_image_path = '../data/dhs_images_separated/TEMP1'"
      ],
      "metadata": {
        "id": "lf2u-scS6E4U"
      },
      "execution_count": null,
      "outputs": []
    },
    {
      "cell_type": "code",
      "source": [
        "channels = ['NIR', 'SWIR1', 'SWIR2', 'TEMP1']\n",
        "kinds = ['train', 'test', 'val']\n",
        "\n",
        "for kind, channel in itertools.product(kinds, channels):\n",
        "    #Get the path to the images from this channel\n",
        "    image_path = locals()[f\"{channel}_image_path\"]\n",
        "\n",
        "    #Make the Tensorflow image dataset generator object for this kind and channel\n",
        "    locals()[f\"{channel}_{kind}_ds\"] =  image_dataset_from_directory(\n",
        "                                               f\"{image_path}/{kind}\",\n",
        "                                               label_mode = 'binary',\n",
        "                                               batch_size = 32,\n",
        "                                               seed = 42, \n",
        "                                               image_size=[255,255]\n",
        "                                              )"
      ],
      "metadata": {
        "colab": {
          "base_uri": "https://localhost:8080/"
        },
        "id": "1J454Kw87_ng",
        "outputId": "c577d692-cf0a-4a97-88be-f867f6422094"
      },
      "execution_count": null,
      "outputs": [
        {
          "output_type": "stream",
          "name": "stdout",
          "text": [
            "Found 17520 files belonging to 2 classes.\n",
            "Found 17520 files belonging to 2 classes.\n",
            "Found 17520 files belonging to 2 classes.\n",
            "Found 17520 files belonging to 2 classes.\n",
            "Found 974 files belonging to 2 classes.\n",
            "Found 974 files belonging to 2 classes.\n",
            "Found 974 files belonging to 2 classes.\n",
            "Found 974 files belonging to 2 classes.\n",
            "Found 973 files belonging to 2 classes.\n",
            "Found 973 files belonging to 2 classes.\n",
            "Found 973 files belonging to 2 classes.\n",
            "Found 973 files belonging to 2 classes.\n"
          ]
        }
      ]
    },
    {
      "cell_type": "markdown",
      "source": [
        "# Building Convolutional Neural Netork Models\n",
        "\n",
        "## End-to-end CNN for RGB classification\n",
        "\n",
        "First, we'll try building *our own* CNN architecture to predict from an RGB image whether a given village falls in the poorest third of all villages."
      ],
      "metadata": {
        "id": "jxrD8pluuWHy"
      }
    },
    {
      "cell_type": "code",
      "source": [
        "model = Sequential()\n",
        "\n",
        "#Input layer\n",
        "model.add(layers.Input(shape=(255,255,3)))\n",
        "\n",
        "# 5 convolutional / MaxPooling layers with 3x3 filters: Get down to a 7x7 image with 16 channels\n",
        "model.add(Conv2D(32, (3,3), activation='relu'))\n",
        "model.add(MaxPooling2D(pool_size=(2,2) ))\n",
        "\n",
        "model.add(Conv2D(32, (3,3), activation='relu'))\n",
        "model.add(MaxPooling2D(pool_size=(2,2) ))\n",
        "\n",
        "model.add(Conv2D(32, (3,3), activation='relu'))\n",
        "model.add(MaxPooling2D(pool_size=(2,2) ))\n",
        "\n",
        "model.add(Conv2D(16, (3,3), activation='relu'))\n",
        "model.add(MaxPooling2D(pool_size=(2,2) ))\n",
        "\n",
        "model.add(Conv2D(16, (3,3), activation='relu'))\n",
        "model.add(MaxPooling2D(pool_size=(2,2) ))\n",
        "\n",
        "#Flatten\n",
        "model.add(Flatten())\n",
        "\n",
        "#Dense network - with .3 probability of dropout\n",
        "model.add(Dense(512, activation='relu'))\n",
        "model.add(Dropout(.3))\n",
        "model.add(Dense(128, activation='relu'))\n",
        "model.add(Dropout(.3))\n",
        "model.add(Dense(32, activation='relu'))\n",
        "model.add(Dropout(.3))\n",
        "model.add(Dense(8, activation='relu'))\n",
        "model.add(Dropout(.3))\n",
        "model.add(Dense(1, activation='sigmoid'))\n",
        "\n",
        "\n",
        "\n",
        "#Compile the model\n",
        "model.compile(optimizer='adam',\n",
        "              loss='bce',\n",
        "              metrics=['acc'])\n"
      ],
      "metadata": {
        "id": "ZbXNqV1z-E8p"
      },
      "execution_count": null,
      "outputs": []
    },
    {
      "cell_type": "code",
      "source": [
        "model.summary()"
      ],
      "metadata": {
        "colab": {
          "base_uri": "https://localhost:8080/"
        },
        "id": "i4CJJdQPJnyP",
        "outputId": "85ca6e5e-ad48-46ae-8877-83b1fc764818"
      },
      "execution_count": null,
      "outputs": [
        {
          "output_type": "stream",
          "name": "stdout",
          "text": [
            "Model: \"sequential\"\n",
            "_________________________________________________________________\n",
            " Layer (type)                Output Shape              Param #   \n",
            "=================================================================\n",
            " conv2d (Conv2D)             (None, 253, 253, 32)      896       \n",
            "                                                                 \n",
            " max_pooling2d (MaxPooling2D  (None, 126, 126, 32)     0         \n",
            " )                                                               \n",
            "                                                                 \n",
            " conv2d_1 (Conv2D)           (None, 124, 124, 32)      9248      \n",
            "                                                                 \n",
            " max_pooling2d_1 (MaxPooling  (None, 62, 62, 32)       0         \n",
            " 2D)                                                             \n",
            "                                                                 \n",
            " conv2d_2 (Conv2D)           (None, 60, 60, 32)        9248      \n",
            "                                                                 \n",
            " max_pooling2d_2 (MaxPooling  (None, 30, 30, 32)       0         \n",
            " 2D)                                                             \n",
            "                                                                 \n",
            " conv2d_3 (Conv2D)           (None, 28, 28, 16)        4624      \n",
            "                                                                 \n",
            " max_pooling2d_3 (MaxPooling  (None, 14, 14, 16)       0         \n",
            " 2D)                                                             \n",
            "                                                                 \n",
            " conv2d_4 (Conv2D)           (None, 12, 12, 16)        2320      \n",
            "                                                                 \n",
            " max_pooling2d_4 (MaxPooling  (None, 6, 6, 16)         0         \n",
            " 2D)                                                             \n",
            "                                                                 \n",
            " flatten (Flatten)           (None, 576)               0         \n",
            "                                                                 \n",
            " dense (Dense)               (None, 512)               295424    \n",
            "                                                                 \n",
            " dropout (Dropout)           (None, 512)               0         \n",
            "                                                                 \n",
            " dense_1 (Dense)             (None, 128)               65664     \n",
            "                                                                 \n",
            " dropout_1 (Dropout)         (None, 128)               0         \n",
            "                                                                 \n",
            " dense_2 (Dense)             (None, 32)                4128      \n",
            "                                                                 \n",
            " dropout_2 (Dropout)         (None, 32)                0         \n",
            "                                                                 \n",
            " dense_3 (Dense)             (None, 8)                 264       \n",
            "                                                                 \n",
            " dropout_3 (Dropout)         (None, 8)                 0         \n",
            "                                                                 \n",
            " dense_4 (Dense)             (None, 1)                 9         \n",
            "                                                                 \n",
            "=================================================================\n",
            "Total params: 391,825\n",
            "Trainable params: 391,825\n",
            "Non-trainable params: 0\n",
            "_________________________________________________________________\n"
          ]
        }
      ]
    },
    {
      "cell_type": "code",
      "source": [
        "model_name = 'rgb_classification_endtoend_1'\n",
        "model_save_path = '../models'"
      ],
      "metadata": {
        "id": "0Rzba5_pbC27"
      },
      "execution_count": null,
      "outputs": []
    },
    {
      "cell_type": "code",
      "source": [
        "#Add a callback to save the model each epoch\n",
        "checkpoint = ModelCheckpoint(f\"{model_save_path}/{model_name}\", save_freq='epoch', verbose=0)"
      ],
      "metadata": {
        "id": "eMvCK_8dvY-x"
      },
      "execution_count": null,
      "outputs": []
    },
    {
      "cell_type": "code",
      "source": [
        "#Add early stopping\n",
        "es = EarlyStopping( patience = 5)"
      ],
      "metadata": {
        "id": "qKP7y-Zfu42d"
      },
      "execution_count": null,
      "outputs": []
    },
    {
      "cell_type": "code",
      "source": [
        "res = model.fit(rgb_train_ds,\n",
        "                epochs = 50,\n",
        "                validation_data = rgb_test_ds,\n",
        "                verbose = 1,\n",
        "                callbacks = [es, checkpoint]\n",
        "                )"
      ],
      "metadata": {
        "colab": {
          "base_uri": "https://localhost:8080/"
        },
        "id": "y70ta8TSJn2i",
        "outputId": "70981e0c-0e4e-4978-f171-9d5f10f82700"
      },
      "execution_count": null,
      "outputs": [
        {
          "output_type": "stream",
          "name": "stdout",
          "text": [
            "Epoch 1/50\n",
            "548/548 [==============================] - ETA: 0s - loss: 0.6277 - acc: 0.6630"
          ]
        },
        {
          "output_type": "stream",
          "name": "stderr",
          "text": [
            "WARNING:absl:Found untraced functions such as _jit_compiled_convolution_op, _jit_compiled_convolution_op, _jit_compiled_convolution_op, _jit_compiled_convolution_op, _jit_compiled_convolution_op while saving (showing 5 of 5). These functions will not be directly callable after loading.\n"
          ]
        },
        {
          "output_type": "stream",
          "name": "stdout",
          "text": [
            "\b\b\b\b\b\b\b\b\b\b\b\b\b\b\b\b\b\b\b\b\b\b\b\b\b\b\b\b\b\b\b\b\b\b\b\b\b\b\b\b\b\b\b\b\b\b\b\b\b\b\b\b\b\b\b\b\b\b\b\b\b\b\b\b\b\b\b\b\b\b\b\b\b\b\b\b\b\b\b\r548/548 [==============================] - 604s 765ms/step - loss: 0.6277 - acc: 0.6630 - val_loss: 0.6141 - val_acc: 0.6632\n",
            "Epoch 2/50\n",
            "547/548 [============================>.] - ETA: 0s - loss: 0.5869 - acc: 0.6653"
          ]
        },
        {
          "output_type": "stream",
          "name": "stderr",
          "text": [
            "WARNING:absl:Found untraced functions such as _jit_compiled_convolution_op, _jit_compiled_convolution_op, _jit_compiled_convolution_op, _jit_compiled_convolution_op, _jit_compiled_convolution_op while saving (showing 5 of 5). These functions will not be directly callable after loading.\n"
          ]
        },
        {
          "output_type": "stream",
          "name": "stdout",
          "text": [
            "\b\b\b\b\b\b\b\b\b\b\b\b\b\b\b\b\b\b\b\b\b\b\b\b\b\b\b\b\b\b\b\b\b\b\b\b\b\b\b\b\b\b\b\b\b\b\b\b\b\b\b\b\b\b\b\b\b\b\b\b\b\b\b\b\b\b\b\b\b\b\b\b\b\b\b\b\b\b\b\r548/548 [==============================] - 14s 25ms/step - loss: 0.5869 - acc: 0.6653 - val_loss: 0.5695 - val_acc: 0.6632\n",
            "Epoch 3/50\n",
            "547/548 [============================>.] - ETA: 0s - loss: 0.5790 - acc: 0.6674"
          ]
        },
        {
          "output_type": "stream",
          "name": "stderr",
          "text": [
            "WARNING:absl:Found untraced functions such as _jit_compiled_convolution_op, _jit_compiled_convolution_op, _jit_compiled_convolution_op, _jit_compiled_convolution_op, _jit_compiled_convolution_op while saving (showing 5 of 5). These functions will not be directly callable after loading.\n"
          ]
        },
        {
          "output_type": "stream",
          "name": "stdout",
          "text": [
            "\b\b\b\b\b\b\b\b\b\b\b\b\b\b\b\b\b\b\b\b\b\b\b\b\b\b\b\b\b\b\b\b\b\b\b\b\b\b\b\b\b\b\b\b\b\b\b\b\b\b\b\b\b\b\b\b\b\b\b\b\b\b\b\b\b\b\b\b\b\b\b\b\b\b\b\b\b\b\b\r548/548 [==============================] - 14s 25ms/step - loss: 0.5792 - acc: 0.6674 - val_loss: 0.5697 - val_acc: 0.6653\n",
            "Epoch 4/50\n",
            "546/548 [============================>.] - ETA: 0s - loss: 0.5733 - acc: 0.6741"
          ]
        },
        {
          "output_type": "stream",
          "name": "stderr",
          "text": [
            "WARNING:absl:Found untraced functions such as _jit_compiled_convolution_op, _jit_compiled_convolution_op, _jit_compiled_convolution_op, _jit_compiled_convolution_op, _jit_compiled_convolution_op while saving (showing 5 of 5). These functions will not be directly callable after loading.\n"
          ]
        },
        {
          "output_type": "stream",
          "name": "stdout",
          "text": [
            "\b\b\b\b\b\b\b\b\b\b\b\b\b\b\b\b\b\b\b\b\b\b\b\b\b\b\b\b\b\b\b\b\b\b\b\b\b\b\b\b\b\b\b\b\b\b\b\b\b\b\b\b\b\b\b\b\b\b\b\b\b\b\b\b\b\b\b\b\b\b\b\b\b\b\b\b\b\b\b\r548/548 [==============================] - 14s 25ms/step - loss: 0.5732 - acc: 0.6741 - val_loss: 0.5586 - val_acc: 0.7064\n",
            "Epoch 5/50\n",
            "548/548 [==============================] - ETA: 0s - loss: 0.5591 - acc: 0.6882"
          ]
        },
        {
          "output_type": "stream",
          "name": "stderr",
          "text": [
            "WARNING:absl:Found untraced functions such as _jit_compiled_convolution_op, _jit_compiled_convolution_op, _jit_compiled_convolution_op, _jit_compiled_convolution_op, _jit_compiled_convolution_op while saving (showing 5 of 5). These functions will not be directly callable after loading.\n"
          ]
        },
        {
          "output_type": "stream",
          "name": "stdout",
          "text": [
            "\b\b\b\b\b\b\b\b\b\b\b\b\b\b\b\b\b\b\b\b\b\b\b\b\b\b\b\b\b\b\b\b\b\b\b\b\b\b\b\b\b\b\b\b\b\b\b\b\b\b\b\b\b\b\b\b\b\b\b\b\b\b\b\b\b\b\b\b\b\b\b\b\b\b\b\b\b\b\b\r548/548 [==============================] - 14s 25ms/step - loss: 0.5591 - acc: 0.6882 - val_loss: 0.5518 - val_acc: 0.6930\n",
            "Epoch 6/50\n",
            "547/548 [============================>.] - ETA: 0s - loss: 0.5531 - acc: 0.6936"
          ]
        },
        {
          "output_type": "stream",
          "name": "stderr",
          "text": [
            "WARNING:absl:Found untraced functions such as _jit_compiled_convolution_op, _jit_compiled_convolution_op, _jit_compiled_convolution_op, _jit_compiled_convolution_op, _jit_compiled_convolution_op while saving (showing 5 of 5). These functions will not be directly callable after loading.\n"
          ]
        },
        {
          "output_type": "stream",
          "name": "stdout",
          "text": [
            "\b\b\b\b\b\b\b\b\b\b\b\b\b\b\b\b\b\b\b\b\b\b\b\b\b\b\b\b\b\b\b\b\b\b\b\b\b\b\b\b\b\b\b\b\b\b\b\b\b\b\b\b\b\b\b\b\b\b\b\b\b\b\b\b\b\b\b\b\b\b\b\b\b\b\b\b\b\b\b\r548/548 [==============================] - 14s 24ms/step - loss: 0.5531 - acc: 0.6935 - val_loss: 0.5523 - val_acc: 0.6971\n",
            "Epoch 7/50\n",
            "548/548 [==============================] - ETA: 0s - loss: 0.5522 - acc: 0.6909"
          ]
        },
        {
          "output_type": "stream",
          "name": "stderr",
          "text": [
            "WARNING:absl:Found untraced functions such as _jit_compiled_convolution_op, _jit_compiled_convolution_op, _jit_compiled_convolution_op, _jit_compiled_convolution_op, _jit_compiled_convolution_op while saving (showing 5 of 5). These functions will not be directly callable after loading.\n"
          ]
        },
        {
          "output_type": "stream",
          "name": "stdout",
          "text": [
            "\b\b\b\b\b\b\b\b\b\b\b\b\b\b\b\b\b\b\b\b\b\b\b\b\b\b\b\b\b\b\b\b\b\b\b\b\b\b\b\b\b\b\b\b\b\b\b\b\b\b\b\b\b\b\b\b\b\b\b\b\b\b\b\b\b\b\b\b\b\b\b\b\b\b\b\b\b\b\b\r548/548 [==============================] - 14s 25ms/step - loss: 0.5522 - acc: 0.6909 - val_loss: 0.5523 - val_acc: 0.7023\n",
            "Epoch 8/50\n",
            "546/548 [============================>.] - ETA: 0s - loss: 0.5430 - acc: 0.6995"
          ]
        },
        {
          "output_type": "stream",
          "name": "stderr",
          "text": [
            "WARNING:absl:Found untraced functions such as _jit_compiled_convolution_op, _jit_compiled_convolution_op, _jit_compiled_convolution_op, _jit_compiled_convolution_op, _jit_compiled_convolution_op while saving (showing 5 of 5). These functions will not be directly callable after loading.\n"
          ]
        },
        {
          "output_type": "stream",
          "name": "stdout",
          "text": [
            "\b\b\b\b\b\b\b\b\b\b\b\b\b\b\b\b\b\b\b\b\b\b\b\b\b\b\b\b\b\b\b\b\b\b\b\b\b\b\b\b\b\b\b\b\b\b\b\b\b\b\b\b\b\b\b\b\b\b\b\b\b\b\b\b\b\b\b\b\b\b\b\b\b\b\b\b\b\b\b\r548/548 [==============================] - 13s 24ms/step - loss: 0.5431 - acc: 0.6994 - val_loss: 0.5587 - val_acc: 0.6899\n",
            "Epoch 9/50\n",
            "545/548 [============================>.] - ETA: 0s - loss: 0.5366 - acc: 0.7011"
          ]
        },
        {
          "output_type": "stream",
          "name": "stderr",
          "text": [
            "WARNING:absl:Found untraced functions such as _jit_compiled_convolution_op, _jit_compiled_convolution_op, _jit_compiled_convolution_op, _jit_compiled_convolution_op, _jit_compiled_convolution_op while saving (showing 5 of 5). These functions will not be directly callable after loading.\n"
          ]
        },
        {
          "output_type": "stream",
          "name": "stdout",
          "text": [
            "\b\b\b\b\b\b\b\b\b\b\b\b\b\b\b\b\b\b\b\b\b\b\b\b\b\b\b\b\b\b\b\b\b\b\b\b\b\b\b\b\b\b\b\b\b\b\b\b\b\b\b\b\b\b\b\b\b\b\b\b\b\b\b\b\b\b\b\b\b\b\b\b\b\b\b\b\b\b\b\r548/548 [==============================] - 14s 25ms/step - loss: 0.5365 - acc: 0.7011 - val_loss: 0.5577 - val_acc: 0.6899\n",
            "Epoch 10/50\n",
            "547/548 [============================>.] - ETA: 0s - loss: 0.5278 - acc: 0.7097"
          ]
        },
        {
          "output_type": "stream",
          "name": "stderr",
          "text": [
            "WARNING:absl:Found untraced functions such as _jit_compiled_convolution_op, _jit_compiled_convolution_op, _jit_compiled_convolution_op, _jit_compiled_convolution_op, _jit_compiled_convolution_op while saving (showing 5 of 5). These functions will not be directly callable after loading.\n"
          ]
        },
        {
          "output_type": "stream",
          "name": "stdout",
          "text": [
            "\b\b\b\b\b\b\b\b\b\b\b\b\b\b\b\b\b\b\b\b\b\b\b\b\b\b\b\b\b\b\b\b\b\b\b\b\b\b\b\b\b\b\b\b\b\b\b\b\b\b\b\b\b\b\b\b\b\b\b\b\b\b\b\b\b\b\b\b\b\b\b\b\b\b\b\b\b\b\b\r548/548 [==============================] - 14s 24ms/step - loss: 0.5277 - acc: 0.7099 - val_loss: 0.5529 - val_acc: 0.7002\n"
          ]
        }
      ]
    },
    {
      "cell_type": "markdown",
      "source": [
        "So our custom-built architecture only achieved about 70% accuracy when trained on the RGB images.  This is not much better than the baseline accuracy!  Let's try training the model on a different satellite image channel to see if it does any better."
      ],
      "metadata": {
        "id": "XlUJmmz9vPAu"
      }
    },
    {
      "cell_type": "markdown",
      "source": [
        "## Training the same model on only SWIR1 data"
      ],
      "metadata": {
        "id": "zWdlh2vq5zTQ"
      }
    },
    {
      "cell_type": "code",
      "source": [
        "SWIR1_test_ds = image_dataset_from_directory(\n",
        "    f\"{SWIR1_image_path}/test\",\n",
        "    label_mode = 'binary',\n",
        "    batch_size = 32,\n",
        "    seed = 42, \n",
        "    image_size=[255,255]\n",
        ")"
      ],
      "metadata": {
        "colab": {
          "base_uri": "https://localhost:8080/"
        },
        "outputId": "80bd56e8-ecc8-4c54-e241-d83d4a5c4a8c",
        "id": "iwz3QjE56E4V"
      },
      "execution_count": null,
      "outputs": [
        {
          "output_type": "stream",
          "name": "stdout",
          "text": [
            "Found 974 files belonging to 2 classes.\n"
          ]
        }
      ]
    },
    {
      "cell_type": "code",
      "source": [
        "model_name = 'SWIR1_classification_endtoend_1'\n",
        "model_save_path = '../models'"
      ],
      "metadata": {
        "id": "gDUYjtor54h6"
      },
      "execution_count": null,
      "outputs": []
    },
    {
      "cell_type": "code",
      "source": [
        "#Add a callback to save the model each epoch\n",
        "checkpoint = ModelCheckpoint(f\"{model_save_path}/{model_name}\", save_freq='epoch', verbose=0)"
      ],
      "metadata": {
        "id": "vhoBvB7u54h7"
      },
      "execution_count": null,
      "outputs": []
    },
    {
      "cell_type": "code",
      "source": [
        "#Add early stopping\n",
        "es = EarlyStopping( patience = 5)"
      ],
      "metadata": {
        "id": "aAy0_m-M54h7"
      },
      "execution_count": null,
      "outputs": []
    },
    {
      "cell_type": "code",
      "source": [
        "res = model.fit(SWIR1_train_ds,\n",
        "                epochs = 50,\n",
        "                validation_data = SWIR1_test_ds,\n",
        "                verbose = 1,\n",
        "                callbacks = [es, checkpoint]\n",
        "                )"
      ],
      "metadata": {
        "colab": {
          "base_uri": "https://localhost:8080/"
        },
        "outputId": "f7e0daf7-912d-4f48-c619-fc2127bbc75c",
        "id": "nzMFBviv54h7"
      },
      "execution_count": null,
      "outputs": [
        {
          "output_type": "stream",
          "name": "stdout",
          "text": [
            "Epoch 1/50\n",
            "546/548 [============================>.] - ETA: 1s - loss: 0.6361 - acc: 0.6631"
          ]
        },
        {
          "output_type": "stream",
          "name": "stderr",
          "text": [
            "WARNING:absl:Found untraced functions such as _jit_compiled_convolution_op, _jit_compiled_convolution_op, _jit_compiled_convolution_op, _jit_compiled_convolution_op, _jit_compiled_convolution_op while saving (showing 5 of 5). These functions will not be directly callable after loading.\n"
          ]
        },
        {
          "output_type": "stream",
          "name": "stdout",
          "text": [
            "\b\b\b\b\b\b\b\b\b\b\b\b\b\b\b\b\b\b\b\b\b\b\b\b\b\b\b\b\b\b\b\b\b\b\b\b\b\b\b\b\b\b\b\b\b\b\b\b\b\b\b\b\b\b\b\b\b\b\b\b\b\b\b\b\b\b\b\b\b\b\b\b\b\b\b\b\b\b\b\r548/548 [==============================] - 579s 763ms/step - loss: 0.6362 - acc: 0.6630 - val_loss: 0.6243 - val_acc: 0.6632\n",
            "Epoch 2/50\n",
            "545/548 [============================>.] - ETA: 0s - loss: 0.6192 - acc: 0.6643"
          ]
        },
        {
          "output_type": "stream",
          "name": "stderr",
          "text": [
            "WARNING:absl:Found untraced functions such as _jit_compiled_convolution_op, _jit_compiled_convolution_op, _jit_compiled_convolution_op, _jit_compiled_convolution_op, _jit_compiled_convolution_op while saving (showing 5 of 5). These functions will not be directly callable after loading.\n"
          ]
        },
        {
          "output_type": "stream",
          "name": "stdout",
          "text": [
            "\b\b\b\b\b\b\b\b\b\b\b\b\b\b\b\b\b\b\b\b\b\b\b\b\b\b\b\b\b\b\b\b\b\b\b\b\b\b\b\b\b\b\b\b\b\b\b\b\b\b\b\b\b\b\b\b\b\b\b\b\b\b\b\b\b\b\b\b\b\b\b\b\b\b\b\b\b\b\b\r548/548 [==============================] - 14s 25ms/step - loss: 0.6193 - acc: 0.6644 - val_loss: 0.6114 - val_acc: 0.6632\n",
            "Epoch 3/50\n",
            "545/548 [============================>.] - ETA: 0s - loss: 0.6189 - acc: 0.6639"
          ]
        },
        {
          "output_type": "stream",
          "name": "stderr",
          "text": [
            "WARNING:absl:Found untraced functions such as _jit_compiled_convolution_op, _jit_compiled_convolution_op, _jit_compiled_convolution_op, _jit_compiled_convolution_op, _jit_compiled_convolution_op while saving (showing 5 of 5). These functions will not be directly callable after loading.\n"
          ]
        },
        {
          "output_type": "stream",
          "name": "stdout",
          "text": [
            "\b\b\b\b\b\b\b\b\b\b\b\b\b\b\b\b\b\b\b\b\b\b\b\b\b\b\b\b\b\b\b\b\b\b\b\b\b\b\b\b\b\b\b\b\b\b\b\b\b\b\b\b\b\b\b\b\b\b\b\b\b\b\b\b\b\b\b\b\b\b\b\b\b\b\b\b\b\b\b\r548/548 [==============================] - 14s 25ms/step - loss: 0.6186 - acc: 0.6640 - val_loss: 0.6136 - val_acc: 0.6632\n",
            "Epoch 4/50\n",
            "546/548 [============================>.] - ETA: 0s - loss: 0.6169 - acc: 0.6644"
          ]
        },
        {
          "output_type": "stream",
          "name": "stderr",
          "text": [
            "WARNING:absl:Found untraced functions such as _jit_compiled_convolution_op, _jit_compiled_convolution_op, _jit_compiled_convolution_op, _jit_compiled_convolution_op, _jit_compiled_convolution_op while saving (showing 5 of 5). These functions will not be directly callable after loading.\n"
          ]
        },
        {
          "output_type": "stream",
          "name": "stdout",
          "text": [
            "\b\b\b\b\b\b\b\b\b\b\b\b\b\b\b\b\b\b\b\b\b\b\b\b\b\b\b\b\b\b\b\b\b\b\b\b\b\b\b\b\b\b\b\b\b\b\b\b\b\b\b\b\b\b\b\b\b\b\b\b\b\b\b\b\b\b\b\b\b\b\b\b\b\b\b\b\b\b\b\r548/548 [==============================] - 14s 25ms/step - loss: 0.6169 - acc: 0.6645 - val_loss: 0.6165 - val_acc: 0.6632\n",
            "Epoch 5/50\n",
            "545/548 [============================>.] - ETA: 0s - loss: 0.6083 - acc: 0.6663"
          ]
        },
        {
          "output_type": "stream",
          "name": "stderr",
          "text": [
            "WARNING:absl:Found untraced functions such as _jit_compiled_convolution_op, _jit_compiled_convolution_op, _jit_compiled_convolution_op, _jit_compiled_convolution_op, _jit_compiled_convolution_op while saving (showing 5 of 5). These functions will not be directly callable after loading.\n"
          ]
        },
        {
          "output_type": "stream",
          "name": "stdout",
          "text": [
            "\b\b\b\b\b\b\b\b\b\b\b\b\b\b\b\b\b\b\b\b\b\b\b\b\b\b\b\b\b\b\b\b\b\b\b\b\b\b\b\b\b\b\b\b\b\b\b\b\b\b\b\b\b\b\b\b\b\b\b\b\b\b\b\b\b\b\b\b\b\b\b\b\b\b\b\b\b\b\b\r548/548 [==============================] - 14s 25ms/step - loss: 0.6084 - acc: 0.6667 - val_loss: 0.6124 - val_acc: 0.6632\n",
            "Epoch 6/50\n",
            "547/548 [============================>.] - ETA: 0s - loss: 0.6065 - acc: 0.6641"
          ]
        },
        {
          "output_type": "stream",
          "name": "stderr",
          "text": [
            "WARNING:absl:Found untraced functions such as _jit_compiled_convolution_op, _jit_compiled_convolution_op, _jit_compiled_convolution_op, _jit_compiled_convolution_op, _jit_compiled_convolution_op while saving (showing 5 of 5). These functions will not be directly callable after loading.\n"
          ]
        },
        {
          "output_type": "stream",
          "name": "stdout",
          "text": [
            "\b\b\b\b\b\b\b\b\b\b\b\b\b\b\b\b\b\b\b\b\b\b\b\b\b\b\b\b\b\b\b\b\b\b\b\b\b\b\b\b\b\b\b\b\b\b\b\b\b\b\b\b\b\b\b\b\b\b\b\b\b\b\b\b\b\b\b\b\b\b\b\b\b\b\b\b\b\b\b\r548/548 [==============================] - 14s 25ms/step - loss: 0.6065 - acc: 0.6640 - val_loss: 0.6106 - val_acc: 0.6632\n",
            "Epoch 7/50\n",
            "547/548 [============================>.] - ETA: 0s - loss: 0.6334 - acc: 0.6649"
          ]
        },
        {
          "output_type": "stream",
          "name": "stderr",
          "text": [
            "WARNING:absl:Found untraced functions such as _jit_compiled_convolution_op, _jit_compiled_convolution_op, _jit_compiled_convolution_op, _jit_compiled_convolution_op, _jit_compiled_convolution_op while saving (showing 5 of 5). These functions will not be directly callable after loading.\n"
          ]
        },
        {
          "output_type": "stream",
          "name": "stdout",
          "text": [
            "\b\b\b\b\b\b\b\b\b\b\b\b\b\b\b\b\b\b\b\b\b\b\b\b\b\b\b\b\b\b\b\b\b\b\b\b\b\b\b\b\b\b\b\b\b\b\b\b\b\b\b\b\b\b\b\b\b\b\b\b\b\b\b\b\b\b\b\b\b\b\b\b\b\b\b\b\b\b\b\r548/548 [==============================] - 14s 25ms/step - loss: 0.6334 - acc: 0.6649 - val_loss: 0.6390 - val_acc: 0.6632\n",
            "Epoch 8/50\n",
            "547/548 [============================>.] - ETA: 0s - loss: 0.6376 - acc: 0.6655"
          ]
        },
        {
          "output_type": "stream",
          "name": "stderr",
          "text": [
            "WARNING:absl:Found untraced functions such as _jit_compiled_convolution_op, _jit_compiled_convolution_op, _jit_compiled_convolution_op, _jit_compiled_convolution_op, _jit_compiled_convolution_op while saving (showing 5 of 5). These functions will not be directly callable after loading.\n"
          ]
        },
        {
          "output_type": "stream",
          "name": "stdout",
          "text": [
            "\b\b\b\b\b\b\b\b\b\b\b\b\b\b\b\b\b\b\b\b\b\b\b\b\b\b\b\b\b\b\b\b\b\b\b\b\b\b\b\b\b\b\b\b\b\b\b\b\b\b\b\b\b\b\b\b\b\b\b\b\b\b\b\b\b\b\b\b\b\b\b\b\b\b\b\b\b\b\b\r548/548 [==============================] - 14s 25ms/step - loss: 0.6377 - acc: 0.6654 - val_loss: 0.6389 - val_acc: 0.6632\n",
            "Epoch 9/50\n",
            "545/548 [============================>.] - ETA: 0s - loss: 0.6375 - acc: 0.6654"
          ]
        },
        {
          "output_type": "stream",
          "name": "stderr",
          "text": [
            "WARNING:absl:Found untraced functions such as _jit_compiled_convolution_op, _jit_compiled_convolution_op, _jit_compiled_convolution_op, _jit_compiled_convolution_op, _jit_compiled_convolution_op while saving (showing 5 of 5). These functions will not be directly callable after loading.\n"
          ]
        },
        {
          "output_type": "stream",
          "name": "stdout",
          "text": [
            "\b\b\b\b\b\b\b\b\b\b\b\b\b\b\b\b\b\b\b\b\b\b\b\b\b\b\b\b\b\b\b\b\b\b\b\b\b\b\b\b\b\b\b\b\b\b\b\b\b\b\b\b\b\b\b\b\b\b\b\b\b\b\b\b\b\b\b\b\b\b\b\b\b\b\b\b\b\b\b\r548/548 [==============================] - 14s 25ms/step - loss: 0.6375 - acc: 0.6654 - val_loss: 0.6389 - val_acc: 0.6632\n",
            "Epoch 10/50\n",
            "546/548 [============================>.] - ETA: 0s - loss: 0.6378 - acc: 0.6651"
          ]
        },
        {
          "output_type": "stream",
          "name": "stderr",
          "text": [
            "WARNING:absl:Found untraced functions such as _jit_compiled_convolution_op, _jit_compiled_convolution_op, _jit_compiled_convolution_op, _jit_compiled_convolution_op, _jit_compiled_convolution_op while saving (showing 5 of 5). These functions will not be directly callable after loading.\n"
          ]
        },
        {
          "output_type": "stream",
          "name": "stdout",
          "text": [
            "\b\b\b\b\b\b\b\b\b\b\b\b\b\b\b\b\b\b\b\b\b\b\b\b\b\b\b\b\b\b\b\b\b\b\b\b\b\b\b\b\b\b\b\b\b\b\b\b\b\b\b\b\b\b\b\b\b\b\b\b\b\b\b\b\b\b\b\b\b\b\b\b\b\b\b\b\b\b\b\r548/548 [==============================] - 14s 25ms/step - loss: 0.6376 - acc: 0.6654 - val_loss: 0.6389 - val_acc: 0.6632\n",
            "Epoch 11/50\n",
            "546/548 [============================>.] - ETA: 0s - loss: 0.6377 - acc: 0.6654"
          ]
        },
        {
          "output_type": "stream",
          "name": "stderr",
          "text": [
            "WARNING:absl:Found untraced functions such as _jit_compiled_convolution_op, _jit_compiled_convolution_op, _jit_compiled_convolution_op, _jit_compiled_convolution_op, _jit_compiled_convolution_op while saving (showing 5 of 5). These functions will not be directly callable after loading.\n"
          ]
        },
        {
          "output_type": "stream",
          "name": "stdout",
          "text": [
            "\b\b\b\b\b\b\b\b\b\b\b\b\b\b\b\b\b\b\b\b\b\b\b\b\b\b\b\b\b\b\b\b\b\b\b\b\b\b\b\b\b\b\b\b\b\b\b\b\b\b\b\b\b\b\b\b\b\b\b\b\b\b\b\b\b\b\b\b\b\b\b\b\b\b\b\b\b\b\b\r548/548 [==============================] - 14s 25ms/step - loss: 0.6376 - acc: 0.6654 - val_loss: 0.6389 - val_acc: 0.6632\n"
          ]
        }
      ]
    },
    {
      "cell_type": "markdown",
      "source": [
        "So the same model performed *slightly worse than the baseline accuracy* when trained on the SWIR1 image channel only.\n",
        "\n",
        "Perhaps this is an issue with our custom-built CNN architecture.  Would a pretrained CNN work better on our image data?  Let's try `EfficientNetV2M` with our RGB images:"
      ],
      "metadata": {
        "id": "8cMaegnwvxcI"
      }
    },
    {
      "cell_type": "markdown",
      "source": [
        "## Using a pre-trained network on RGB data: `EfficientNetV2M`"
      ],
      "metadata": {
        "id": "2PZtQq8sv8Bl"
      }
    },
    {
      "cell_type": "code",
      "source": [
        "effnet = EfficientNetV2M(\n",
        "    include_top=False,\n",
        "    weights=\"imagenet\",\n",
        "    input_shape=(255,255,3),\n",
        "    classes=2,\n",
        "    classifier_activation=\"softmax\",\n",
        "    include_preprocessing=True,\n",
        ")"
      ],
      "metadata": {
        "id": "tEbLHC_sJn7A"
      },
      "execution_count": null,
      "outputs": []
    },
    {
      "cell_type": "code",
      "source": [
        "effnet.trainable = False"
      ],
      "metadata": {
        "id": "4E5nTQ8G1U4H"
      },
      "execution_count": null,
      "outputs": []
    },
    {
      "cell_type": "code",
      "source": [
        "model = Sequential()\n",
        "\n",
        "model.add(effnet)\n",
        "model.add(GlobalAveragePooling2D())\n",
        "\n",
        "#Just use a single output layer\n",
        "model.add(Dense(1, activation='sigmoid'))\n",
        "\n",
        "\n",
        "#Compile the model\n",
        "model.compile(optimizer='adam',\n",
        "              loss='bce',\n",
        "              metrics=['acc'])"
      ],
      "metadata": {
        "id": "bC5ZGEGo02Y8"
      },
      "execution_count": null,
      "outputs": []
    },
    {
      "cell_type": "code",
      "source": [
        "model_name = 'rgb_classification_effnet_1'\n",
        "model_save_path = '../models'"
      ],
      "metadata": {
        "id": "WPZWYffYxgDf"
      },
      "execution_count": null,
      "outputs": []
    },
    {
      "cell_type": "code",
      "source": [
        "#Add a callback to save the model each epoch\n",
        "checkpoint = ModelCheckpoint(f\"{model_save_path}/{model_name}\", save_freq='epoch', verbose=0)"
      ],
      "metadata": {
        "id": "xJXjQFbyxgDg"
      },
      "execution_count": null,
      "outputs": []
    },
    {
      "cell_type": "code",
      "source": [
        "#Add early stopping\n",
        "es = EarlyStopping( patience = 5)"
      ],
      "metadata": {
        "id": "XssRSd7NxgDh"
      },
      "execution_count": null,
      "outputs": []
    },
    {
      "cell_type": "code",
      "source": [
        "res = model.fit(rgb_train_ds,\n",
        "                epochs = 50,\n",
        "                validation_data = rgb_test_ds,\n",
        "                verbose = 1,\n",
        "                callbacks = [es, checkpoint]\n",
        "                )"
      ],
      "metadata": {
        "colab": {
          "base_uri": "https://localhost:8080/"
        },
        "outputId": "eb3c1dd7-3daa-4c53-b702-8c45f87c618e",
        "id": "LZJoVcr-xgDh"
      },
      "execution_count": null,
      "outputs": [
        {
          "output_type": "stream",
          "name": "stdout",
          "text": [
            "Epoch 1/50\n",
            "548/548 [==============================] - ETA: 0s - loss: 0.5608 - acc: 0.7005"
          ]
        },
        {
          "output_type": "stream",
          "name": "stderr",
          "text": [
            "WARNING:absl:Function `_wrapped_model` contains input name(s) efficientnetv2-m_input with unsupported characters which will be renamed to efficientnetv2_m_input in the SavedModel.\n",
            "WARNING:absl:Found untraced functions such as _jit_compiled_convolution_op, _jit_compiled_convolution_op, _jit_compiled_convolution_op, _jit_compiled_convolution_op, _jit_compiled_convolution_op while saving (showing 5 of 245). These functions will not be directly callable after loading.\n"
          ]
        },
        {
          "output_type": "stream",
          "name": "stdout",
          "text": [
            "\b\b\b\b\b\b\b\b\b\b\b\b\b\b\b\b\b\b\b\b\b\b\b\b\b\b\b\b\b\b\b\b\b\b\b\b\b\b\b\b\b\b\b\b\b\b\b\b\b\b\b\b\b\b\b\b\b\b\b\b\b\b\b\b\b\b\b\b\b\b\b\b\b\b\b\b\b\b\b\r548/548 [==============================] - 573s 991ms/step - loss: 0.5608 - acc: 0.7005 - val_loss: 0.5373 - val_acc: 0.7136\n",
            "Epoch 2/50\n",
            "547/548 [============================>.] - ETA: 0s - loss: 0.5365 - acc: 0.7173"
          ]
        },
        {
          "output_type": "stream",
          "name": "stderr",
          "text": [
            "WARNING:absl:Function `_wrapped_model` contains input name(s) efficientnetv2-m_input with unsupported characters which will be renamed to efficientnetv2_m_input in the SavedModel.\n",
            "WARNING:absl:Found untraced functions such as _jit_compiled_convolution_op, _jit_compiled_convolution_op, _jit_compiled_convolution_op, _jit_compiled_convolution_op, _jit_compiled_convolution_op while saving (showing 5 of 245). These functions will not be directly callable after loading.\n"
          ]
        },
        {
          "output_type": "stream",
          "name": "stdout",
          "text": [
            "\b\b\b\b\b\b\b\b\b\b\b\b\b\b\b\b\b\b\b\b\b\b\b\b\b\b\b\b\b\b\b\b\b\b\b\b\b\b\b\b\b\b\b\b\b\b\b\b\b\b\b\b\b\b\b\b\b\b\b\b\b\b\b\b\b\b\b\b\b\b\b\b\b\b\b\b\b\b\b\r548/548 [==============================] - 181s 330ms/step - loss: 0.5365 - acc: 0.7172 - val_loss: 0.5306 - val_acc: 0.7146\n",
            "Epoch 3/50\n",
            "547/548 [============================>.] - ETA: 0s - loss: 0.5296 - acc: 0.7185"
          ]
        },
        {
          "output_type": "stream",
          "name": "stderr",
          "text": [
            "WARNING:absl:Function `_wrapped_model` contains input name(s) efficientnetv2-m_input with unsupported characters which will be renamed to efficientnetv2_m_input in the SavedModel.\n",
            "WARNING:absl:Found untraced functions such as _jit_compiled_convolution_op, _jit_compiled_convolution_op, _jit_compiled_convolution_op, _jit_compiled_convolution_op, _jit_compiled_convolution_op while saving (showing 5 of 245). These functions will not be directly callable after loading.\n"
          ]
        },
        {
          "output_type": "stream",
          "name": "stdout",
          "text": [
            "\b\b\b\b\b\b\b\b\b\b\b\b\b\b\b\b\b\b\b\b\b\b\b\b\b\b\b\b\b\b\b\b\b\b\b\b\b\b\b\b\b\b\b\b\b\b\b\b\b\b\b\b\b\b\b\b\b\b\b\b\b\b\b\b\b\b\b\b\b\b\b\b\b\b\b\b\b\b\b\r548/548 [==============================] - 183s 334ms/step - loss: 0.5297 - acc: 0.7185 - val_loss: 0.5201 - val_acc: 0.7402\n",
            "Epoch 4/50\n",
            "547/548 [============================>.] - ETA: 0s - loss: 0.5232 - acc: 0.7243"
          ]
        },
        {
          "output_type": "stream",
          "name": "stderr",
          "text": [
            "WARNING:absl:Function `_wrapped_model` contains input name(s) efficientnetv2-m_input with unsupported characters which will be renamed to efficientnetv2_m_input in the SavedModel.\n",
            "WARNING:absl:Found untraced functions such as _jit_compiled_convolution_op, _jit_compiled_convolution_op, _jit_compiled_convolution_op, _jit_compiled_convolution_op, _jit_compiled_convolution_op while saving (showing 5 of 245). These functions will not be directly callable after loading.\n"
          ]
        },
        {
          "output_type": "stream",
          "name": "stdout",
          "text": [
            "\b\b\b\b\b\b\b\b\b\b\b\b\b\b\b\b\b\b\b\b\b\b\b\b\b\b\b\b\b\b\b\b\b\b\b\b\b\b\b\b\b\b\b\b\b\b\b\b\b\b\b\b\b\b\b\b\b\b\b\b\b\b\b\b\b\b\b\b\b\b\b\b\b\b\b\b\b\b\b\r548/548 [==============================] - 181s 331ms/step - loss: 0.5232 - acc: 0.7243 - val_loss: 0.5176 - val_acc: 0.7310\n",
            "Epoch 5/50\n",
            "547/548 [============================>.] - ETA: 0s - loss: 0.5213 - acc: 0.7262"
          ]
        },
        {
          "output_type": "stream",
          "name": "stderr",
          "text": [
            "WARNING:absl:Function `_wrapped_model` contains input name(s) efficientnetv2-m_input with unsupported characters which will be renamed to efficientnetv2_m_input in the SavedModel.\n",
            "WARNING:absl:Found untraced functions such as _jit_compiled_convolution_op, _jit_compiled_convolution_op, _jit_compiled_convolution_op, _jit_compiled_convolution_op, _jit_compiled_convolution_op while saving (showing 5 of 245). These functions will not be directly callable after loading.\n"
          ]
        },
        {
          "output_type": "stream",
          "name": "stdout",
          "text": [
            "\b\b\b\b\b\b\b\b\b\b\b\b\b\b\b\b\b\b\b\b\b\b\b\b\b\b\b\b\b\b\b\b\b\b\b\b\b\b\b\b\b\b\b\b\b\b\b\b\b\b\b\b\b\b\b\b\b\b\b\b\b\b\b\b\b\b\b\b\b\b\b\b\b\b\b\b\b\b\b\r548/548 [==============================] - 184s 337ms/step - loss: 0.5212 - acc: 0.7262 - val_loss: 0.5163 - val_acc: 0.7392\n",
            "Epoch 6/50\n",
            "547/548 [============================>.] - ETA: 0s - loss: 0.5173 - acc: 0.7309"
          ]
        },
        {
          "output_type": "stream",
          "name": "stderr",
          "text": [
            "WARNING:absl:Function `_wrapped_model` contains input name(s) efficientnetv2-m_input with unsupported characters which will be renamed to efficientnetv2_m_input in the SavedModel.\n",
            "WARNING:absl:Found untraced functions such as _jit_compiled_convolution_op, _jit_compiled_convolution_op, _jit_compiled_convolution_op, _jit_compiled_convolution_op, _jit_compiled_convolution_op while saving (showing 5 of 245). These functions will not be directly callable after loading.\n"
          ]
        },
        {
          "output_type": "stream",
          "name": "stdout",
          "text": [
            "\b\b\b\b\b\b\b\b\b\b\b\b\b\b\b\b\b\b\b\b\b\b\b\b\b\b\b\b\b\b\b\b\b\b\b\b\b\b\b\b\b\b\b\b\b\b\b\b\b\b\b\b\b\b\b\b\b\b\b\b\b\b\b\b\b\b\b\b\b\b\b\b\b\b\b\b\b\b\b\r548/548 [==============================] - 184s 336ms/step - loss: 0.5175 - acc: 0.7308 - val_loss: 0.5122 - val_acc: 0.7413\n",
            "Epoch 7/50\n",
            "547/548 [============================>.] - ETA: 0s - loss: 0.5155 - acc: 0.7301"
          ]
        },
        {
          "output_type": "stream",
          "name": "stderr",
          "text": [
            "WARNING:absl:Function `_wrapped_model` contains input name(s) efficientnetv2-m_input with unsupported characters which will be renamed to efficientnetv2_m_input in the SavedModel.\n",
            "WARNING:absl:Found untraced functions such as _jit_compiled_convolution_op, _jit_compiled_convolution_op, _jit_compiled_convolution_op, _jit_compiled_convolution_op, _jit_compiled_convolution_op while saving (showing 5 of 245). These functions will not be directly callable after loading.\n"
          ]
        },
        {
          "output_type": "stream",
          "name": "stdout",
          "text": [
            "\b\b\b\b\b\b\b\b\b\b\b\b\b\b\b\b\b\b\b\b\b\b\b\b\b\b\b\b\b\b\b\b\b\b\b\b\b\b\b\b\b\b\b\b\b\b\b\b\b\b\b\b\b\b\b\b\b\b\b\b\b\b\b\b\b\b\b\b\b\b\b\b\b\b\b\b\b\b\b\r548/548 [==============================] - 183s 334ms/step - loss: 0.5155 - acc: 0.7303 - val_loss: 0.5107 - val_acc: 0.7402\n",
            "Epoch 8/50\n",
            "547/548 [============================>.] - ETA: 0s - loss: 0.5158 - acc: 0.7302"
          ]
        },
        {
          "output_type": "stream",
          "name": "stderr",
          "text": [
            "WARNING:absl:Function `_wrapped_model` contains input name(s) efficientnetv2-m_input with unsupported characters which will be renamed to efficientnetv2_m_input in the SavedModel.\n",
            "WARNING:absl:Found untraced functions such as _jit_compiled_convolution_op, _jit_compiled_convolution_op, _jit_compiled_convolution_op, _jit_compiled_convolution_op, _jit_compiled_convolution_op while saving (showing 5 of 245). These functions will not be directly callable after loading.\n"
          ]
        },
        {
          "output_type": "stream",
          "name": "stdout",
          "text": [
            "\b\b\b\b\b\b\b\b\b\b\b\b\b\b\b\b\b\b\b\b\b\b\b\b\b\b\b\b\b\b\b\b\b\b\b\b\b\b\b\b\b\b\b\b\b\b\b\b\b\b\b\b\b\b\b\b\b\b\b\b\b\b\b\b\b\b\b\b\b\b\b\b\b\b\b\b\b\b\b\r548/548 [==============================] - 184s 335ms/step - loss: 0.5159 - acc: 0.7302 - val_loss: 0.5094 - val_acc: 0.7433\n",
            "Epoch 9/50\n",
            "547/548 [============================>.] - ETA: 0s - loss: 0.5132 - acc: 0.7342"
          ]
        },
        {
          "output_type": "stream",
          "name": "stderr",
          "text": [
            "WARNING:absl:Function `_wrapped_model` contains input name(s) efficientnetv2-m_input with unsupported characters which will be renamed to efficientnetv2_m_input in the SavedModel.\n",
            "WARNING:absl:Found untraced functions such as _jit_compiled_convolution_op, _jit_compiled_convolution_op, _jit_compiled_convolution_op, _jit_compiled_convolution_op, _jit_compiled_convolution_op while saving (showing 5 of 245). These functions will not be directly callable after loading.\n"
          ]
        },
        {
          "output_type": "stream",
          "name": "stdout",
          "text": [
            "\b\b\b\b\b\b\b\b\b\b\b\b\b\b\b\b\b\b\b\b\b\b\b\b\b\b\b\b\b\b\b\b\b\b\b\b\b\b\b\b\b\b\b\b\b\b\b\b\b\b\b\b\b\b\b\b\b\b\b\b\b\b\b\b\b\b\b\b\b\b\b\b\b\b\b\b\b\b\b\r548/548 [==============================] - 185s 337ms/step - loss: 0.5131 - acc: 0.7342 - val_loss: 0.5112 - val_acc: 0.7331\n",
            "Epoch 10/50\n",
            "547/548 [============================>.] - ETA: 0s - loss: 0.5144 - acc: 0.7309"
          ]
        },
        {
          "output_type": "stream",
          "name": "stderr",
          "text": [
            "WARNING:absl:Function `_wrapped_model` contains input name(s) efficientnetv2-m_input with unsupported characters which will be renamed to efficientnetv2_m_input in the SavedModel.\n",
            "WARNING:absl:Found untraced functions such as _jit_compiled_convolution_op, _jit_compiled_convolution_op, _jit_compiled_convolution_op, _jit_compiled_convolution_op, _jit_compiled_convolution_op while saving (showing 5 of 245). These functions will not be directly callable after loading.\n"
          ]
        },
        {
          "output_type": "stream",
          "name": "stdout",
          "text": [
            "\b\b\b\b\b\b\b\b\b\b\b\b\b\b\b\b\b\b\b\b\b\b\b\b\b\b\b\b\b\b\b\b\b\b\b\b\b\b\b\b\b\b\b\b\b\b\b\b\b\b\b\b\b\b\b\b\b\b\b\b\b\b\b\b\b\b\b\b\b\b\b\b\b\b\b\b\b\b\b\r548/548 [==============================] - 184s 336ms/step - loss: 0.5143 - acc: 0.7310 - val_loss: 0.5076 - val_acc: 0.7423\n",
            "Epoch 11/50\n",
            "547/548 [============================>.] - ETA: 0s - loss: 0.5110 - acc: 0.7311"
          ]
        },
        {
          "output_type": "stream",
          "name": "stderr",
          "text": [
            "WARNING:absl:Function `_wrapped_model` contains input name(s) efficientnetv2-m_input with unsupported characters which will be renamed to efficientnetv2_m_input in the SavedModel.\n",
            "WARNING:absl:Found untraced functions such as _jit_compiled_convolution_op, _jit_compiled_convolution_op, _jit_compiled_convolution_op, _jit_compiled_convolution_op, _jit_compiled_convolution_op while saving (showing 5 of 245). These functions will not be directly callable after loading.\n"
          ]
        },
        {
          "output_type": "stream",
          "name": "stdout",
          "text": [
            "\b\b\b\b\b\b\b\b\b\b\b\b\b\b\b\b\b\b\b\b\b\b\b\b\b\b\b\b\b\b\b\b\b\b\b\b\b\b\b\b\b\b\b\b\b\b\b\b\b\b\b\b\b\b\b\b\b\b\b\b\b\b\b\b\b\b\b\b\b\b\b\b\b\b\b\b\b\b\b\r548/548 [==============================] - 185s 337ms/step - loss: 0.5109 - acc: 0.7313 - val_loss: 0.5088 - val_acc: 0.7341\n",
            "Epoch 12/50\n",
            "547/548 [============================>.] - ETA: 0s - loss: 0.5097 - acc: 0.7325"
          ]
        },
        {
          "output_type": "stream",
          "name": "stderr",
          "text": [
            "WARNING:absl:Function `_wrapped_model` contains input name(s) efficientnetv2-m_input with unsupported characters which will be renamed to efficientnetv2_m_input in the SavedModel.\n",
            "WARNING:absl:Found untraced functions such as _jit_compiled_convolution_op, _jit_compiled_convolution_op, _jit_compiled_convolution_op, _jit_compiled_convolution_op, _jit_compiled_convolution_op while saving (showing 5 of 245). These functions will not be directly callable after loading.\n"
          ]
        },
        {
          "output_type": "stream",
          "name": "stdout",
          "text": [
            "\b\b\b\b\b\b\b\b\b\b\b\b\b\b\b\b\b\b\b\b\b\b\b\b\b\b\b\b\b\b\b\b\b\b\b\b\b\b\b\b\b\b\b\b\b\b\b\b\b\b\b\b\b\b\b\b\b\b\b\b\b\b\b\b\b\b\b\b\b\b\b\b\b\b\b\b\b\b\b\r548/548 [==============================] - 184s 337ms/step - loss: 0.5097 - acc: 0.7325 - val_loss: 0.5061 - val_acc: 0.7372\n",
            "Epoch 13/50\n",
            "547/548 [============================>.] - ETA: 0s - loss: 0.5099 - acc: 0.7330"
          ]
        },
        {
          "output_type": "stream",
          "name": "stderr",
          "text": [
            "WARNING:absl:Function `_wrapped_model` contains input name(s) efficientnetv2-m_input with unsupported characters which will be renamed to efficientnetv2_m_input in the SavedModel.\n",
            "WARNING:absl:Found untraced functions such as _jit_compiled_convolution_op, _jit_compiled_convolution_op, _jit_compiled_convolution_op, _jit_compiled_convolution_op, _jit_compiled_convolution_op while saving (showing 5 of 245). These functions will not be directly callable after loading.\n"
          ]
        },
        {
          "output_type": "stream",
          "name": "stdout",
          "text": [
            "\b\b\b\b\b\b\b\b\b\b\b\b\b\b\b\b\b\b\b\b\b\b\b\b\b\b\b\b\b\b\b\b\b\b\b\b\b\b\b\b\b\b\b\b\b\b\b\b\b\b\b\b\b\b\b\b\b\b\b\b\b\b\b\b\b\b\b\b\b\b\b\b\b\b\b\b\b\b\b\r548/548 [==============================] - 188s 343ms/step - loss: 0.5099 - acc: 0.7330 - val_loss: 0.5062 - val_acc: 0.7402\n",
            "Epoch 14/50\n",
            "547/548 [============================>.] - ETA: 0s - loss: 0.5082 - acc: 0.7348"
          ]
        },
        {
          "output_type": "stream",
          "name": "stderr",
          "text": [
            "WARNING:absl:Function `_wrapped_model` contains input name(s) efficientnetv2-m_input with unsupported characters which will be renamed to efficientnetv2_m_input in the SavedModel.\n",
            "WARNING:absl:Found untraced functions such as _jit_compiled_convolution_op, _jit_compiled_convolution_op, _jit_compiled_convolution_op, _jit_compiled_convolution_op, _jit_compiled_convolution_op while saving (showing 5 of 245). These functions will not be directly callable after loading.\n"
          ]
        },
        {
          "output_type": "stream",
          "name": "stdout",
          "text": [
            "\b\b\b\b\b\b\b\b\b\b\b\b\b\b\b\b\b\b\b\b\b\b\b\b\b\b\b\b\b\b\b\b\b\b\b\b\b\b\b\b\b\b\b\b\b\b\b\b\b\b\b\b\b\b\b\b\b\b\b\b\b\b\b\b\b\b\b\b\b\b\b\b\b\b\b\b\b\b\b\r548/548 [==============================] - 182s 332ms/step - loss: 0.5081 - acc: 0.7349 - val_loss: 0.5072 - val_acc: 0.7382\n",
            "Epoch 15/50\n",
            "547/548 [============================>.] - ETA: 0s - loss: 0.5085 - acc: 0.7335"
          ]
        },
        {
          "output_type": "stream",
          "name": "stderr",
          "text": [
            "WARNING:absl:Function `_wrapped_model` contains input name(s) efficientnetv2-m_input with unsupported characters which will be renamed to efficientnetv2_m_input in the SavedModel.\n",
            "WARNING:absl:Found untraced functions such as _jit_compiled_convolution_op, _jit_compiled_convolution_op, _jit_compiled_convolution_op, _jit_compiled_convolution_op, _jit_compiled_convolution_op while saving (showing 5 of 245). These functions will not be directly callable after loading.\n"
          ]
        },
        {
          "output_type": "stream",
          "name": "stdout",
          "text": [
            "\b\b\b\b\b\b\b\b\b\b\b\b\b\b\b\b\b\b\b\b\b\b\b\b\b\b\b\b\b\b\b\b\b\b\b\b\b\b\b\b\b\b\b\b\b\b\b\b\b\b\b\b\b\b\b\b\b\b\b\b\b\b\b\b\b\b\b\b\b\b\b\b\b\b\b\b\b\b\b\r548/548 [==============================] - 184s 337ms/step - loss: 0.5083 - acc: 0.7336 - val_loss: 0.5063 - val_acc: 0.7382\n",
            "Epoch 16/50\n",
            "547/548 [============================>.] - ETA: 0s - loss: 0.5077 - acc: 0.7377"
          ]
        },
        {
          "output_type": "stream",
          "name": "stderr",
          "text": [
            "WARNING:absl:Function `_wrapped_model` contains input name(s) efficientnetv2-m_input with unsupported characters which will be renamed to efficientnetv2_m_input in the SavedModel.\n",
            "WARNING:absl:Found untraced functions such as _jit_compiled_convolution_op, _jit_compiled_convolution_op, _jit_compiled_convolution_op, _jit_compiled_convolution_op, _jit_compiled_convolution_op while saving (showing 5 of 245). These functions will not be directly callable after loading.\n"
          ]
        },
        {
          "output_type": "stream",
          "name": "stdout",
          "text": [
            "\b\b\b\b\b\b\b\b\b\b\b\b\b\b\b\b\b\b\b\b\b\b\b\b\b\b\b\b\b\b\b\b\b\b\b\b\b\b\b\b\b\b\b\b\b\b\b\b\b\b\b\b\b\b\b\b\b\b\b\b\b\b\b\b\b\b\b\b\b\b\b\b\b\b\b\b\b\b\b\r548/548 [==============================] - 187s 341ms/step - loss: 0.5076 - acc: 0.7378 - val_loss: 0.5069 - val_acc: 0.7331\n",
            "Epoch 17/50\n",
            "547/548 [============================>.] - ETA: 0s - loss: 0.5044 - acc: 0.7359"
          ]
        },
        {
          "output_type": "stream",
          "name": "stderr",
          "text": [
            "WARNING:absl:Function `_wrapped_model` contains input name(s) efficientnetv2-m_input with unsupported characters which will be renamed to efficientnetv2_m_input in the SavedModel.\n",
            "WARNING:absl:Found untraced functions such as _jit_compiled_convolution_op, _jit_compiled_convolution_op, _jit_compiled_convolution_op, _jit_compiled_convolution_op, _jit_compiled_convolution_op while saving (showing 5 of 245). These functions will not be directly callable after loading.\n"
          ]
        },
        {
          "output_type": "stream",
          "name": "stdout",
          "text": [
            "\b\b\b\b\b\b\b\b\b\b\b\b\b\b\b\b\b\b\b\b\b\b\b\b\b\b\b\b\b\b\b\b\b\b\b\b\b\b\b\b\b\b\b\b\b\b\b\b\b\b\b\b\b\b\b\b\b\b\b\b\b\b\b\b\b\b\b\b\b\b\b\b\b\b\b\b\b\b\b\r548/548 [==============================] - 187s 342ms/step - loss: 0.5041 - acc: 0.7361 - val_loss: 0.5046 - val_acc: 0.7433\n",
            "Epoch 18/50\n",
            "547/548 [============================>.] - ETA: 0s - loss: 0.5061 - acc: 0.7351"
          ]
        },
        {
          "output_type": "stream",
          "name": "stderr",
          "text": [
            "WARNING:absl:Function `_wrapped_model` contains input name(s) efficientnetv2-m_input with unsupported characters which will be renamed to efficientnetv2_m_input in the SavedModel.\n",
            "WARNING:absl:Found untraced functions such as _jit_compiled_convolution_op, _jit_compiled_convolution_op, _jit_compiled_convolution_op, _jit_compiled_convolution_op, _jit_compiled_convolution_op while saving (showing 5 of 245). These functions will not be directly callable after loading.\n"
          ]
        },
        {
          "output_type": "stream",
          "name": "stdout",
          "text": [
            "\b\b\b\b\b\b\b\b\b\b\b\b\b\b\b\b\b\b\b\b\b\b\b\b\b\b\b\b\b\b\b\b\b\b\b\b\b\b\b\b\b\b\b\b\b\b\b\b\b\b\b\b\b\b\b\b\b\b\b\b\b\b\b\b\b\b\b\b\b\b\b\b\b\b\b\b\b\b\b\r548/548 [==============================] - 184s 336ms/step - loss: 0.5062 - acc: 0.7351 - val_loss: 0.5048 - val_acc: 0.7433\n",
            "Epoch 19/50\n",
            "547/548 [============================>.] - ETA: 0s - loss: 0.5056 - acc: 0.7387"
          ]
        },
        {
          "output_type": "stream",
          "name": "stderr",
          "text": [
            "WARNING:absl:Function `_wrapped_model` contains input name(s) efficientnetv2-m_input with unsupported characters which will be renamed to efficientnetv2_m_input in the SavedModel.\n",
            "WARNING:absl:Found untraced functions such as _jit_compiled_convolution_op, _jit_compiled_convolution_op, _jit_compiled_convolution_op, _jit_compiled_convolution_op, _jit_compiled_convolution_op while saving (showing 5 of 245). These functions will not be directly callable after loading.\n"
          ]
        },
        {
          "output_type": "stream",
          "name": "stdout",
          "text": [
            "\b\b\b\b\b\b\b\b\b\b\b\b\b\b\b\b\b\b\b\b\b\b\b\b\b\b\b\b\b\b\b\b\b\b\b\b\b\b\b\b\b\b\b\b\b\b\b\b\b\b\b\b\b\b\b\b\b\b\b\b\b\b\b\b\b\b\b\b\b\b\b\b\b\b\b\b\b\b\b\r548/548 [==============================] - 188s 342ms/step - loss: 0.5056 - acc: 0.7388 - val_loss: 0.5044 - val_acc: 0.7464\n",
            "Epoch 20/50\n",
            "547/548 [============================>.] - ETA: 0s - loss: 0.5058 - acc: 0.7380"
          ]
        },
        {
          "output_type": "stream",
          "name": "stderr",
          "text": [
            "WARNING:absl:Function `_wrapped_model` contains input name(s) efficientnetv2-m_input with unsupported characters which will be renamed to efficientnetv2_m_input in the SavedModel.\n",
            "WARNING:absl:Found untraced functions such as _jit_compiled_convolution_op, _jit_compiled_convolution_op, _jit_compiled_convolution_op, _jit_compiled_convolution_op, _jit_compiled_convolution_op while saving (showing 5 of 245). These functions will not be directly callable after loading.\n"
          ]
        },
        {
          "output_type": "stream",
          "name": "stdout",
          "text": [
            "\b\b\b\b\b\b\b\b\b\b\b\b\b\b\b\b\b\b\b\b\b\b\b\b\b\b\b\b\b\b\b\b\b\b\b\b\b\b\b\b\b\b\b\b\b\b\b\b\b\b\b\b\b\b\b\b\b\b\b\b\b\b\b\b\b\b\b\b\b\b\b\b\b\b\b\b\b\b\b\r548/548 [==============================] - 184s 336ms/step - loss: 0.5058 - acc: 0.7379 - val_loss: 0.5048 - val_acc: 0.7402\n",
            "Epoch 21/50\n",
            "547/548 [============================>.] - ETA: 0s - loss: 0.5042 - acc: 0.7364"
          ]
        },
        {
          "output_type": "stream",
          "name": "stderr",
          "text": [
            "WARNING:absl:Function `_wrapped_model` contains input name(s) efficientnetv2-m_input with unsupported characters which will be renamed to efficientnetv2_m_input in the SavedModel.\n",
            "WARNING:absl:Found untraced functions such as _jit_compiled_convolution_op, _jit_compiled_convolution_op, _jit_compiled_convolution_op, _jit_compiled_convolution_op, _jit_compiled_convolution_op while saving (showing 5 of 245). These functions will not be directly callable after loading.\n"
          ]
        },
        {
          "output_type": "stream",
          "name": "stdout",
          "text": [
            "\b\b\b\b\b\b\b\b\b\b\b\b\b\b\b\b\b\b\b\b\b\b\b\b\b\b\b\b\b\b\b\b\b\b\b\b\b\b\b\b\b\b\b\b\b\b\b\b\b\b\b\b\b\b\b\b\b\b\b\b\b\b\b\b\b\b\b\b\b\b\b\b\b\b\b\b\b\b\b\r548/548 [==============================] - 185s 338ms/step - loss: 0.5040 - acc: 0.7366 - val_loss: 0.5027 - val_acc: 0.7464\n",
            "Epoch 22/50\n",
            "547/548 [============================>.] - ETA: 0s - loss: 0.5042 - acc: 0.7390"
          ]
        },
        {
          "output_type": "stream",
          "name": "stderr",
          "text": [
            "WARNING:absl:Function `_wrapped_model` contains input name(s) efficientnetv2-m_input with unsupported characters which will be renamed to efficientnetv2_m_input in the SavedModel.\n",
            "WARNING:absl:Found untraced functions such as _jit_compiled_convolution_op, _jit_compiled_convolution_op, _jit_compiled_convolution_op, _jit_compiled_convolution_op, _jit_compiled_convolution_op while saving (showing 5 of 245). These functions will not be directly callable after loading.\n"
          ]
        },
        {
          "output_type": "stream",
          "name": "stdout",
          "text": [
            "\b\b\b\b\b\b\b\b\b\b\b\b\b\b\b\b\b\b\b\b\b\b\b\b\b\b\b\b\b\b\b\b\b\b\b\b\b\b\b\b\b\b\b\b\b\b\b\b\b\b\b\b\b\b\b\b\b\b\b\b\b\b\b\b\b\b\b\b\b\b\b\b\b\b\b\b\b\b\b\r548/548 [==============================] - 189s 346ms/step - loss: 0.5042 - acc: 0.7390 - val_loss: 0.5022 - val_acc: 0.7444\n",
            "Epoch 23/50\n",
            "547/548 [============================>.] - ETA: 0s - loss: 0.5042 - acc: 0.7382"
          ]
        },
        {
          "output_type": "stream",
          "name": "stderr",
          "text": [
            "WARNING:absl:Function `_wrapped_model` contains input name(s) efficientnetv2-m_input with unsupported characters which will be renamed to efficientnetv2_m_input in the SavedModel.\n",
            "WARNING:absl:Found untraced functions such as _jit_compiled_convolution_op, _jit_compiled_convolution_op, _jit_compiled_convolution_op, _jit_compiled_convolution_op, _jit_compiled_convolution_op while saving (showing 5 of 245). These functions will not be directly callable after loading.\n"
          ]
        },
        {
          "output_type": "stream",
          "name": "stdout",
          "text": [
            "\b\b\b\b\b\b\b\b\b\b\b\b\b\b\b\b\b\b\b\b\b\b\b\b\b\b\b\b\b\b\b\b\b\b\b\b\b\b\b\b\b\b\b\b\b\b\b\b\b\b\b\b\b\b\b\b\b\b\b\b\b\b\b\b\b\b\b\b\b\b\b\b\b\b\b\b\b\b\b\r548/548 [==============================] - 185s 338ms/step - loss: 0.5041 - acc: 0.7382 - val_loss: 0.5034 - val_acc: 0.7464\n",
            "Epoch 24/50\n",
            "547/548 [============================>.] - ETA: 0s - loss: 0.5024 - acc: 0.7407"
          ]
        },
        {
          "output_type": "stream",
          "name": "stderr",
          "text": [
            "WARNING:absl:Function `_wrapped_model` contains input name(s) efficientnetv2-m_input with unsupported characters which will be renamed to efficientnetv2_m_input in the SavedModel.\n",
            "WARNING:absl:Found untraced functions such as _jit_compiled_convolution_op, _jit_compiled_convolution_op, _jit_compiled_convolution_op, _jit_compiled_convolution_op, _jit_compiled_convolution_op while saving (showing 5 of 245). These functions will not be directly callable after loading.\n"
          ]
        },
        {
          "output_type": "stream",
          "name": "stdout",
          "text": [
            "\b\b\b\b\b\b\b\b\b\b\b\b\b\b\b\b\b\b\b\b\b\b\b\b\b\b\b\b\b\b\b\b\b\b\b\b\b\b\b\b\b\b\b\b\b\b\b\b\b\b\b\b\b\b\b\b\b\b\b\b\b\b\b\b\b\b\b\b\b\b\b\b\b\b\b\b\b\b\b\r548/548 [==============================] - 185s 338ms/step - loss: 0.5023 - acc: 0.7408 - val_loss: 0.5040 - val_acc: 0.7351\n",
            "Epoch 25/50\n",
            "547/548 [============================>.] - ETA: 0s - loss: 0.5028 - acc: 0.7392"
          ]
        },
        {
          "output_type": "stream",
          "name": "stderr",
          "text": [
            "WARNING:absl:Function `_wrapped_model` contains input name(s) efficientnetv2-m_input with unsupported characters which will be renamed to efficientnetv2_m_input in the SavedModel.\n",
            "WARNING:absl:Found untraced functions such as _jit_compiled_convolution_op, _jit_compiled_convolution_op, _jit_compiled_convolution_op, _jit_compiled_convolution_op, _jit_compiled_convolution_op while saving (showing 5 of 245). These functions will not be directly callable after loading.\n"
          ]
        },
        {
          "output_type": "stream",
          "name": "stdout",
          "text": [
            "\b\b\b\b\b\b\b\b\b\b\b\b\b\b\b\b\b\b\b\b\b\b\b\b\b\b\b\b\b\b\b\b\b\b\b\b\b\b\b\b\b\b\b\b\b\b\b\b\b\b\b\b\b\b\b\b\b\b\b\b\b\b\b\b\b\b\b\b\b\b\b\b\b\b\b\b\b\b\b\r548/548 [==============================] - 185s 339ms/step - loss: 0.5030 - acc: 0.7391 - val_loss: 0.5026 - val_acc: 0.7392\n",
            "Epoch 26/50\n",
            "548/548 [==============================] - ETA: 0s - loss: 0.5016 - acc: 0.7386"
          ]
        },
        {
          "output_type": "stream",
          "name": "stderr",
          "text": [
            "WARNING:absl:Function `_wrapped_model` contains input name(s) efficientnetv2-m_input with unsupported characters which will be renamed to efficientnetv2_m_input in the SavedModel.\n",
            "WARNING:absl:Found untraced functions such as _jit_compiled_convolution_op, _jit_compiled_convolution_op, _jit_compiled_convolution_op, _jit_compiled_convolution_op, _jit_compiled_convolution_op while saving (showing 5 of 245). These functions will not be directly callable after loading.\n"
          ]
        },
        {
          "output_type": "stream",
          "name": "stdout",
          "text": [
            "\b\b\b\b\b\b\b\b\b\b\b\b\b\b\b\b\b\b\b\b\b\b\b\b\b\b\b\b\b\b\b\b\b\b\b\b\b\b\b\b\b\b\b\b\b\b\b\b\b\b\b\b\b\b\b\b\b\b\b\b\b\b\b\b\b\b\b\b\b\b\b\b\b\b\b\b\b\b\b\r548/548 [==============================] - 191s 349ms/step - loss: 0.5016 - acc: 0.7386 - val_loss: 0.5017 - val_acc: 0.7454\n",
            "Epoch 27/50\n",
            "547/548 [============================>.] - ETA: 0s - loss: 0.5014 - acc: 0.7394"
          ]
        },
        {
          "output_type": "stream",
          "name": "stderr",
          "text": [
            "WARNING:absl:Function `_wrapped_model` contains input name(s) efficientnetv2-m_input with unsupported characters which will be renamed to efficientnetv2_m_input in the SavedModel.\n",
            "WARNING:absl:Found untraced functions such as _jit_compiled_convolution_op, _jit_compiled_convolution_op, _jit_compiled_convolution_op, _jit_compiled_convolution_op, _jit_compiled_convolution_op while saving (showing 5 of 245). These functions will not be directly callable after loading.\n"
          ]
        },
        {
          "output_type": "stream",
          "name": "stdout",
          "text": [
            "\b\b\b\b\b\b\b\b\b\b\b\b\b\b\b\b\b\b\b\b\b\b\b\b\b\b\b\b\b\b\b\b\b\b\b\b\b\b\b\b\b\b\b\b\b\b\b\b\b\b\b\b\b\b\b\b\b\b\b\b\b\b\b\b\b\b\b\b\b\b\b\b\b\b\b\b\b\b\b\r548/548 [==============================] - 185s 338ms/step - loss: 0.5016 - acc: 0.7394 - val_loss: 0.5007 - val_acc: 0.7433\n",
            "Epoch 28/50\n",
            "547/548 [============================>.] - ETA: 0s - loss: 0.5007 - acc: 0.7407"
          ]
        },
        {
          "output_type": "stream",
          "name": "stderr",
          "text": [
            "WARNING:absl:Function `_wrapped_model` contains input name(s) efficientnetv2-m_input with unsupported characters which will be renamed to efficientnetv2_m_input in the SavedModel.\n",
            "WARNING:absl:Found untraced functions such as _jit_compiled_convolution_op, _jit_compiled_convolution_op, _jit_compiled_convolution_op, _jit_compiled_convolution_op, _jit_compiled_convolution_op while saving (showing 5 of 245). These functions will not be directly callable after loading.\n"
          ]
        },
        {
          "output_type": "stream",
          "name": "stdout",
          "text": [
            "\b\b\b\b\b\b\b\b\b\b\b\b\b\b\b\b\b\b\b\b\b\b\b\b\b\b\b\b\b\b\b\b\b\b\b\b\b\b\b\b\b\b\b\b\b\b\b\b\b\b\b\b\b\b\b\b\b\b\b\b\b\b\b\b\b\b\b\b\b\b\b\b\b\b\b\b\b\b\b\r548/548 [==============================] - 187s 341ms/step - loss: 0.5006 - acc: 0.7408 - val_loss: 0.5029 - val_acc: 0.7392\n",
            "Epoch 29/50\n",
            "547/548 [============================>.] - ETA: 0s - loss: 0.5004 - acc: 0.7381"
          ]
        },
        {
          "output_type": "stream",
          "name": "stderr",
          "text": [
            "WARNING:absl:Function `_wrapped_model` contains input name(s) efficientnetv2-m_input with unsupported characters which will be renamed to efficientnetv2_m_input in the SavedModel.\n",
            "WARNING:absl:Found untraced functions such as _jit_compiled_convolution_op, _jit_compiled_convolution_op, _jit_compiled_convolution_op, _jit_compiled_convolution_op, _jit_compiled_convolution_op while saving (showing 5 of 245). These functions will not be directly callable after loading.\n"
          ]
        },
        {
          "output_type": "stream",
          "name": "stdout",
          "text": [
            "\b\b\b\b\b\b\b\b\b\b\b\b\b\b\b\b\b\b\b\b\b\b\b\b\b\b\b\b\b\b\b\b\b\b\b\b\b\b\b\b\b\b\b\b\b\b\b\b\b\b\b\b\b\b\b\b\b\b\b\b\b\b\b\b\b\b\b\b\b\b\b\b\b\b\b\b\b\b\b\r548/548 [==============================] - 187s 342ms/step - loss: 0.5003 - acc: 0.7382 - val_loss: 0.5002 - val_acc: 0.7526\n",
            "Epoch 30/50\n",
            "547/548 [============================>.] - ETA: 0s - loss: 0.5021 - acc: 0.7388"
          ]
        },
        {
          "output_type": "stream",
          "name": "stderr",
          "text": [
            "WARNING:absl:Function `_wrapped_model` contains input name(s) efficientnetv2-m_input with unsupported characters which will be renamed to efficientnetv2_m_input in the SavedModel.\n",
            "WARNING:absl:Found untraced functions such as _jit_compiled_convolution_op, _jit_compiled_convolution_op, _jit_compiled_convolution_op, _jit_compiled_convolution_op, _jit_compiled_convolution_op while saving (showing 5 of 245). These functions will not be directly callable after loading.\n"
          ]
        },
        {
          "output_type": "stream",
          "name": "stdout",
          "text": [
            "\b\b\b\b\b\b\b\b\b\b\b\b\b\b\b\b\b\b\b\b\b\b\b\b\b\b\b\b\b\b\b\b\b\b\b\b\b\b\b\b\b\b\b\b\b\b\b\b\b\b\b\b\b\b\b\b\b\b\b\b\b\b\b\b\b\b\b\b\b\b\b\b\b\b\b\b\b\b\b\r548/548 [==============================] - 187s 341ms/step - loss: 0.5020 - acc: 0.7388 - val_loss: 0.5014 - val_acc: 0.7413\n",
            "Epoch 31/50\n",
            "547/548 [============================>.] - ETA: 0s - loss: 0.4997 - acc: 0.7401"
          ]
        },
        {
          "output_type": "stream",
          "name": "stderr",
          "text": [
            "WARNING:absl:Function `_wrapped_model` contains input name(s) efficientnetv2-m_input with unsupported characters which will be renamed to efficientnetv2_m_input in the SavedModel.\n",
            "WARNING:absl:Found untraced functions such as _jit_compiled_convolution_op, _jit_compiled_convolution_op, _jit_compiled_convolution_op, _jit_compiled_convolution_op, _jit_compiled_convolution_op while saving (showing 5 of 245). These functions will not be directly callable after loading.\n"
          ]
        },
        {
          "output_type": "stream",
          "name": "stdout",
          "text": [
            "\b\b\b\b\b\b\b\b\b\b\b\b\b\b\b\b\b\b\b\b\b\b\b\b\b\b\b\b\b\b\b\b\b\b\b\b\b\b\b\b\b\b\b\b\b\b\b\b\b\b\b\b\b\b\b\b\b\b\b\b\b\b\b\b\b\b\b\b\b\b\b\b\b\b\b\b\b\b\b\r548/548 [==============================] - 187s 341ms/step - loss: 0.4997 - acc: 0.7401 - val_loss: 0.5024 - val_acc: 0.7382\n",
            "Epoch 32/50\n",
            "547/548 [============================>.] - ETA: 0s - loss: 0.4994 - acc: 0.7401"
          ]
        },
        {
          "output_type": "stream",
          "name": "stderr",
          "text": [
            "WARNING:absl:Function `_wrapped_model` contains input name(s) efficientnetv2-m_input with unsupported characters which will be renamed to efficientnetv2_m_input in the SavedModel.\n",
            "WARNING:absl:Found untraced functions such as _jit_compiled_convolution_op, _jit_compiled_convolution_op, _jit_compiled_convolution_op, _jit_compiled_convolution_op, _jit_compiled_convolution_op while saving (showing 5 of 245). These functions will not be directly callable after loading.\n"
          ]
        },
        {
          "output_type": "stream",
          "name": "stdout",
          "text": [
            "\b\b\b\b\b\b\b\b\b\b\b\b\b\b\b\b\b\b\b\b\b\b\b\b\b\b\b\b\b\b\b\b\b\b\b\b\b\b\b\b\b\b\b\b\b\b\b\b\b\b\b\b\b\b\b\b\b\b\b\b\b\b\b\b\b\b\b\b\b\b\b\b\b\b\b\b\b\b\b\r548/548 [==============================] - 178s 324ms/step - loss: 0.4994 - acc: 0.7401 - val_loss: 0.5010 - val_acc: 0.7433\n",
            "Epoch 33/50\n",
            "547/548 [============================>.] - ETA: 0s - loss: 0.5019 - acc: 0.7402"
          ]
        },
        {
          "output_type": "stream",
          "name": "stderr",
          "text": [
            "WARNING:absl:Function `_wrapped_model` contains input name(s) efficientnetv2-m_input with unsupported characters which will be renamed to efficientnetv2_m_input in the SavedModel.\n",
            "WARNING:absl:Found untraced functions such as _jit_compiled_convolution_op, _jit_compiled_convolution_op, _jit_compiled_convolution_op, _jit_compiled_convolution_op, _jit_compiled_convolution_op while saving (showing 5 of 245). These functions will not be directly callable after loading.\n"
          ]
        },
        {
          "output_type": "stream",
          "name": "stdout",
          "text": [
            "\b\b\b\b\b\b\b\b\b\b\b\b\b\b\b\b\b\b\b\b\b\b\b\b\b\b\b\b\b\b\b\b\b\b\b\b\b\b\b\b\b\b\b\b\b\b\b\b\b\b\b\b\b\b\b\b\b\b\b\b\b\b\b\b\b\b\b\b\b\b\b\b\b\b\b\b\b\b\b\r548/548 [==============================] - 188s 344ms/step - loss: 0.5018 - acc: 0.7403 - val_loss: 0.4994 - val_acc: 0.7505\n",
            "Epoch 34/50\n",
            "547/548 [============================>.] - ETA: 0s - loss: 0.4997 - acc: 0.7425"
          ]
        },
        {
          "output_type": "stream",
          "name": "stderr",
          "text": [
            "WARNING:absl:Function `_wrapped_model` contains input name(s) efficientnetv2-m_input with unsupported characters which will be renamed to efficientnetv2_m_input in the SavedModel.\n",
            "WARNING:absl:Found untraced functions such as _jit_compiled_convolution_op, _jit_compiled_convolution_op, _jit_compiled_convolution_op, _jit_compiled_convolution_op, _jit_compiled_convolution_op while saving (showing 5 of 245). These functions will not be directly callable after loading.\n"
          ]
        },
        {
          "output_type": "stream",
          "name": "stdout",
          "text": [
            "\b\b\b\b\b\b\b\b\b\b\b\b\b\b\b\b\b\b\b\b\b\b\b\b\b\b\b\b\b\b\b\b\b\b\b\b\b\b\b\b\b\b\b\b\b\b\b\b\b\b\b\b\b\b\b\b\b\b\b\b\b\b\b\b\b\b\b\b\b\b\b\b\b\b\b\b\b\b\b\r548/548 [==============================] - 186s 339ms/step - loss: 0.4996 - acc: 0.7425 - val_loss: 0.5017 - val_acc: 0.7372\n",
            "Epoch 35/50\n",
            "547/548 [============================>.] - ETA: 0s - loss: 0.4978 - acc: 0.7417"
          ]
        },
        {
          "output_type": "stream",
          "name": "stderr",
          "text": [
            "WARNING:absl:Function `_wrapped_model` contains input name(s) efficientnetv2-m_input with unsupported characters which will be renamed to efficientnetv2_m_input in the SavedModel.\n",
            "WARNING:absl:Found untraced functions such as _jit_compiled_convolution_op, _jit_compiled_convolution_op, _jit_compiled_convolution_op, _jit_compiled_convolution_op, _jit_compiled_convolution_op while saving (showing 5 of 245). These functions will not be directly callable after loading.\n"
          ]
        },
        {
          "output_type": "stream",
          "name": "stdout",
          "text": [
            "\b\b\b\b\b\b\b\b\b\b\b\b\b\b\b\b\b\b\b\b\b\b\b\b\b\b\b\b\b\b\b\b\b\b\b\b\b\b\b\b\b\b\b\b\b\b\b\b\b\b\b\b\b\b\b\b\b\b\b\b\b\b\b\b\b\b\b\b\b\b\b\b\b\b\b\b\b\b\b\r548/548 [==============================] - 186s 340ms/step - loss: 0.4976 - acc: 0.7418 - val_loss: 0.5000 - val_acc: 0.7423\n",
            "Epoch 36/50\n",
            "547/548 [============================>.] - ETA: 0s - loss: 0.4991 - acc: 0.7420"
          ]
        },
        {
          "output_type": "stream",
          "name": "stderr",
          "text": [
            "WARNING:absl:Function `_wrapped_model` contains input name(s) efficientnetv2-m_input with unsupported characters which will be renamed to efficientnetv2_m_input in the SavedModel.\n",
            "WARNING:absl:Found untraced functions such as _jit_compiled_convolution_op, _jit_compiled_convolution_op, _jit_compiled_convolution_op, _jit_compiled_convolution_op, _jit_compiled_convolution_op while saving (showing 5 of 245). These functions will not be directly callable after loading.\n"
          ]
        },
        {
          "output_type": "stream",
          "name": "stdout",
          "text": [
            "\b\b\b\b\b\b\b\b\b\b\b\b\b\b\b\b\b\b\b\b\b\b\b\b\b\b\b\b\b\b\b\b\b\b\b\b\b\b\b\b\b\b\b\b\b\b\b\b\b\b\b\b\b\b\b\b\b\b\b\b\b\b\b\b\b\b\b\b\b\b\b\b\b\b\b\b\b\b\b\r548/548 [==============================] - 187s 341ms/step - loss: 0.4990 - acc: 0.7420 - val_loss: 0.5001 - val_acc: 0.7413\n",
            "Epoch 37/50\n",
            "547/548 [============================>.] - ETA: 0s - loss: 0.4978 - acc: 0.7437"
          ]
        },
        {
          "output_type": "stream",
          "name": "stderr",
          "text": [
            "WARNING:absl:Function `_wrapped_model` contains input name(s) efficientnetv2-m_input with unsupported characters which will be renamed to efficientnetv2_m_input in the SavedModel.\n",
            "WARNING:absl:Found untraced functions such as _jit_compiled_convolution_op, _jit_compiled_convolution_op, _jit_compiled_convolution_op, _jit_compiled_convolution_op, _jit_compiled_convolution_op while saving (showing 5 of 245). These functions will not be directly callable after loading.\n"
          ]
        },
        {
          "output_type": "stream",
          "name": "stdout",
          "text": [
            "\b\b\b\b\b\b\b\b\b\b\b\b\b\b\b\b\b\b\b\b\b\b\b\b\b\b\b\b\b\b\b\b\b\b\b\b\b\b\b\b\b\b\b\b\b\b\b\b\b\b\b\b\b\b\b\b\b\b\b\b\b\b\b\b\b\b\b\b\b\b\b\b\b\b\b\b\b\b\b\r548/548 [==============================] - 187s 341ms/step - loss: 0.4979 - acc: 0.7436 - val_loss: 0.5000 - val_acc: 0.7392\n",
            "Epoch 38/50\n",
            "547/548 [============================>.] - ETA: 0s - loss: 0.4995 - acc: 0.7410"
          ]
        },
        {
          "output_type": "stream",
          "name": "stderr",
          "text": [
            "WARNING:absl:Function `_wrapped_model` contains input name(s) efficientnetv2-m_input with unsupported characters which will be renamed to efficientnetv2_m_input in the SavedModel.\n",
            "WARNING:absl:Found untraced functions such as _jit_compiled_convolution_op, _jit_compiled_convolution_op, _jit_compiled_convolution_op, _jit_compiled_convolution_op, _jit_compiled_convolution_op while saving (showing 5 of 245). These functions will not be directly callable after loading.\n"
          ]
        },
        {
          "output_type": "stream",
          "name": "stdout",
          "text": [
            "\b\b\b\b\b\b\b\b\b\b\b\b\b\b\b\b\b\b\b\b\b\b\b\b\b\b\b\b\b\b\b\b\b\b\b\b\b\b\b\b\b\b\b\b\b\b\b\b\b\b\b\b\b\b\b\b\b\b\b\b\b\b\b\b\b\b\b\b\b\b\b\b\b\b\b\b\b\b\b\r548/548 [==============================] - 187s 342ms/step - loss: 0.4995 - acc: 0.7410 - val_loss: 0.5023 - val_acc: 0.7444\n"
          ]
        }
      ]
    },
    {
      "cell_type": "code",
      "source": [
        "plt.figure(figsize=(10,10))\n",
        "\n",
        "ax1 = plt.subplot(2,1,1)\n",
        "ax1.plot(res.history['loss'], label = 'Train')\n",
        "ax1.plot(res.history['val_loss'], label = 'Test')\n",
        "plt.title('EfficientNetV2M Loss (BCE), RGB Images')\n",
        "plt.xlabel('Epoch')\n",
        "plt.legend();\n",
        "\n",
        "ax2 = plt.subplot(2,1,2)\n",
        "ax2.plot(res.history['acc'], label = 'Train')\n",
        "ax2.plot(res.history['val_acc'], label = 'Test')\n",
        "plt.title('EfficientNetV2M Accuracy, RGB Images')\n",
        "plt.xlabel('Epoch')\n",
        "plt.legend();\n",
        "plt.tight_layout();\n",
        "plt.savefig('../presentation_images/effnet_RGB')"
      ],
      "metadata": {
        "colab": {
          "base_uri": "https://localhost:8080/",
          "height": 729
        },
        "id": "h2scrpeVJn_g",
        "outputId": "5594a11c-9e10-4261-d43b-b403be04f2e5"
      },
      "execution_count": null,
      "outputs": [
        {
          "output_type": "display_data",
          "data": {
            "text/plain": [
              "<Figure size 720x720 with 2 Axes>"
            ],
            "image/png": "[encoded data removed]"
          },
          "metadata": {
            "needs_background": "light"
          }
        }
      ]
    },
    {
      "cell_type": "markdown",
      "source": [
        "So `EfficientNetV2M`, when trained on the RGB images only, did noticeably better than our custom-built network.  It achieved an accuracy score of over 74%.\n",
        "\n",
        "Thus, going forward, we will use `EfficientNetV2M` instead of trying to build our own CNN architecture.\n",
        "\n",
        "#### Test that the model saved correctly\n",
        "\n",
        "Before proceeding, let's make sure we can load the saved model and use it for predictions in the future:"
      ],
      "metadata": {
        "id": "K_vF5NqcwBX2"
      }
    },
    {
      "cell_type": "code",
      "source": [
        "rgb_model = load_model(f\"{model_save_path}/rgb_classification_effnet_1\")"
      ],
      "metadata": {
        "id": "odM1W-_mDxQr"
      },
      "execution_count": null,
      "outputs": []
    },
    {
      "cell_type": "code",
      "source": [
        "rgb_model.evaluate(rgb_test_ds)"
      ],
      "metadata": {
        "colab": {
          "base_uri": "https://localhost:8080/"
        },
        "id": "LX6Tf46-EfWz",
        "outputId": "9a105b5d-d706-4449-b815-fc44b8fe0314"
      },
      "execution_count": null,
      "outputs": [
        {
          "output_type": "stream",
          "name": "stdout",
          "text": [
            "31/31 [==============================] - 24s 450ms/step - loss: 0.5023 - acc: 0.7444\n"
          ]
        },
        {
          "output_type": "execute_result",
          "data": {
            "text/plain": [
              "[0.502298891544342, 0.744353175163269]"
            ]
          },
          "metadata": {},
          "execution_count": 159
        }
      ]
    },
    {
      "cell_type": "markdown",
      "source": [
        "These are the same loss and accuracy numbers that we got before, so everything is working!"
      ],
      "metadata": {
        "id": "qjrDCkqNEv0w"
      }
    },
    {
      "cell_type": "markdown",
      "source": [
        "## Using a pre-trained network on NIR data"
      ],
      "metadata": {
        "id": "B8Lyl94p_2jw"
      }
    },
    {
      "cell_type": "code",
      "source": [
        "effnet_nir = EfficientNetV2M(\n",
        "    include_top=False,\n",
        "    weights=\"imagenet\",\n",
        "    input_shape=(255,255,3),\n",
        "    classes=2,\n",
        "    classifier_activation=\"softmax\",\n",
        "    include_preprocessing=True,\n",
        ")"
      ],
      "metadata": {
        "id": "UGHyiGvJ_2j1"
      },
      "execution_count": null,
      "outputs": []
    },
    {
      "cell_type": "code",
      "source": [
        "effnet_nir.trainable = False"
      ],
      "metadata": {
        "id": "hcxSzfE2_2j2"
      },
      "execution_count": null,
      "outputs": []
    },
    {
      "cell_type": "code",
      "source": [
        "model = Sequential()\n",
        "\n",
        "model.add(effnet_nir)\n",
        "model.add(GlobalAveragePooling2D())\n",
        "\n",
        "#Just use a single output layer\n",
        "model.add(Dense(1, activation='sigmoid'))\n",
        "\n",
        "\n",
        "#Compile the model\n",
        "model.compile(optimizer='adam',\n",
        "              loss='bce',\n",
        "              metrics=['acc'])"
      ],
      "metadata": {
        "id": "L5Os2q9R_2j2"
      },
      "execution_count": null,
      "outputs": []
    },
    {
      "cell_type": "code",
      "source": [
        "model_name = 'NIR_classification_effnet_1'\n",
        "model_save_path = '../models'"
      ],
      "metadata": {
        "id": "1TY0sKVx_2j2"
      },
      "execution_count": null,
      "outputs": []
    },
    {
      "cell_type": "code",
      "source": [
        "#Add a callback to save the model each epoch\n",
        "checkpoint = ModelCheckpoint(f\"{model_save_path}/{model_name}\", save_freq='epoch', verbose=0)"
      ],
      "metadata": {
        "id": "v6wMHwGx_2j2"
      },
      "execution_count": null,
      "outputs": []
    },
    {
      "cell_type": "code",
      "source": [
        "#Add early stopping\n",
        "es = EarlyStopping( patience = 5)"
      ],
      "metadata": {
        "id": "J6lKTunm_2j2"
      },
      "execution_count": null,
      "outputs": []
    },
    {
      "cell_type": "code",
      "source": [
        "res = model.fit(NIR_train_ds,\n",
        "                epochs = 50,\n",
        "                validation_data = NIR_test_ds,\n",
        "                verbose = 1,\n",
        "                callbacks = [es, checkpoint]\n",
        "                )"
      ],
      "metadata": {
        "colab": {
          "base_uri": "https://localhost:8080/"
        },
        "outputId": "43054a1e-66b9-418d-e1d2-f60390614477",
        "id": "l4WdNtRr_2j2"
      },
      "execution_count": null,
      "outputs": [
        {
          "output_type": "stream",
          "name": "stdout",
          "text": [
            "Epoch 1/50\n",
            "547/548 [============================>.] - ETA: 0s - loss: 0.5771 - acc: 0.6864"
          ]
        },
        {
          "output_type": "stream",
          "name": "stderr",
          "text": [
            "WARNING:absl:Function `_wrapped_model` contains input name(s) efficientnetv2-m_input with unsupported characters which will be renamed to efficientnetv2_m_input in the SavedModel.\n",
            "WARNING:absl:Found untraced functions such as _jit_compiled_convolution_op, _jit_compiled_convolution_op, _jit_compiled_convolution_op, _jit_compiled_convolution_op, _jit_compiled_convolution_op while saving (showing 5 of 245). These functions will not be directly callable after loading.\n"
          ]
        },
        {
          "output_type": "stream",
          "name": "stdout",
          "text": [
            "\b\b\b\b\b\b\b\b\b\b\b\b\b\b\b\b\b\b\b\b\b\b\b\b\b\b\b\b\b\b\b\b\b\b\b\b\b\b\b\b\b\b\b\b\b\b\b\b\b\b\b\b\b\b\b\b\b\b\b\b\b\b\b\b\b\b\b\b\b\b\b\b\b\b\b\b\b\b\b\r548/548 [==============================] - 574s 1s/step - loss: 0.5770 - acc: 0.6865 - val_loss: 0.5749 - val_acc: 0.6858\n",
            "Epoch 2/50\n",
            "547/548 [============================>.] - ETA: 0s - loss: 0.5590 - acc: 0.6977"
          ]
        },
        {
          "output_type": "stream",
          "name": "stderr",
          "text": [
            "WARNING:absl:Function `_wrapped_model` contains input name(s) efficientnetv2-m_input with unsupported characters which will be renamed to efficientnetv2_m_input in the SavedModel.\n",
            "WARNING:absl:Found untraced functions such as _jit_compiled_convolution_op, _jit_compiled_convolution_op, _jit_compiled_convolution_op, _jit_compiled_convolution_op, _jit_compiled_convolution_op while saving (showing 5 of 245). These functions will not be directly callable after loading.\n"
          ]
        },
        {
          "output_type": "stream",
          "name": "stdout",
          "text": [
            "\b\b\b\b\b\b\b\b\b\b\b\b\b\b\b\b\b\b\b\b\b\b\b\b\b\b\b\b\b\b\b\b\b\b\b\b\b\b\b\b\b\b\b\b\b\b\b\b\b\b\b\b\b\b\b\b\b\b\b\b\b\b\b\b\b\b\b\b\b\b\b\b\b\b\b\b\b\b\b\r548/548 [==============================] - 175s 319ms/step - loss: 0.5589 - acc: 0.6977 - val_loss: 0.5789 - val_acc: 0.6858\n",
            "Epoch 3/50\n",
            "547/548 [============================>.] - ETA: 0s - loss: 0.5536 - acc: 0.7041"
          ]
        },
        {
          "output_type": "stream",
          "name": "stderr",
          "text": [
            "WARNING:absl:Function `_wrapped_model` contains input name(s) efficientnetv2-m_input with unsupported characters which will be renamed to efficientnetv2_m_input in the SavedModel.\n",
            "WARNING:absl:Found untraced functions such as _jit_compiled_convolution_op, _jit_compiled_convolution_op, _jit_compiled_convolution_op, _jit_compiled_convolution_op, _jit_compiled_convolution_op while saving (showing 5 of 245). These functions will not be directly callable after loading.\n"
          ]
        },
        {
          "output_type": "stream",
          "name": "stdout",
          "text": [
            "\b\b\b\b\b\b\b\b\b\b\b\b\b\b\b\b\b\b\b\b\b\b\b\b\b\b\b\b\b\b\b\b\b\b\b\b\b\b\b\b\b\b\b\b\b\b\b\b\b\b\b\b\b\b\b\b\b\b\b\b\b\b\b\b\b\b\b\b\b\b\b\b\b\b\b\b\b\b\b\r548/548 [==============================] - 174s 318ms/step - loss: 0.5537 - acc: 0.7041 - val_loss: 0.5677 - val_acc: 0.6930\n",
            "Epoch 4/50\n",
            "547/548 [============================>.] - ETA: 0s - loss: 0.5502 - acc: 0.7048"
          ]
        },
        {
          "output_type": "stream",
          "name": "stderr",
          "text": [
            "WARNING:absl:Function `_wrapped_model` contains input name(s) efficientnetv2-m_input with unsupported characters which will be renamed to efficientnetv2_m_input in the SavedModel.\n",
            "WARNING:absl:Found untraced functions such as _jit_compiled_convolution_op, _jit_compiled_convolution_op, _jit_compiled_convolution_op, _jit_compiled_convolution_op, _jit_compiled_convolution_op while saving (showing 5 of 245). These functions will not be directly callable after loading.\n"
          ]
        },
        {
          "output_type": "stream",
          "name": "stdout",
          "text": [
            "\b\b\b\b\b\b\b\b\b\b\b\b\b\b\b\b\b\b\b\b\b\b\b\b\b\b\b\b\b\b\b\b\b\b\b\b\b\b\b\b\b\b\b\b\b\b\b\b\b\b\b\b\b\b\b\b\b\b\b\b\b\b\b\b\b\b\b\b\b\b\b\b\b\b\b\b\b\b\b\r548/548 [==============================] - 197s 360ms/step - loss: 0.5502 - acc: 0.7047 - val_loss: 0.5709 - val_acc: 0.6889\n",
            "Epoch 5/50\n",
            "547/548 [============================>.] - ETA: 0s - loss: 0.5478 - acc: 0.7087"
          ]
        },
        {
          "output_type": "stream",
          "name": "stderr",
          "text": [
            "WARNING:absl:Function `_wrapped_model` contains input name(s) efficientnetv2-m_input with unsupported characters which will be renamed to efficientnetv2_m_input in the SavedModel.\n",
            "WARNING:absl:Found untraced functions such as _jit_compiled_convolution_op, _jit_compiled_convolution_op, _jit_compiled_convolution_op, _jit_compiled_convolution_op, _jit_compiled_convolution_op while saving (showing 5 of 245). These functions will not be directly callable after loading.\n"
          ]
        },
        {
          "output_type": "stream",
          "name": "stdout",
          "text": [
            "\b\b\b\b\b\b\b\b\b\b\b\b\b\b\b\b\b\b\b\b\b\b\b\b\b\b\b\b\b\b\b\b\b\b\b\b\b\b\b\b\b\b\b\b\b\b\b\b\b\b\b\b\b\b\b\b\b\b\b\b\b\b\b\b\b\b\b\b\b\b\b\b\b\b\b\b\b\b\b\r548/548 [==============================] - 174s 317ms/step - loss: 0.5478 - acc: 0.7087 - val_loss: 0.5645 - val_acc: 0.6899\n",
            "Epoch 6/50\n",
            "547/548 [============================>.] - ETA: 0s - loss: 0.5439 - acc: 0.7114"
          ]
        },
        {
          "output_type": "stream",
          "name": "stderr",
          "text": [
            "WARNING:absl:Function `_wrapped_model` contains input name(s) efficientnetv2-m_input with unsupported characters which will be renamed to efficientnetv2_m_input in the SavedModel.\n",
            "WARNING:absl:Found untraced functions such as _jit_compiled_convolution_op, _jit_compiled_convolution_op, _jit_compiled_convolution_op, _jit_compiled_convolution_op, _jit_compiled_convolution_op while saving (showing 5 of 245). These functions will not be directly callable after loading.\n"
          ]
        },
        {
          "output_type": "stream",
          "name": "stdout",
          "text": [
            "\b\b\b\b\b\b\b\b\b\b\b\b\b\b\b\b\b\b\b\b\b\b\b\b\b\b\b\b\b\b\b\b\b\b\b\b\b\b\b\b\b\b\b\b\b\b\b\b\b\b\b\b\b\b\b\b\b\b\b\b\b\b\b\b\b\b\b\b\b\b\b\b\b\b\b\b\b\b\b\r548/548 [==============================] - 197s 359ms/step - loss: 0.5439 - acc: 0.7115 - val_loss: 0.5610 - val_acc: 0.7012\n",
            "Epoch 7/50\n",
            "547/548 [============================>.] - ETA: 0s - loss: 0.5432 - acc: 0.7096"
          ]
        },
        {
          "output_type": "stream",
          "name": "stderr",
          "text": [
            "WARNING:absl:Function `_wrapped_model` contains input name(s) efficientnetv2-m_input with unsupported characters which will be renamed to efficientnetv2_m_input in the SavedModel.\n",
            "WARNING:absl:Found untraced functions such as _jit_compiled_convolution_op, _jit_compiled_convolution_op, _jit_compiled_convolution_op, _jit_compiled_convolution_op, _jit_compiled_convolution_op while saving (showing 5 of 245). These functions will not be directly callable after loading.\n"
          ]
        },
        {
          "output_type": "stream",
          "name": "stdout",
          "text": [
            "\b\b\b\b\b\b\b\b\b\b\b\b\b\b\b\b\b\b\b\b\b\b\b\b\b\b\b\b\b\b\b\b\b\b\b\b\b\b\b\b\b\b\b\b\b\b\b\b\b\b\b\b\b\b\b\b\b\b\b\b\b\b\b\b\b\b\b\b\b\b\b\b\b\b\b\b\b\b\b\r548/548 [==============================] - 175s 320ms/step - loss: 0.5430 - acc: 0.7097 - val_loss: 0.5621 - val_acc: 0.7023\n",
            "Epoch 8/50\n",
            "547/548 [============================>.] - ETA: 0s - loss: 0.5408 - acc: 0.7125"
          ]
        },
        {
          "output_type": "stream",
          "name": "stderr",
          "text": [
            "WARNING:absl:Function `_wrapped_model` contains input name(s) efficientnetv2-m_input with unsupported characters which will be renamed to efficientnetv2_m_input in the SavedModel.\n",
            "WARNING:absl:Found untraced functions such as _jit_compiled_convolution_op, _jit_compiled_convolution_op, _jit_compiled_convolution_op, _jit_compiled_convolution_op, _jit_compiled_convolution_op while saving (showing 5 of 245). These functions will not be directly callable after loading.\n"
          ]
        },
        {
          "output_type": "stream",
          "name": "stdout",
          "text": [
            "\b\b\b\b\b\b\b\b\b\b\b\b\b\b\b\b\b\b\b\b\b\b\b\b\b\b\b\b\b\b\b\b\b\b\b\b\b\b\b\b\b\b\b\b\b\b\b\b\b\b\b\b\b\b\b\b\b\b\b\b\b\b\b\b\b\b\b\b\b\b\b\b\b\b\b\b\b\b\b\r548/548 [==============================] - 174s 318ms/step - loss: 0.5408 - acc: 0.7123 - val_loss: 0.5647 - val_acc: 0.6910\n",
            "Epoch 9/50\n",
            "547/548 [============================>.] - ETA: 0s - loss: 0.5390 - acc: 0.7150"
          ]
        },
        {
          "output_type": "stream",
          "name": "stderr",
          "text": [
            "WARNING:absl:Function `_wrapped_model` contains input name(s) efficientnetv2-m_input with unsupported characters which will be renamed to efficientnetv2_m_input in the SavedModel.\n",
            "WARNING:absl:Found untraced functions such as _jit_compiled_convolution_op, _jit_compiled_convolution_op, _jit_compiled_convolution_op, _jit_compiled_convolution_op, _jit_compiled_convolution_op while saving (showing 5 of 245). These functions will not be directly callable after loading.\n"
          ]
        },
        {
          "output_type": "stream",
          "name": "stdout",
          "text": [
            "\b\b\b\b\b\b\b\b\b\b\b\b\b\b\b\b\b\b\b\b\b\b\b\b\b\b\b\b\b\b\b\b\b\b\b\b\b\b\b\b\b\b\b\b\b\b\b\b\b\b\b\b\b\b\b\b\b\b\b\b\b\b\b\b\b\b\b\b\b\b\b\b\b\b\b\b\b\b\b\r548/548 [==============================] - 199s 363ms/step - loss: 0.5390 - acc: 0.7151 - val_loss: 0.5623 - val_acc: 0.6920\n",
            "Epoch 10/50\n",
            "547/548 [============================>.] - ETA: 0s - loss: 0.5394 - acc: 0.7158"
          ]
        },
        {
          "output_type": "stream",
          "name": "stderr",
          "text": [
            "WARNING:absl:Function `_wrapped_model` contains input name(s) efficientnetv2-m_input with unsupported characters which will be renamed to efficientnetv2_m_input in the SavedModel.\n",
            "WARNING:absl:Found untraced functions such as _jit_compiled_convolution_op, _jit_compiled_convolution_op, _jit_compiled_convolution_op, _jit_compiled_convolution_op, _jit_compiled_convolution_op while saving (showing 5 of 245). These functions will not be directly callable after loading.\n"
          ]
        },
        {
          "output_type": "stream",
          "name": "stdout",
          "text": [
            "\b\b\b\b\b\b\b\b\b\b\b\b\b\b\b\b\b\b\b\b\b\b\b\b\b\b\b\b\b\b\b\b\b\b\b\b\b\b\b\b\b\b\b\b\b\b\b\b\b\b\b\b\b\b\b\b\b\b\b\b\b\b\b\b\b\b\b\b\b\b\b\b\b\b\b\b\b\b\b\r548/548 [==============================] - 177s 323ms/step - loss: 0.5393 - acc: 0.7159 - val_loss: 0.5610 - val_acc: 0.6992\n",
            "Epoch 11/50\n",
            "547/548 [============================>.] - ETA: 0s - loss: 0.5388 - acc: 0.7140"
          ]
        },
        {
          "output_type": "stream",
          "name": "stderr",
          "text": [
            "WARNING:absl:Function `_wrapped_model` contains input name(s) efficientnetv2-m_input with unsupported characters which will be renamed to efficientnetv2_m_input in the SavedModel.\n",
            "WARNING:absl:Found untraced functions such as _jit_compiled_convolution_op, _jit_compiled_convolution_op, _jit_compiled_convolution_op, _jit_compiled_convolution_op, _jit_compiled_convolution_op while saving (showing 5 of 245). These functions will not be directly callable after loading.\n"
          ]
        },
        {
          "output_type": "stream",
          "name": "stdout",
          "text": [
            "\b\b\b\b\b\b\b\b\b\b\b\b\b\b\b\b\b\b\b\b\b\b\b\b\b\b\b\b\b\b\b\b\b\b\b\b\b\b\b\b\b\b\b\b\b\b\b\b\b\b\b\b\b\b\b\b\b\b\b\b\b\b\b\b\b\b\b\b\b\b\b\b\b\b\b\b\b\b\b\r548/548 [==============================] - 175s 319ms/step - loss: 0.5386 - acc: 0.7142 - val_loss: 0.5688 - val_acc: 0.7002\n",
            "Epoch 12/50\n",
            "547/548 [============================>.] - ETA: 0s - loss: 0.5362 - acc: 0.7214"
          ]
        },
        {
          "output_type": "stream",
          "name": "stderr",
          "text": [
            "WARNING:absl:Function `_wrapped_model` contains input name(s) efficientnetv2-m_input with unsupported characters which will be renamed to efficientnetv2_m_input in the SavedModel.\n",
            "WARNING:absl:Found untraced functions such as _jit_compiled_convolution_op, _jit_compiled_convolution_op, _jit_compiled_convolution_op, _jit_compiled_convolution_op, _jit_compiled_convolution_op while saving (showing 5 of 245). These functions will not be directly callable after loading.\n"
          ]
        },
        {
          "output_type": "stream",
          "name": "stdout",
          "text": [
            "\b\b\b\b\b\b\b\b\b\b\b\b\b\b\b\b\b\b\b\b\b\b\b\b\b\b\b\b\b\b\b\b\b\b\b\b\b\b\b\b\b\b\b\b\b\b\b\b\b\b\b\b\b\b\b\b\b\b\b\b\b\b\b\b\b\b\b\b\b\b\b\b\b\b\b\b\b\b\b\r548/548 [==============================] - 201s 367ms/step - loss: 0.5361 - acc: 0.7215 - val_loss: 0.5611 - val_acc: 0.6899\n",
            "Epoch 13/50\n",
            "547/548 [============================>.] - ETA: 0s - loss: 0.5360 - acc: 0.7158"
          ]
        },
        {
          "output_type": "stream",
          "name": "stderr",
          "text": [
            "WARNING:absl:Function `_wrapped_model` contains input name(s) efficientnetv2-m_input with unsupported characters which will be renamed to efficientnetv2_m_input in the SavedModel.\n",
            "WARNING:absl:Found untraced functions such as _jit_compiled_convolution_op, _jit_compiled_convolution_op, _jit_compiled_convolution_op, _jit_compiled_convolution_op, _jit_compiled_convolution_op while saving (showing 5 of 245). These functions will not be directly callable after loading.\n"
          ]
        },
        {
          "output_type": "stream",
          "name": "stdout",
          "text": [
            "\b\b\b\b\b\b\b\b\b\b\b\b\b\b\b\b\b\b\b\b\b\b\b\b\b\b\b\b\b\b\b\b\b\b\b\b\b\b\b\b\b\b\b\b\b\b\b\b\b\b\b\b\b\b\b\b\b\b\b\b\b\b\b\b\b\b\b\b\b\b\b\b\b\b\b\b\b\b\b\r548/548 [==============================] - 177s 322ms/step - loss: 0.5359 - acc: 0.7160 - val_loss: 0.5614 - val_acc: 0.6848\n",
            "Epoch 14/50\n",
            "547/548 [============================>.] - ETA: 0s - loss: 0.5351 - acc: 0.7185"
          ]
        },
        {
          "output_type": "stream",
          "name": "stderr",
          "text": [
            "WARNING:absl:Function `_wrapped_model` contains input name(s) efficientnetv2-m_input with unsupported characters which will be renamed to efficientnetv2_m_input in the SavedModel.\n",
            "WARNING:absl:Found untraced functions such as _jit_compiled_convolution_op, _jit_compiled_convolution_op, _jit_compiled_convolution_op, _jit_compiled_convolution_op, _jit_compiled_convolution_op while saving (showing 5 of 245). These functions will not be directly callable after loading.\n"
          ]
        },
        {
          "output_type": "stream",
          "name": "stdout",
          "text": [
            "\b\b\b\b\b\b\b\b\b\b\b\b\b\b\b\b\b\b\b\b\b\b\b\b\b\b\b\b\b\b\b\b\b\b\b\b\b\b\b\b\b\b\b\b\b\b\b\b\b\b\b\b\b\b\b\b\b\b\b\b\b\b\b\b\b\b\b\b\b\b\b\b\b\b\b\b\b\b\b\r548/548 [==============================] - 175s 320ms/step - loss: 0.5350 - acc: 0.7184 - val_loss: 0.5601 - val_acc: 0.6899\n",
            "Epoch 15/50\n",
            "547/548 [============================>.] - ETA: 0s - loss: 0.5330 - acc: 0.7174"
          ]
        },
        {
          "output_type": "stream",
          "name": "stderr",
          "text": [
            "WARNING:absl:Function `_wrapped_model` contains input name(s) efficientnetv2-m_input with unsupported characters which will be renamed to efficientnetv2_m_input in the SavedModel.\n",
            "WARNING:absl:Found untraced functions such as _jit_compiled_convolution_op, _jit_compiled_convolution_op, _jit_compiled_convolution_op, _jit_compiled_convolution_op, _jit_compiled_convolution_op while saving (showing 5 of 245). These functions will not be directly callable after loading.\n"
          ]
        },
        {
          "output_type": "stream",
          "name": "stdout",
          "text": [
            "\b\b\b\b\b\b\b\b\b\b\b\b\b\b\b\b\b\b\b\b\b\b\b\b\b\b\b\b\b\b\b\b\b\b\b\b\b\b\b\b\b\b\b\b\b\b\b\b\b\b\b\b\b\b\b\b\b\b\b\b\b\b\b\b\b\b\b\b\b\b\b\b\b\b\b\b\b\b\b\r548/548 [==============================] - 202s 369ms/step - loss: 0.5329 - acc: 0.7176 - val_loss: 0.5640 - val_acc: 0.6889\n",
            "Epoch 16/50\n",
            "547/548 [============================>.] - ETA: 0s - loss: 0.5357 - acc: 0.7189"
          ]
        },
        {
          "output_type": "stream",
          "name": "stderr",
          "text": [
            "WARNING:absl:Function `_wrapped_model` contains input name(s) efficientnetv2-m_input with unsupported characters which will be renamed to efficientnetv2_m_input in the SavedModel.\n",
            "WARNING:absl:Found untraced functions such as _jit_compiled_convolution_op, _jit_compiled_convolution_op, _jit_compiled_convolution_op, _jit_compiled_convolution_op, _jit_compiled_convolution_op while saving (showing 5 of 245). These functions will not be directly callable after loading.\n"
          ]
        },
        {
          "output_type": "stream",
          "name": "stdout",
          "text": [
            "\b\b\b\b\b\b\b\b\b\b\b\b\b\b\b\b\b\b\b\b\b\b\b\b\b\b\b\b\b\b\b\b\b\b\b\b\b\b\b\b\b\b\b\b\b\b\b\b\b\b\b\b\b\b\b\b\b\b\b\b\b\b\b\b\b\b\b\b\b\b\b\b\b\b\b\b\b\b\b\r548/548 [==============================] - 176s 321ms/step - loss: 0.5357 - acc: 0.7188 - val_loss: 0.5642 - val_acc: 0.6879\n",
            "Epoch 17/50\n",
            "547/548 [============================>.] - ETA: 0s - loss: 0.5339 - acc: 0.7199"
          ]
        },
        {
          "output_type": "stream",
          "name": "stderr",
          "text": [
            "WARNING:absl:Function `_wrapped_model` contains input name(s) efficientnetv2-m_input with unsupported characters which will be renamed to efficientnetv2_m_input in the SavedModel.\n",
            "WARNING:absl:Found untraced functions such as _jit_compiled_convolution_op, _jit_compiled_convolution_op, _jit_compiled_convolution_op, _jit_compiled_convolution_op, _jit_compiled_convolution_op while saving (showing 5 of 245). These functions will not be directly callable after loading.\n"
          ]
        },
        {
          "output_type": "stream",
          "name": "stdout",
          "text": [
            "\b\b\b\b\b\b\b\b\b\b\b\b\b\b\b\b\b\b\b\b\b\b\b\b\b\b\b\b\b\b\b\b\b\b\b\b\b\b\b\b\b\b\b\b\b\b\b\b\b\b\b\b\b\b\b\b\b\b\b\b\b\b\b\b\b\b\b\b\b\b\b\b\b\b\b\b\b\b\b\r548/548 [==============================] - 174s 318ms/step - loss: 0.5337 - acc: 0.7201 - val_loss: 0.5658 - val_acc: 0.6869\n",
            "Epoch 18/50\n",
            "547/548 [============================>.] - ETA: 0s - loss: 0.5305 - acc: 0.7191"
          ]
        },
        {
          "output_type": "stream",
          "name": "stderr",
          "text": [
            "WARNING:absl:Function `_wrapped_model` contains input name(s) efficientnetv2-m_input with unsupported characters which will be renamed to efficientnetv2_m_input in the SavedModel.\n",
            "WARNING:absl:Found untraced functions such as _jit_compiled_convolution_op, _jit_compiled_convolution_op, _jit_compiled_convolution_op, _jit_compiled_convolution_op, _jit_compiled_convolution_op while saving (showing 5 of 245). These functions will not be directly callable after loading.\n"
          ]
        },
        {
          "output_type": "stream",
          "name": "stdout",
          "text": [
            "\b\b\b\b\b\b\b\b\b\b\b\b\b\b\b\b\b\b\b\b\b\b\b\b\b\b\b\b\b\b\b\b\b\b\b\b\b\b\b\b\b\b\b\b\b\b\b\b\b\b\b\b\b\b\b\b\b\b\b\b\b\b\b\b\b\b\b\b\b\b\b\b\b\b\b\b\b\b\b\r548/548 [==============================] - 173s 317ms/step - loss: 0.5307 - acc: 0.7190 - val_loss: 0.5606 - val_acc: 0.6858\n",
            "Epoch 19/50\n",
            "547/548 [============================>.] - ETA: 0s - loss: 0.5321 - acc: 0.7230"
          ]
        },
        {
          "output_type": "stream",
          "name": "stderr",
          "text": [
            "WARNING:absl:Function `_wrapped_model` contains input name(s) efficientnetv2-m_input with unsupported characters which will be renamed to efficientnetv2_m_input in the SavedModel.\n",
            "WARNING:absl:Found untraced functions such as _jit_compiled_convolution_op, _jit_compiled_convolution_op, _jit_compiled_convolution_op, _jit_compiled_convolution_op, _jit_compiled_convolution_op while saving (showing 5 of 245). These functions will not be directly callable after loading.\n"
          ]
        },
        {
          "output_type": "stream",
          "name": "stdout",
          "text": [
            "\b\b\b\b\b\b\b\b\b\b\b\b\b\b\b\b\b\b\b\b\b\b\b\b\b\b\b\b\b\b\b\b\b\b\b\b\b\b\b\b\b\b\b\b\b\b\b\b\b\b\b\b\b\b\b\b\b\b\b\b\b\b\b\b\b\b\b\b\b\b\b\b\b\b\b\b\b\b\b\r548/548 [==============================] - 204s 372ms/step - loss: 0.5320 - acc: 0.7229 - val_loss: 0.5622 - val_acc: 0.6899\n"
          ]
        }
      ]
    },
    {
      "cell_type": "code",
      "source": [
        "plt.figure(figsize=(10,10))\n",
        "\n",
        "ax1 = plt.subplot(2,1,1)\n",
        "ax1.plot(res.history['loss'], label = 'Train')\n",
        "ax1.plot(res.history['val_loss'], label = 'Test')\n",
        "plt.title('EfficientNetV2M Loss (BCE), NIR Images')\n",
        "plt.xlabel('Epoch')\n",
        "plt.legend();\n",
        "\n",
        "ax2 = plt.subplot(2,1,2)\n",
        "ax2.plot(res.history['acc'], label = 'Train')\n",
        "ax2.plot(res.history['val_acc'], label = 'Test')\n",
        "plt.title('EfficientNetV2M Accuracy, NIR Images')\n",
        "plt.xlabel('Epoch')\n",
        "plt.legend();\n",
        "plt.tight_layout();\n",
        "plt.savefig('../presentation_images/effnet_NIR')"
      ],
      "metadata": {
        "colab": {
          "base_uri": "https://localhost:8080/",
          "height": 729
        },
        "outputId": "bb8618f9-b0ac-4924-e7af-8292f97108dd",
        "id": "OaN011Xi_2j2"
      },
      "execution_count": null,
      "outputs": [
        {
          "output_type": "display_data",
          "data": {
            "text/plain": [
              "<Figure size 720x720 with 2 Axes>"
            ],
            "image/png": "[encoded data removed]"
          },
          "metadata": {
            "needs_background": "light"
          }
        }
      ]
    },
    {
      "cell_type": "markdown",
      "source": [
        "This model did not do so well.\n",
        "\n",
        "#### Test that the model saved correctly\n",
        "\n",
        "Before proceeding, let's make sure we can load the saved model and use it for predictions in the future:"
      ],
      "metadata": {
        "id": "lPDv5ibb_2j3"
      }
    },
    {
      "cell_type": "code",
      "source": [
        "NIR_model = load_model(f\"{model_save_path}/NIR_classification_effnet_1\")"
      ],
      "metadata": {
        "id": "Bd30wEW2_2j3"
      },
      "execution_count": null,
      "outputs": []
    },
    {
      "cell_type": "code",
      "source": [
        "NIR_model.evaluate(NIR_test_ds)"
      ],
      "metadata": {
        "colab": {
          "base_uri": "https://localhost:8080/"
        },
        "outputId": "7a1f0206-5153-4805-9120-1a62679ad507",
        "id": "M-SFPzMM_2j3"
      },
      "execution_count": null,
      "outputs": [
        {
          "output_type": "stream",
          "name": "stdout",
          "text": [
            "31/31 [==============================] - 6s 64ms/step - loss: 0.5622 - acc: 0.6899\n"
          ]
        },
        {
          "output_type": "execute_result",
          "data": {
            "text/plain": [
              "[0.5622337460517883, 0.6899384260177612]"
            ]
          },
          "metadata": {},
          "execution_count": 268
        }
      ]
    },
    {
      "cell_type": "markdown",
      "source": [
        "These are the same loss and accuracy numbers that we got before, so everything is working!"
      ],
      "metadata": {
        "id": "cUyhETKZ_2j3"
      }
    },
    {
      "cell_type": "markdown",
      "source": [
        "## Using a pre-trained network on SWIR1 data"
      ],
      "metadata": {
        "id": "61X5qjFMHgpm"
      }
    },
    {
      "cell_type": "code",
      "source": [
        "effnet_ir = EfficientNetV2M(\n",
        "    include_top=False,\n",
        "    weights=\"imagenet\",\n",
        "    input_shape=(255,255,3),\n",
        "    classes=2,\n",
        "    classifier_activation=\"softmax\",\n",
        "    include_preprocessing=True,\n",
        ")"
      ],
      "metadata": {
        "id": "nF3vD9qSHgpo"
      },
      "execution_count": null,
      "outputs": []
    },
    {
      "cell_type": "code",
      "source": [
        "effnet_ir.trainable = False"
      ],
      "metadata": {
        "id": "QxOBYw7RHgpp"
      },
      "execution_count": null,
      "outputs": []
    },
    {
      "cell_type": "code",
      "source": [
        "model = Sequential()\n",
        "\n",
        "model.add(effnet_ir)\n",
        "model.add(GlobalAveragePooling2D())\n",
        "\n",
        "#Just use a single output layer\n",
        "model.add(Dense(1, activation='sigmoid'))\n",
        "\n",
        "\n",
        "#Compile the model\n",
        "model.compile(optimizer='adam',\n",
        "              loss='bce',\n",
        "              metrics=['acc'])"
      ],
      "metadata": {
        "id": "SF1VB4QeHgpp"
      },
      "execution_count": null,
      "outputs": []
    },
    {
      "cell_type": "code",
      "source": [
        "model_name = 'SWIR1_classification_effnet_1'\n",
        "model_save_path = '../models'"
      ],
      "metadata": {
        "id": "zqATtrjYHgpp"
      },
      "execution_count": null,
      "outputs": []
    },
    {
      "cell_type": "code",
      "source": [
        "#Add a callback to save the model each epoch\n",
        "checkpoint = ModelCheckpoint(f\"{model_save_path}/{model_name}\", save_freq='epoch', verbose=0)"
      ],
      "metadata": {
        "id": "aC2O9ZZiHgpp"
      },
      "execution_count": null,
      "outputs": []
    },
    {
      "cell_type": "code",
      "source": [
        "#Add early stopping\n",
        "es = EarlyStopping( patience = 5)"
      ],
      "metadata": {
        "id": "DzY5QyKTHgpp"
      },
      "execution_count": null,
      "outputs": []
    },
    {
      "cell_type": "code",
      "source": [
        "res = model.fit(SWIR1_train_ds,\n",
        "                epochs = 50,\n",
        "                validation_data = SWIR1_test_ds,\n",
        "                verbose = 1,\n",
        "                callbacks = [es, checkpoint]\n",
        "                )"
      ],
      "metadata": {
        "colab": {
          "base_uri": "https://localhost:8080/"
        },
        "outputId": "60bfdb6c-4458-4b61-d0ae-578766fc88e2",
        "id": "Ral9YspJHgpp"
      },
      "execution_count": null,
      "outputs": [
        {
          "output_type": "stream",
          "name": "stdout",
          "text": [
            "Epoch 1/50\n",
            "548/548 [==============================] - ETA: 0s - loss: 0.5785 - acc: 0.6884"
          ]
        },
        {
          "output_type": "stream",
          "name": "stderr",
          "text": [
            "WARNING:absl:Function `_wrapped_model` contains input name(s) efficientnetv2-m_input with unsupported characters which will be renamed to efficientnetv2_m_input in the SavedModel.\n",
            "WARNING:absl:Found untraced functions such as _jit_compiled_convolution_op, _jit_compiled_convolution_op, _jit_compiled_convolution_op, _jit_compiled_convolution_op, _jit_compiled_convolution_op while saving (showing 5 of 245). These functions will not be directly callable after loading.\n"
          ]
        },
        {
          "output_type": "stream",
          "name": "stdout",
          "text": [
            "\b\b\b\b\b\b\b\b\b\b\b\b\b\b\b\b\b\b\b\b\b\b\b\b\b\b\b\b\b\b\b\b\b\b\b\b\b\b\b\b\b\b\b\b\b\b\b\b\b\b\b\b\b\b\b\b\b\b\b\b\b\b\b\b\b\b\b\b\b\b\b\b\b\b\b\b\b\b\b\r548/548 [==============================] - 540s 947ms/step - loss: 0.5785 - acc: 0.6884 - val_loss: 0.5690 - val_acc: 0.6920\n",
            "Epoch 2/50\n",
            "547/548 [============================>.] - ETA: 0s - loss: 0.5567 - acc: 0.7021"
          ]
        },
        {
          "output_type": "stream",
          "name": "stderr",
          "text": [
            "WARNING:absl:Function `_wrapped_model` contains input name(s) efficientnetv2-m_input with unsupported characters which will be renamed to efficientnetv2_m_input in the SavedModel.\n",
            "WARNING:absl:Found untraced functions such as _jit_compiled_convolution_op, _jit_compiled_convolution_op, _jit_compiled_convolution_op, _jit_compiled_convolution_op, _jit_compiled_convolution_op while saving (showing 5 of 245). These functions will not be directly callable after loading.\n"
          ]
        },
        {
          "output_type": "stream",
          "name": "stdout",
          "text": [
            "\b\b\b\b\b\b\b\b\b\b\b\b\b\b\b\b\b\b\b\b\b\b\b\b\b\b\b\b\b\b\b\b\b\b\b\b\b\b\b\b\b\b\b\b\b\b\b\b\b\b\b\b\b\b\b\b\b\b\b\b\b\b\b\b\b\b\b\b\b\b\b\b\b\b\b\b\b\b\b\r548/548 [==============================] - 185s 337ms/step - loss: 0.5568 - acc: 0.7021 - val_loss: 0.5653 - val_acc: 0.6951\n",
            "Epoch 3/50\n",
            "547/548 [============================>.] - ETA: 0s - loss: 0.5500 - acc: 0.7049"
          ]
        },
        {
          "output_type": "stream",
          "name": "stderr",
          "text": [
            "WARNING:absl:Function `_wrapped_model` contains input name(s) efficientnetv2-m_input with unsupported characters which will be renamed to efficientnetv2_m_input in the SavedModel.\n",
            "WARNING:absl:Found untraced functions such as _jit_compiled_convolution_op, _jit_compiled_convolution_op, _jit_compiled_convolution_op, _jit_compiled_convolution_op, _jit_compiled_convolution_op while saving (showing 5 of 245). These functions will not be directly callable after loading.\n"
          ]
        },
        {
          "output_type": "stream",
          "name": "stdout",
          "text": [
            "\b\b\b\b\b\b\b\b\b\b\b\b\b\b\b\b\b\b\b\b\b\b\b\b\b\b\b\b\b\b\b\b\b\b\b\b\b\b\b\b\b\b\b\b\b\b\b\b\b\b\b\b\b\b\b\b\b\b\b\b\b\b\b\b\b\b\b\b\b\b\b\b\b\b\b\b\b\b\b\r548/548 [==============================] - 174s 317ms/step - loss: 0.5501 - acc: 0.7049 - val_loss: 0.5522 - val_acc: 0.6992\n",
            "Epoch 4/50\n",
            "547/548 [============================>.] - ETA: 0s - loss: 0.5449 - acc: 0.7095"
          ]
        },
        {
          "output_type": "stream",
          "name": "stderr",
          "text": [
            "WARNING:absl:Function `_wrapped_model` contains input name(s) efficientnetv2-m_input with unsupported characters which will be renamed to efficientnetv2_m_input in the SavedModel.\n",
            "WARNING:absl:Found untraced functions such as _jit_compiled_convolution_op, _jit_compiled_convolution_op, _jit_compiled_convolution_op, _jit_compiled_convolution_op, _jit_compiled_convolution_op while saving (showing 5 of 245). These functions will not be directly callable after loading.\n"
          ]
        },
        {
          "output_type": "stream",
          "name": "stdout",
          "text": [
            "\b\b\b\b\b\b\b\b\b\b\b\b\b\b\b\b\b\b\b\b\b\b\b\b\b\b\b\b\b\b\b\b\b\b\b\b\b\b\b\b\b\b\b\b\b\b\b\b\b\b\b\b\b\b\b\b\b\b\b\b\b\b\b\b\b\b\b\b\b\b\b\b\b\b\b\b\b\b\b\r548/548 [==============================] - 187s 341ms/step - loss: 0.5448 - acc: 0.7096 - val_loss: 0.5531 - val_acc: 0.6992\n",
            "Epoch 5/50\n",
            "547/548 [============================>.] - ETA: 0s - loss: 0.5418 - acc: 0.7128"
          ]
        },
        {
          "output_type": "stream",
          "name": "stderr",
          "text": [
            "WARNING:absl:Function `_wrapped_model` contains input name(s) efficientnetv2-m_input with unsupported characters which will be renamed to efficientnetv2_m_input in the SavedModel.\n",
            "WARNING:absl:Found untraced functions such as _jit_compiled_convolution_op, _jit_compiled_convolution_op, _jit_compiled_convolution_op, _jit_compiled_convolution_op, _jit_compiled_convolution_op while saving (showing 5 of 245). These functions will not be directly callable after loading.\n"
          ]
        },
        {
          "output_type": "stream",
          "name": "stdout",
          "text": [
            "\b\b\b\b\b\b\b\b\b\b\b\b\b\b\b\b\b\b\b\b\b\b\b\b\b\b\b\b\b\b\b\b\b\b\b\b\b\b\b\b\b\b\b\b\b\b\b\b\b\b\b\b\b\b\b\b\b\b\b\b\b\b\b\b\b\b\b\b\b\b\b\b\b\b\b\b\b\b\b\r548/548 [==============================] - 186s 339ms/step - loss: 0.5417 - acc: 0.7128 - val_loss: 0.5463 - val_acc: 0.7084\n",
            "Epoch 6/50\n",
            "547/548 [============================>.] - ETA: 0s - loss: 0.5395 - acc: 0.7137"
          ]
        },
        {
          "output_type": "stream",
          "name": "stderr",
          "text": [
            "WARNING:absl:Function `_wrapped_model` contains input name(s) efficientnetv2-m_input with unsupported characters which will be renamed to efficientnetv2_m_input in the SavedModel.\n",
            "WARNING:absl:Found untraced functions such as _jit_compiled_convolution_op, _jit_compiled_convolution_op, _jit_compiled_convolution_op, _jit_compiled_convolution_op, _jit_compiled_convolution_op while saving (showing 5 of 245). These functions will not be directly callable after loading.\n"
          ]
        },
        {
          "output_type": "stream",
          "name": "stdout",
          "text": [
            "\b\b\b\b\b\b\b\b\b\b\b\b\b\b\b\b\b\b\b\b\b\b\b\b\b\b\b\b\b\b\b\b\b\b\b\b\b\b\b\b\b\b\b\b\b\b\b\b\b\b\b\b\b\b\b\b\b\b\b\b\b\b\b\b\b\b\b\b\b\b\b\b\b\b\b\b\b\b\b\r548/548 [==============================] - 173s 316ms/step - loss: 0.5395 - acc: 0.7136 - val_loss: 0.5435 - val_acc: 0.7197\n",
            "Epoch 7/50\n",
            "547/548 [============================>.] - ETA: 0s - loss: 0.5377 - acc: 0.7161"
          ]
        },
        {
          "output_type": "stream",
          "name": "stderr",
          "text": [
            "WARNING:absl:Function `_wrapped_model` contains input name(s) efficientnetv2-m_input with unsupported characters which will be renamed to efficientnetv2_m_input in the SavedModel.\n",
            "WARNING:absl:Found untraced functions such as _jit_compiled_convolution_op, _jit_compiled_convolution_op, _jit_compiled_convolution_op, _jit_compiled_convolution_op, _jit_compiled_convolution_op while saving (showing 5 of 245). These functions will not be directly callable after loading.\n"
          ]
        },
        {
          "output_type": "stream",
          "name": "stdout",
          "text": [
            "\b\b\b\b\b\b\b\b\b\b\b\b\b\b\b\b\b\b\b\b\b\b\b\b\b\b\b\b\b\b\b\b\b\b\b\b\b\b\b\b\b\b\b\b\b\b\b\b\b\b\b\b\b\b\b\b\b\b\b\b\b\b\b\b\b\b\b\b\b\b\b\b\b\b\b\b\b\b\b\r548/548 [==============================] - 188s 343ms/step - loss: 0.5376 - acc: 0.7162 - val_loss: 0.5444 - val_acc: 0.7084\n",
            "Epoch 8/50\n",
            "547/548 [============================>.] - ETA: 0s - loss: 0.5367 - acc: 0.7149"
          ]
        },
        {
          "output_type": "stream",
          "name": "stderr",
          "text": [
            "WARNING:absl:Function `_wrapped_model` contains input name(s) efficientnetv2-m_input with unsupported characters which will be renamed to efficientnetv2_m_input in the SavedModel.\n",
            "WARNING:absl:Found untraced functions such as _jit_compiled_convolution_op, _jit_compiled_convolution_op, _jit_compiled_convolution_op, _jit_compiled_convolution_op, _jit_compiled_convolution_op while saving (showing 5 of 245). These functions will not be directly callable after loading.\n"
          ]
        },
        {
          "output_type": "stream",
          "name": "stdout",
          "text": [
            "\b\b\b\b\b\b\b\b\b\b\b\b\b\b\b\b\b\b\b\b\b\b\b\b\b\b\b\b\b\b\b\b\b\b\b\b\b\b\b\b\b\b\b\b\b\b\b\b\b\b\b\b\b\b\b\b\b\b\b\b\b\b\b\b\b\b\b\b\b\b\b\b\b\b\b\b\b\b\b\r548/548 [==============================] - 173s 316ms/step - loss: 0.5368 - acc: 0.7148 - val_loss: 0.5431 - val_acc: 0.7115\n",
            "Epoch 9/50\n",
            "547/548 [============================>.] - ETA: 0s - loss: 0.5336 - acc: 0.7193"
          ]
        },
        {
          "output_type": "stream",
          "name": "stderr",
          "text": [
            "WARNING:absl:Function `_wrapped_model` contains input name(s) efficientnetv2-m_input with unsupported characters which will be renamed to efficientnetv2_m_input in the SavedModel.\n",
            "WARNING:absl:Found untraced functions such as _jit_compiled_convolution_op, _jit_compiled_convolution_op, _jit_compiled_convolution_op, _jit_compiled_convolution_op, _jit_compiled_convolution_op while saving (showing 5 of 245). These functions will not be directly callable after loading.\n"
          ]
        },
        {
          "output_type": "stream",
          "name": "stdout",
          "text": [
            "\b\b\b\b\b\b\b\b\b\b\b\b\b\b\b\b\b\b\b\b\b\b\b\b\b\b\b\b\b\b\b\b\b\b\b\b\b\b\b\b\b\b\b\b\b\b\b\b\b\b\b\b\b\b\b\b\b\b\b\b\b\b\b\b\b\b\b\b\b\b\b\b\b\b\b\b\b\b\b\r548/548 [==============================] - 188s 344ms/step - loss: 0.5336 - acc: 0.7192 - val_loss: 0.5458 - val_acc: 0.7012\n",
            "Epoch 10/50\n",
            "547/548 [============================>.] - ETA: 0s - loss: 0.5333 - acc: 0.7177"
          ]
        },
        {
          "output_type": "stream",
          "name": "stderr",
          "text": [
            "WARNING:absl:Function `_wrapped_model` contains input name(s) efficientnetv2-m_input with unsupported characters which will be renamed to efficientnetv2_m_input in the SavedModel.\n",
            "WARNING:absl:Found untraced functions such as _jit_compiled_convolution_op, _jit_compiled_convolution_op, _jit_compiled_convolution_op, _jit_compiled_convolution_op, _jit_compiled_convolution_op while saving (showing 5 of 245). These functions will not be directly callable after loading.\n"
          ]
        },
        {
          "output_type": "stream",
          "name": "stdout",
          "text": [
            "\b\b\b\b\b\b\b\b\b\b\b\b\b\b\b\b\b\b\b\b\b\b\b\b\b\b\b\b\b\b\b\b\b\b\b\b\b\b\b\b\b\b\b\b\b\b\b\b\b\b\b\b\b\b\b\b\b\b\b\b\b\b\b\b\b\b\b\b\b\b\b\b\b\b\b\b\b\b\b\r548/548 [==============================] - 173s 316ms/step - loss: 0.5332 - acc: 0.7177 - val_loss: 0.5375 - val_acc: 0.7064\n",
            "Epoch 11/50\n",
            "548/548 [==============================] - ETA: 0s - loss: 0.5309 - acc: 0.7203"
          ]
        },
        {
          "output_type": "stream",
          "name": "stderr",
          "text": [
            "WARNING:absl:Function `_wrapped_model` contains input name(s) efficientnetv2-m_input with unsupported characters which will be renamed to efficientnetv2_m_input in the SavedModel.\n",
            "WARNING:absl:Found untraced functions such as _jit_compiled_convolution_op, _jit_compiled_convolution_op, _jit_compiled_convolution_op, _jit_compiled_convolution_op, _jit_compiled_convolution_op while saving (showing 5 of 245). These functions will not be directly callable after loading.\n"
          ]
        },
        {
          "output_type": "stream",
          "name": "stdout",
          "text": [
            "\b\b\b\b\b\b\b\b\b\b\b\b\b\b\b\b\b\b\b\b\b\b\b\b\b\b\b\b\b\b\b\b\b\b\b\b\b\b\b\b\b\b\b\b\b\b\b\b\b\b\b\b\b\b\b\b\b\b\b\b\b\b\b\b\b\b\b\b\b\b\b\b\b\b\b\b\b\b\b\r548/548 [==============================] - 188s 344ms/step - loss: 0.5309 - acc: 0.7203 - val_loss: 0.5471 - val_acc: 0.6971\n",
            "Epoch 12/50\n",
            "547/548 [============================>.] - ETA: 0s - loss: 0.5308 - acc: 0.7205"
          ]
        },
        {
          "output_type": "stream",
          "name": "stderr",
          "text": [
            "WARNING:absl:Function `_wrapped_model` contains input name(s) efficientnetv2-m_input with unsupported characters which will be renamed to efficientnetv2_m_input in the SavedModel.\n",
            "WARNING:absl:Found untraced functions such as _jit_compiled_convolution_op, _jit_compiled_convolution_op, _jit_compiled_convolution_op, _jit_compiled_convolution_op, _jit_compiled_convolution_op while saving (showing 5 of 245). These functions will not be directly callable after loading.\n"
          ]
        },
        {
          "output_type": "stream",
          "name": "stdout",
          "text": [
            "\b\b\b\b\b\b\b\b\b\b\b\b\b\b\b\b\b\b\b\b\b\b\b\b\b\b\b\b\b\b\b\b\b\b\b\b\b\b\b\b\b\b\b\b\b\b\b\b\b\b\b\b\b\b\b\b\b\b\b\b\b\b\b\b\b\b\b\b\b\b\b\b\b\b\b\b\b\b\b\r548/548 [==============================] - 187s 341ms/step - loss: 0.5307 - acc: 0.7205 - val_loss: 0.5385 - val_acc: 0.7177\n",
            "Epoch 13/50\n",
            "548/548 [==============================] - ETA: 0s - loss: 0.5295 - acc: 0.7237"
          ]
        },
        {
          "output_type": "stream",
          "name": "stderr",
          "text": [
            "WARNING:absl:Function `_wrapped_model` contains input name(s) efficientnetv2-m_input with unsupported characters which will be renamed to efficientnetv2_m_input in the SavedModel.\n",
            "WARNING:absl:Found untraced functions such as _jit_compiled_convolution_op, _jit_compiled_convolution_op, _jit_compiled_convolution_op, _jit_compiled_convolution_op, _jit_compiled_convolution_op while saving (showing 5 of 245). These functions will not be directly callable after loading.\n"
          ]
        },
        {
          "output_type": "stream",
          "name": "stdout",
          "text": [
            "\b\b\b\b\b\b\b\b\b\b\b\b\b\b\b\b\b\b\b\b\b\b\b\b\b\b\b\b\b\b\b\b\b\b\b\b\b\b\b\b\b\b\b\b\b\b\b\b\b\b\b\b\b\b\b\b\b\b\b\b\b\b\b\b\b\b\b\b\b\b\b\b\b\b\b\b\b\b\b\r548/548 [==============================] - 174s 318ms/step - loss: 0.5295 - acc: 0.7237 - val_loss: 0.5421 - val_acc: 0.7094\n",
            "Epoch 14/50\n",
            "547/548 [============================>.] - ETA: 0s - loss: 0.5294 - acc: 0.7212"
          ]
        },
        {
          "output_type": "stream",
          "name": "stderr",
          "text": [
            "WARNING:absl:Function `_wrapped_model` contains input name(s) efficientnetv2-m_input with unsupported characters which will be renamed to efficientnetv2_m_input in the SavedModel.\n",
            "WARNING:absl:Found untraced functions such as _jit_compiled_convolution_op, _jit_compiled_convolution_op, _jit_compiled_convolution_op, _jit_compiled_convolution_op, _jit_compiled_convolution_op while saving (showing 5 of 245). These functions will not be directly callable after loading.\n"
          ]
        },
        {
          "output_type": "stream",
          "name": "stdout",
          "text": [
            "\b\b\b\b\b\b\b\b\b\b\b\b\b\b\b\b\b\b\b\b\b\b\b\b\b\b\b\b\b\b\b\b\b\b\b\b\b\b\b\b\b\b\b\b\b\b\b\b\b\b\b\b\b\b\b\b\b\b\b\b\b\b\b\b\b\b\b\b\b\b\b\b\b\b\b\b\b\b\b\r548/548 [==============================] - 190s 346ms/step - loss: 0.5293 - acc: 0.7212 - val_loss: 0.5391 - val_acc: 0.7187\n",
            "Epoch 15/50\n",
            "547/548 [============================>.] - ETA: 0s - loss: 0.5292 - acc: 0.7229"
          ]
        },
        {
          "output_type": "stream",
          "name": "stderr",
          "text": [
            "WARNING:absl:Function `_wrapped_model` contains input name(s) efficientnetv2-m_input with unsupported characters which will be renamed to efficientnetv2_m_input in the SavedModel.\n",
            "WARNING:absl:Found untraced functions such as _jit_compiled_convolution_op, _jit_compiled_convolution_op, _jit_compiled_convolution_op, _jit_compiled_convolution_op, _jit_compiled_convolution_op while saving (showing 5 of 245). These functions will not be directly callable after loading.\n"
          ]
        },
        {
          "output_type": "stream",
          "name": "stdout",
          "text": [
            "\b\b\b\b\b\b\b\b\b\b\b\b\b\b\b\b\b\b\b\b\b\b\b\b\b\b\b\b\b\b\b\b\b\b\b\b\b\b\b\b\b\b\b\b\b\b\b\b\b\b\b\b\b\b\b\b\b\b\b\b\b\b\b\b\b\b\b\b\b\b\b\b\b\b\b\b\b\b\b\r548/548 [==============================] - 174s 318ms/step - loss: 0.5290 - acc: 0.7230 - val_loss: 0.5391 - val_acc: 0.7125\n"
          ]
        }
      ]
    },
    {
      "cell_type": "code",
      "source": [
        "plt.figure(figsize=(10,10))\n",
        "\n",
        "ax1 = plt.subplot(2,1,1)\n",
        "ax1.plot(res.history['loss'], label = 'Train')\n",
        "ax1.plot(res.history['val_loss'], label = 'Test')\n",
        "plt.title('EfficientNetV2M Loss (BCE), SWIR1 Images')\n",
        "plt.xlabel('Epoch')\n",
        "plt.legend();\n",
        "\n",
        "ax2 = plt.subplot(2,1,2)\n",
        "ax2.plot(res.history['acc'], label = 'Train')\n",
        "ax2.plot(res.history['val_acc'], label = 'Test')\n",
        "plt.title('EfficientNetV2M Accuracy, SWIR1 Images')\n",
        "plt.xlabel('Epoch')\n",
        "plt.legend();\n",
        "plt.tight_layout();\n",
        "plt.savefig('../presentation_images/effnet_SWIR1')"
      ],
      "metadata": {
        "colab": {
          "base_uri": "https://localhost:8080/",
          "height": 729
        },
        "outputId": "35fd66da-ee27-4438-b18f-1bcfa76cce1a",
        "id": "kwQXPnhQHgpp"
      },
      "execution_count": null,
      "outputs": [
        {
          "output_type": "display_data",
          "data": {
            "text/plain": [
              "<Figure size 720x720 with 2 Axes>"
            ],
            "image/png": "[encoded data removed]"
          },
          "metadata": {
            "needs_background": "light"
          }
        }
      ]
    },
    {
      "cell_type": "markdown",
      "source": [
        "This model did not do as well as the RGB model!\n",
        "\n",
        "#### Test that the model saved correctly\n",
        "\n",
        "Before proceeding, let's make sure we can load the saved model and use it for predictions in the future:"
      ],
      "metadata": {
        "id": "BzbqfJ_rHgpp"
      }
    },
    {
      "cell_type": "code",
      "source": [
        "SWIR1_model = load_model(f\"{model_save_path}/SWIR1_classification_effnet_1\")"
      ],
      "metadata": {
        "id": "TcYVQG3fHgpq"
      },
      "execution_count": null,
      "outputs": []
    },
    {
      "cell_type": "code",
      "source": [
        "SWIR1_model.evaluate(SWIR1_test_ds)"
      ],
      "metadata": {
        "colab": {
          "base_uri": "https://localhost:8080/"
        },
        "outputId": "b2a74c64-16a5-4b22-920e-c57905c624cf",
        "id": "e8yu_YCBHgpq"
      },
      "execution_count": null,
      "outputs": [
        {
          "output_type": "stream",
          "name": "stdout",
          "text": [
            "31/31 [==============================] - 2s 64ms/step - loss: 0.5391 - acc: 0.7125\n"
          ]
        },
        {
          "output_type": "execute_result",
          "data": {
            "text/plain": [
              "[0.5390536785125732, 0.7125256657600403]"
            ]
          },
          "metadata": {},
          "execution_count": 182
        }
      ]
    },
    {
      "cell_type": "markdown",
      "source": [
        "These are the same loss and accuracy numbers that we got before, so everything is working!"
      ],
      "metadata": {
        "id": "THabcRSDHgpq"
      }
    },
    {
      "cell_type": "markdown",
      "source": [
        "## Using a pre-trained network on SWIR2 data"
      ],
      "metadata": {
        "id": "XyCMAPSJPhLc"
      }
    },
    {
      "cell_type": "code",
      "source": [
        "effnet_ir2 = EfficientNetV2M(\n",
        "    include_top=False,\n",
        "    weights=\"imagenet\",\n",
        "    input_shape=(255,255,3),\n",
        "    classes=2,\n",
        "    classifier_activation=\"softmax\",\n",
        "    include_preprocessing=True,\n",
        ")"
      ],
      "metadata": {
        "id": "4TcMrr2-PhL0"
      },
      "execution_count": null,
      "outputs": []
    },
    {
      "cell_type": "code",
      "source": [
        "effnet_ir2.trainable = False"
      ],
      "metadata": {
        "id": "qKFS4jQLPhL1"
      },
      "execution_count": null,
      "outputs": []
    },
    {
      "cell_type": "code",
      "source": [
        "model = Sequential()\n",
        "\n",
        "model.add(effnet_ir2)\n",
        "model.add(GlobalAveragePooling2D())\n",
        "\n",
        "#Just use a single output layer\n",
        "model.add(Dense(1, activation='sigmoid'))\n",
        "\n",
        "\n",
        "#Compile the model\n",
        "model.compile(optimizer='adam',\n",
        "              loss='bce',\n",
        "              metrics=['acc'])"
      ],
      "metadata": {
        "id": "Xs_1MI1QPhL1"
      },
      "execution_count": null,
      "outputs": []
    },
    {
      "cell_type": "code",
      "source": [
        "model_name = 'SWIR2_classification_effnet_1'\n",
        "model_save_path = '../models'"
      ],
      "metadata": {
        "id": "XKNSHSltPhL1"
      },
      "execution_count": null,
      "outputs": []
    },
    {
      "cell_type": "code",
      "source": [
        "#Add a callback to save the model each epoch\n",
        "checkpoint = ModelCheckpoint(f\"{model_save_path}/{model_name}\", save_freq='epoch', verbose=0)"
      ],
      "metadata": {
        "id": "AsxWt28tPhL1"
      },
      "execution_count": null,
      "outputs": []
    },
    {
      "cell_type": "code",
      "source": [
        "#Add early stopping\n",
        "es = EarlyStopping( patience = 5)"
      ],
      "metadata": {
        "id": "hmo4Oa6BPhL1"
      },
      "execution_count": null,
      "outputs": []
    },
    {
      "cell_type": "code",
      "source": [
        "res = model.fit(SWIR2_train_ds,\n",
        "                epochs = 50,\n",
        "                validation_data = SWIR2_test_ds,\n",
        "                verbose = 1,\n",
        "                callbacks = [es, checkpoint]\n",
        "                )"
      ],
      "metadata": {
        "colab": {
          "base_uri": "https://localhost:8080/"
        },
        "outputId": "4466ae61-c510-4669-9569-f9a62d3f48a7",
        "id": "x9jhcv27PhL1"
      },
      "execution_count": null,
      "outputs": [
        {
          "output_type": "stream",
          "name": "stdout",
          "text": [
            "Epoch 1/50\n",
            "547/548 [============================>.] - ETA: 0s - loss: 0.5825 - acc: 0.6847"
          ]
        },
        {
          "output_type": "stream",
          "name": "stderr",
          "text": [
            "WARNING:absl:Function `_wrapped_model` contains input name(s) efficientnetv2-m_input with unsupported characters which will be renamed to efficientnetv2_m_input in the SavedModel.\n",
            "WARNING:absl:Found untraced functions such as _jit_compiled_convolution_op, _jit_compiled_convolution_op, _jit_compiled_convolution_op, _jit_compiled_convolution_op, _jit_compiled_convolution_op while saving (showing 5 of 245). These functions will not be directly callable after loading.\n"
          ]
        },
        {
          "output_type": "stream",
          "name": "stdout",
          "text": [
            "\b\b\b\b\b\b\b\b\b\b\b\b\b\b\b\b\b\b\b\b\b\b\b\b\b\b\b\b\b\b\b\b\b\b\b\b\b\b\b\b\b\b\b\b\b\b\b\b\b\b\b\b\b\b\b\b\b\b\b\b\b\b\b\b\b\b\b\b\b\b\b\b\b\b\b\b\b\b\b\r548/548 [==============================] - 543s 951ms/step - loss: 0.5824 - acc: 0.6847 - val_loss: 0.5850 - val_acc: 0.6848\n",
            "Epoch 2/50\n",
            "547/548 [============================>.] - ETA: 0s - loss: 0.5596 - acc: 0.7019"
          ]
        },
        {
          "output_type": "stream",
          "name": "stderr",
          "text": [
            "WARNING:absl:Function `_wrapped_model` contains input name(s) efficientnetv2-m_input with unsupported characters which will be renamed to efficientnetv2_m_input in the SavedModel.\n",
            "WARNING:absl:Found untraced functions such as _jit_compiled_convolution_op, _jit_compiled_convolution_op, _jit_compiled_convolution_op, _jit_compiled_convolution_op, _jit_compiled_convolution_op while saving (showing 5 of 245). These functions will not be directly callable after loading.\n"
          ]
        },
        {
          "output_type": "stream",
          "name": "stdout",
          "text": [
            "\b\b\b\b\b\b\b\b\b\b\b\b\b\b\b\b\b\b\b\b\b\b\b\b\b\b\b\b\b\b\b\b\b\b\b\b\b\b\b\b\b\b\b\b\b\b\b\b\b\b\b\b\b\b\b\b\b\b\b\b\b\b\b\b\b\b\b\b\b\b\b\b\b\b\b\b\b\b\b\r548/548 [==============================] - 204s 373ms/step - loss: 0.5596 - acc: 0.7018 - val_loss: 0.5813 - val_acc: 0.6858\n",
            "Epoch 3/50\n",
            "547/548 [============================>.] - ETA: 0s - loss: 0.5520 - acc: 0.7076"
          ]
        },
        {
          "output_type": "stream",
          "name": "stderr",
          "text": [
            "WARNING:absl:Function `_wrapped_model` contains input name(s) efficientnetv2-m_input with unsupported characters which will be renamed to efficientnetv2_m_input in the SavedModel.\n",
            "WARNING:absl:Found untraced functions such as _jit_compiled_convolution_op, _jit_compiled_convolution_op, _jit_compiled_convolution_op, _jit_compiled_convolution_op, _jit_compiled_convolution_op while saving (showing 5 of 245). These functions will not be directly callable after loading.\n"
          ]
        },
        {
          "output_type": "stream",
          "name": "stdout",
          "text": [
            "\b\b\b\b\b\b\b\b\b\b\b\b\b\b\b\b\b\b\b\b\b\b\b\b\b\b\b\b\b\b\b\b\b\b\b\b\b\b\b\b\b\b\b\b\b\b\b\b\b\b\b\b\b\b\b\b\b\b\b\b\b\b\b\b\b\b\b\b\b\b\b\b\b\b\b\b\b\b\b\r548/548 [==============================] - 179s 326ms/step - loss: 0.5520 - acc: 0.7075 - val_loss: 0.5687 - val_acc: 0.6797\n",
            "Epoch 4/50\n",
            "548/548 [==============================] - ETA: 0s - loss: 0.5496 - acc: 0.7100"
          ]
        },
        {
          "output_type": "stream",
          "name": "stderr",
          "text": [
            "WARNING:absl:Function `_wrapped_model` contains input name(s) efficientnetv2-m_input with unsupported characters which will be renamed to efficientnetv2_m_input in the SavedModel.\n",
            "WARNING:absl:Found untraced functions such as _jit_compiled_convolution_op, _jit_compiled_convolution_op, _jit_compiled_convolution_op, _jit_compiled_convolution_op, _jit_compiled_convolution_op while saving (showing 5 of 245). These functions will not be directly callable after loading.\n"
          ]
        },
        {
          "output_type": "stream",
          "name": "stdout",
          "text": [
            "\b\b\b\b\b\b\b\b\b\b\b\b\b\b\b\b\b\b\b\b\b\b\b\b\b\b\b\b\b\b\b\b\b\b\b\b\b\b\b\b\b\b\b\b\b\b\b\b\b\b\b\b\b\b\b\b\b\b\b\b\b\b\b\b\b\b\b\b\b\b\b\b\b\b\b\b\b\b\b\r548/548 [==============================] - 177s 323ms/step - loss: 0.5496 - acc: 0.7100 - val_loss: 0.5711 - val_acc: 0.6940\n",
            "Epoch 5/50\n",
            "547/548 [============================>.] - ETA: 0s - loss: 0.5454 - acc: 0.7118"
          ]
        },
        {
          "output_type": "stream",
          "name": "stderr",
          "text": [
            "WARNING:absl:Function `_wrapped_model` contains input name(s) efficientnetv2-m_input with unsupported characters which will be renamed to efficientnetv2_m_input in the SavedModel.\n",
            "WARNING:absl:Found untraced functions such as _jit_compiled_convolution_op, _jit_compiled_convolution_op, _jit_compiled_convolution_op, _jit_compiled_convolution_op, _jit_compiled_convolution_op while saving (showing 5 of 245). These functions will not be directly callable after loading.\n"
          ]
        },
        {
          "output_type": "stream",
          "name": "stdout",
          "text": [
            "\b\b\b\b\b\b\b\b\b\b\b\b\b\b\b\b\b\b\b\b\b\b\b\b\b\b\b\b\b\b\b\b\b\b\b\b\b\b\b\b\b\b\b\b\b\b\b\b\b\b\b\b\b\b\b\b\b\b\b\b\b\b\b\b\b\b\b\b\b\b\b\b\b\b\b\b\b\b\b\r548/548 [==============================] - 176s 321ms/step - loss: 0.5453 - acc: 0.7118 - val_loss: 0.5635 - val_acc: 0.6879\n",
            "Epoch 6/50\n",
            "547/548 [============================>.] - ETA: 0s - loss: 0.5417 - acc: 0.7141"
          ]
        },
        {
          "output_type": "stream",
          "name": "stderr",
          "text": [
            "WARNING:absl:Function `_wrapped_model` contains input name(s) efficientnetv2-m_input with unsupported characters which will be renamed to efficientnetv2_m_input in the SavedModel.\n",
            "WARNING:absl:Found untraced functions such as _jit_compiled_convolution_op, _jit_compiled_convolution_op, _jit_compiled_convolution_op, _jit_compiled_convolution_op, _jit_compiled_convolution_op while saving (showing 5 of 245). These functions will not be directly callable after loading.\n"
          ]
        },
        {
          "output_type": "stream",
          "name": "stdout",
          "text": [
            "\b\b\b\b\b\b\b\b\b\b\b\b\b\b\b\b\b\b\b\b\b\b\b\b\b\b\b\b\b\b\b\b\b\b\b\b\b\b\b\b\b\b\b\b\b\b\b\b\b\b\b\b\b\b\b\b\b\b\b\b\b\b\b\b\b\b\b\b\b\b\b\b\b\b\b\b\b\b\b\r548/548 [==============================] - 205s 375ms/step - loss: 0.5417 - acc: 0.7140 - val_loss: 0.5614 - val_acc: 0.6848\n",
            "Epoch 7/50\n",
            "547/548 [============================>.] - ETA: 0s - loss: 0.5402 - acc: 0.7152"
          ]
        },
        {
          "output_type": "stream",
          "name": "stderr",
          "text": [
            "WARNING:absl:Function `_wrapped_model` contains input name(s) efficientnetv2-m_input with unsupported characters which will be renamed to efficientnetv2_m_input in the SavedModel.\n",
            "WARNING:absl:Found untraced functions such as _jit_compiled_convolution_op, _jit_compiled_convolution_op, _jit_compiled_convolution_op, _jit_compiled_convolution_op, _jit_compiled_convolution_op while saving (showing 5 of 245). These functions will not be directly callable after loading.\n"
          ]
        },
        {
          "output_type": "stream",
          "name": "stdout",
          "text": [
            "\b\b\b\b\b\b\b\b\b\b\b\b\b\b\b\b\b\b\b\b\b\b\b\b\b\b\b\b\b\b\b\b\b\b\b\b\b\b\b\b\b\b\b\b\b\b\b\b\b\b\b\b\b\b\b\b\b\b\b\b\b\b\b\b\b\b\b\b\b\b\b\b\b\b\b\b\b\b\b\r548/548 [==============================] - 175s 319ms/step - loss: 0.5402 - acc: 0.7152 - val_loss: 0.5573 - val_acc: 0.6940\n",
            "Epoch 8/50\n",
            "547/548 [============================>.] - ETA: 0s - loss: 0.5389 - acc: 0.7132"
          ]
        },
        {
          "output_type": "stream",
          "name": "stderr",
          "text": [
            "WARNING:absl:Function `_wrapped_model` contains input name(s) efficientnetv2-m_input with unsupported characters which will be renamed to efficientnetv2_m_input in the SavedModel.\n",
            "WARNING:absl:Found untraced functions such as _jit_compiled_convolution_op, _jit_compiled_convolution_op, _jit_compiled_convolution_op, _jit_compiled_convolution_op, _jit_compiled_convolution_op while saving (showing 5 of 245). These functions will not be directly callable after loading.\n"
          ]
        },
        {
          "output_type": "stream",
          "name": "stdout",
          "text": [
            "\b\b\b\b\b\b\b\b\b\b\b\b\b\b\b\b\b\b\b\b\b\b\b\b\b\b\b\b\b\b\b\b\b\b\b\b\b\b\b\b\b\b\b\b\b\b\b\b\b\b\b\b\b\b\b\b\b\b\b\b\b\b\b\b\b\b\b\b\b\b\b\b\b\b\b\b\b\b\b\r548/548 [==============================] - 173s 317ms/step - loss: 0.5390 - acc: 0.7130 - val_loss: 0.5589 - val_acc: 0.6992\n",
            "Epoch 9/50\n",
            "547/548 [============================>.] - ETA: 0s - loss: 0.5398 - acc: 0.7182"
          ]
        },
        {
          "output_type": "stream",
          "name": "stderr",
          "text": [
            "WARNING:absl:Function `_wrapped_model` contains input name(s) efficientnetv2-m_input with unsupported characters which will be renamed to efficientnetv2_m_input in the SavedModel.\n",
            "WARNING:absl:Found untraced functions such as _jit_compiled_convolution_op, _jit_compiled_convolution_op, _jit_compiled_convolution_op, _jit_compiled_convolution_op, _jit_compiled_convolution_op while saving (showing 5 of 245). These functions will not be directly callable after loading.\n"
          ]
        },
        {
          "output_type": "stream",
          "name": "stdout",
          "text": [
            "\b\b\b\b\b\b\b\b\b\b\b\b\b\b\b\b\b\b\b\b\b\b\b\b\b\b\b\b\b\b\b\b\b\b\b\b\b\b\b\b\b\b\b\b\b\b\b\b\b\b\b\b\b\b\b\b\b\b\b\b\b\b\b\b\b\b\b\b\b\b\b\b\b\b\b\b\b\b\b\r548/548 [==============================] - 207s 378ms/step - loss: 0.5398 - acc: 0.7183 - val_loss: 0.5626 - val_acc: 0.6951\n",
            "Epoch 10/50\n",
            "547/548 [============================>.] - ETA: 0s - loss: 0.5360 - acc: 0.7186"
          ]
        },
        {
          "output_type": "stream",
          "name": "stderr",
          "text": [
            "WARNING:absl:Function `_wrapped_model` contains input name(s) efficientnetv2-m_input with unsupported characters which will be renamed to efficientnetv2_m_input in the SavedModel.\n",
            "WARNING:absl:Found untraced functions such as _jit_compiled_convolution_op, _jit_compiled_convolution_op, _jit_compiled_convolution_op, _jit_compiled_convolution_op, _jit_compiled_convolution_op while saving (showing 5 of 245). These functions will not be directly callable after loading.\n"
          ]
        },
        {
          "output_type": "stream",
          "name": "stdout",
          "text": [
            "\b\b\b\b\b\b\b\b\b\b\b\b\b\b\b\b\b\b\b\b\b\b\b\b\b\b\b\b\b\b\b\b\b\b\b\b\b\b\b\b\b\b\b\b\b\b\b\b\b\b\b\b\b\b\b\b\b\b\b\b\b\b\b\b\b\b\b\b\b\b\b\b\b\b\b\b\b\b\b\r548/548 [==============================] - 177s 323ms/step - loss: 0.5360 - acc: 0.7187 - val_loss: 0.5555 - val_acc: 0.6910\n",
            "Epoch 11/50\n",
            "547/548 [============================>.] - ETA: 0s - loss: 0.5357 - acc: 0.7187"
          ]
        },
        {
          "output_type": "stream",
          "name": "stderr",
          "text": [
            "WARNING:absl:Function `_wrapped_model` contains input name(s) efficientnetv2-m_input with unsupported characters which will be renamed to efficientnetv2_m_input in the SavedModel.\n",
            "WARNING:absl:Found untraced functions such as _jit_compiled_convolution_op, _jit_compiled_convolution_op, _jit_compiled_convolution_op, _jit_compiled_convolution_op, _jit_compiled_convolution_op while saving (showing 5 of 245). These functions will not be directly callable after loading.\n"
          ]
        },
        {
          "output_type": "stream",
          "name": "stdout",
          "text": [
            "\b\b\b\b\b\b\b\b\b\b\b\b\b\b\b\b\b\b\b\b\b\b\b\b\b\b\b\b\b\b\b\b\b\b\b\b\b\b\b\b\b\b\b\b\b\b\b\b\b\b\b\b\b\b\b\b\b\b\b\b\b\b\b\b\b\b\b\b\b\b\b\b\b\b\b\b\b\b\b\r548/548 [==============================] - 177s 323ms/step - loss: 0.5357 - acc: 0.7188 - val_loss: 0.5625 - val_acc: 0.6971\n",
            "Epoch 12/50\n",
            "547/548 [============================>.] - ETA: 0s - loss: 0.5339 - acc: 0.7209"
          ]
        },
        {
          "output_type": "stream",
          "name": "stderr",
          "text": [
            "WARNING:absl:Function `_wrapped_model` contains input name(s) efficientnetv2-m_input with unsupported characters which will be renamed to efficientnetv2_m_input in the SavedModel.\n",
            "WARNING:absl:Found untraced functions such as _jit_compiled_convolution_op, _jit_compiled_convolution_op, _jit_compiled_convolution_op, _jit_compiled_convolution_op, _jit_compiled_convolution_op while saving (showing 5 of 245). These functions will not be directly callable after loading.\n"
          ]
        },
        {
          "output_type": "stream",
          "name": "stdout",
          "text": [
            "\b\b\b\b\b\b\b\b\b\b\b\b\b\b\b\b\b\b\b\b\b\b\b\b\b\b\b\b\b\b\b\b\b\b\b\b\b\b\b\b\b\b\b\b\b\b\b\b\b\b\b\b\b\b\b\b\b\b\b\b\b\b\b\b\b\b\b\b\b\b\b\b\b\b\b\b\b\b\b\r548/548 [==============================] - 178s 325ms/step - loss: 0.5338 - acc: 0.7211 - val_loss: 0.5559 - val_acc: 0.6899\n",
            "Epoch 13/50\n",
            "547/548 [============================>.] - ETA: 0s - loss: 0.5335 - acc: 0.7193"
          ]
        },
        {
          "output_type": "stream",
          "name": "stderr",
          "text": [
            "WARNING:absl:Function `_wrapped_model` contains input name(s) efficientnetv2-m_input with unsupported characters which will be renamed to efficientnetv2_m_input in the SavedModel.\n",
            "WARNING:absl:Found untraced functions such as _jit_compiled_convolution_op, _jit_compiled_convolution_op, _jit_compiled_convolution_op, _jit_compiled_convolution_op, _jit_compiled_convolution_op while saving (showing 5 of 245). These functions will not be directly callable after loading.\n"
          ]
        },
        {
          "output_type": "stream",
          "name": "stdout",
          "text": [
            "\b\b\b\b\b\b\b\b\b\b\b\b\b\b\b\b\b\b\b\b\b\b\b\b\b\b\b\b\b\b\b\b\b\b\b\b\b\b\b\b\b\b\b\b\b\b\b\b\b\b\b\b\b\b\b\b\b\b\b\b\b\b\b\b\b\b\b\b\b\b\b\b\b\b\b\b\b\b\b\r548/548 [==============================] - 212s 387ms/step - loss: 0.5334 - acc: 0.7194 - val_loss: 0.5634 - val_acc: 0.6920\n",
            "Epoch 14/50\n",
            "547/548 [============================>.] - ETA: 0s - loss: 0.5319 - acc: 0.7203"
          ]
        },
        {
          "output_type": "stream",
          "name": "stderr",
          "text": [
            "WARNING:absl:Function `_wrapped_model` contains input name(s) efficientnetv2-m_input with unsupported characters which will be renamed to efficientnetv2_m_input in the SavedModel.\n",
            "WARNING:absl:Found untraced functions such as _jit_compiled_convolution_op, _jit_compiled_convolution_op, _jit_compiled_convolution_op, _jit_compiled_convolution_op, _jit_compiled_convolution_op while saving (showing 5 of 245). These functions will not be directly callable after loading.\n"
          ]
        },
        {
          "output_type": "stream",
          "name": "stdout",
          "text": [
            "\b\b\b\b\b\b\b\b\b\b\b\b\b\b\b\b\b\b\b\b\b\b\b\b\b\b\b\b\b\b\b\b\b\b\b\b\b\b\b\b\b\b\b\b\b\b\b\b\b\b\b\b\b\b\b\b\b\b\b\b\b\b\b\b\b\b\b\b\b\b\b\b\b\b\b\b\b\b\b\r548/548 [==============================] - 179s 327ms/step - loss: 0.5319 - acc: 0.7203 - val_loss: 0.5542 - val_acc: 0.6971\n",
            "Epoch 15/50\n",
            "547/548 [============================>.] - ETA: 0s - loss: 0.5314 - acc: 0.7217"
          ]
        },
        {
          "output_type": "stream",
          "name": "stderr",
          "text": [
            "WARNING:absl:Function `_wrapped_model` contains input name(s) efficientnetv2-m_input with unsupported characters which will be renamed to efficientnetv2_m_input in the SavedModel.\n",
            "WARNING:absl:Found untraced functions such as _jit_compiled_convolution_op, _jit_compiled_convolution_op, _jit_compiled_convolution_op, _jit_compiled_convolution_op, _jit_compiled_convolution_op while saving (showing 5 of 245). These functions will not be directly callable after loading.\n"
          ]
        },
        {
          "output_type": "stream",
          "name": "stdout",
          "text": [
            "\b\b\b\b\b\b\b\b\b\b\b\b\b\b\b\b\b\b\b\b\b\b\b\b\b\b\b\b\b\b\b\b\b\b\b\b\b\b\b\b\b\b\b\b\b\b\b\b\b\b\b\b\b\b\b\b\b\b\b\b\b\b\b\b\b\b\b\b\b\b\b\b\b\b\b\b\b\b\b\r548/548 [==============================] - 179s 326ms/step - loss: 0.5313 - acc: 0.7219 - val_loss: 0.5551 - val_acc: 0.6940\n",
            "Epoch 16/50\n",
            "548/548 [==============================] - ETA: 0s - loss: 0.5275 - acc: 0.7267"
          ]
        },
        {
          "output_type": "stream",
          "name": "stderr",
          "text": [
            "WARNING:absl:Function `_wrapped_model` contains input name(s) efficientnetv2-m_input with unsupported characters which will be renamed to efficientnetv2_m_input in the SavedModel.\n",
            "WARNING:absl:Found untraced functions such as _jit_compiled_convolution_op, _jit_compiled_convolution_op, _jit_compiled_convolution_op, _jit_compiled_convolution_op, _jit_compiled_convolution_op while saving (showing 5 of 245). These functions will not be directly callable after loading.\n"
          ]
        },
        {
          "output_type": "stream",
          "name": "stdout",
          "text": [
            "\b\b\b\b\b\b\b\b\b\b\b\b\b\b\b\b\b\b\b\b\b\b\b\b\b\b\b\b\b\b\b\b\b\b\b\b\b\b\b\b\b\b\b\b\b\b\b\b\b\b\b\b\b\b\b\b\b\b\b\b\b\b\b\b\b\b\b\b\b\b\b\b\b\b\b\b\b\b\b\r548/548 [==============================] - 210s 383ms/step - loss: 0.5275 - acc: 0.7267 - val_loss: 0.5544 - val_acc: 0.6930\n",
            "Epoch 17/50\n",
            "547/548 [============================>.] - ETA: 0s - loss: 0.5307 - acc: 0.7219"
          ]
        },
        {
          "output_type": "stream",
          "name": "stderr",
          "text": [
            "WARNING:absl:Function `_wrapped_model` contains input name(s) efficientnetv2-m_input with unsupported characters which will be renamed to efficientnetv2_m_input in the SavedModel.\n",
            "WARNING:absl:Found untraced functions such as _jit_compiled_convolution_op, _jit_compiled_convolution_op, _jit_compiled_convolution_op, _jit_compiled_convolution_op, _jit_compiled_convolution_op while saving (showing 5 of 245). These functions will not be directly callable after loading.\n"
          ]
        },
        {
          "output_type": "stream",
          "name": "stdout",
          "text": [
            "\b\b\b\b\b\b\b\b\b\b\b\b\b\b\b\b\b\b\b\b\b\b\b\b\b\b\b\b\b\b\b\b\b\b\b\b\b\b\b\b\b\b\b\b\b\b\b\b\b\b\b\b\b\b\b\b\b\b\b\b\b\b\b\b\b\b\b\b\b\b\b\b\b\b\b\b\b\b\b\r548/548 [==============================] - 180s 329ms/step - loss: 0.5305 - acc: 0.7221 - val_loss: 0.5540 - val_acc: 0.6982\n",
            "Epoch 18/50\n",
            "547/548 [============================>.] - ETA: 0s - loss: 0.5298 - acc: 0.7238"
          ]
        },
        {
          "output_type": "stream",
          "name": "stderr",
          "text": [
            "WARNING:absl:Function `_wrapped_model` contains input name(s) efficientnetv2-m_input with unsupported characters which will be renamed to efficientnetv2_m_input in the SavedModel.\n",
            "WARNING:absl:Found untraced functions such as _jit_compiled_convolution_op, _jit_compiled_convolution_op, _jit_compiled_convolution_op, _jit_compiled_convolution_op, _jit_compiled_convolution_op while saving (showing 5 of 245). These functions will not be directly callable after loading.\n"
          ]
        },
        {
          "output_type": "stream",
          "name": "stdout",
          "text": [
            "\b\b\b\b\b\b\b\b\b\b\b\b\b\b\b\b\b\b\b\b\b\b\b\b\b\b\b\b\b\b\b\b\b\b\b\b\b\b\b\b\b\b\b\b\b\b\b\b\b\b\b\b\b\b\b\b\b\b\b\b\b\b\b\b\b\b\b\b\b\b\b\b\b\b\b\b\b\b\b\r548/548 [==============================] - 179s 327ms/step - loss: 0.5300 - acc: 0.7237 - val_loss: 0.5545 - val_acc: 0.6961\n",
            "Epoch 19/50\n",
            "547/548 [============================>.] - ETA: 0s - loss: 0.5280 - acc: 0.7262"
          ]
        },
        {
          "output_type": "stream",
          "name": "stderr",
          "text": [
            "WARNING:absl:Function `_wrapped_model` contains input name(s) efficientnetv2-m_input with unsupported characters which will be renamed to efficientnetv2_m_input in the SavedModel.\n",
            "WARNING:absl:Found untraced functions such as _jit_compiled_convolution_op, _jit_compiled_convolution_op, _jit_compiled_convolution_op, _jit_compiled_convolution_op, _jit_compiled_convolution_op while saving (showing 5 of 245). These functions will not be directly callable after loading.\n"
          ]
        },
        {
          "output_type": "stream",
          "name": "stdout",
          "text": [
            "\b\b\b\b\b\b\b\b\b\b\b\b\b\b\b\b\b\b\b\b\b\b\b\b\b\b\b\b\b\b\b\b\b\b\b\b\b\b\b\b\b\b\b\b\b\b\b\b\b\b\b\b\b\b\b\b\b\b\b\b\b\b\b\b\b\b\b\b\b\b\b\b\b\b\b\b\b\b\b\r548/548 [==============================] - 179s 326ms/step - loss: 0.5279 - acc: 0.7263 - val_loss: 0.5589 - val_acc: 0.6961\n",
            "Epoch 20/50\n",
            "547/548 [============================>.] - ETA: 0s - loss: 0.5267 - acc: 0.7239"
          ]
        },
        {
          "output_type": "stream",
          "name": "stderr",
          "text": [
            "WARNING:absl:Function `_wrapped_model` contains input name(s) efficientnetv2-m_input with unsupported characters which will be renamed to efficientnetv2_m_input in the SavedModel.\n",
            "WARNING:absl:Found untraced functions such as _jit_compiled_convolution_op, _jit_compiled_convolution_op, _jit_compiled_convolution_op, _jit_compiled_convolution_op, _jit_compiled_convolution_op while saving (showing 5 of 245). These functions will not be directly callable after loading.\n"
          ]
        },
        {
          "output_type": "stream",
          "name": "stdout",
          "text": [
            "\b\b\b\b\b\b\b\b\b\b\b\b\b\b\b\b\b\b\b\b\b\b\b\b\b\b\b\b\b\b\b\b\b\b\b\b\b\b\b\b\b\b\b\b\b\b\b\b\b\b\b\b\b\b\b\b\b\b\b\b\b\b\b\b\b\b\b\b\b\b\b\b\b\b\b\b\b\b\b\r548/548 [==============================] - 213s 389ms/step - loss: 0.5266 - acc: 0.7239 - val_loss: 0.5521 - val_acc: 0.6951\n",
            "Epoch 21/50\n",
            "547/548 [============================>.] - ETA: 0s - loss: 0.5280 - acc: 0.7257"
          ]
        },
        {
          "output_type": "stream",
          "name": "stderr",
          "text": [
            "WARNING:absl:Function `_wrapped_model` contains input name(s) efficientnetv2-m_input with unsupported characters which will be renamed to efficientnetv2_m_input in the SavedModel.\n",
            "WARNING:absl:Found untraced functions such as _jit_compiled_convolution_op, _jit_compiled_convolution_op, _jit_compiled_convolution_op, _jit_compiled_convolution_op, _jit_compiled_convolution_op while saving (showing 5 of 245). These functions will not be directly callable after loading.\n"
          ]
        },
        {
          "output_type": "stream",
          "name": "stdout",
          "text": [
            "\b\b\b\b\b\b\b\b\b\b\b\b\b\b\b\b\b\b\b\b\b\b\b\b\b\b\b\b\b\b\b\b\b\b\b\b\b\b\b\b\b\b\b\b\b\b\b\b\b\b\b\b\b\b\b\b\b\b\b\b\b\b\b\b\b\b\b\b\b\b\b\b\b\b\b\b\b\b\b\r548/548 [==============================] - 178s 324ms/step - loss: 0.5277 - acc: 0.7259 - val_loss: 0.5527 - val_acc: 0.6920\n",
            "Epoch 22/50\n",
            "547/548 [============================>.] - ETA: 0s - loss: 0.5270 - acc: 0.7242"
          ]
        },
        {
          "output_type": "stream",
          "name": "stderr",
          "text": [
            "WARNING:absl:Function `_wrapped_model` contains input name(s) efficientnetv2-m_input with unsupported characters which will be renamed to efficientnetv2_m_input in the SavedModel.\n",
            "WARNING:absl:Found untraced functions such as _jit_compiled_convolution_op, _jit_compiled_convolution_op, _jit_compiled_convolution_op, _jit_compiled_convolution_op, _jit_compiled_convolution_op while saving (showing 5 of 245). These functions will not be directly callable after loading.\n"
          ]
        },
        {
          "output_type": "stream",
          "name": "stdout",
          "text": [
            "\b\b\b\b\b\b\b\b\b\b\b\b\b\b\b\b\b\b\b\b\b\b\b\b\b\b\b\b\b\b\b\b\b\b\b\b\b\b\b\b\b\b\b\b\b\b\b\b\b\b\b\b\b\b\b\b\b\b\b\b\b\b\b\b\b\b\b\b\b\b\b\b\b\b\b\b\b\b\b\r548/548 [==============================] - 175s 320ms/step - loss: 0.5269 - acc: 0.7242 - val_loss: 0.5542 - val_acc: 0.6951\n",
            "Epoch 23/50\n",
            "547/548 [============================>.] - ETA: 0s - loss: 0.5258 - acc: 0.7249"
          ]
        },
        {
          "output_type": "stream",
          "name": "stderr",
          "text": [
            "WARNING:absl:Function `_wrapped_model` contains input name(s) efficientnetv2-m_input with unsupported characters which will be renamed to efficientnetv2_m_input in the SavedModel.\n",
            "WARNING:absl:Found untraced functions such as _jit_compiled_convolution_op, _jit_compiled_convolution_op, _jit_compiled_convolution_op, _jit_compiled_convolution_op, _jit_compiled_convolution_op while saving (showing 5 of 245). These functions will not be directly callable after loading.\n"
          ]
        },
        {
          "output_type": "stream",
          "name": "stdout",
          "text": [
            "\b\b\b\b\b\b\b\b\b\b\b\b\b\b\b\b\b\b\b\b\b\b\b\b\b\b\b\b\b\b\b\b\b\b\b\b\b\b\b\b\b\b\b\b\b\b\b\b\b\b\b\b\b\b\b\b\b\b\b\b\b\b\b\b\b\b\b\b\b\b\b\b\b\b\b\b\b\b\b\r548/548 [==============================] - 175s 320ms/step - loss: 0.5257 - acc: 0.7251 - val_loss: 0.5480 - val_acc: 0.7023\n",
            "Epoch 24/50\n",
            "547/548 [============================>.] - ETA: 0s - loss: 0.5256 - acc: 0.7268"
          ]
        },
        {
          "output_type": "stream",
          "name": "stderr",
          "text": [
            "WARNING:absl:Function `_wrapped_model` contains input name(s) efficientnetv2-m_input with unsupported characters which will be renamed to efficientnetv2_m_input in the SavedModel.\n",
            "WARNING:absl:Found untraced functions such as _jit_compiled_convolution_op, _jit_compiled_convolution_op, _jit_compiled_convolution_op, _jit_compiled_convolution_op, _jit_compiled_convolution_op while saving (showing 5 of 245). These functions will not be directly callable after loading.\n"
          ]
        },
        {
          "output_type": "stream",
          "name": "stdout",
          "text": [
            "\b\b\b\b\b\b\b\b\b\b\b\b\b\b\b\b\b\b\b\b\b\b\b\b\b\b\b\b\b\b\b\b\b\b\b\b\b\b\b\b\b\b\b\b\b\b\b\b\b\b\b\b\b\b\b\b\b\b\b\b\b\b\b\b\b\b\b\b\b\b\b\b\b\b\b\b\b\b\b\r548/548 [==============================] - 211s 386ms/step - loss: 0.5255 - acc: 0.7269 - val_loss: 0.5581 - val_acc: 0.6982\n",
            "Epoch 25/50\n",
            "547/548 [============================>.] - ETA: 0s - loss: 0.5230 - acc: 0.7294"
          ]
        },
        {
          "output_type": "stream",
          "name": "stderr",
          "text": [
            "WARNING:absl:Function `_wrapped_model` contains input name(s) efficientnetv2-m_input with unsupported characters which will be renamed to efficientnetv2_m_input in the SavedModel.\n",
            "WARNING:absl:Found untraced functions such as _jit_compiled_convolution_op, _jit_compiled_convolution_op, _jit_compiled_convolution_op, _jit_compiled_convolution_op, _jit_compiled_convolution_op while saving (showing 5 of 245). These functions will not be directly callable after loading.\n"
          ]
        },
        {
          "output_type": "stream",
          "name": "stdout",
          "text": [
            "\b\b\b\b\b\b\b\b\b\b\b\b\b\b\b\b\b\b\b\b\b\b\b\b\b\b\b\b\b\b\b\b\b\b\b\b\b\b\b\b\b\b\b\b\b\b\b\b\b\b\b\b\b\b\b\b\b\b\b\b\b\b\b\b\b\b\b\b\b\b\b\b\b\b\b\b\b\b\b\r548/548 [==============================] - 178s 326ms/step - loss: 0.5231 - acc: 0.7292 - val_loss: 0.5487 - val_acc: 0.7002\n",
            "Epoch 26/50\n",
            "547/548 [============================>.] - ETA: 0s - loss: 0.5233 - acc: 0.7287"
          ]
        },
        {
          "output_type": "stream",
          "name": "stderr",
          "text": [
            "WARNING:absl:Function `_wrapped_model` contains input name(s) efficientnetv2-m_input with unsupported characters which will be renamed to efficientnetv2_m_input in the SavedModel.\n",
            "WARNING:absl:Found untraced functions such as _jit_compiled_convolution_op, _jit_compiled_convolution_op, _jit_compiled_convolution_op, _jit_compiled_convolution_op, _jit_compiled_convolution_op while saving (showing 5 of 245). These functions will not be directly callable after loading.\n"
          ]
        },
        {
          "output_type": "stream",
          "name": "stdout",
          "text": [
            "\b\b\b\b\b\b\b\b\b\b\b\b\b\b\b\b\b\b\b\b\b\b\b\b\b\b\b\b\b\b\b\b\b\b\b\b\b\b\b\b\b\b\b\b\b\b\b\b\b\b\b\b\b\b\b\b\b\b\b\b\b\b\b\b\b\b\b\b\b\b\b\b\b\b\b\b\b\b\b\r548/548 [==============================] - 178s 325ms/step - loss: 0.5232 - acc: 0.7288 - val_loss: 0.5461 - val_acc: 0.7002\n",
            "Epoch 27/50\n",
            "547/548 [============================>.] - ETA: 0s - loss: 0.5225 - acc: 0.7304"
          ]
        },
        {
          "output_type": "stream",
          "name": "stderr",
          "text": [
            "WARNING:absl:Function `_wrapped_model` contains input name(s) efficientnetv2-m_input with unsupported characters which will be renamed to efficientnetv2_m_input in the SavedModel.\n",
            "WARNING:absl:Found untraced functions such as _jit_compiled_convolution_op, _jit_compiled_convolution_op, _jit_compiled_convolution_op, _jit_compiled_convolution_op, _jit_compiled_convolution_op while saving (showing 5 of 245). These functions will not be directly callable after loading.\n"
          ]
        },
        {
          "output_type": "stream",
          "name": "stdout",
          "text": [
            "\b\b\b\b\b\b\b\b\b\b\b\b\b\b\b\b\b\b\b\b\b\b\b\b\b\b\b\b\b\b\b\b\b\b\b\b\b\b\b\b\b\b\b\b\b\b\b\b\b\b\b\b\b\b\b\b\b\b\b\b\b\b\b\b\b\b\b\b\b\b\b\b\b\b\b\b\b\b\b\r548/548 [==============================] - 175s 319ms/step - loss: 0.5226 - acc: 0.7303 - val_loss: 0.5456 - val_acc: 0.7074\n",
            "Epoch 28/50\n",
            "547/548 [============================>.] - ETA: 0s - loss: 0.5240 - acc: 0.7293"
          ]
        },
        {
          "output_type": "stream",
          "name": "stderr",
          "text": [
            "WARNING:absl:Function `_wrapped_model` contains input name(s) efficientnetv2-m_input with unsupported characters which will be renamed to efficientnetv2_m_input in the SavedModel.\n",
            "WARNING:absl:Found untraced functions such as _jit_compiled_convolution_op, _jit_compiled_convolution_op, _jit_compiled_convolution_op, _jit_compiled_convolution_op, _jit_compiled_convolution_op while saving (showing 5 of 245). These functions will not be directly callable after loading.\n"
          ]
        },
        {
          "output_type": "stream",
          "name": "stdout",
          "text": [
            "\b\b\b\b\b\b\b\b\b\b\b\b\b\b\b\b\b\b\b\b\b\b\b\b\b\b\b\b\b\b\b\b\b\b\b\b\b\b\b\b\b\b\b\b\b\b\b\b\b\b\b\b\b\b\b\b\b\b\b\b\b\b\b\b\b\b\b\b\b\b\b\b\b\b\b\b\b\b\b\r548/548 [==============================] - 177s 323ms/step - loss: 0.5240 - acc: 0.7293 - val_loss: 0.5478 - val_acc: 0.7002\n",
            "Epoch 29/50\n",
            "547/548 [============================>.] - ETA: 0s - loss: 0.5244 - acc: 0.7274"
          ]
        },
        {
          "output_type": "stream",
          "name": "stderr",
          "text": [
            "WARNING:absl:Function `_wrapped_model` contains input name(s) efficientnetv2-m_input with unsupported characters which will be renamed to efficientnetv2_m_input in the SavedModel.\n",
            "WARNING:absl:Found untraced functions such as _jit_compiled_convolution_op, _jit_compiled_convolution_op, _jit_compiled_convolution_op, _jit_compiled_convolution_op, _jit_compiled_convolution_op while saving (showing 5 of 245). These functions will not be directly callable after loading.\n"
          ]
        },
        {
          "output_type": "stream",
          "name": "stdout",
          "text": [
            "\b\b\b\b\b\b\b\b\b\b\b\b\b\b\b\b\b\b\b\b\b\b\b\b\b\b\b\b\b\b\b\b\b\b\b\b\b\b\b\b\b\b\b\b\b\b\b\b\b\b\b\b\b\b\b\b\b\b\b\b\b\b\b\b\b\b\b\b\b\b\b\b\b\b\b\b\b\b\b\r548/548 [==============================] - 214s 390ms/step - loss: 0.5243 - acc: 0.7275 - val_loss: 0.5498 - val_acc: 0.6982\n",
            "Epoch 30/50\n",
            "547/548 [============================>.] - ETA: 0s - loss: 0.5218 - acc: 0.7282"
          ]
        },
        {
          "output_type": "stream",
          "name": "stderr",
          "text": [
            "WARNING:absl:Function `_wrapped_model` contains input name(s) efficientnetv2-m_input with unsupported characters which will be renamed to efficientnetv2_m_input in the SavedModel.\n",
            "WARNING:absl:Found untraced functions such as _jit_compiled_convolution_op, _jit_compiled_convolution_op, _jit_compiled_convolution_op, _jit_compiled_convolution_op, _jit_compiled_convolution_op while saving (showing 5 of 245). These functions will not be directly callable after loading.\n"
          ]
        },
        {
          "output_type": "stream",
          "name": "stdout",
          "text": [
            "\b\b\b\b\b\b\b\b\b\b\b\b\b\b\b\b\b\b\b\b\b\b\b\b\b\b\b\b\b\b\b\b\b\b\b\b\b\b\b\b\b\b\b\b\b\b\b\b\b\b\b\b\b\b\b\b\b\b\b\b\b\b\b\b\b\b\b\b\b\b\b\b\b\b\b\b\b\b\b\r548/548 [==============================] - 177s 324ms/step - loss: 0.5217 - acc: 0.7284 - val_loss: 0.5498 - val_acc: 0.6992\n",
            "Epoch 31/50\n",
            "547/548 [============================>.] - ETA: 0s - loss: 0.5226 - acc: 0.7273"
          ]
        },
        {
          "output_type": "stream",
          "name": "stderr",
          "text": [
            "WARNING:absl:Function `_wrapped_model` contains input name(s) efficientnetv2-m_input with unsupported characters which will be renamed to efficientnetv2_m_input in the SavedModel.\n",
            "WARNING:absl:Found untraced functions such as _jit_compiled_convolution_op, _jit_compiled_convolution_op, _jit_compiled_convolution_op, _jit_compiled_convolution_op, _jit_compiled_convolution_op while saving (showing 5 of 245). These functions will not be directly callable after loading.\n"
          ]
        },
        {
          "output_type": "stream",
          "name": "stdout",
          "text": [
            "\b\b\b\b\b\b\b\b\b\b\b\b\b\b\b\b\b\b\b\b\b\b\b\b\b\b\b\b\b\b\b\b\b\b\b\b\b\b\b\b\b\b\b\b\b\b\b\b\b\b\b\b\b\b\b\b\b\b\b\b\b\b\b\b\b\b\b\b\b\b\b\b\b\b\b\b\b\b\b\r548/548 [==============================] - 176s 322ms/step - loss: 0.5227 - acc: 0.7273 - val_loss: 0.5509 - val_acc: 0.6982\n",
            "Epoch 32/50\n",
            "547/548 [============================>.] - ETA: 0s - loss: 0.5225 - acc: 0.7308"
          ]
        },
        {
          "output_type": "stream",
          "name": "stderr",
          "text": [
            "WARNING:absl:Function `_wrapped_model` contains input name(s) efficientnetv2-m_input with unsupported characters which will be renamed to efficientnetv2_m_input in the SavedModel.\n",
            "WARNING:absl:Found untraced functions such as _jit_compiled_convolution_op, _jit_compiled_convolution_op, _jit_compiled_convolution_op, _jit_compiled_convolution_op, _jit_compiled_convolution_op while saving (showing 5 of 245). These functions will not be directly callable after loading.\n"
          ]
        },
        {
          "output_type": "stream",
          "name": "stdout",
          "text": [
            "\b\b\b\b\b\b\b\b\b\b\b\b\b\b\b\b\b\b\b\b\b\b\b\b\b\b\b\b\b\b\b\b\b\b\b\b\b\b\b\b\b\b\b\b\b\b\b\b\b\b\b\b\b\b\b\b\b\b\b\b\b\b\b\b\b\b\b\b\b\b\b\b\b\b\b\b\b\b\b\r548/548 [==============================] - 175s 320ms/step - loss: 0.5225 - acc: 0.7308 - val_loss: 0.5456 - val_acc: 0.7064\n"
          ]
        }
      ]
    },
    {
      "cell_type": "code",
      "source": [
        "plt.figure(figsize=(10,10))\n",
        "\n",
        "ax1 = plt.subplot(2,1,1)\n",
        "ax1.plot(res.history['loss'], label = 'Train')\n",
        "ax1.plot(res.history['val_loss'], label = 'Test')\n",
        "plt.title('EfficientNetV2M Loss (BCE), SWIR2 Images')\n",
        "plt.xlabel('Epoch')\n",
        "plt.legend();\n",
        "\n",
        "ax2 = plt.subplot(2,1,2)\n",
        "ax2.plot(res.history['acc'], label = 'Train')\n",
        "ax2.plot(res.history['val_acc'], label = 'Test')\n",
        "plt.title('EfficientNetV2M Accuracy, SWIR2 Images')\n",
        "plt.xlabel('Epoch')\n",
        "plt.legend();\n",
        "plt.tight_layout();\n",
        "plt.savefig('../presentation_images/effnet_SWIR2')"
      ],
      "metadata": {
        "colab": {
          "base_uri": "https://localhost:8080/",
          "height": 729
        },
        "outputId": "d918774c-2fc9-495e-9082-c8557ed1752d",
        "id": "-3-txeP4PhL2"
      },
      "execution_count": null,
      "outputs": [
        {
          "output_type": "display_data",
          "data": {
            "text/plain": [
              "<Figure size 720x720 with 2 Axes>"
            ],
            "image/png": "[encoded data removed]"
          },
          "metadata": {
            "needs_background": "light"
          }
        }
      ]
    },
    {
      "cell_type": "markdown",
      "source": [
        "This model performed somewhat poorly as well.\n",
        "\n",
        "#### Test that the model saved correctly\n",
        "\n",
        "Before proceeding, let's make sure we can load the saved model and use it for predictions in the future:"
      ],
      "metadata": {
        "id": "dt59nayVPhL2"
      }
    },
    {
      "cell_type": "code",
      "source": [
        "SWIR2_model = load_model(f\"{model_save_path}/SWIR2_classification_effnet_1\")"
      ],
      "metadata": {
        "id": "I3A3WejWPhL2"
      },
      "execution_count": null,
      "outputs": []
    },
    {
      "cell_type": "code",
      "source": [
        "SWIR2_model.evaluate(SWIR2_test_ds)"
      ],
      "metadata": {
        "colab": {
          "base_uri": "https://localhost:8080/"
        },
        "outputId": "5ed2f776-e63f-4911-bea4-8385eb47608c",
        "id": "8YBKQSNyPhL3"
      },
      "execution_count": null,
      "outputs": [
        {
          "output_type": "stream",
          "name": "stdout",
          "text": [
            "31/31 [==============================] - 7s 64ms/step - loss: 0.5456 - acc: 0.7064\n"
          ]
        },
        {
          "output_type": "execute_result",
          "data": {
            "text/plain": [
              "[0.5456404089927673, 0.7063655257225037]"
            ]
          },
          "metadata": {},
          "execution_count": 278
        }
      ]
    },
    {
      "cell_type": "markdown",
      "source": [
        "These are the same loss and accuracy numbers that we got before, so everything is working!"
      ],
      "metadata": {
        "id": "pMsx46iKPhL3"
      }
    },
    {
      "cell_type": "markdown",
      "source": [
        "## Using a pre-trained network on TEMP1 data"
      ],
      "metadata": {
        "id": "QRG7E0yrWtiX"
      }
    },
    {
      "cell_type": "code",
      "source": [
        "effnet_temp = EfficientNetV2M(\n",
        "    include_top=False,\n",
        "    weights=\"imagenet\",\n",
        "    input_shape=(255,255,3),\n",
        "    classes=2,\n",
        "    classifier_activation=\"softmax\",\n",
        "    include_preprocessing=True,\n",
        ")"
      ],
      "metadata": {
        "id": "N2RX6jNpWtie"
      },
      "execution_count": null,
      "outputs": []
    },
    {
      "cell_type": "code",
      "source": [
        "effnet_temp.trainable = False"
      ],
      "metadata": {
        "id": "EM4frltoWtie"
      },
      "execution_count": null,
      "outputs": []
    },
    {
      "cell_type": "code",
      "source": [
        "model = Sequential()\n",
        "\n",
        "model.add(effnet_temp)\n",
        "model.add(GlobalAveragePooling2D())\n",
        "\n",
        "#Just use a single output layer\n",
        "model.add(Dense(1, activation='sigmoid'))\n",
        "\n",
        "\n",
        "#Compile the model\n",
        "model.compile(optimizer='adam',\n",
        "              loss='bce',\n",
        "              metrics=['acc'])"
      ],
      "metadata": {
        "id": "OL73Z1S7Wtie"
      },
      "execution_count": null,
      "outputs": []
    },
    {
      "cell_type": "code",
      "source": [
        "model_name = 'TEMP1_classification_effnet_1'\n",
        "model_save_path = '../models'"
      ],
      "metadata": {
        "id": "MFTfVpiAWtie"
      },
      "execution_count": null,
      "outputs": []
    },
    {
      "cell_type": "code",
      "source": [
        "#Add a callback to save the model each epoch\n",
        "checkpoint = ModelCheckpoint(f\"{model_save_path}/{model_name}\", save_freq='epoch', verbose=0)"
      ],
      "metadata": {
        "id": "7iFbzuQaWtie"
      },
      "execution_count": null,
      "outputs": []
    },
    {
      "cell_type": "code",
      "source": [
        "#Add early stopping\n",
        "es = EarlyStopping( patience = 5)"
      ],
      "metadata": {
        "id": "DXNHqV7eWtie"
      },
      "execution_count": null,
      "outputs": []
    },
    {
      "cell_type": "code",
      "source": [
        "res = model.fit(TEMP1_train_ds,\n",
        "                epochs = 50,\n",
        "                validation_data = TEMP1_test_ds,\n",
        "                verbose = 1,\n",
        "                callbacks = [es, checkpoint]\n",
        "                )"
      ],
      "metadata": {
        "colab": {
          "base_uri": "https://localhost:8080/"
        },
        "outputId": "26d9afe1-7605-4df5-d677-5d40f79f0bac",
        "id": "wrXI6cOCWtie"
      },
      "execution_count": null,
      "outputs": [
        {
          "output_type": "stream",
          "name": "stdout",
          "text": [
            "Epoch 1/50\n",
            "547/548 [============================>.] - ETA: 0s - loss: 0.6044 - acc: 0.6806"
          ]
        },
        {
          "output_type": "stream",
          "name": "stderr",
          "text": [
            "WARNING:absl:Function `_wrapped_model` contains input name(s) efficientnetv2-m_input with unsupported characters which will be renamed to efficientnetv2_m_input in the SavedModel.\n",
            "WARNING:absl:Found untraced functions such as _jit_compiled_convolution_op, _jit_compiled_convolution_op, _jit_compiled_convolution_op, _jit_compiled_convolution_op, _jit_compiled_convolution_op while saving (showing 5 of 245). These functions will not be directly callable after loading.\n"
          ]
        },
        {
          "output_type": "stream",
          "name": "stdout",
          "text": [
            "\b\b\b\b\b\b\b\b\b\b\b\b\b\b\b\b\b\b\b\b\b\b\b\b\b\b\b\b\b\b\b\b\b\b\b\b\b\b\b\b\b\b\b\b\b\b\b\b\b\b\b\b\b\b\b\b\b\b\b\b\b\b\b\b\b\b\b\b\b\b\b\b\b\b\b\b\b\b\b\r548/548 [==============================] - 514s 897ms/step - loss: 0.6045 - acc: 0.6806 - val_loss: 0.5903 - val_acc: 0.6817\n",
            "Epoch 2/50\n",
            "547/548 [============================>.] - ETA: 0s - loss: 0.5913 - acc: 0.6899"
          ]
        },
        {
          "output_type": "stream",
          "name": "stderr",
          "text": [
            "WARNING:absl:Function `_wrapped_model` contains input name(s) efficientnetv2-m_input with unsupported characters which will be renamed to efficientnetv2_m_input in the SavedModel.\n",
            "WARNING:absl:Found untraced functions such as _jit_compiled_convolution_op, _jit_compiled_convolution_op, _jit_compiled_convolution_op, _jit_compiled_convolution_op, _jit_compiled_convolution_op while saving (showing 5 of 245). These functions will not be directly callable after loading.\n"
          ]
        },
        {
          "output_type": "stream",
          "name": "stdout",
          "text": [
            "\b\b\b\b\b\b\b\b\b\b\b\b\b\b\b\b\b\b\b\b\b\b\b\b\b\b\b\b\b\b\b\b\b\b\b\b\b\b\b\b\b\b\b\b\b\b\b\b\b\b\b\b\b\b\b\b\b\b\b\b\b\b\b\b\b\b\b\b\b\b\b\b\b\b\b\b\b\b\b\r548/548 [==============================] - 189s 346ms/step - loss: 0.5913 - acc: 0.6899 - val_loss: 0.5857 - val_acc: 0.6858\n",
            "Epoch 3/50\n",
            "547/548 [============================>.] - ETA: 0s - loss: 0.5838 - acc: 0.6917"
          ]
        },
        {
          "output_type": "stream",
          "name": "stderr",
          "text": [
            "WARNING:absl:Function `_wrapped_model` contains input name(s) efficientnetv2-m_input with unsupported characters which will be renamed to efficientnetv2_m_input in the SavedModel.\n",
            "WARNING:absl:Found untraced functions such as _jit_compiled_convolution_op, _jit_compiled_convolution_op, _jit_compiled_convolution_op, _jit_compiled_convolution_op, _jit_compiled_convolution_op while saving (showing 5 of 245). These functions will not be directly callable after loading.\n"
          ]
        },
        {
          "output_type": "stream",
          "name": "stdout",
          "text": [
            "\b\b\b\b\b\b\b\b\b\b\b\b\b\b\b\b\b\b\b\b\b\b\b\b\b\b\b\b\b\b\b\b\b\b\b\b\b\b\b\b\b\b\b\b\b\b\b\b\b\b\b\b\b\b\b\b\b\b\b\b\b\b\b\b\b\b\b\b\b\b\b\b\b\b\b\b\b\b\b\r548/548 [==============================] - 176s 321ms/step - loss: 0.5837 - acc: 0.6916 - val_loss: 0.5758 - val_acc: 0.6940\n",
            "Epoch 4/50\n",
            "547/548 [============================>.] - ETA: 0s - loss: 0.5829 - acc: 0.6947"
          ]
        },
        {
          "output_type": "stream",
          "name": "stderr",
          "text": [
            "WARNING:absl:Function `_wrapped_model` contains input name(s) efficientnetv2-m_input with unsupported characters which will be renamed to efficientnetv2_m_input in the SavedModel.\n",
            "WARNING:absl:Found untraced functions such as _jit_compiled_convolution_op, _jit_compiled_convolution_op, _jit_compiled_convolution_op, _jit_compiled_convolution_op, _jit_compiled_convolution_op while saving (showing 5 of 245). These functions will not be directly callable after loading.\n"
          ]
        },
        {
          "output_type": "stream",
          "name": "stdout",
          "text": [
            "\b\b\b\b\b\b\b\b\b\b\b\b\b\b\b\b\b\b\b\b\b\b\b\b\b\b\b\b\b\b\b\b\b\b\b\b\b\b\b\b\b\b\b\b\b\b\b\b\b\b\b\b\b\b\b\b\b\b\b\b\b\b\b\b\b\b\b\b\b\b\b\b\b\b\b\b\b\b\b\r548/548 [==============================] - 174s 317ms/step - loss: 0.5828 - acc: 0.6948 - val_loss: 0.5816 - val_acc: 0.6889\n",
            "Epoch 5/50\n",
            "547/548 [============================>.] - ETA: 0s - loss: 0.5805 - acc: 0.6952"
          ]
        },
        {
          "output_type": "stream",
          "name": "stderr",
          "text": [
            "WARNING:absl:Function `_wrapped_model` contains input name(s) efficientnetv2-m_input with unsupported characters which will be renamed to efficientnetv2_m_input in the SavedModel.\n",
            "WARNING:absl:Found untraced functions such as _jit_compiled_convolution_op, _jit_compiled_convolution_op, _jit_compiled_convolution_op, _jit_compiled_convolution_op, _jit_compiled_convolution_op while saving (showing 5 of 245). These functions will not be directly callable after loading.\n"
          ]
        },
        {
          "output_type": "stream",
          "name": "stdout",
          "text": [
            "\b\b\b\b\b\b\b\b\b\b\b\b\b\b\b\b\b\b\b\b\b\b\b\b\b\b\b\b\b\b\b\b\b\b\b\b\b\b\b\b\b\b\b\b\b\b\b\b\b\b\b\b\b\b\b\b\b\b\b\b\b\b\b\b\b\b\b\b\b\b\b\b\b\b\b\b\b\b\b\r548/548 [==============================] - 192s 351ms/step - loss: 0.5805 - acc: 0.6953 - val_loss: 0.5724 - val_acc: 0.6982\n",
            "Epoch 6/50\n",
            "547/548 [============================>.] - ETA: 0s - loss: 0.5779 - acc: 0.6954"
          ]
        },
        {
          "output_type": "stream",
          "name": "stderr",
          "text": [
            "WARNING:absl:Function `_wrapped_model` contains input name(s) efficientnetv2-m_input with unsupported characters which will be renamed to efficientnetv2_m_input in the SavedModel.\n",
            "WARNING:absl:Found untraced functions such as _jit_compiled_convolution_op, _jit_compiled_convolution_op, _jit_compiled_convolution_op, _jit_compiled_convolution_op, _jit_compiled_convolution_op while saving (showing 5 of 245). These functions will not be directly callable after loading.\n"
          ]
        },
        {
          "output_type": "stream",
          "name": "stdout",
          "text": [
            "\b\b\b\b\b\b\b\b\b\b\b\b\b\b\b\b\b\b\b\b\b\b\b\b\b\b\b\b\b\b\b\b\b\b\b\b\b\b\b\b\b\b\b\b\b\b\b\b\b\b\b\b\b\b\b\b\b\b\b\b\b\b\b\b\b\b\b\b\b\b\b\b\b\b\b\b\b\b\b\r548/548 [==============================] - 173s 317ms/step - loss: 0.5780 - acc: 0.6953 - val_loss: 0.5727 - val_acc: 0.6920\n",
            "Epoch 7/50\n",
            "547/548 [============================>.] - ETA: 0s - loss: 0.5771 - acc: 0.6962"
          ]
        },
        {
          "output_type": "stream",
          "name": "stderr",
          "text": [
            "WARNING:absl:Function `_wrapped_model` contains input name(s) efficientnetv2-m_input with unsupported characters which will be renamed to efficientnetv2_m_input in the SavedModel.\n",
            "WARNING:absl:Found untraced functions such as _jit_compiled_convolution_op, _jit_compiled_convolution_op, _jit_compiled_convolution_op, _jit_compiled_convolution_op, _jit_compiled_convolution_op while saving (showing 5 of 245). These functions will not be directly callable after loading.\n"
          ]
        },
        {
          "output_type": "stream",
          "name": "stdout",
          "text": [
            "\b\b\b\b\b\b\b\b\b\b\b\b\b\b\b\b\b\b\b\b\b\b\b\b\b\b\b\b\b\b\b\b\b\b\b\b\b\b\b\b\b\b\b\b\b\b\b\b\b\b\b\b\b\b\b\b\b\b\b\b\b\b\b\b\b\b\b\b\b\b\b\b\b\b\b\b\b\b\b\r548/548 [==============================] - 193s 352ms/step - loss: 0.5772 - acc: 0.6961 - val_loss: 0.5717 - val_acc: 0.6961\n",
            "Epoch 8/50\n",
            "547/548 [============================>.] - ETA: 0s - loss: 0.5762 - acc: 0.6986"
          ]
        },
        {
          "output_type": "stream",
          "name": "stderr",
          "text": [
            "WARNING:absl:Function `_wrapped_model` contains input name(s) efficientnetv2-m_input with unsupported characters which will be renamed to efficientnetv2_m_input in the SavedModel.\n",
            "WARNING:absl:Found untraced functions such as _jit_compiled_convolution_op, _jit_compiled_convolution_op, _jit_compiled_convolution_op, _jit_compiled_convolution_op, _jit_compiled_convolution_op while saving (showing 5 of 245). These functions will not be directly callable after loading.\n"
          ]
        },
        {
          "output_type": "stream",
          "name": "stdout",
          "text": [
            "\b\b\b\b\b\b\b\b\b\b\b\b\b\b\b\b\b\b\b\b\b\b\b\b\b\b\b\b\b\b\b\b\b\b\b\b\b\b\b\b\b\b\b\b\b\b\b\b\b\b\b\b\b\b\b\b\b\b\b\b\b\b\b\b\b\b\b\b\b\b\b\b\b\b\b\b\b\b\b\r548/548 [==============================] - 174s 317ms/step - loss: 0.5762 - acc: 0.6986 - val_loss: 0.5715 - val_acc: 0.6951\n",
            "Epoch 9/50\n",
            "547/548 [============================>.] - ETA: 0s - loss: 0.5724 - acc: 0.7016"
          ]
        },
        {
          "output_type": "stream",
          "name": "stderr",
          "text": [
            "WARNING:absl:Function `_wrapped_model` contains input name(s) efficientnetv2-m_input with unsupported characters which will be renamed to efficientnetv2_m_input in the SavedModel.\n",
            "WARNING:absl:Found untraced functions such as _jit_compiled_convolution_op, _jit_compiled_convolution_op, _jit_compiled_convolution_op, _jit_compiled_convolution_op, _jit_compiled_convolution_op while saving (showing 5 of 245). These functions will not be directly callable after loading.\n"
          ]
        },
        {
          "output_type": "stream",
          "name": "stdout",
          "text": [
            "\b\b\b\b\b\b\b\b\b\b\b\b\b\b\b\b\b\b\b\b\b\b\b\b\b\b\b\b\b\b\b\b\b\b\b\b\b\b\b\b\b\b\b\b\b\b\b\b\b\b\b\b\b\b\b\b\b\b\b\b\b\b\b\b\b\b\b\b\b\b\b\b\b\b\b\b\b\b\b\r548/548 [==============================] - 194s 355ms/step - loss: 0.5725 - acc: 0.7016 - val_loss: 0.5703 - val_acc: 0.6951\n",
            "Epoch 10/50\n",
            "547/548 [============================>.] - ETA: 0s - loss: 0.5728 - acc: 0.7004"
          ]
        },
        {
          "output_type": "stream",
          "name": "stderr",
          "text": [
            "WARNING:absl:Function `_wrapped_model` contains input name(s) efficientnetv2-m_input with unsupported characters which will be renamed to efficientnetv2_m_input in the SavedModel.\n",
            "WARNING:absl:Found untraced functions such as _jit_compiled_convolution_op, _jit_compiled_convolution_op, _jit_compiled_convolution_op, _jit_compiled_convolution_op, _jit_compiled_convolution_op while saving (showing 5 of 245). These functions will not be directly callable after loading.\n"
          ]
        },
        {
          "output_type": "stream",
          "name": "stdout",
          "text": [
            "\b\b\b\b\b\b\b\b\b\b\b\b\b\b\b\b\b\b\b\b\b\b\b\b\b\b\b\b\b\b\b\b\b\b\b\b\b\b\b\b\b\b\b\b\b\b\b\b\b\b\b\b\b\b\b\b\b\b\b\b\b\b\b\b\b\b\b\b\b\b\b\b\b\b\b\b\b\b\b\r548/548 [==============================] - 176s 322ms/step - loss: 0.5728 - acc: 0.7004 - val_loss: 0.5695 - val_acc: 0.6951\n",
            "Epoch 11/50\n",
            "547/548 [============================>.] - ETA: 0s - loss: 0.5714 - acc: 0.7012"
          ]
        },
        {
          "output_type": "stream",
          "name": "stderr",
          "text": [
            "WARNING:absl:Function `_wrapped_model` contains input name(s) efficientnetv2-m_input with unsupported characters which will be renamed to efficientnetv2_m_input in the SavedModel.\n",
            "WARNING:absl:Found untraced functions such as _jit_compiled_convolution_op, _jit_compiled_convolution_op, _jit_compiled_convolution_op, _jit_compiled_convolution_op, _jit_compiled_convolution_op while saving (showing 5 of 245). These functions will not be directly callable after loading.\n"
          ]
        },
        {
          "output_type": "stream",
          "name": "stdout",
          "text": [
            "\b\b\b\b\b\b\b\b\b\b\b\b\b\b\b\b\b\b\b\b\b\b\b\b\b\b\b\b\b\b\b\b\b\b\b\b\b\b\b\b\b\b\b\b\b\b\b\b\b\b\b\b\b\b\b\b\b\b\b\b\b\b\b\b\b\b\b\b\b\b\b\b\b\b\b\b\b\b\b\r548/548 [==============================] - 195s 356ms/step - loss: 0.5714 - acc: 0.7011 - val_loss: 0.5791 - val_acc: 0.6899\n",
            "Epoch 12/50\n",
            "547/548 [============================>.] - ETA: 0s - loss: 0.5692 - acc: 0.7026"
          ]
        },
        {
          "output_type": "stream",
          "name": "stderr",
          "text": [
            "WARNING:absl:Function `_wrapped_model` contains input name(s) efficientnetv2-m_input with unsupported characters which will be renamed to efficientnetv2_m_input in the SavedModel.\n",
            "WARNING:absl:Found untraced functions such as _jit_compiled_convolution_op, _jit_compiled_convolution_op, _jit_compiled_convolution_op, _jit_compiled_convolution_op, _jit_compiled_convolution_op while saving (showing 5 of 245). These functions will not be directly callable after loading.\n"
          ]
        },
        {
          "output_type": "stream",
          "name": "stdout",
          "text": [
            "\b\b\b\b\b\b\b\b\b\b\b\b\b\b\b\b\b\b\b\b\b\b\b\b\b\b\b\b\b\b\b\b\b\b\b\b\b\b\b\b\b\b\b\b\b\b\b\b\b\b\b\b\b\b\b\b\b\b\b\b\b\b\b\b\b\b\b\b\b\b\b\b\b\b\b\b\b\b\b\r548/548 [==============================] - 177s 323ms/step - loss: 0.5692 - acc: 0.7026 - val_loss: 0.5662 - val_acc: 0.6940\n",
            "Epoch 13/50\n",
            "547/548 [============================>.] - ETA: 0s - loss: 0.5713 - acc: 0.7012"
          ]
        },
        {
          "output_type": "stream",
          "name": "stderr",
          "text": [
            "WARNING:absl:Function `_wrapped_model` contains input name(s) efficientnetv2-m_input with unsupported characters which will be renamed to efficientnetv2_m_input in the SavedModel.\n",
            "WARNING:absl:Found untraced functions such as _jit_compiled_convolution_op, _jit_compiled_convolution_op, _jit_compiled_convolution_op, _jit_compiled_convolution_op, _jit_compiled_convolution_op while saving (showing 5 of 245). These functions will not be directly callable after loading.\n"
          ]
        },
        {
          "output_type": "stream",
          "name": "stdout",
          "text": [
            "\b\b\b\b\b\b\b\b\b\b\b\b\b\b\b\b\b\b\b\b\b\b\b\b\b\b\b\b\b\b\b\b\b\b\b\b\b\b\b\b\b\b\b\b\b\b\b\b\b\b\b\b\b\b\b\b\b\b\b\b\b\b\b\b\b\b\b\b\b\b\b\b\b\b\b\b\b\b\b\r548/548 [==============================] - 176s 322ms/step - loss: 0.5712 - acc: 0.7013 - val_loss: 0.5727 - val_acc: 0.6889\n",
            "Epoch 14/50\n",
            "547/548 [============================>.] - ETA: 0s - loss: 0.5688 - acc: 0.7018"
          ]
        },
        {
          "output_type": "stream",
          "name": "stderr",
          "text": [
            "WARNING:absl:Function `_wrapped_model` contains input name(s) efficientnetv2-m_input with unsupported characters which will be renamed to efficientnetv2_m_input in the SavedModel.\n",
            "WARNING:absl:Found untraced functions such as _jit_compiled_convolution_op, _jit_compiled_convolution_op, _jit_compiled_convolution_op, _jit_compiled_convolution_op, _jit_compiled_convolution_op while saving (showing 5 of 245). These functions will not be directly callable after loading.\n"
          ]
        },
        {
          "output_type": "stream",
          "name": "stdout",
          "text": [
            "\b\b\b\b\b\b\b\b\b\b\b\b\b\b\b\b\b\b\b\b\b\b\b\b\b\b\b\b\b\b\b\b\b\b\b\b\b\b\b\b\b\b\b\b\b\b\b\b\b\b\b\b\b\b\b\b\b\b\b\b\b\b\b\b\b\b\b\b\b\b\b\b\b\b\b\b\b\b\b\r548/548 [==============================] - 198s 362ms/step - loss: 0.5688 - acc: 0.7017 - val_loss: 0.5673 - val_acc: 0.6940\n",
            "Epoch 15/50\n",
            "547/548 [============================>.] - ETA: 0s - loss: 0.5686 - acc: 0.6997"
          ]
        },
        {
          "output_type": "stream",
          "name": "stderr",
          "text": [
            "WARNING:absl:Function `_wrapped_model` contains input name(s) efficientnetv2-m_input with unsupported characters which will be renamed to efficientnetv2_m_input in the SavedModel.\n",
            "WARNING:absl:Found untraced functions such as _jit_compiled_convolution_op, _jit_compiled_convolution_op, _jit_compiled_convolution_op, _jit_compiled_convolution_op, _jit_compiled_convolution_op while saving (showing 5 of 245). These functions will not be directly callable after loading.\n"
          ]
        },
        {
          "output_type": "stream",
          "name": "stdout",
          "text": [
            "\b\b\b\b\b\b\b\b\b\b\b\b\b\b\b\b\b\b\b\b\b\b\b\b\b\b\b\b\b\b\b\b\b\b\b\b\b\b\b\b\b\b\b\b\b\b\b\b\b\b\b\b\b\b\b\b\b\b\b\b\b\b\b\b\b\b\b\b\b\b\b\b\b\b\b\b\b\b\b\r548/548 [==============================] - 177s 322ms/step - loss: 0.5684 - acc: 0.6999 - val_loss: 0.5680 - val_acc: 0.6951\n",
            "Epoch 16/50\n",
            "547/548 [============================>.] - ETA: 0s - loss: 0.5690 - acc: 0.7018"
          ]
        },
        {
          "output_type": "stream",
          "name": "stderr",
          "text": [
            "WARNING:absl:Function `_wrapped_model` contains input name(s) efficientnetv2-m_input with unsupported characters which will be renamed to efficientnetv2_m_input in the SavedModel.\n",
            "WARNING:absl:Found untraced functions such as _jit_compiled_convolution_op, _jit_compiled_convolution_op, _jit_compiled_convolution_op, _jit_compiled_convolution_op, _jit_compiled_convolution_op while saving (showing 5 of 245). These functions will not be directly callable after loading.\n"
          ]
        },
        {
          "output_type": "stream",
          "name": "stdout",
          "text": [
            "\b\b\b\b\b\b\b\b\b\b\b\b\b\b\b\b\b\b\b\b\b\b\b\b\b\b\b\b\b\b\b\b\b\b\b\b\b\b\b\b\b\b\b\b\b\b\b\b\b\b\b\b\b\b\b\b\b\b\b\b\b\b\b\b\b\b\b\b\b\b\b\b\b\b\b\b\b\b\b\r548/548 [==============================] - 198s 361ms/step - loss: 0.5690 - acc: 0.7018 - val_loss: 0.5684 - val_acc: 0.6930\n",
            "Epoch 17/50\n",
            "547/548 [============================>.] - ETA: 0s - loss: 0.5681 - acc: 0.7043"
          ]
        },
        {
          "output_type": "stream",
          "name": "stderr",
          "text": [
            "WARNING:absl:Function `_wrapped_model` contains input name(s) efficientnetv2-m_input with unsupported characters which will be renamed to efficientnetv2_m_input in the SavedModel.\n",
            "WARNING:absl:Found untraced functions such as _jit_compiled_convolution_op, _jit_compiled_convolution_op, _jit_compiled_convolution_op, _jit_compiled_convolution_op, _jit_compiled_convolution_op while saving (showing 5 of 245). These functions will not be directly callable after loading.\n"
          ]
        },
        {
          "output_type": "stream",
          "name": "stdout",
          "text": [
            "\b\b\b\b\b\b\b\b\b\b\b\b\b\b\b\b\b\b\b\b\b\b\b\b\b\b\b\b\b\b\b\b\b\b\b\b\b\b\b\b\b\b\b\b\b\b\b\b\b\b\b\b\b\b\b\b\b\b\b\b\b\b\b\b\b\b\b\b\b\b\b\b\b\b\b\b\b\b\b\r548/548 [==============================] - 176s 322ms/step - loss: 0.5679 - acc: 0.7045 - val_loss: 0.5697 - val_acc: 0.6961\n"
          ]
        }
      ]
    },
    {
      "cell_type": "code",
      "source": [
        "plt.figure(figsize=(10,10))\n",
        "\n",
        "ax1 = plt.subplot(2,1,1)\n",
        "ax1.plot(res.history['loss'], label = 'Train')\n",
        "ax1.plot(res.history['val_loss'], label = 'Test')\n",
        "plt.title('EfficientNetV2M Loss (BCE), TEMP1 Images')\n",
        "plt.xlabel('Epoch')\n",
        "plt.legend();\n",
        "\n",
        "ax2 = plt.subplot(2,1,2)\n",
        "ax2.plot(res.history['acc'], label = 'Train')\n",
        "ax2.plot(res.history['val_acc'], label = 'Test')\n",
        "plt.title('EfficientNetV2M Accuracy, TEMP1 Images')\n",
        "plt.xlabel('Epoch')\n",
        "plt.legend();\n",
        "plt.tight_layout();\n",
        "plt.savefig('../presentation_images/effnet_TEMP1')"
      ],
      "metadata": {
        "colab": {
          "base_uri": "https://localhost:8080/",
          "height": 729
        },
        "outputId": "bc25d81f-6081-41a9-fa92-c13cc7a8d20c",
        "id": "Znr-ax_JWtie"
      },
      "execution_count": null,
      "outputs": [
        {
          "output_type": "display_data",
          "data": {
            "text/plain": [
              "<Figure size 720x720 with 2 Axes>"
            ],
            "image/png": "[encoded data removed]"
          },
          "metadata": {
            "needs_background": "light"
          }
        }
      ]
    },
    {
      "cell_type": "markdown",
      "source": [
        "This model did rather poorly.\n",
        "\n",
        "#### Test that the model saved correctly\n",
        "\n",
        "Before proceeding, let's make sure we can load the saved model and use it for predictions in the future:"
      ],
      "metadata": {
        "id": "I4jalMTmWtif"
      }
    },
    {
      "cell_type": "code",
      "source": [
        "TEMP1_model = load_model(f\"{model_save_path}/TEMP1_classification_effnet_1\")"
      ],
      "metadata": {
        "id": "wHLKJMSiWtif"
      },
      "execution_count": null,
      "outputs": []
    },
    {
      "cell_type": "code",
      "source": [
        "TEMP1_model.evaluate(TEMP1_test_ds)"
      ],
      "metadata": {
        "colab": {
          "base_uri": "https://localhost:8080/"
        },
        "outputId": "e20f6484-5879-486b-8bd0-eb1bee3e701d",
        "id": "5NOTOpJqWtif"
      },
      "execution_count": null,
      "outputs": [
        {
          "output_type": "stream",
          "name": "stdout",
          "text": [
            "31/31 [==============================] - 2s 65ms/step - loss: 0.5697 - acc: 0.6961\n"
          ]
        },
        {
          "output_type": "execute_result",
          "data": {
            "text/plain": [
              "[0.5696952939033508, 0.6960985660552979]"
            ]
          },
          "metadata": {},
          "execution_count": 210
        }
      ]
    },
    {
      "cell_type": "markdown",
      "source": [
        "These are the same loss and accuracy numbers that we got before, so everything is working!"
      ],
      "metadata": {
        "id": "ZT-L4xZlWtif"
      }
    },
    {
      "cell_type": "markdown",
      "source": [
        "## Using a pre-trained network on NIGHTLIGHTS data"
      ],
      "metadata": {
        "id": "A3q9rOAcyvxm"
      }
    },
    {
      "cell_type": "code",
      "source": [
        "#32 x 32 is the minimum image size - we will need to inflate the images back to 32x32 in our model\n",
        "effnet_nl = EfficientNetV2M(\n",
        "    include_top=False,\n",
        "    weights=\"imagenet\",\n",
        "    input_shape=(32,32,3),\n",
        "    classes=2,\n",
        "    classifier_activation=\"softmax\",\n",
        "    include_preprocessing=True,\n",
        ")"
      ],
      "metadata": {
        "colab": {
          "base_uri": "https://localhost:8080/"
        },
        "id": "-lH-N97jyvxn",
        "outputId": "bd50a9f1-73c8-4f08-aad4-e259807a6e6a"
      },
      "execution_count": null,
      "outputs": [
        {
          "output_type": "stream",
          "name": "stdout",
          "text": [
            "Downloading data from https://storage.googleapis.com/tensorflow/keras-applications/efficientnet_v2/efficientnetv2-m_notop.h5\n",
            "214201816/214201816 [==============================] - 1s 0us/step\n"
          ]
        }
      ]
    },
    {
      "cell_type": "code",
      "source": [
        "effnet_nl.trainable = False"
      ],
      "metadata": {
        "id": "eAmUCl7_yvxo"
      },
      "execution_count": null,
      "outputs": []
    },
    {
      "cell_type": "code",
      "source": [
        "model = Sequential()\n",
        "\n",
        "#Upscale 8x8 images to 32x32 for the effnet_nl\n",
        "model.add(Resizing(32,32))\n",
        "\n",
        "model.add(effnet_nl)\n",
        "model.add(GlobalAveragePooling2D())\n",
        "\n",
        "#Just use a single output layer\n",
        "model.add(Dense(1, activation='sigmoid'))\n",
        "\n",
        "\n",
        "#Compile the model\n",
        "model.compile(optimizer='adam',\n",
        "              loss='bce',\n",
        "              metrics=['acc'])"
      ],
      "metadata": {
        "id": "L7CXOspqyvxo"
      },
      "execution_count": null,
      "outputs": []
    },
    {
      "cell_type": "code",
      "source": [
        "model_name = 'nightlights_classification_effnet_1'\n",
        "model_save_path = '../models'"
      ],
      "metadata": {
        "id": "wRRbnBfbyvxo"
      },
      "execution_count": null,
      "outputs": []
    },
    {
      "cell_type": "code",
      "source": [
        "#Add a callback to save the model each epoch\n",
        "checkpoint = ModelCheckpoint(f\"{model_save_path}/{model_name}\", save_freq='epoch', verbose=0)"
      ],
      "metadata": {
        "id": "NvcmKpO7yvxo"
      },
      "execution_count": null,
      "outputs": []
    },
    {
      "cell_type": "code",
      "source": [
        "#Add early stopping\n",
        "es = EarlyStopping( patience = 5)"
      ],
      "metadata": {
        "id": "pXbnMMk0yvxo"
      },
      "execution_count": null,
      "outputs": []
    },
    {
      "cell_type": "code",
      "source": [
        "res = model.fit(nl_train_ds,\n",
        "                epochs = 50,\n",
        "                validation_data = nl_test_ds,\n",
        "                verbose = 1,\n",
        "                callbacks = [es, checkpoint]\n",
        "                )"
      ],
      "metadata": {
        "colab": {
          "base_uri": "https://localhost:8080/"
        },
        "outputId": "4454ae9f-61d8-47b8-b9f6-d530c58696f7",
        "id": "wk2KgLWsyvxo"
      },
      "execution_count": null,
      "outputs": [
        {
          "metadata": {
            "tags": null
          },
          "name": "stdout",
          "output_type": "stream",
          "text": [
            "Epoch 1/50\n",
            "548/548 [==============================] - ETA: 0s - loss: 0.5782 - acc: 0.7067"
          ]
        },
        {
          "metadata": {
            "tags": null
          },
          "name": "stderr",
          "output_type": "stream",
          "text": [
            "WARNING:absl:Found untraced functions such as _jit_compiled_convolution_op, _jit_compiled_convolution_op, _jit_compiled_convolution_op, _jit_compiled_convolution_op, _jit_compiled_convolution_op while saving (showing 5 of 245). These functions will not be directly callable after loading.\n"
          ]
        },
        {
          "metadata": {
            "tags": null
          },
          "name": "stdout",
          "output_type": "stream",
          "text": [
            "548/548 [==============================] - 535s 918ms/step - loss: 0.5782 - acc: 0.7067 - val_loss: 0.5357 - val_acc: 0.7505\n",
            "Epoch 2/50\n",
            "547/548 [============================>.] - ETA: 0s - loss: 0.5416 - acc: 0.7343"
          ]
        },
        {
          "metadata": {
            "tags": null
          },
          "name": "stderr",
          "output_type": "stream",
          "text": [
            "WARNING:absl:Found untraced functions such as _jit_compiled_convolution_op, _jit_compiled_convolution_op, _jit_compiled_convolution_op, _jit_compiled_convolution_op, _jit_compiled_convolution_op while saving (showing 5 of 245). These functions will not be directly callable after loading.\n"
          ]
        },
        {
          "metadata": {
            "tags": null
          },
          "name": "stdout",
          "output_type": "stream",
          "text": [
            "548/548 [==============================] - 165s 302ms/step - loss: 0.5415 - acc: 0.7342 - val_loss: 0.5212 - val_acc: 0.7495\n",
            "Epoch 3/50\n",
            "548/548 [==============================] - ETA: 0s - loss: 0.5288 - acc: 0.7422"
          ]
        },
        {
          "metadata": {
            "tags": null
          },
          "name": "stderr",
          "output_type": "stream",
          "text": [
            "WARNING:absl:Found untraced functions such as _jit_compiled_convolution_op, _jit_compiled_convolution_op, _jit_compiled_convolution_op, _jit_compiled_convolution_op, _jit_compiled_convolution_op while saving (showing 5 of 245). These functions will not be directly callable after loading.\n"
          ]
        },
        {
          "metadata": {
            "tags": null
          },
          "name": "stdout",
          "output_type": "stream",
          "text": [
            "548/548 [==============================] - 166s 303ms/step - loss: 0.5288 - acc: 0.7422 - val_loss: 0.5117 - val_acc: 0.7392\n",
            "Epoch 4/50\n",
            "547/548 [============================>.] - ETA: 0s - loss: 0.5248 - acc: 0.7462"
          ]
        },
        {
          "metadata": {
            "tags": null
          },
          "name": "stderr",
          "output_type": "stream",
          "text": [
            "WARNING:absl:Found untraced functions such as _jit_compiled_convolution_op, _jit_compiled_convolution_op, _jit_compiled_convolution_op, _jit_compiled_convolution_op, _jit_compiled_convolution_op while saving (showing 5 of 245). These functions will not be directly callable after loading.\n"
          ]
        },
        {
          "metadata": {
            "tags": null
          },
          "name": "stdout",
          "output_type": "stream",
          "text": [
            "548/548 [==============================] - 168s 307ms/step - loss: 0.5246 - acc: 0.7462 - val_loss: 0.5096 - val_acc: 0.7526\n",
            "Epoch 5/50\n",
            "547/548 [============================>.] - ETA: 0s - loss: 0.5200 - acc: 0.7457"
          ]
        },
        {
          "metadata": {
            "tags": null
          },
          "name": "stderr",
          "output_type": "stream",
          "text": [
            "WARNING:absl:Found untraced functions such as _jit_compiled_convolution_op, _jit_compiled_convolution_op, _jit_compiled_convolution_op, _jit_compiled_convolution_op, _jit_compiled_convolution_op while saving (showing 5 of 245). These functions will not be directly callable after loading.\n"
          ]
        },
        {
          "metadata": {
            "tags": null
          },
          "name": "stdout",
          "output_type": "stream",
          "text": [
            "548/548 [==============================] - 167s 305ms/step - loss: 0.5200 - acc: 0.7457 - val_loss: 0.5045 - val_acc: 0.7413\n",
            "Epoch 6/50\n",
            "548/548 [==============================] - ETA: 0s - loss: 0.5152 - acc: 0.7486"
          ]
        },
        {
          "metadata": {
            "tags": null
          },
          "name": "stderr",
          "output_type": "stream",
          "text": [
            "WARNING:absl:Found untraced functions such as _jit_compiled_convolution_op, _jit_compiled_convolution_op, _jit_compiled_convolution_op, _jit_compiled_convolution_op, _jit_compiled_convolution_op while saving (showing 5 of 245). These functions will not be directly callable after loading.\n"
          ]
        },
        {
          "metadata": {
            "tags": null
          },
          "name": "stdout",
          "output_type": "stream",
          "text": [
            "548/548 [==============================] - 167s 306ms/step - loss: 0.5152 - acc: 0.7486 - val_loss: 0.5028 - val_acc: 0.7331\n",
            "Epoch 7/50\n",
            "548/548 [==============================] - ETA: 0s - loss: 0.5160 - acc: 0.7455"
          ]
        },
        {
          "metadata": {
            "tags": null
          },
          "name": "stderr",
          "output_type": "stream",
          "text": [
            "WARNING:absl:Found untraced functions such as _jit_compiled_convolution_op, _jit_compiled_convolution_op, _jit_compiled_convolution_op, _jit_compiled_convolution_op, _jit_compiled_convolution_op while saving (showing 5 of 245). These functions will not be directly callable after loading.\n"
          ]
        },
        {
          "metadata": {
            "tags": null
          },
          "name": "stdout",
          "output_type": "stream",
          "text": [
            "548/548 [==============================] - 168s 308ms/step - loss: 0.5160 - acc: 0.7455 - val_loss: 0.5012 - val_acc: 0.7413\n",
            "Epoch 8/50\n",
            "547/548 [============================>.] - ETA: 0s - loss: 0.5135 - acc: 0.7491"
          ]
        },
        {
          "metadata": {
            "tags": null
          },
          "name": "stderr",
          "output_type": "stream",
          "text": [
            "WARNING:absl:Found untraced functions such as _jit_compiled_convolution_op, _jit_compiled_convolution_op, _jit_compiled_convolution_op, _jit_compiled_convolution_op, _jit_compiled_convolution_op while saving (showing 5 of 245). These functions will not be directly callable after loading.\n"
          ]
        },
        {
          "metadata": {
            "tags": null
          },
          "name": "stdout",
          "output_type": "stream",
          "text": [
            "548/548 [==============================] - 169s 308ms/step - loss: 0.5135 - acc: 0.7490 - val_loss: 0.5020 - val_acc: 0.7444\n",
            "Epoch 9/50\n",
            "547/548 [============================>.] - ETA: 0s - loss: 0.5115 - acc: 0.7485"
          ]
        },
        {
          "metadata": {
            "tags": null
          },
          "name": "stderr",
          "output_type": "stream",
          "text": [
            "WARNING:absl:Found untraced functions such as _jit_compiled_convolution_op, _jit_compiled_convolution_op, _jit_compiled_convolution_op, _jit_compiled_convolution_op, _jit_compiled_convolution_op while saving (showing 5 of 245). These functions will not be directly callable after loading.\n"
          ]
        },
        {
          "metadata": {
            "tags": null
          },
          "name": "stdout",
          "output_type": "stream",
          "text": [
            "548/548 [==============================] - 167s 305ms/step - loss: 0.5115 - acc: 0.7485 - val_loss: 0.5041 - val_acc: 0.7474\n",
            "Epoch 10/50\n",
            "548/548 [==============================] - ETA: 0s - loss: 0.5107 - acc: 0.7488"
          ]
        },
        {
          "metadata": {
            "tags": null
          },
          "name": "stderr",
          "output_type": "stream",
          "text": [
            "WARNING:absl:Found untraced functions such as _jit_compiled_convolution_op, _jit_compiled_convolution_op, _jit_compiled_convolution_op, _jit_compiled_convolution_op, _jit_compiled_convolution_op while saving (showing 5 of 245). These functions will not be directly callable after loading.\n"
          ]
        },
        {
          "metadata": {
            "tags": null
          },
          "name": "stdout",
          "output_type": "stream",
          "text": [
            "548/548 [==============================] - 169s 308ms/step - loss: 0.5107 - acc: 0.7488 - val_loss: 0.4979 - val_acc: 0.7392\n",
            "Epoch 11/50\n",
            "548/548 [==============================] - ETA: 0s - loss: 0.5087 - acc: 0.7514"
          ]
        },
        {
          "metadata": {
            "tags": null
          },
          "name": "stderr",
          "output_type": "stream",
          "text": [
            "WARNING:absl:Found untraced functions such as _jit_compiled_convolution_op, _jit_compiled_convolution_op, _jit_compiled_convolution_op, _jit_compiled_convolution_op, _jit_compiled_convolution_op while saving (showing 5 of 245). These functions will not be directly callable after loading.\n"
          ]
        },
        {
          "metadata": {
            "tags": null
          },
          "name": "stdout",
          "output_type": "stream",
          "text": [
            "548/548 [==============================] - 168s 307ms/step - loss: 0.5087 - acc: 0.7514 - val_loss: 0.5048 - val_acc: 0.7474\n",
            "Epoch 12/50\n",
            "547/548 [============================>.] - ETA: 0s - loss: 0.5083 - acc: 0.7511"
          ]
        },
        {
          "metadata": {
            "tags": null
          },
          "name": "stderr",
          "output_type": "stream",
          "text": [
            "WARNING:absl:Found untraced functions such as _jit_compiled_convolution_op, _jit_compiled_convolution_op, _jit_compiled_convolution_op, _jit_compiled_convolution_op, _jit_compiled_convolution_op while saving (showing 5 of 245). These functions will not be directly callable after loading.\n"
          ]
        },
        {
          "metadata": {
            "tags": null
          },
          "name": "stdout",
          "output_type": "stream",
          "text": [
            "548/548 [==============================] - 171s 312ms/step - loss: 0.5081 - acc: 0.7513 - val_loss: 0.4983 - val_acc: 0.7423\n",
            "Epoch 13/50\n",
            "547/548 [============================>.] - ETA: 0s - loss: 0.5055 - acc: 0.7487"
          ]
        },
        {
          "metadata": {
            "tags": null
          },
          "name": "stderr",
          "output_type": "stream",
          "text": [
            "WARNING:absl:Found untraced functions such as _jit_compiled_convolution_op, _jit_compiled_convolution_op, _jit_compiled_convolution_op, _jit_compiled_convolution_op, _jit_compiled_convolution_op while saving (showing 5 of 245). These functions will not be directly callable after loading.\n"
          ]
        },
        {
          "metadata": {
            "tags": null
          },
          "name": "stdout",
          "output_type": "stream",
          "text": [
            "548/548 [==============================] - 171s 311ms/step - loss: 0.5054 - acc: 0.7489 - val_loss: 0.4988 - val_acc: 0.7444\n",
            "Epoch 14/50\n",
            "548/548 [==============================] - ETA: 0s - loss: 0.5066 - acc: 0.7518"
          ]
        },
        {
          "metadata": {
            "tags": null
          },
          "name": "stderr",
          "output_type": "stream",
          "text": [
            "WARNING:absl:Found untraced functions such as _jit_compiled_convolution_op, _jit_compiled_convolution_op, _jit_compiled_convolution_op, _jit_compiled_convolution_op, _jit_compiled_convolution_op while saving (showing 5 of 245). These functions will not be directly callable after loading.\n"
          ]
        },
        {
          "metadata": {
            "tags": null
          },
          "name": "stdout",
          "output_type": "stream",
          "text": [
            "548/548 [==============================] - 167s 305ms/step - loss: 0.5066 - acc: 0.7518 - val_loss: 0.4957 - val_acc: 0.7413\n",
            "Epoch 15/50\n",
            "548/548 [==============================] - ETA: 0s - loss: 0.5053 - acc: 0.7502"
          ]
        },
        {
          "metadata": {
            "tags": null
          },
          "name": "stderr",
          "output_type": "stream",
          "text": [
            "WARNING:absl:Found untraced functions such as _jit_compiled_convolution_op, _jit_compiled_convolution_op, _jit_compiled_convolution_op, _jit_compiled_convolution_op, _jit_compiled_convolution_op while saving (showing 5 of 245). These functions will not be directly callable after loading.\n"
          ]
        },
        {
          "metadata": {
            "tags": null
          },
          "name": "stdout",
          "output_type": "stream",
          "text": [
            "548/548 [==============================] - 169s 309ms/step - loss: 0.5053 - acc: 0.7502 - val_loss: 0.4955 - val_acc: 0.7402\n",
            "Epoch 16/50\n",
            "548/548 [==============================] - ETA: 0s - loss: 0.5054 - acc: 0.7538"
          ]
        },
        {
          "metadata": {
            "tags": null
          },
          "name": "stderr",
          "output_type": "stream",
          "text": [
            "WARNING:absl:Found untraced functions such as _jit_compiled_convolution_op, _jit_compiled_convolution_op, _jit_compiled_convolution_op, _jit_compiled_convolution_op, _jit_compiled_convolution_op while saving (showing 5 of 245). These functions will not be directly callable after loading.\n"
          ]
        },
        {
          "metadata": {
            "tags": null
          },
          "name": "stdout",
          "output_type": "stream",
          "text": [
            "548/548 [==============================] - 170s 310ms/step - loss: 0.5054 - acc: 0.7538 - val_loss: 0.4942 - val_acc: 0.7413\n",
            "Epoch 17/50\n",
            "547/548 [============================>.] - ETA: 0s - loss: 0.5049 - acc: 0.7543"
          ]
        },
        {
          "metadata": {
            "tags": null
          },
          "name": "stderr",
          "output_type": "stream",
          "text": [
            "WARNING:absl:Found untraced functions such as _jit_compiled_convolution_op, _jit_compiled_convolution_op, _jit_compiled_convolution_op, _jit_compiled_convolution_op, _jit_compiled_convolution_op while saving (showing 5 of 245). These functions will not be directly callable after loading.\n"
          ]
        },
        {
          "metadata": {
            "tags": null
          },
          "name": "stdout",
          "output_type": "stream",
          "text": [
            "548/548 [==============================] - 171s 312ms/step - loss: 0.5050 - acc: 0.7542 - val_loss: 0.4982 - val_acc: 0.7444\n",
            "Epoch 18/50\n",
            "547/548 [============================>.] - ETA: 0s - loss: 0.5032 - acc: 0.7511"
          ]
        },
        {
          "metadata": {
            "tags": null
          },
          "name": "stderr",
          "output_type": "stream",
          "text": [
            "WARNING:absl:Found untraced functions such as _jit_compiled_convolution_op, _jit_compiled_convolution_op, _jit_compiled_convolution_op, _jit_compiled_convolution_op, _jit_compiled_convolution_op while saving (showing 5 of 245). These functions will not be directly callable after loading.\n"
          ]
        },
        {
          "metadata": {
            "tags": null
          },
          "name": "stdout",
          "output_type": "stream",
          "text": [
            "548/548 [==============================] - 168s 307ms/step - loss: 0.5033 - acc: 0.7510 - val_loss: 0.4965 - val_acc: 0.7423\n",
            "Epoch 19/50\n",
            "548/548 [==============================] - ETA: 0s - loss: 0.5030 - acc: 0.7489"
          ]
        },
        {
          "metadata": {
            "tags": null
          },
          "name": "stderr",
          "output_type": "stream",
          "text": [
            "WARNING:absl:Found untraced functions such as _jit_compiled_convolution_op, _jit_compiled_convolution_op, _jit_compiled_convolution_op, _jit_compiled_convolution_op, _jit_compiled_convolution_op while saving (showing 5 of 245). These functions will not be directly callable after loading.\n"
          ]
        },
        {
          "metadata": {
            "tags": null
          },
          "name": "stdout",
          "output_type": "stream",
          "text": [
            "548/548 [==============================] - 172s 314ms/step - loss: 0.5030 - acc: 0.7489 - val_loss: 0.4964 - val_acc: 0.7454\n",
            "Epoch 20/50\n",
            "548/548 [==============================] - ETA: 0s - loss: 0.5047 - acc: 0.7523"
          ]
        },
        {
          "metadata": {
            "tags": null
          },
          "name": "stderr",
          "output_type": "stream",
          "text": [
            "WARNING:absl:Found untraced functions such as _jit_compiled_convolution_op, _jit_compiled_convolution_op, _jit_compiled_convolution_op, _jit_compiled_convolution_op, _jit_compiled_convolution_op while saving (showing 5 of 245). These functions will not be directly callable after loading.\n"
          ]
        },
        {
          "metadata": {
            "tags": null
          },
          "name": "stdout",
          "output_type": "stream",
          "text": [
            "548/548 [==============================] - 168s 307ms/step - loss: 0.5047 - acc: 0.7523 - val_loss: 0.4973 - val_acc: 0.7444\n",
            "Epoch 21/50\n",
            "548/548 [==============================] - ETA: 0s - loss: 0.4995 - acc: 0.7536"
          ]
        },
        {
          "metadata": {
            "tags": null
          },
          "name": "stderr",
          "output_type": "stream",
          "text": [
            "WARNING:absl:Found untraced functions such as _jit_compiled_convolution_op, _jit_compiled_convolution_op, _jit_compiled_convolution_op, _jit_compiled_convolution_op, _jit_compiled_convolution_op while saving (showing 5 of 245). These functions will not be directly callable after loading.\n"
          ]
        },
        {
          "metadata": {
            "tags": null
          },
          "name": "stdout",
          "output_type": "stream",
          "text": [
            "548/548 [==============================] - 173s 316ms/step - loss: 0.4995 - acc: 0.7536 - val_loss: 0.4931 - val_acc: 0.7423\n",
            "Epoch 22/50\n",
            "548/548 [==============================] - ETA: 0s - loss: 0.5022 - acc: 0.7541"
          ]
        },
        {
          "metadata": {
            "tags": null
          },
          "name": "stderr",
          "output_type": "stream",
          "text": [
            "WARNING:absl:Found untraced functions such as _jit_compiled_convolution_op, _jit_compiled_convolution_op, _jit_compiled_convolution_op, _jit_compiled_convolution_op, _jit_compiled_convolution_op while saving (showing 5 of 245). These functions will not be directly callable after loading.\n"
          ]
        },
        {
          "metadata": {
            "tags": null
          },
          "name": "stdout",
          "output_type": "stream",
          "text": [
            "548/548 [==============================] - 169s 308ms/step - loss: 0.5022 - acc: 0.7541 - val_loss: 0.5014 - val_acc: 0.7444\n",
            "Epoch 23/50\n",
            "548/548 [==============================] - ETA: 0s - loss: 0.5009 - acc: 0.7519"
          ]
        },
        {
          "metadata": {
            "tags": null
          },
          "name": "stderr",
          "output_type": "stream",
          "text": [
            "WARNING:absl:Found untraced functions such as _jit_compiled_convolution_op, _jit_compiled_convolution_op, _jit_compiled_convolution_op, _jit_compiled_convolution_op, _jit_compiled_convolution_op while saving (showing 5 of 245). These functions will not be directly callable after loading.\n"
          ]
        },
        {
          "metadata": {
            "tags": null
          },
          "name": "stdout",
          "output_type": "stream",
          "text": [
            "548/548 [==============================] - 169s 308ms/step - loss: 0.5009 - acc: 0.7519 - val_loss: 0.4944 - val_acc: 0.7392\n",
            "Epoch 24/50\n",
            "547/548 [============================>.] - ETA: 0s - loss: 0.5015 - acc: 0.7526"
          ]
        },
        {
          "metadata": {
            "tags": null
          },
          "name": "stderr",
          "output_type": "stream",
          "text": [
            "WARNING:absl:Found untraced functions such as _jit_compiled_convolution_op, _jit_compiled_convolution_op, _jit_compiled_convolution_op, _jit_compiled_convolution_op, _jit_compiled_convolution_op while saving (showing 5 of 245). These functions will not be directly callable after loading.\n"
          ]
        },
        {
          "metadata": {
            "tags": null
          },
          "name": "stdout",
          "output_type": "stream",
          "text": [
            "548/548 [==============================] - 168s 306ms/step - loss: 0.5013 - acc: 0.7526 - val_loss: 0.5104 - val_acc: 0.7485\n",
            "Epoch 25/50\n",
            "547/548 [============================>.] - ETA: 0s - loss: 0.5012 - acc: 0.7529"
          ]
        },
        {
          "metadata": {
            "tags": null
          },
          "name": "stderr",
          "output_type": "stream",
          "text": [
            "WARNING:absl:Found untraced functions such as _jit_compiled_convolution_op, _jit_compiled_convolution_op, _jit_compiled_convolution_op, _jit_compiled_convolution_op, _jit_compiled_convolution_op while saving (showing 5 of 245). These functions will not be directly callable after loading.\n"
          ]
        },
        {
          "metadata": {
            "tags": null
          },
          "name": "stdout",
          "output_type": "stream",
          "text": [
            "548/548 [==============================] - 172s 315ms/step - loss: 0.5012 - acc: 0.7529 - val_loss: 0.4948 - val_acc: 0.7444\n",
            "Epoch 26/50\n",
            "548/548 [==============================] - ETA: 0s - loss: 0.5033 - acc: 0.7515"
          ]
        },
        {
          "metadata": {
            "tags": null
          },
          "name": "stderr",
          "output_type": "stream",
          "text": [
            "WARNING:absl:Found untraced functions such as _jit_compiled_convolution_op, _jit_compiled_convolution_op, _jit_compiled_convolution_op, _jit_compiled_convolution_op, _jit_compiled_convolution_op while saving (showing 5 of 245). These functions will not be directly callable after loading.\n"
          ]
        },
        {
          "metadata": {
            "tags": null
          },
          "name": "stdout",
          "output_type": "stream",
          "text": [
            "548/548 [==============================] - 168s 307ms/step - loss: 0.5033 - acc: 0.7515 - val_loss: 0.4920 - val_acc: 0.7402\n",
            "Epoch 27/50\n",
            "548/548 [==============================] - ETA: 0s - loss: 0.4979 - acc: 0.7536"
          ]
        },
        {
          "metadata": {
            "tags": null
          },
          "name": "stderr",
          "output_type": "stream",
          "text": [
            "WARNING:absl:Found untraced functions such as _jit_compiled_convolution_op, _jit_compiled_convolution_op, _jit_compiled_convolution_op, _jit_compiled_convolution_op, _jit_compiled_convolution_op while saving (showing 5 of 245). These functions will not be directly callable after loading.\n"
          ]
        },
        {
          "metadata": {
            "tags": null
          },
          "name": "stdout",
          "output_type": "stream",
          "text": [
            "548/548 [==============================] - 170s 310ms/step - loss: 0.4979 - acc: 0.7536 - val_loss: 0.4917 - val_acc: 0.7402\n",
            "Epoch 28/50\n",
            "547/548 [============================>.] - ETA: 0s - loss: 0.4991 - acc: 0.7535"
          ]
        },
        {
          "metadata": {
            "tags": null
          },
          "name": "stderr",
          "output_type": "stream",
          "text": [
            "WARNING:absl:Found untraced functions such as _jit_compiled_convolution_op, _jit_compiled_convolution_op, _jit_compiled_convolution_op, _jit_compiled_convolution_op, _jit_compiled_convolution_op while saving (showing 5 of 245). These functions will not be directly callable after loading.\n"
          ]
        },
        {
          "metadata": {
            "tags": null
          },
          "name": "stdout",
          "output_type": "stream",
          "text": [
            "548/548 [==============================] - 171s 312ms/step - loss: 0.4989 - acc: 0.7537 - val_loss: 0.4923 - val_acc: 0.7474\n",
            "Epoch 29/50\n",
            "548/548 [==============================] - ETA: 0s - loss: 0.5005 - acc: 0.7544"
          ]
        },
        {
          "metadata": {
            "tags": null
          },
          "name": "stderr",
          "output_type": "stream",
          "text": [
            "WARNING:absl:Found untraced functions such as _jit_compiled_convolution_op, _jit_compiled_convolution_op, _jit_compiled_convolution_op, _jit_compiled_convolution_op, _jit_compiled_convolution_op while saving (showing 5 of 245). These functions will not be directly callable after loading.\n"
          ]
        },
        {
          "metadata": {
            "tags": null
          },
          "name": "stdout",
          "output_type": "stream",
          "text": [
            "548/548 [==============================] - 171s 313ms/step - loss: 0.5005 - acc: 0.7544 - val_loss: 0.4914 - val_acc: 0.7444\n",
            "Epoch 30/50\n",
            "547/548 [============================>.] - ETA: 0s - loss: 0.5002 - acc: 0.7525"
          ]
        },
        {
          "metadata": {
            "tags": null
          },
          "name": "stderr",
          "output_type": "stream",
          "text": [
            "WARNING:absl:Found untraced functions such as _jit_compiled_convolution_op, _jit_compiled_convolution_op, _jit_compiled_convolution_op, _jit_compiled_convolution_op, _jit_compiled_convolution_op while saving (showing 5 of 245). These functions will not be directly callable after loading.\n"
          ]
        },
        {
          "metadata": {
            "tags": null
          },
          "name": "stdout",
          "output_type": "stream",
          "text": [
            "548/548 [==============================] - 171s 313ms/step - loss: 0.5001 - acc: 0.7526 - val_loss: 0.4937 - val_acc: 0.7444\n",
            "Epoch 31/50\n",
            "548/548 [==============================] - ETA: 0s - loss: 0.4959 - acc: 0.7527"
          ]
        },
        {
          "metadata": {
            "tags": null
          },
          "name": "stderr",
          "output_type": "stream",
          "text": [
            "WARNING:absl:Found untraced functions such as _jit_compiled_convolution_op, _jit_compiled_convolution_op, _jit_compiled_convolution_op, _jit_compiled_convolution_op, _jit_compiled_convolution_op while saving (showing 5 of 245). These functions will not be directly callable after loading.\n"
          ]
        },
        {
          "metadata": {
            "tags": null
          },
          "name": "stdout",
          "output_type": "stream",
          "text": [
            "548/548 [==============================] - 172s 315ms/step - loss: 0.4959 - acc: 0.7527 - val_loss: 0.5010 - val_acc: 0.7454\n",
            "Epoch 32/50\n",
            "548/548 [==============================] - ETA: 0s - loss: 0.4981 - acc: 0.7513"
          ]
        },
        {
          "metadata": {
            "tags": null
          },
          "name": "stderr",
          "output_type": "stream",
          "text": [
            "WARNING:absl:Found untraced functions such as _jit_compiled_convolution_op, _jit_compiled_convolution_op, _jit_compiled_convolution_op, _jit_compiled_convolution_op, _jit_compiled_convolution_op while saving (showing 5 of 245). These functions will not be directly callable after loading.\n"
          ]
        },
        {
          "metadata": {
            "tags": null
          },
          "name": "stdout",
          "output_type": "stream",
          "text": [
            "548/548 [==============================] - 171s 313ms/step - loss: 0.4981 - acc: 0.7513 - val_loss: 0.4924 - val_acc: 0.7392\n",
            "Epoch 33/50\n",
            "548/548 [==============================] - ETA: 0s - loss: 0.4991 - acc: 0.7510"
          ]
        },
        {
          "metadata": {
            "tags": null
          },
          "name": "stderr",
          "output_type": "stream",
          "text": [
            "WARNING:absl:Found untraced functions such as _jit_compiled_convolution_op, _jit_compiled_convolution_op, _jit_compiled_convolution_op, _jit_compiled_convolution_op, _jit_compiled_convolution_op while saving (showing 5 of 245). These functions will not be directly callable after loading.\n"
          ]
        },
        {
          "output_type": "stream",
          "name": "stdout",
          "text": [
            "\b\b\b\b\b\b\b\b\b\b\b\b\b\b\b\b\b\b\b\b\b\b\b\b\b\b\b\b\b\b\b\b\b\b\b\b\b\b\b\b\b\b\b\b\b\b\b\b\b\b\b\b\b\b\b\b\b\b\b\b\b\b\b\b\b\b\b\b\b\b\b\b\b\b\b\b\b\b\b\r548/548 [==============================] - 172s 314ms/step - loss: 0.4991 - acc: 0.7510 - val_loss: 0.4952 - val_acc: 0.7444\n",
            "Epoch 34/50\n",
            "548/548 [==============================] - ETA: 0s - loss: 0.4987 - acc: 0.7535"
          ]
        },
        {
          "output_type": "stream",
          "name": "stderr",
          "text": [
            "WARNING:absl:Found untraced functions such as _jit_compiled_convolution_op, _jit_compiled_convolution_op, _jit_compiled_convolution_op, _jit_compiled_convolution_op, _jit_compiled_convolution_op while saving (showing 5 of 245). These functions will not be directly callable after loading.\n"
          ]
        },
        {
          "output_type": "stream",
          "name": "stdout",
          "text": [
            "\b\b\b\b\b\b\b\b\b\b\b\b\b\b\b\b\b\b\b\b\b\b\b\b\b\b\b\b\b\b\b\b\b\b\b\b\b\b\b\b\b\b\b\b\b\b\b\b\b\b\b\b\b\b\b\b\b\b\b\b\b\b\b\b\b\b\b\b\b\b\b\b\b\b\b\b\b\b\b\r548/548 [==============================] - 162s 296ms/step - loss: 0.4987 - acc: 0.7535 - val_loss: 0.5029 - val_acc: 0.7464\n"
          ]
        }
      ]
    },
    {
      "cell_type": "code",
      "source": [
        "plt.figure(figsize=(10,10))\n",
        "\n",
        "ax1 = plt.subplot(2,1,1)\n",
        "ax1.plot(res.history['loss'], label = 'Train')\n",
        "ax1.plot(res.history['val_loss'], label = 'Test')\n",
        "plt.title('EfficientNetV2M Loss (BCE), NIGHTLIGHTS Images')\n",
        "plt.xlabel('Epoch')\n",
        "plt.legend();\n",
        "\n",
        "ax2 = plt.subplot(2,1,2)\n",
        "ax2.plot(res.history['acc'], label = 'Train')\n",
        "ax2.plot(res.history['val_acc'], label = 'Test')\n",
        "plt.title('EfficientNetV2M Accuracy, NIGHTLIGHTS Images')\n",
        "plt.xlabel('Epoch')\n",
        "plt.legend();\n",
        "plt.tight_layout();\n",
        "plt.savefig('../presentation_images/effnet_nightlights')"
      ],
      "metadata": {
        "colab": {
          "base_uri": "https://localhost:8080/",
          "height": 729
        },
        "id": "d-P8uI0fJoHm",
        "outputId": "69bdb4ea-c020-483f-c525-335ea6aad4fe"
      },
      "execution_count": null,
      "outputs": [
        {
          "output_type": "display_data",
          "data": {
            "text/plain": [
              "<Figure size 720x720 with 2 Axes>"
            ],
            "image/png": "[encoded data removed]"
          },
          "metadata": {
            "needs_background": "light"
          }
        }
      ]
    },
    {
      "cell_type": "markdown",
      "source": [
        "It looks like this model didn't do much better than the RGB model; its accuracy is about 75%.  However, this is better than the other models!"
      ],
      "metadata": {
        "id": "o7exZxRUyqqg"
      }
    },
    {
      "cell_type": "markdown",
      "source": [
        "#### Test that the model saved correctly"
      ],
      "metadata": {
        "id": "URgaqDLKFeE6"
      }
    },
    {
      "cell_type": "code",
      "source": [
        "nightlights_model = load_model(f\"{model_save_path}/nightlights_classification_effnet_1\")"
      ],
      "metadata": {
        "id": "11Bh4oNqForQ"
      },
      "execution_count": null,
      "outputs": []
    },
    {
      "cell_type": "code",
      "source": [
        "nightlights_model.evaluate(nl_test_ds)"
      ],
      "metadata": {
        "colab": {
          "base_uri": "https://localhost:8080/"
        },
        "id": "vd3FWqqCF5dv",
        "outputId": "60c74c26-4b27-4443-ad97-5a8ad11166a5"
      },
      "execution_count": null,
      "outputs": [
        {
          "output_type": "stream",
          "name": "stdout",
          "text": [
            "31/31 [==============================] - 5s 40ms/step - loss: 0.5029 - acc: 0.7464\n"
          ]
        },
        {
          "output_type": "execute_result",
          "data": {
            "text/plain": [
              "[0.5028862953186035, 0.7464065551757812]"
            ]
          },
          "metadata": {},
          "execution_count": 163
        }
      ]
    },
    {
      "cell_type": "markdown",
      "source": [
        "These are the same scores from before, so everything is working!"
      ],
      "metadata": {
        "id": "--PQ9-rgG0zd"
      }
    },
    {
      "cell_type": "markdown",
      "source": [
        "# Adding the predicted probabilities from the various models to our dataframes\n",
        "\n",
        "## Re-making the image dataset generators\n",
        "\n",
        "To store the predicted probabilities correctly for each image, we now have to re-define the TensorFlow image dataset generators (`rgb_train_ds`, `nl_test_ds`, etc.) that will be used for model evaluation.  This is because, in order to match the predicted probabilites we obtain using `model.predict()` with the names of the images for which those predictions were made, we must use the image dataset generator's `.file_paths` attribute.  But since we initialized the image dataset generator without specifying `shuffle=False`, then the order of the images it generates from the directories *changes* each time we perform any operation (even if we specified a `seed` value!), making the `.file_paths` no longer correctly represent the order in which the neural network processes the image.\n",
        "\n",
        "Thus, unless we specify `shuffle=False` when creating the image dataset generator, we will not be able to match the CNN models' predictions with the names of the images from which the predictions were made.  We did *not* specify `shuffle=False` when we *trained* the models, as it was important to shuffle the observations to achieve better results: similary-named images come from similar locations, and it is not good to throw too many similar images at the model in a row during training!  However, we now specify `shuffle=False` when we re-make the image dataset generators."
      ],
      "metadata": {
        "id": "naWqP_sZ-Rlc"
      }
    },
    {
      "cell_type": "markdown",
      "source": [
        "#### NIGHTLIGHTS (needs a different set of code since we have to resize the images)"
      ],
      "metadata": {
        "id": "TqRzqB0aBBWu"
      }
    },
    {
      "cell_type": "code",
      "source": [
        "NIGHTLIGHTS_image_path = '../data/dhs_images_separated/NIGHTLIGHTS'"
      ],
      "metadata": {
        "id": "4hC06QcCcXLi"
      },
      "execution_count": null,
      "outputs": []
    },
    {
      "cell_type": "code",
      "source": [
        "NIGHTLIGHTS_train_ds1 = image_dataset_from_directory(\n",
        "    f\"{nl_image_path}/train\",\n",
        "    label_mode = 'binary',\n",
        "    batch_size = 32,\n",
        "    shuffle=False,\n",
        "    image_size = nl_image_resize\n",
        ")"
      ],
      "metadata": {
        "colab": {
          "base_uri": "https://localhost:8080/"
        },
        "outputId": "47b9c0b1-6346-4c8c-ed1e-68ae51a0dbca",
        "id": "dVIAzvzuA6Aa"
      },
      "execution_count": null,
      "outputs": [
        {
          "output_type": "stream",
          "name": "stdout",
          "text": [
            "Found 17520 files belonging to 2 classes.\n"
          ]
        }
      ]
    },
    {
      "cell_type": "code",
      "source": [
        "NIGHTLIGHTS_test_ds1 = image_dataset_from_directory(\n",
        "    f\"{nl_image_path}/test\",\n",
        "    label_mode = 'binary',\n",
        "    batch_size = 32,\n",
        "    shuffle=False,\n",
        "    image_size = nl_image_resize\n",
        ")"
      ],
      "metadata": {
        "colab": {
          "base_uri": "https://localhost:8080/"
        },
        "outputId": "d5cf5768-6ed8-49ac-af0e-191b28359820",
        "id": "2N25mHtqA6Ag"
      },
      "execution_count": null,
      "outputs": [
        {
          "output_type": "stream",
          "name": "stdout",
          "text": [
            "Found 974 files belonging to 2 classes.\n"
          ]
        }
      ]
    },
    {
      "cell_type": "code",
      "source": [
        "NIGHTLIGHTS_val_ds1 = image_dataset_from_directory(\n",
        "    f\"{nl_image_path}/val\",\n",
        "    label_mode = 'binary',\n",
        "    batch_size = 32,\n",
        "    shuffle=False,\n",
        "    image_size = nl_image_resize\n",
        ")"
      ],
      "metadata": {
        "colab": {
          "base_uri": "https://localhost:8080/"
        },
        "outputId": "62cff6d9-6865-4bb3-fa18-9d69e6c814a9",
        "id": "c6J1WyZiA6Ah"
      },
      "execution_count": null,
      "outputs": [
        {
          "output_type": "stream",
          "name": "stdout",
          "text": [
            "Found 973 files belonging to 2 classes.\n"
          ]
        }
      ]
    },
    {
      "cell_type": "markdown",
      "source": [
        "#### RGB, NIR, SWIR1, SWIR2, and TEMP1"
      ],
      "metadata": {
        "id": "SZ1HD1--BDxe"
      }
    },
    {
      "cell_type": "code",
      "source": [
        "RGB_image_path = '../data/dhs_images_separated/RGB'\n",
        "NIR_image_path = '../data/dhs_images_separated/NIR'\n",
        "SWIR1_image_path = '../data/dhs_images_separated/SWIR1'\n",
        "SWIR2_image_path = '../data/dhs_images_separated/SWIR2'\n",
        "TEMP1_image_path = '../data/dhs_images_separated/TEMP1'"
      ],
      "metadata": {
        "id": "Tar9yNRMbzEp"
      },
      "execution_count": null,
      "outputs": []
    },
    {
      "cell_type": "code",
      "source": [
        "channels = ['RGB', 'NIR', 'SWIR1', 'SWIR2', 'TEMP1']\n",
        "kinds = ['train', 'test', 'val']\n",
        "\n",
        "for kind, channel in itertools.product(kinds, channels):\n",
        "    #Get the path to the images from this channel\n",
        "    image_path = locals()[f\"{channel}_image_path\"]\n",
        "\n",
        "    #Make the Tensorflow image dataset generator object for this kind and channel\n",
        "    locals()[f\"{channel}_{kind}_ds1\"] =  image_dataset_from_directory(\n",
        "                                               f\"{image_path}/{kind}\",\n",
        "                                               label_mode = 'binary',\n",
        "                                               batch_size = 32,\n",
        "                                               shuffle=False,\n",
        "                                               image_size=[255,255]\n",
        "                                              )"
      ],
      "metadata": {
        "colab": {
          "base_uri": "https://localhost:8080/"
        },
        "id": "MPieZiAjbFBf",
        "outputId": "2fa57b90-63e7-4ad8-a545-aece5f8ebbeb"
      },
      "execution_count": null,
      "outputs": [
        {
          "output_type": "stream",
          "name": "stdout",
          "text": [
            "Found 17520 files belonging to 2 classes.\n",
            "Found 17520 files belonging to 2 classes.\n",
            "Found 17520 files belonging to 2 classes.\n",
            "Found 17520 files belonging to 2 classes.\n",
            "Found 17520 files belonging to 2 classes.\n",
            "Found 974 files belonging to 2 classes.\n",
            "Found 974 files belonging to 2 classes.\n",
            "Found 974 files belonging to 2 classes.\n",
            "Found 974 files belonging to 2 classes.\n",
            "Found 974 files belonging to 2 classes.\n",
            "Found 973 files belonging to 2 classes.\n",
            "Found 973 files belonging to 2 classes.\n",
            "Found 973 files belonging to 2 classes.\n",
            "Found 973 files belonging to 2 classes.\n",
            "Found 973 files belonging to 2 classes.\n"
          ]
        }
      ]
    },
    {
      "cell_type": "markdown",
      "source": [
        "## Make a list of the filenames (in the same order that they will be processed / predicted by our NN models)"
      ],
      "metadata": {
        "id": "MwUGwpbPc0hF"
      }
    },
    {
      "cell_type": "markdown",
      "source": [
        "#### Get RGB Filenames"
      ],
      "metadata": {
        "id": "ekY73pa7ClWS"
      }
    },
    {
      "cell_type": "code",
      "source": [
        "#Get the RGB file paths, which includes files from both the \"0\" folder and the \"1\" folder\n",
        "#(corresponding respectively to those images that are not, or that are, in the poorest third)\n",
        "rgb_test_filepaths = rgb_test_ds1.file_paths\n",
        "rgb_test_filepaths[:5]"
      ],
      "metadata": {
        "colab": {
          "base_uri": "https://localhost:8080/"
        },
        "id": "94d4fYlUbdZ2",
        "outputId": "d5d9962c-6e53-4b05-fd50-ce94bcfcd460"
      },
      "execution_count": null,
      "outputs": [
        {
          "output_type": "execute_result",
          "data": {
            "text/plain": [
              "['../data/dhs_images_separated/RGB/test/0/angola_2011_00-105.jpg',\n",
              " '../data/dhs_images_separated/RGB/test/0/angola_2011_00-117.jpg',\n",
              " '../data/dhs_images_separated/RGB/test/0/angola_2011_00-121.jpg',\n",
              " '../data/dhs_images_separated/RGB/test/0/angola_2011_00-182.jpg',\n",
              " '../data/dhs_images_separated/RGB/test/0/angola_2011_00-202.jpg']"
            ]
          },
          "metadata": {},
          "execution_count": 285
        }
      ]
    },
    {
      "cell_type": "code",
      "source": [
        "#Extract the file NAMES for the RGB files\n",
        "rgb_test_filenames = [ s.split('/')[-1].split('.')[0] for s in rgb_test_filepaths]\n",
        "rgb_test_filenames[:5]"
      ],
      "metadata": {
        "colab": {
          "base_uri": "https://localhost:8080/"
        },
        "id": "4KsQQM33dEyB",
        "outputId": "7ef93ef5-51f6-4d31-a527-6a72404e24b6"
      },
      "execution_count": null,
      "outputs": [
        {
          "output_type": "execute_result",
          "data": {
            "text/plain": [
              "['angola_2011_00-105',\n",
              " 'angola_2011_00-117',\n",
              " 'angola_2011_00-121',\n",
              " 'angola_2011_00-182',\n",
              " 'angola_2011_00-202']"
            ]
          },
          "metadata": {},
          "execution_count": 286
        }
      ]
    },
    {
      "cell_type": "code",
      "source": [
        "#Do the same for the RGB train and val data\n",
        "for kind in ['train', 'val']:\n",
        "    locals()[f\"rgb_{kind}_filenames\"] = [s.split('/')[-1].split('.')[0] for s in locals()[f\"rgb_{kind}_ds1\"].file_paths]"
      ],
      "metadata": {
        "id": "P-mJiTZQeG4f"
      },
      "execution_count": null,
      "outputs": []
    },
    {
      "cell_type": "code",
      "source": [
        "#Check that this worked\n",
        "rgb_val_filenames[:5]"
      ],
      "metadata": {
        "colab": {
          "base_uri": "https://localhost:8080/"
        },
        "id": "My47s8WMe22j",
        "outputId": "d8eebad0-8515-4438-819f-0fb44596dd25"
      },
      "execution_count": null,
      "outputs": [
        {
          "output_type": "execute_result",
          "data": {
            "text/plain": [
              "['angola_2011_00-129',\n",
              " 'angola_2011_00-46',\n",
              " 'angola_2011_00-59',\n",
              " 'angola_2011_00-6',\n",
              " 'angola_2015_00-121']"
            ]
          },
          "metadata": {},
          "execution_count": 288
        }
      ]
    },
    {
      "cell_type": "code",
      "source": [
        "#Check that we have the correct number of image names for train, test, and val data\n",
        "len(rgb_train_filenames), len(rgb_test_filenames), len(rgb_val_filenames)"
      ],
      "metadata": {
        "colab": {
          "base_uri": "https://localhost:8080/"
        },
        "id": "vnxUKNuhexS-",
        "outputId": "85ce203f-4cd3-4094-851e-e58e10aadefd"
      },
      "execution_count": null,
      "outputs": [
        {
          "output_type": "execute_result",
          "data": {
            "text/plain": [
              "(17520, 974, 973)"
            ]
          },
          "metadata": {},
          "execution_count": 289
        }
      ]
    },
    {
      "cell_type": "markdown",
      "source": [
        "#### Get NIGHLIGHTS file names (and check that they're the same as the RGB ones)"
      ],
      "metadata": {
        "id": "nYnk0aMhfgPc"
      }
    },
    {
      "cell_type": "code",
      "source": [
        "for kind in ['train', 'test', 'val']:\n",
        "    locals()[f\"nl_{kind}_filenames\"] = [s.split('/')[-1].split('.')[0] for s in locals()[f\"nl_{kind}_ds1\"].file_paths]"
      ],
      "metadata": {
        "id": "bdHCSONrfh7Q"
      },
      "execution_count": null,
      "outputs": []
    },
    {
      "cell_type": "code",
      "source": [
        "nl_test_filenames[:5]"
      ],
      "metadata": {
        "colab": {
          "base_uri": "https://localhost:8080/"
        },
        "id": "1ykqx5IvhYOh",
        "outputId": "2c4dc24b-f90a-46ff-b55a-71c7ed94ae87"
      },
      "execution_count": null,
      "outputs": [
        {
          "output_type": "execute_result",
          "data": {
            "text/plain": [
              "['angola_2011_00-105',\n",
              " 'angola_2011_00-117',\n",
              " 'angola_2011_00-121',\n",
              " 'angola_2011_00-182',\n",
              " 'angola_2011_00-202']"
            ]
          },
          "metadata": {},
          "execution_count": 291
        }
      ]
    },
    {
      "cell_type": "markdown",
      "source": [
        "These appear to be in the same order as they were for the RGB images, even though the data come from different folders.  Are they all the same?"
      ],
      "metadata": {
        "id": "1l4odzpvhf2U"
      }
    },
    {
      "cell_type": "code",
      "source": [
        "( nl_train_filenames == rgb_train_filenames,\n",
        " nl_test_filenames == rgb_test_filenames,\n",
        " nl_val_filenames == rgb_val_filenames)"
      ],
      "metadata": {
        "colab": {
          "base_uri": "https://localhost:8080/"
        },
        "id": "N6AQfA9zfjQ5",
        "outputId": "c37e5d5a-3a9c-49a6-8204-7a811d8a3671"
      },
      "execution_count": null,
      "outputs": [
        {
          "output_type": "execute_result",
          "data": {
            "text/plain": [
              "(True, True, True)"
            ]
          },
          "metadata": {},
          "execution_count": 292
        }
      ]
    },
    {
      "cell_type": "markdown",
      "source": [
        "They are!  So we can use just one list of names for all the image channels - there's no need to extract the names again for the other channels."
      ],
      "metadata": {
        "id": "EFSPKffxhqbD"
      }
    },
    {
      "cell_type": "code",
      "source": [
        "train_filenames = rgb_train_filenames\n",
        "test_filenames = rgb_test_filenames\n",
        "val_filenames = rgb_val_filenames"
      ],
      "metadata": {
        "id": "x8vx6xUWhy_Q"
      },
      "execution_count": null,
      "outputs": []
    },
    {
      "cell_type": "markdown",
      "source": [
        "## Add the predicted probabilities of `is_poorest` to our dataframes: an example"
      ],
      "metadata": {
        "id": "dCIRKkCJZVaO"
      }
    },
    {
      "cell_type": "code",
      "source": [
        "#Get the predicted probabilities (from the RGB model) of is_poorest on the test data\n",
        "rgb_test_preds = [x[0] for x in rgb_model.predict(rgb_test_ds1)]\n",
        "\n",
        "#Look at the first 5\n",
        "rgb_test_preds[:5]"
      ],
      "metadata": {
        "colab": {
          "base_uri": "https://localhost:8080/"
        },
        "id": "W75r-SiCJoYp",
        "outputId": "732c8f73-4f4a-4a12-ac05-05b911b0a4d1"
      },
      "execution_count": null,
      "outputs": [
        {
          "output_type": "stream",
          "name": "stdout",
          "text": [
            "31/31 [==============================] - 2s 56ms/step\n"
          ]
        },
        {
          "output_type": "execute_result",
          "data": {
            "text/plain": [
              "[0.36989933, 0.008489091, 0.010736398, 0.09835177, 0.057097726]"
            ]
          },
          "metadata": {},
          "execution_count": 298
        }
      ]
    },
    {
      "cell_type": "code",
      "source": [
        "#Make a dictionary mapping image names `angolga_2011_00-123` etc. to predicted probabilities\n",
        "rgb_test_preds_dict = {test_filenames[i] : rgb_test_preds[i] for i in range(len(test_filenames))}"
      ],
      "metadata": {
        "id": "rQVpkgopoDv3"
      },
      "execution_count": null,
      "outputs": []
    },
    {
      "cell_type": "code",
      "source": [
        "#Add this column to our test data dataframe `test`\n",
        "test['RGB_prob_is_poorest'] = test.index.map(lambda x : rgb_test_preds_dict[x])\n",
        "test.head()"
      ],
      "metadata": {
        "colab": {
          "base_uri": "https://localhost:8080/",
          "height": 238
        },
        "id": "2pJHtJvjJogH",
        "outputId": "14840369-1b53-4bf9-9389-4960fd1b1ab0"
      },
      "execution_count": null,
      "outputs": [
        {
          "output_type": "execute_result",
          "data": {
            "text/plain": [
              "                       country    year  ...  is_poorest  RGB_prob_is_poorest\n",
              "index                                   ...                                 \n",
              "kenya_2014_17-28         kenya  2014.0  ...           0             0.412457\n",
              "kenya_2014_31-11         kenya  2014.0  ...           0             0.389613\n",
              "zimbabwe_2015_00-334  zimbabwe  2015.0  ...           0             0.093095\n",
              "lesotho_2009_00-370    lesotho  2009.0  ...           0             0.153861\n",
              "zambia_2013_00-466      zambia  2013.0  ...           1             0.394201\n",
              "\n",
              "[5 rows x 9 columns]"
            ],
            "text/html": [
              "\n",
              "  <div id=\"df-25ce8333-9c4e-4ae9-a491-8137fb68792c\">\n",
              "    <div class=\"colab-df-container\">\n",
              "      <div>\n",
              "<style scoped>\n",
              "    .dataframe tbody tr th:only-of-type {\n",
              "        vertical-align: middle;\n",
              "    }\n",
              "\n",
              "    .dataframe tbody tr th {\n",
              "        vertical-align: top;\n",
              "    }\n",
              "\n",
              "    .dataframe thead th {\n",
              "        text-align: right;\n",
              "    }\n",
              "</style>\n",
              "<table border=\"1\" class=\"dataframe\">\n",
              "  <thead>\n",
              "    <tr style=\"text-align: right;\">\n",
              "      <th></th>\n",
              "      <th>country</th>\n",
              "      <th>year</th>\n",
              "      <th>wealth_index</th>\n",
              "      <th>is_urban</th>\n",
              "      <th>households</th>\n",
              "      <th>latitude</th>\n",
              "      <th>longitude</th>\n",
              "      <th>is_poorest</th>\n",
              "      <th>RGB_prob_is_poorest</th>\n",
              "    </tr>\n",
              "    <tr>\n",
              "      <th>index</th>\n",
              "      <th></th>\n",
              "      <th></th>\n",
              "      <th></th>\n",
              "      <th></th>\n",
              "      <th></th>\n",
              "      <th></th>\n",
              "      <th></th>\n",
              "      <th></th>\n",
              "      <th></th>\n",
              "    </tr>\n",
              "  </thead>\n",
              "  <tbody>\n",
              "    <tr>\n",
              "      <th>kenya_2014_17-28</th>\n",
              "      <td>kenya</td>\n",
              "      <td>2014.0</td>\n",
              "      <td>-0.199972</td>\n",
              "      <td>1.0</td>\n",
              "      <td>20.0</td>\n",
              "      <td>-0.907212</td>\n",
              "      <td>34.582047</td>\n",
              "      <td>0</td>\n",
              "      <td>0.412457</td>\n",
              "    </tr>\n",
              "    <tr>\n",
              "      <th>kenya_2014_31-11</th>\n",
              "      <td>kenya</td>\n",
              "      <td>2014.0</td>\n",
              "      <td>-0.311057</td>\n",
              "      <td>0.0</td>\n",
              "      <td>23.0</td>\n",
              "      <td>0.541424</td>\n",
              "      <td>34.334202</td>\n",
              "      <td>0</td>\n",
              "      <td>0.389613</td>\n",
              "    </tr>\n",
              "    <tr>\n",
              "      <th>zimbabwe_2015_00-334</th>\n",
              "      <td>zimbabwe</td>\n",
              "      <td>2015.0</td>\n",
              "      <td>1.621408</td>\n",
              "      <td>1.0</td>\n",
              "      <td>28.0</td>\n",
              "      <td>-18.985624</td>\n",
              "      <td>32.593941</td>\n",
              "      <td>0</td>\n",
              "      <td>0.093095</td>\n",
              "    </tr>\n",
              "    <tr>\n",
              "      <th>lesotho_2009_00-370</th>\n",
              "      <td>lesotho</td>\n",
              "      <td>2009.0</td>\n",
              "      <td>-0.373018</td>\n",
              "      <td>0.0</td>\n",
              "      <td>21.0</td>\n",
              "      <td>-29.093271</td>\n",
              "      <td>27.666286</td>\n",
              "      <td>0</td>\n",
              "      <td>0.153861</td>\n",
              "    </tr>\n",
              "    <tr>\n",
              "      <th>zambia_2013_00-466</th>\n",
              "      <td>zambia</td>\n",
              "      <td>2013.0</td>\n",
              "      <td>-0.556459</td>\n",
              "      <td>0.0</td>\n",
              "      <td>23.0</td>\n",
              "      <td>-17.476536</td>\n",
              "      <td>26.537828</td>\n",
              "      <td>1</td>\n",
              "      <td>0.394201</td>\n",
              "    </tr>\n",
              "  </tbody>\n",
              "</table>\n",
              "</div>\n",
              "      <button class=\"colab-df-convert\" onclick=\"convertToInteractive('df-25ce8333-9c4e-4ae9-a491-8137fb68792c')\"\n",
              "              title=\"Convert this dataframe to an interactive table.\"\n",
              "              style=\"display:none;\">\n",
              "        \n",
              "  <svg xmlns=\"http://www.w3.org/2000/svg\" height=\"24px\"viewBox=\"0 0 24 24\"\n",
              "       width=\"24px\">\n",
              "    <path d=\"M0 0h24v24H0V0z\" fill=\"none\"/>\n",
              "    <path d=\"M18.56 5.44l.94 2.06.94-2.06 2.06-.94-2.06-.94-.94-2.06-.94 2.06-2.06.94zm-11 1L8.5 8.5l.94-2.06 2.06-.94-2.06-.94L8.5 2.5l-.94 2.06-2.06.94zm10 10l.94 2.06.94-2.06 2.06-.94-2.06-.94-.94-2.06-.94 2.06-2.06.94z\"/><path d=\"M17.41 7.96l-1.37-1.37c-.4-.4-.92-.59-1.43-.59-.52 0-1.04.2-1.43.59L10.3 9.45l-7.72 7.72c-.78.78-.78 2.05 0 2.83L4 21.41c.39.39.9.59 1.41.59.51 0 1.02-.2 1.41-.59l7.78-7.78 2.81-2.81c.8-.78.8-2.07 0-2.86zM5.41 20L4 18.59l7.72-7.72 1.47 1.35L5.41 20z\"/>\n",
              "  </svg>\n",
              "      </button>\n",
              "      \n",
              "  <style>\n",
              "    .colab-df-container {\n",
              "      display:flex;\n",
              "      flex-wrap:wrap;\n",
              "      gap: 12px;\n",
              "    }\n",
              "\n",
              "    .colab-df-convert {\n",
              "      background-color: #E8F0FE;\n",
              "      border: none;\n",
              "      border-radius: 50%;\n",
              "      cursor: pointer;\n",
              "      display: none;\n",
              "      fill: #1967D2;\n",
              "      height: 32px;\n",
              "      padding: 0 0 0 0;\n",
              "      width: 32px;\n",
              "    }\n",
              "\n",
              "    .colab-df-convert:hover {\n",
              "      background-color: #E2EBFA;\n",
              "      box-shadow: 0px 1px 2px rgba(60, 64, 67, 0.3), 0px 1px 3px 1px rgba(60, 64, 67, 0.15);\n",
              "      fill: #174EA6;\n",
              "    }\n",
              "\n",
              "    [theme=dark] .colab-df-convert {\n",
              "      background-color: #3B4455;\n",
              "      fill: #D2E3FC;\n",
              "    }\n",
              "\n",
              "    [theme=dark] .colab-df-convert:hover {\n",
              "      background-color: #434B5C;\n",
              "      box-shadow: 0px 1px 3px 1px rgba(0, 0, 0, 0.15);\n",
              "      filter: drop-shadow(0px 1px 2px rgba(0, 0, 0, 0.3));\n",
              "      fill: #FFFFFF;\n",
              "    }\n",
              "  </style>\n",
              "\n",
              "      <script>\n",
              "        const buttonEl =\n",
              "          document.querySelector('#df-25ce8333-9c4e-4ae9-a491-8137fb68792c button.colab-df-convert');\n",
              "        buttonEl.style.display =\n",
              "          google.colab.kernel.accessAllowed ? 'block' : 'none';\n",
              "\n",
              "        async function convertToInteractive(key) {\n",
              "          const element = document.querySelector('#df-25ce8333-9c4e-4ae9-a491-8137fb68792c');\n",
              "          const dataTable =\n",
              "            await google.colab.kernel.invokeFunction('convertToInteractive',\n",
              "                                                     [key], {});\n",
              "          if (!dataTable) return;\n",
              "\n",
              "          const docLinkHtml = 'Like what you see? Visit the ' +\n",
              "            '<a target=\"_blank\" href=https://colab.research.google.com/notebooks/data_table.ipynb>data table notebook</a>'\n",
              "            + ' to learn more about interactive tables.';\n",
              "          element.innerHTML = '';\n",
              "          dataTable['output_type'] = 'display_data';\n",
              "          await google.colab.output.renderOutput(dataTable, element);\n",
              "          const docLink = document.createElement('div');\n",
              "          docLink.innerHTML = docLinkHtml;\n",
              "          element.appendChild(docLink);\n",
              "        }\n",
              "      </script>\n",
              "    </div>\n",
              "  </div>\n",
              "  "
            ]
          },
          "metadata": {},
          "execution_count": 300
        }
      ]
    },
    {
      "cell_type": "code",
      "source": [
        "# Add the predictions as single values instead of probabilities\n",
        "test['RGB_pred'] = test['RGB_prob_is_poorest'].map(lambda x : int(x>.5) )\n",
        "test.head()"
      ],
      "metadata": {
        "colab": {
          "base_uri": "https://localhost:8080/",
          "height": 299
        },
        "id": "VLsoMgIdwGQI",
        "outputId": "579428b0-d845-4ae4-f103-40841f96c23b"
      },
      "execution_count": null,
      "outputs": [
        {
          "output_type": "execute_result",
          "data": {
            "text/plain": [
              "                       country    year  ...  RGB_prob_is_poorest  RGB_pred\n",
              "index                                   ...                               \n",
              "kenya_2014_17-28         kenya  2014.0  ...             0.412457         0\n",
              "kenya_2014_31-11         kenya  2014.0  ...             0.389613         0\n",
              "zimbabwe_2015_00-334  zimbabwe  2015.0  ...             0.093095         0\n",
              "lesotho_2009_00-370    lesotho  2009.0  ...             0.153861         0\n",
              "zambia_2013_00-466      zambia  2013.0  ...             0.394201         0\n",
              "\n",
              "[5 rows x 10 columns]"
            ],
            "text/html": [
              "\n",
              "  <div id=\"df-64b1a66d-ae9e-4e0d-bdfd-454339331fb8\">\n",
              "    <div class=\"colab-df-container\">\n",
              "      <div>\n",
              "<style scoped>\n",
              "    .dataframe tbody tr th:only-of-type {\n",
              "        vertical-align: middle;\n",
              "    }\n",
              "\n",
              "    .dataframe tbody tr th {\n",
              "        vertical-align: top;\n",
              "    }\n",
              "\n",
              "    .dataframe thead th {\n",
              "        text-align: right;\n",
              "    }\n",
              "</style>\n",
              "<table border=\"1\" class=\"dataframe\">\n",
              "  <thead>\n",
              "    <tr style=\"text-align: right;\">\n",
              "      <th></th>\n",
              "      <th>country</th>\n",
              "      <th>year</th>\n",
              "      <th>wealth_index</th>\n",
              "      <th>is_urban</th>\n",
              "      <th>households</th>\n",
              "      <th>latitude</th>\n",
              "      <th>longitude</th>\n",
              "      <th>is_poorest</th>\n",
              "      <th>RGB_prob_is_poorest</th>\n",
              "      <th>RGB_pred</th>\n",
              "    </tr>\n",
              "    <tr>\n",
              "      <th>index</th>\n",
              "      <th></th>\n",
              "      <th></th>\n",
              "      <th></th>\n",
              "      <th></th>\n",
              "      <th></th>\n",
              "      <th></th>\n",
              "      <th></th>\n",
              "      <th></th>\n",
              "      <th></th>\n",
              "      <th></th>\n",
              "    </tr>\n",
              "  </thead>\n",
              "  <tbody>\n",
              "    <tr>\n",
              "      <th>kenya_2014_17-28</th>\n",
              "      <td>kenya</td>\n",
              "      <td>2014.0</td>\n",
              "      <td>-0.199972</td>\n",
              "      <td>1.0</td>\n",
              "      <td>20.0</td>\n",
              "      <td>-0.907212</td>\n",
              "      <td>34.582047</td>\n",
              "      <td>0</td>\n",
              "      <td>0.412457</td>\n",
              "      <td>0</td>\n",
              "    </tr>\n",
              "    <tr>\n",
              "      <th>kenya_2014_31-11</th>\n",
              "      <td>kenya</td>\n",
              "      <td>2014.0</td>\n",
              "      <td>-0.311057</td>\n",
              "      <td>0.0</td>\n",
              "      <td>23.0</td>\n",
              "      <td>0.541424</td>\n",
              "      <td>34.334202</td>\n",
              "      <td>0</td>\n",
              "      <td>0.389613</td>\n",
              "      <td>0</td>\n",
              "    </tr>\n",
              "    <tr>\n",
              "      <th>zimbabwe_2015_00-334</th>\n",
              "      <td>zimbabwe</td>\n",
              "      <td>2015.0</td>\n",
              "      <td>1.621408</td>\n",
              "      <td>1.0</td>\n",
              "      <td>28.0</td>\n",
              "      <td>-18.985624</td>\n",
              "      <td>32.593941</td>\n",
              "      <td>0</td>\n",
              "      <td>0.093095</td>\n",
              "      <td>0</td>\n",
              "    </tr>\n",
              "    <tr>\n",
              "      <th>lesotho_2009_00-370</th>\n",
              "      <td>lesotho</td>\n",
              "      <td>2009.0</td>\n",
              "      <td>-0.373018</td>\n",
              "      <td>0.0</td>\n",
              "      <td>21.0</td>\n",
              "      <td>-29.093271</td>\n",
              "      <td>27.666286</td>\n",
              "      <td>0</td>\n",
              "      <td>0.153861</td>\n",
              "      <td>0</td>\n",
              "    </tr>\n",
              "    <tr>\n",
              "      <th>zambia_2013_00-466</th>\n",
              "      <td>zambia</td>\n",
              "      <td>2013.0</td>\n",
              "      <td>-0.556459</td>\n",
              "      <td>0.0</td>\n",
              "      <td>23.0</td>\n",
              "      <td>-17.476536</td>\n",
              "      <td>26.537828</td>\n",
              "      <td>1</td>\n",
              "      <td>0.394201</td>\n",
              "      <td>0</td>\n",
              "    </tr>\n",
              "  </tbody>\n",
              "</table>\n",
              "</div>\n",
              "      <button class=\"colab-df-convert\" onclick=\"convertToInteractive('df-64b1a66d-ae9e-4e0d-bdfd-454339331fb8')\"\n",
              "              title=\"Convert this dataframe to an interactive table.\"\n",
              "              style=\"display:none;\">\n",
              "        \n",
              "  <svg xmlns=\"http://www.w3.org/2000/svg\" height=\"24px\"viewBox=\"0 0 24 24\"\n",
              "       width=\"24px\">\n",
              "    <path d=\"M0 0h24v24H0V0z\" fill=\"none\"/>\n",
              "    <path d=\"M18.56 5.44l.94 2.06.94-2.06 2.06-.94-2.06-.94-.94-2.06-.94 2.06-2.06.94zm-11 1L8.5 8.5l.94-2.06 2.06-.94-2.06-.94L8.5 2.5l-.94 2.06-2.06.94zm10 10l.94 2.06.94-2.06 2.06-.94-2.06-.94-.94-2.06-.94 2.06-2.06.94z\"/><path d=\"M17.41 7.96l-1.37-1.37c-.4-.4-.92-.59-1.43-.59-.52 0-1.04.2-1.43.59L10.3 9.45l-7.72 7.72c-.78.78-.78 2.05 0 2.83L4 21.41c.39.39.9.59 1.41.59.51 0 1.02-.2 1.41-.59l7.78-7.78 2.81-2.81c.8-.78.8-2.07 0-2.86zM5.41 20L4 18.59l7.72-7.72 1.47 1.35L5.41 20z\"/>\n",
              "  </svg>\n",
              "      </button>\n",
              "      \n",
              "  <style>\n",
              "    .colab-df-container {\n",
              "      display:flex;\n",
              "      flex-wrap:wrap;\n",
              "      gap: 12px;\n",
              "    }\n",
              "\n",
              "    .colab-df-convert {\n",
              "      background-color: #E8F0FE;\n",
              "      border: none;\n",
              "      border-radius: 50%;\n",
              "      cursor: pointer;\n",
              "      display: none;\n",
              "      fill: #1967D2;\n",
              "      height: 32px;\n",
              "      padding: 0 0 0 0;\n",
              "      width: 32px;\n",
              "    }\n",
              "\n",
              "    .colab-df-convert:hover {\n",
              "      background-color: #E2EBFA;\n",
              "      box-shadow: 0px 1px 2px rgba(60, 64, 67, 0.3), 0px 1px 3px 1px rgba(60, 64, 67, 0.15);\n",
              "      fill: #174EA6;\n",
              "    }\n",
              "\n",
              "    [theme=dark] .colab-df-convert {\n",
              "      background-color: #3B4455;\n",
              "      fill: #D2E3FC;\n",
              "    }\n",
              "\n",
              "    [theme=dark] .colab-df-convert:hover {\n",
              "      background-color: #434B5C;\n",
              "      box-shadow: 0px 1px 3px 1px rgba(0, 0, 0, 0.15);\n",
              "      filter: drop-shadow(0px 1px 2px rgba(0, 0, 0, 0.3));\n",
              "      fill: #FFFFFF;\n",
              "    }\n",
              "  </style>\n",
              "\n",
              "      <script>\n",
              "        const buttonEl =\n",
              "          document.querySelector('#df-64b1a66d-ae9e-4e0d-bdfd-454339331fb8 button.colab-df-convert');\n",
              "        buttonEl.style.display =\n",
              "          google.colab.kernel.accessAllowed ? 'block' : 'none';\n",
              "\n",
              "        async function convertToInteractive(key) {\n",
              "          const element = document.querySelector('#df-64b1a66d-ae9e-4e0d-bdfd-454339331fb8');\n",
              "          const dataTable =\n",
              "            await google.colab.kernel.invokeFunction('convertToInteractive',\n",
              "                                                     [key], {});\n",
              "          if (!dataTable) return;\n",
              "\n",
              "          const docLinkHtml = 'Like what you see? Visit the ' +\n",
              "            '<a target=\"_blank\" href=https://colab.research.google.com/notebooks/data_table.ipynb>data table notebook</a>'\n",
              "            + ' to learn more about interactive tables.';\n",
              "          element.innerHTML = '';\n",
              "          dataTable['output_type'] = 'display_data';\n",
              "          await google.colab.output.renderOutput(dataTable, element);\n",
              "          const docLink = document.createElement('div');\n",
              "          docLink.innerHTML = docLinkHtml;\n",
              "          element.appendChild(docLink);\n",
              "        }\n",
              "      </script>\n",
              "    </div>\n",
              "  </div>\n",
              "  "
            ]
          },
          "metadata": {},
          "execution_count": 301
        }
      ]
    },
    {
      "cell_type": "markdown",
      "source": [
        "#### Check that the predictions entered into the dataframe correctly match the index"
      ],
      "metadata": {
        "id": "MwEBdpLhq9PG"
      }
    },
    {
      "cell_type": "code",
      "source": [
        "#Get the accuracy score on the test data, using Tensorflow\n",
        "rgb_model.evaluate(rgb_test_ds)"
      ],
      "metadata": {
        "colab": {
          "base_uri": "https://localhost:8080/"
        },
        "id": "_qigwDv1JolF",
        "outputId": "a94c6345-9256-416a-ebcb-3d7eabf53536"
      },
      "execution_count": null,
      "outputs": [
        {
          "output_type": "stream",
          "name": "stdout",
          "text": [
            "31/31 [==============================] - 2s 64ms/step - loss: 0.5023 - acc: 0.7444\n"
          ]
        },
        {
          "output_type": "execute_result",
          "data": {
            "text/plain": [
              "[0.5023045539855957, 0.744353175163269]"
            ]
          },
          "metadata": {},
          "execution_count": 302
        }
      ]
    },
    {
      "cell_type": "code",
      "source": [
        "#Check that our dataframe has everything in the right rows,\n",
        "#by checking that we get the same accuracy score when we compute it manually from the dataframe\n",
        "metrics.accuracy_score(test['is_poorest'], test['RGB_pred'])"
      ],
      "metadata": {
        "colab": {
          "base_uri": "https://localhost:8080/"
        },
        "id": "xYZ7pjweJooW",
        "outputId": "7cb3eba7-a659-40ae-d754-a6d75f525cd8"
      },
      "execution_count": null,
      "outputs": [
        {
          "output_type": "execute_result",
          "data": {
            "text/plain": [
              "0.74435318275154"
            ]
          },
          "metadata": {},
          "execution_count": 303
        }
      ]
    },
    {
      "cell_type": "markdown",
      "source": [
        "We got the same number!  This means that our method correctly matches the RGB model's predictions with the names of the images in the test dataframe.\n",
        "\n",
        "The loop in the next section applies this method to our `train`, `test`, and `val` dataframes.  However, before proceeding, let's drop the discrete predictions column (`RGB_pred`) from the test dataframe, as we only need the dataframes to contain the predicted *probabilites* from the model."
      ],
      "metadata": {
        "id": "RRprbTvDrpTM"
      }
    },
    {
      "cell_type": "code",
      "source": [
        "test = test.drop(columns='RGB_pred')\n",
        "test.head(2)"
      ],
      "metadata": {
        "colab": {
          "base_uri": "https://localhost:8080/",
          "height": 143
        },
        "id": "RC1OK_cgJou2",
        "outputId": "cc5ab05e-436c-48ea-986c-349c32c03330"
      },
      "execution_count": null,
      "outputs": [
        {
          "output_type": "execute_result",
          "data": {
            "text/plain": [
              "                 country    year  ...  is_poorest  RGB_prob_is_poorest\n",
              "index                             ...                                 \n",
              "kenya_2014_17-28   kenya  2014.0  ...           0             0.412457\n",
              "kenya_2014_31-11   kenya  2014.0  ...           0             0.389613\n",
              "\n",
              "[2 rows x 9 columns]"
            ],
            "text/html": [
              "\n",
              "  <div id=\"df-b51af2e6-6654-48d4-bb25-1f6cb462654c\">\n",
              "    <div class=\"colab-df-container\">\n",
              "      <div>\n",
              "<style scoped>\n",
              "    .dataframe tbody tr th:only-of-type {\n",
              "        vertical-align: middle;\n",
              "    }\n",
              "\n",
              "    .dataframe tbody tr th {\n",
              "        vertical-align: top;\n",
              "    }\n",
              "\n",
              "    .dataframe thead th {\n",
              "        text-align: right;\n",
              "    }\n",
              "</style>\n",
              "<table border=\"1\" class=\"dataframe\">\n",
              "  <thead>\n",
              "    <tr style=\"text-align: right;\">\n",
              "      <th></th>\n",
              "      <th>country</th>\n",
              "      <th>year</th>\n",
              "      <th>wealth_index</th>\n",
              "      <th>is_urban</th>\n",
              "      <th>households</th>\n",
              "      <th>latitude</th>\n",
              "      <th>longitude</th>\n",
              "      <th>is_poorest</th>\n",
              "      <th>RGB_prob_is_poorest</th>\n",
              "    </tr>\n",
              "    <tr>\n",
              "      <th>index</th>\n",
              "      <th></th>\n",
              "      <th></th>\n",
              "      <th></th>\n",
              "      <th></th>\n",
              "      <th></th>\n",
              "      <th></th>\n",
              "      <th></th>\n",
              "      <th></th>\n",
              "      <th></th>\n",
              "    </tr>\n",
              "  </thead>\n",
              "  <tbody>\n",
              "    <tr>\n",
              "      <th>kenya_2014_17-28</th>\n",
              "      <td>kenya</td>\n",
              "      <td>2014.0</td>\n",
              "      <td>-0.199972</td>\n",
              "      <td>1.0</td>\n",
              "      <td>20.0</td>\n",
              "      <td>-0.907212</td>\n",
              "      <td>34.582047</td>\n",
              "      <td>0</td>\n",
              "      <td>0.412457</td>\n",
              "    </tr>\n",
              "    <tr>\n",
              "      <th>kenya_2014_31-11</th>\n",
              "      <td>kenya</td>\n",
              "      <td>2014.0</td>\n",
              "      <td>-0.311057</td>\n",
              "      <td>0.0</td>\n",
              "      <td>23.0</td>\n",
              "      <td>0.541424</td>\n",
              "      <td>34.334202</td>\n",
              "      <td>0</td>\n",
              "      <td>0.389613</td>\n",
              "    </tr>\n",
              "  </tbody>\n",
              "</table>\n",
              "</div>\n",
              "      <button class=\"colab-df-convert\" onclick=\"convertToInteractive('df-b51af2e6-6654-48d4-bb25-1f6cb462654c')\"\n",
              "              title=\"Convert this dataframe to an interactive table.\"\n",
              "              style=\"display:none;\">\n",
              "        \n",
              "  <svg xmlns=\"http://www.w3.org/2000/svg\" height=\"24px\"viewBox=\"0 0 24 24\"\n",
              "       width=\"24px\">\n",
              "    <path d=\"M0 0h24v24H0V0z\" fill=\"none\"/>\n",
              "    <path d=\"M18.56 5.44l.94 2.06.94-2.06 2.06-.94-2.06-.94-.94-2.06-.94 2.06-2.06.94zm-11 1L8.5 8.5l.94-2.06 2.06-.94-2.06-.94L8.5 2.5l-.94 2.06-2.06.94zm10 10l.94 2.06.94-2.06 2.06-.94-2.06-.94-.94-2.06-.94 2.06-2.06.94z\"/><path d=\"M17.41 7.96l-1.37-1.37c-.4-.4-.92-.59-1.43-.59-.52 0-1.04.2-1.43.59L10.3 9.45l-7.72 7.72c-.78.78-.78 2.05 0 2.83L4 21.41c.39.39.9.59 1.41.59.51 0 1.02-.2 1.41-.59l7.78-7.78 2.81-2.81c.8-.78.8-2.07 0-2.86zM5.41 20L4 18.59l7.72-7.72 1.47 1.35L5.41 20z\"/>\n",
              "  </svg>\n",
              "      </button>\n",
              "      \n",
              "  <style>\n",
              "    .colab-df-container {\n",
              "      display:flex;\n",
              "      flex-wrap:wrap;\n",
              "      gap: 12px;\n",
              "    }\n",
              "\n",
              "    .colab-df-convert {\n",
              "      background-color: #E8F0FE;\n",
              "      border: none;\n",
              "      border-radius: 50%;\n",
              "      cursor: pointer;\n",
              "      display: none;\n",
              "      fill: #1967D2;\n",
              "      height: 32px;\n",
              "      padding: 0 0 0 0;\n",
              "      width: 32px;\n",
              "    }\n",
              "\n",
              "    .colab-df-convert:hover {\n",
              "      background-color: #E2EBFA;\n",
              "      box-shadow: 0px 1px 2px rgba(60, 64, 67, 0.3), 0px 1px 3px 1px rgba(60, 64, 67, 0.15);\n",
              "      fill: #174EA6;\n",
              "    }\n",
              "\n",
              "    [theme=dark] .colab-df-convert {\n",
              "      background-color: #3B4455;\n",
              "      fill: #D2E3FC;\n",
              "    }\n",
              "\n",
              "    [theme=dark] .colab-df-convert:hover {\n",
              "      background-color: #434B5C;\n",
              "      box-shadow: 0px 1px 3px 1px rgba(0, 0, 0, 0.15);\n",
              "      filter: drop-shadow(0px 1px 2px rgba(0, 0, 0, 0.3));\n",
              "      fill: #FFFFFF;\n",
              "    }\n",
              "  </style>\n",
              "\n",
              "      <script>\n",
              "        const buttonEl =\n",
              "          document.querySelector('#df-b51af2e6-6654-48d4-bb25-1f6cb462654c button.colab-df-convert');\n",
              "        buttonEl.style.display =\n",
              "          google.colab.kernel.accessAllowed ? 'block' : 'none';\n",
              "\n",
              "        async function convertToInteractive(key) {\n",
              "          const element = document.querySelector('#df-b51af2e6-6654-48d4-bb25-1f6cb462654c');\n",
              "          const dataTable =\n",
              "            await google.colab.kernel.invokeFunction('convertToInteractive',\n",
              "                                                     [key], {});\n",
              "          if (!dataTable) return;\n",
              "\n",
              "          const docLinkHtml = 'Like what you see? Visit the ' +\n",
              "            '<a target=\"_blank\" href=https://colab.research.google.com/notebooks/data_table.ipynb>data table notebook</a>'\n",
              "            + ' to learn more about interactive tables.';\n",
              "          element.innerHTML = '';\n",
              "          dataTable['output_type'] = 'display_data';\n",
              "          await google.colab.output.renderOutput(dataTable, element);\n",
              "          const docLink = document.createElement('div');\n",
              "          docLink.innerHTML = docLinkHtml;\n",
              "          element.appendChild(docLink);\n",
              "        }\n",
              "      </script>\n",
              "    </div>\n",
              "  </div>\n",
              "  "
            ]
          },
          "metadata": {},
          "execution_count": 304
        }
      ]
    },
    {
      "cell_type": "markdown",
      "source": [
        "## Add the predicted probabilities of `is_poorest` to our dataframes\n",
        "\n",
        "While we do this, we will also create a 6x6 dataframe of the loss and accuracy scores of the 6 models on the `train`, `test` and `val` datasets."
      ],
      "metadata": {
        "id": "FuyERTJgtTsQ"
      }
    },
    {
      "cell_type": "code",
      "source": [
        "#Make a dictionary of the dataframes\n",
        "dfs_dict = {\n",
        "   'train':train,\n",
        "   'test':test,\n",
        "   'val':val\n",
        "}\n",
        "\n",
        "#Make a dictionary of the models' names\n",
        "models_dict = {\n",
        "    'RGB' : rgb_model,\n",
        "    'NIR': NIR_model,\n",
        "    'SWIR1': SWIR1_model,\n",
        "    'SWIR2': SWIR2_model,\n",
        "    'TEMP1': TEMP1_model,\n",
        "    'NIGHTLIGHTS': nightlights_model\n",
        "}\n"
      ],
      "metadata": {
        "id": "y2sOAgdRv8vb"
      },
      "execution_count": null,
      "outputs": []
    },
    {
      "cell_type": "code",
      "source": [
        "#Initialize a dictionary to store accuracy and loss scores\n",
        "results_dict = { channel : {} for channel in models_dict.keys()}\n",
        "\n",
        "#Loop over train/test/val and the 6 types of images\n",
        "for channel in models_dict.keys():\n",
        "  for kind in dfs_dict.keys():\n",
        "\n",
        "    #Let ds be the image data generator for this kind and channel\n",
        "    ds = locals()[f\"{channel}_{kind}_ds1\"]\n",
        "\n",
        "    #Get the model for this channel\n",
        "    model = models_dict[channel]\n",
        "\n",
        "    #Get a list of predicted probabilities from the model for this channel\n",
        "    preds = [x[0] for x in model.predict(ds)]\n",
        "\n",
        "    #Get the image filenames for this kind (train, test, or val)\n",
        "    filenames = locals()[f\"{kind}_filenames\"]\n",
        "\n",
        "    #Make a dictionary mapping image names to predicted probabilities\n",
        "    preds_dict = {filenames[i] : preds[i] for i in range(len(filenames))}\n",
        "\n",
        "    #Add this dict as a column in the appropriate kind of dataframe\n",
        "    dfs_dict[kind][f\"{channel}_prob_is_poorest\"] = dfs_dict[kind].index.map(lambda x : preds_dict[x])\n",
        "\n",
        "    #While we're at it, store the accuracy and loss scores\n",
        "    loss, acc = model.evaluate(ds)\n",
        "    results_dict[channel][f\"{kind}_loss\"] = loss\n",
        "    results_dict[channel][f\"{kind}_acc\"] = acc\n",
        "\n",
        "\n",
        "#Turn the accuracy and loss results into a dataframe\n",
        "results_df = pd.DataFrame(results_dict).T"
      ],
      "metadata": {
        "colab": {
          "base_uri": "https://localhost:8080/"
        },
        "id": "LjxBSNjhtdg1",
        "outputId": "8a2f3efa-1f89-4df5-f0d1-3b29366ae8b0"
      },
      "execution_count": null,
      "outputs": [
        {
          "output_type": "stream",
          "name": "stdout",
          "text": [
            "548/548 [==============================] - 30s 54ms/step\n",
            "548/548 [==============================] - 35s 64ms/step - loss: 0.4931 - acc: 0.7409\n",
            "31/31 [==============================] - 2s 55ms/step\n",
            "31/31 [==============================] - 2s 64ms/step - loss: 0.5023 - acc: 0.7444\n",
            "31/31 [==============================] - 2s 55ms/step\n",
            "31/31 [==============================] - 2s 64ms/step - loss: 0.4984 - acc: 0.7410\n",
            "548/548 [==============================] - 29s 53ms/step\n",
            "548/548 [==============================] - 35s 63ms/step - loss: 0.5276 - acc: 0.7204\n",
            "31/31 [==============================] - 2s 53ms/step\n",
            "31/31 [==============================] - 2s 64ms/step - loss: 0.5622 - acc: 0.6899\n",
            "31/31 [==============================] - 2s 54ms/step\n",
            "31/31 [==============================] - 2s 64ms/step - loss: 0.5353 - acc: 0.7071\n",
            "548/548 [==============================] - 30s 54ms/step\n",
            "548/548 [==============================] - 35s 63ms/step - loss: 0.5210 - acc: 0.7261\n",
            "31/31 [==============================] - 2s 54ms/step\n",
            "31/31 [==============================] - 2s 62ms/step - loss: 0.5391 - acc: 0.7125\n",
            "31/31 [==============================] - 2s 54ms/step\n",
            "31/31 [==============================] - 2s 62ms/step - loss: 0.5360 - acc: 0.7061\n",
            "548/548 [==============================] - 30s 55ms/step\n",
            "548/548 [==============================] - 35s 64ms/step - loss: 0.5107 - acc: 0.7349\n",
            "31/31 [==============================] - 2s 55ms/step\n",
            "31/31 [==============================] - 2s 64ms/step - loss: 0.5456 - acc: 0.7064\n",
            "31/31 [==============================] - 2s 54ms/step\n",
            "31/31 [==============================] - 2s 64ms/step - loss: 0.5273 - acc: 0.7194\n",
            "548/548 [==============================] - 29s 53ms/step\n",
            "548/548 [==============================] - 35s 65ms/step - loss: 0.5632 - acc: 0.7016\n",
            "31/31 [==============================] - 2s 54ms/step\n",
            "31/31 [==============================] - 2s 64ms/step - loss: 0.5697 - acc: 0.6961\n",
            "31/31 [==============================] - 2s 53ms/step\n",
            "31/31 [==============================] - 2s 64ms/step - loss: 0.5624 - acc: 0.6989\n",
            "548/548 [==============================] - 22s 40ms/step\n",
            "548/548 [==============================] - 22s 41ms/step - loss: 0.4891 - acc: 0.7554\n",
            "31/31 [==============================] - 1s 39ms/step\n",
            "31/31 [==============================] - 1s 42ms/step - loss: 0.5029 - acc: 0.7464\n",
            "31/31 [==============================] - 1s 39ms/step\n",
            "31/31 [==============================] - 1s 42ms/step - loss: 0.4605 - acc: 0.7646\n"
          ]
        }
      ]
    },
    {
      "cell_type": "markdown",
      "source": [
        "#### Check that it worked"
      ],
      "metadata": {
        "id": "JHA923ES4Ai-"
      }
    },
    {
      "cell_type": "code",
      "source": [
        "train.head(2)"
      ],
      "metadata": {
        "colab": {
          "base_uri": "https://localhost:8080/",
          "height": 225
        },
        "id": "gLZnXjQp3neg",
        "outputId": "0672b83f-2173-42e9-c221-adeed51cd714"
      },
      "execution_count": null,
      "outputs": [
        {
          "output_type": "execute_result",
          "data": {
            "text/plain": [
              "                               country  ...  SWIR2_prob_is_poorest\n",
              "index                                   ...                       \n",
              "lesotho_2014_00-254            lesotho  ...               0.143754\n",
              "burkina_faso_2010_00-162  burkina_faso  ...               0.384060\n",
              "\n",
              "[2 rows x 14 columns]"
            ],
            "text/html": [
              "\n",
              "  <div id=\"df-7dd39b24-d52b-41ea-b3eb-a2f0b657458c\">\n",
              "    <div class=\"colab-df-container\">\n",
              "      <div>\n",
              "<style scoped>\n",
              "    .dataframe tbody tr th:only-of-type {\n",
              "        vertical-align: middle;\n",
              "    }\n",
              "\n",
              "    .dataframe tbody tr th {\n",
              "        vertical-align: top;\n",
              "    }\n",
              "\n",
              "    .dataframe thead th {\n",
              "        text-align: right;\n",
              "    }\n",
              "</style>\n",
              "<table border=\"1\" class=\"dataframe\">\n",
              "  <thead>\n",
              "    <tr style=\"text-align: right;\">\n",
              "      <th></th>\n",
              "      <th>country</th>\n",
              "      <th>year</th>\n",
              "      <th>wealth_index</th>\n",
              "      <th>is_urban</th>\n",
              "      <th>households</th>\n",
              "      <th>latitude</th>\n",
              "      <th>longitude</th>\n",
              "      <th>is_poorest</th>\n",
              "      <th>RGB_prob_is_poorest</th>\n",
              "      <th>SWIR1_prob_is_poorest</th>\n",
              "      <th>TEMP1_prob_is_poorest</th>\n",
              "      <th>NIGHTLIGHTS_prob_is_poorest</th>\n",
              "      <th>NIR_prob_is_poorest</th>\n",
              "      <th>SWIR2_prob_is_poorest</th>\n",
              "    </tr>\n",
              "    <tr>\n",
              "      <th>index</th>\n",
              "      <th></th>\n",
              "      <th></th>\n",
              "      <th></th>\n",
              "      <th></th>\n",
              "      <th></th>\n",
              "      <th></th>\n",
              "      <th></th>\n",
              "      <th></th>\n",
              "      <th></th>\n",
              "      <th></th>\n",
              "      <th></th>\n",
              "      <th></th>\n",
              "      <th></th>\n",
              "      <th></th>\n",
              "    </tr>\n",
              "  </thead>\n",
              "  <tbody>\n",
              "    <tr>\n",
              "      <th>lesotho_2014_00-254</th>\n",
              "      <td>lesotho</td>\n",
              "      <td>2014.0</td>\n",
              "      <td>0.983558</td>\n",
              "      <td>1.0</td>\n",
              "      <td>24.0</td>\n",
              "      <td>-28.909042</td>\n",
              "      <td>27.936529</td>\n",
              "      <td>0</td>\n",
              "      <td>0.062643</td>\n",
              "      <td>0.127830</td>\n",
              "      <td>0.187977</td>\n",
              "      <td>0.036982</td>\n",
              "      <td>0.071136</td>\n",
              "      <td>0.143754</td>\n",
              "    </tr>\n",
              "    <tr>\n",
              "      <th>burkina_faso_2010_00-162</th>\n",
              "      <td>burkina_faso</td>\n",
              "      <td>2010.0</td>\n",
              "      <td>-0.604069</td>\n",
              "      <td>0.0</td>\n",
              "      <td>25.0</td>\n",
              "      <td>11.163129</td>\n",
              "      <td>-3.322228</td>\n",
              "      <td>1</td>\n",
              "      <td>0.399560</td>\n",
              "      <td>0.303285</td>\n",
              "      <td>0.315730</td>\n",
              "      <td>0.656919</td>\n",
              "      <td>0.228373</td>\n",
              "      <td>0.384060</td>\n",
              "    </tr>\n",
              "  </tbody>\n",
              "</table>\n",
              "</div>\n",
              "      <button class=\"colab-df-convert\" onclick=\"convertToInteractive('df-7dd39b24-d52b-41ea-b3eb-a2f0b657458c')\"\n",
              "              title=\"Convert this dataframe to an interactive table.\"\n",
              "              style=\"display:none;\">\n",
              "        \n",
              "  <svg xmlns=\"http://www.w3.org/2000/svg\" height=\"24px\"viewBox=\"0 0 24 24\"\n",
              "       width=\"24px\">\n",
              "    <path d=\"M0 0h24v24H0V0z\" fill=\"none\"/>\n",
              "    <path d=\"M18.56 5.44l.94 2.06.94-2.06 2.06-.94-2.06-.94-.94-2.06-.94 2.06-2.06.94zm-11 1L8.5 8.5l.94-2.06 2.06-.94-2.06-.94L8.5 2.5l-.94 2.06-2.06.94zm10 10l.94 2.06.94-2.06 2.06-.94-2.06-.94-.94-2.06-.94 2.06-2.06.94z\"/><path d=\"M17.41 7.96l-1.37-1.37c-.4-.4-.92-.59-1.43-.59-.52 0-1.04.2-1.43.59L10.3 9.45l-7.72 7.72c-.78.78-.78 2.05 0 2.83L4 21.41c.39.39.9.59 1.41.59.51 0 1.02-.2 1.41-.59l7.78-7.78 2.81-2.81c.8-.78.8-2.07 0-2.86zM5.41 20L4 18.59l7.72-7.72 1.47 1.35L5.41 20z\"/>\n",
              "  </svg>\n",
              "      </button>\n",
              "      \n",
              "  <style>\n",
              "    .colab-df-container {\n",
              "      display:flex;\n",
              "      flex-wrap:wrap;\n",
              "      gap: 12px;\n",
              "    }\n",
              "\n",
              "    .colab-df-convert {\n",
              "      background-color: #E8F0FE;\n",
              "      border: none;\n",
              "      border-radius: 50%;\n",
              "      cursor: pointer;\n",
              "      display: none;\n",
              "      fill: #1967D2;\n",
              "      height: 32px;\n",
              "      padding: 0 0 0 0;\n",
              "      width: 32px;\n",
              "    }\n",
              "\n",
              "    .colab-df-convert:hover {\n",
              "      background-color: #E2EBFA;\n",
              "      box-shadow: 0px 1px 2px rgba(60, 64, 67, 0.3), 0px 1px 3px 1px rgba(60, 64, 67, 0.15);\n",
              "      fill: #174EA6;\n",
              "    }\n",
              "\n",
              "    [theme=dark] .colab-df-convert {\n",
              "      background-color: #3B4455;\n",
              "      fill: #D2E3FC;\n",
              "    }\n",
              "\n",
              "    [theme=dark] .colab-df-convert:hover {\n",
              "      background-color: #434B5C;\n",
              "      box-shadow: 0px 1px 3px 1px rgba(0, 0, 0, 0.15);\n",
              "      filter: drop-shadow(0px 1px 2px rgba(0, 0, 0, 0.3));\n",
              "      fill: #FFFFFF;\n",
              "    }\n",
              "  </style>\n",
              "\n",
              "      <script>\n",
              "        const buttonEl =\n",
              "          document.querySelector('#df-7dd39b24-d52b-41ea-b3eb-a2f0b657458c button.colab-df-convert');\n",
              "        buttonEl.style.display =\n",
              "          google.colab.kernel.accessAllowed ? 'block' : 'none';\n",
              "\n",
              "        async function convertToInteractive(key) {\n",
              "          const element = document.querySelector('#df-7dd39b24-d52b-41ea-b3eb-a2f0b657458c');\n",
              "          const dataTable =\n",
              "            await google.colab.kernel.invokeFunction('convertToInteractive',\n",
              "                                                     [key], {});\n",
              "          if (!dataTable) return;\n",
              "\n",
              "          const docLinkHtml = 'Like what you see? Visit the ' +\n",
              "            '<a target=\"_blank\" href=https://colab.research.google.com/notebooks/data_table.ipynb>data table notebook</a>'\n",
              "            + ' to learn more about interactive tables.';\n",
              "          element.innerHTML = '';\n",
              "          dataTable['output_type'] = 'display_data';\n",
              "          await google.colab.output.renderOutput(dataTable, element);\n",
              "          const docLink = document.createElement('div');\n",
              "          docLink.innerHTML = docLinkHtml;\n",
              "          element.appendChild(docLink);\n",
              "        }\n",
              "      </script>\n",
              "    </div>\n",
              "  </div>\n",
              "  "
            ]
          },
          "metadata": {},
          "execution_count": 320
        }
      ]
    },
    {
      "cell_type": "code",
      "source": [
        "test.head(2)"
      ],
      "metadata": {
        "colab": {
          "base_uri": "https://localhost:8080/",
          "height": 242
        },
        "id": "wpQRpkuv34bB",
        "outputId": "5e83887d-3eb5-4e6f-d58d-a75d7719407a"
      },
      "execution_count": null,
      "outputs": [
        {
          "output_type": "execute_result",
          "data": {
            "text/plain": [
              "                 country  ...  NIGHTLIGHTS_prob_is_poorest\n",
              "index                     ...                             \n",
              "kenya_2014_17-28   kenya  ...                     0.164352\n",
              "kenya_2014_31-11   kenya  ...                     0.326112\n",
              "\n",
              "[2 rows x 14 columns]"
            ],
            "text/html": [
              "\n",
              "  <div id=\"df-83f6bac9-a009-4a63-9f2a-f3547ff64eac\">\n",
              "    <div class=\"colab-df-container\">\n",
              "      <div>\n",
              "<style scoped>\n",
              "    .dataframe tbody tr th:only-of-type {\n",
              "        vertical-align: middle;\n",
              "    }\n",
              "\n",
              "    .dataframe tbody tr th {\n",
              "        vertical-align: top;\n",
              "    }\n",
              "\n",
              "    .dataframe thead th {\n",
              "        text-align: right;\n",
              "    }\n",
              "</style>\n",
              "<table border=\"1\" class=\"dataframe\">\n",
              "  <thead>\n",
              "    <tr style=\"text-align: right;\">\n",
              "      <th></th>\n",
              "      <th>country</th>\n",
              "      <th>year</th>\n",
              "      <th>wealth_index</th>\n",
              "      <th>is_urban</th>\n",
              "      <th>households</th>\n",
              "      <th>latitude</th>\n",
              "      <th>longitude</th>\n",
              "      <th>is_poorest</th>\n",
              "      <th>RGB_prob_is_poorest</th>\n",
              "      <th>NIR_prob_is_poorest</th>\n",
              "      <th>SWIR1_prob_is_poorest</th>\n",
              "      <th>SWIR2_prob_is_poorest</th>\n",
              "      <th>TEMP1_prob_is_poorest</th>\n",
              "      <th>NIGHTLIGHTS_prob_is_poorest</th>\n",
              "    </tr>\n",
              "    <tr>\n",
              "      <th>index</th>\n",
              "      <th></th>\n",
              "      <th></th>\n",
              "      <th></th>\n",
              "      <th></th>\n",
              "      <th></th>\n",
              "      <th></th>\n",
              "      <th></th>\n",
              "      <th></th>\n",
              "      <th></th>\n",
              "      <th></th>\n",
              "      <th></th>\n",
              "      <th></th>\n",
              "      <th></th>\n",
              "      <th></th>\n",
              "    </tr>\n",
              "  </thead>\n",
              "  <tbody>\n",
              "    <tr>\n",
              "      <th>kenya_2014_17-28</th>\n",
              "      <td>kenya</td>\n",
              "      <td>2014.0</td>\n",
              "      <td>-0.199972</td>\n",
              "      <td>1.0</td>\n",
              "      <td>20.0</td>\n",
              "      <td>-0.907212</td>\n",
              "      <td>34.582047</td>\n",
              "      <td>0</td>\n",
              "      <td>0.412457</td>\n",
              "      <td>0.124123</td>\n",
              "      <td>0.087208</td>\n",
              "      <td>0.223013</td>\n",
              "      <td>0.472909</td>\n",
              "      <td>0.164352</td>\n",
              "    </tr>\n",
              "    <tr>\n",
              "      <th>kenya_2014_31-11</th>\n",
              "      <td>kenya</td>\n",
              "      <td>2014.0</td>\n",
              "      <td>-0.311057</td>\n",
              "      <td>0.0</td>\n",
              "      <td>23.0</td>\n",
              "      <td>0.541424</td>\n",
              "      <td>34.334202</td>\n",
              "      <td>0</td>\n",
              "      <td>0.389613</td>\n",
              "      <td>0.162249</td>\n",
              "      <td>0.141361</td>\n",
              "      <td>0.328533</td>\n",
              "      <td>0.069650</td>\n",
              "      <td>0.326112</td>\n",
              "    </tr>\n",
              "  </tbody>\n",
              "</table>\n",
              "</div>\n",
              "      <button class=\"colab-df-convert\" onclick=\"convertToInteractive('df-83f6bac9-a009-4a63-9f2a-f3547ff64eac')\"\n",
              "              title=\"Convert this dataframe to an interactive table.\"\n",
              "              style=\"display:none;\">\n",
              "        \n",
              "  <svg xmlns=\"http://www.w3.org/2000/svg\" height=\"24px\"viewBox=\"0 0 24 24\"\n",
              "       width=\"24px\">\n",
              "    <path d=\"M0 0h24v24H0V0z\" fill=\"none\"/>\n",
              "    <path d=\"M18.56 5.44l.94 2.06.94-2.06 2.06-.94-2.06-.94-.94-2.06-.94 2.06-2.06.94zm-11 1L8.5 8.5l.94-2.06 2.06-.94-2.06-.94L8.5 2.5l-.94 2.06-2.06.94zm10 10l.94 2.06.94-2.06 2.06-.94-2.06-.94-.94-2.06-.94 2.06-2.06.94z\"/><path d=\"M17.41 7.96l-1.37-1.37c-.4-.4-.92-.59-1.43-.59-.52 0-1.04.2-1.43.59L10.3 9.45l-7.72 7.72c-.78.78-.78 2.05 0 2.83L4 21.41c.39.39.9.59 1.41.59.51 0 1.02-.2 1.41-.59l7.78-7.78 2.81-2.81c.8-.78.8-2.07 0-2.86zM5.41 20L4 18.59l7.72-7.72 1.47 1.35L5.41 20z\"/>\n",
              "  </svg>\n",
              "      </button>\n",
              "      \n",
              "  <style>\n",
              "    .colab-df-container {\n",
              "      display:flex;\n",
              "      flex-wrap:wrap;\n",
              "      gap: 12px;\n",
              "    }\n",
              "\n",
              "    .colab-df-convert {\n",
              "      background-color: #E8F0FE;\n",
              "      border: none;\n",
              "      border-radius: 50%;\n",
              "      cursor: pointer;\n",
              "      display: none;\n",
              "      fill: #1967D2;\n",
              "      height: 32px;\n",
              "      padding: 0 0 0 0;\n",
              "      width: 32px;\n",
              "    }\n",
              "\n",
              "    .colab-df-convert:hover {\n",
              "      background-color: #E2EBFA;\n",
              "      box-shadow: 0px 1px 2px rgba(60, 64, 67, 0.3), 0px 1px 3px 1px rgba(60, 64, 67, 0.15);\n",
              "      fill: #174EA6;\n",
              "    }\n",
              "\n",
              "    [theme=dark] .colab-df-convert {\n",
              "      background-color: #3B4455;\n",
              "      fill: #D2E3FC;\n",
              "    }\n",
              "\n",
              "    [theme=dark] .colab-df-convert:hover {\n",
              "      background-color: #434B5C;\n",
              "      box-shadow: 0px 1px 3px 1px rgba(0, 0, 0, 0.15);\n",
              "      filter: drop-shadow(0px 1px 2px rgba(0, 0, 0, 0.3));\n",
              "      fill: #FFFFFF;\n",
              "    }\n",
              "  </style>\n",
              "\n",
              "      <script>\n",
              "        const buttonEl =\n",
              "          document.querySelector('#df-83f6bac9-a009-4a63-9f2a-f3547ff64eac button.colab-df-convert');\n",
              "        buttonEl.style.display =\n",
              "          google.colab.kernel.accessAllowed ? 'block' : 'none';\n",
              "\n",
              "        async function convertToInteractive(key) {\n",
              "          const element = document.querySelector('#df-83f6bac9-a009-4a63-9f2a-f3547ff64eac');\n",
              "          const dataTable =\n",
              "            await google.colab.kernel.invokeFunction('convertToInteractive',\n",
              "                                                     [key], {});\n",
              "          if (!dataTable) return;\n",
              "\n",
              "          const docLinkHtml = 'Like what you see? Visit the ' +\n",
              "            '<a target=\"_blank\" href=https://colab.research.google.com/notebooks/data_table.ipynb>data table notebook</a>'\n",
              "            + ' to learn more about interactive tables.';\n",
              "          element.innerHTML = '';\n",
              "          dataTable['output_type'] = 'display_data';\n",
              "          await google.colab.output.renderOutput(dataTable, element);\n",
              "          const docLink = document.createElement('div');\n",
              "          docLink.innerHTML = docLinkHtml;\n",
              "          element.appendChild(docLink);\n",
              "        }\n",
              "      </script>\n",
              "    </div>\n",
              "  </div>\n",
              "  "
            ]
          },
          "metadata": {},
          "execution_count": 319
        }
      ]
    },
    {
      "cell_type": "code",
      "source": [
        "val.head(2)"
      ],
      "metadata": {
        "colab": {
          "base_uri": "https://localhost:8080/",
          "height": 242
        },
        "id": "VlZ43S2i38rF",
        "outputId": "1eee3cf6-8bee-4c08-d29f-ab5a2acbe16c"
      },
      "execution_count": null,
      "outputs": [
        {
          "output_type": "execute_result",
          "data": {
            "text/plain": [
              "                  country  ...  NIGHTLIGHTS_prob_is_poorest\n",
              "index                      ...                             \n",
              "benin_2012_00-615   benin  ...                     0.054802\n",
              "rwanda_2010_00-87  rwanda  ...                     0.050861\n",
              "\n",
              "[2 rows x 14 columns]"
            ],
            "text/html": [
              "\n",
              "  <div id=\"df-f4473d29-a21a-4574-a0bd-d9b4ea47a61c\">\n",
              "    <div class=\"colab-df-container\">\n",
              "      <div>\n",
              "<style scoped>\n",
              "    .dataframe tbody tr th:only-of-type {\n",
              "        vertical-align: middle;\n",
              "    }\n",
              "\n",
              "    .dataframe tbody tr th {\n",
              "        vertical-align: top;\n",
              "    }\n",
              "\n",
              "    .dataframe thead th {\n",
              "        text-align: right;\n",
              "    }\n",
              "</style>\n",
              "<table border=\"1\" class=\"dataframe\">\n",
              "  <thead>\n",
              "    <tr style=\"text-align: right;\">\n",
              "      <th></th>\n",
              "      <th>country</th>\n",
              "      <th>year</th>\n",
              "      <th>wealth_index</th>\n",
              "      <th>is_urban</th>\n",
              "      <th>households</th>\n",
              "      <th>latitude</th>\n",
              "      <th>longitude</th>\n",
              "      <th>is_poorest</th>\n",
              "      <th>RGB_prob_is_poorest</th>\n",
              "      <th>NIR_prob_is_poorest</th>\n",
              "      <th>SWIR1_prob_is_poorest</th>\n",
              "      <th>SWIR2_prob_is_poorest</th>\n",
              "      <th>TEMP1_prob_is_poorest</th>\n",
              "      <th>NIGHTLIGHTS_prob_is_poorest</th>\n",
              "    </tr>\n",
              "    <tr>\n",
              "      <th>index</th>\n",
              "      <th></th>\n",
              "      <th></th>\n",
              "      <th></th>\n",
              "      <th></th>\n",
              "      <th></th>\n",
              "      <th></th>\n",
              "      <th></th>\n",
              "      <th></th>\n",
              "      <th></th>\n",
              "      <th></th>\n",
              "      <th></th>\n",
              "      <th></th>\n",
              "      <th></th>\n",
              "      <th></th>\n",
              "    </tr>\n",
              "  </thead>\n",
              "  <tbody>\n",
              "    <tr>\n",
              "      <th>benin_2012_00-615</th>\n",
              "      <td>benin</td>\n",
              "      <td>2012.0</td>\n",
              "      <td>1.306931</td>\n",
              "      <td>0.0</td>\n",
              "      <td>21.0</td>\n",
              "      <td>6.384848</td>\n",
              "      <td>2.478482</td>\n",
              "      <td>0</td>\n",
              "      <td>0.049109</td>\n",
              "      <td>0.017400</td>\n",
              "      <td>0.074836</td>\n",
              "      <td>0.055886</td>\n",
              "      <td>0.036021</td>\n",
              "      <td>0.054802</td>\n",
              "    </tr>\n",
              "    <tr>\n",
              "      <th>rwanda_2010_00-87</th>\n",
              "      <td>rwanda</td>\n",
              "      <td>2010.0</td>\n",
              "      <td>1.076257</td>\n",
              "      <td>1.0</td>\n",
              "      <td>26.0</td>\n",
              "      <td>-1.953650</td>\n",
              "      <td>30.139626</td>\n",
              "      <td>0</td>\n",
              "      <td>0.038193</td>\n",
              "      <td>0.043351</td>\n",
              "      <td>0.029069</td>\n",
              "      <td>0.014364</td>\n",
              "      <td>0.076905</td>\n",
              "      <td>0.050861</td>\n",
              "    </tr>\n",
              "  </tbody>\n",
              "</table>\n",
              "</div>\n",
              "      <button class=\"colab-df-convert\" onclick=\"convertToInteractive('df-f4473d29-a21a-4574-a0bd-d9b4ea47a61c')\"\n",
              "              title=\"Convert this dataframe to an interactive table.\"\n",
              "              style=\"display:none;\">\n",
              "        \n",
              "  <svg xmlns=\"http://www.w3.org/2000/svg\" height=\"24px\"viewBox=\"0 0 24 24\"\n",
              "       width=\"24px\">\n",
              "    <path d=\"M0 0h24v24H0V0z\" fill=\"none\"/>\n",
              "    <path d=\"M18.56 5.44l.94 2.06.94-2.06 2.06-.94-2.06-.94-.94-2.06-.94 2.06-2.06.94zm-11 1L8.5 8.5l.94-2.06 2.06-.94-2.06-.94L8.5 2.5l-.94 2.06-2.06.94zm10 10l.94 2.06.94-2.06 2.06-.94-2.06-.94-.94-2.06-.94 2.06-2.06.94z\"/><path d=\"M17.41 7.96l-1.37-1.37c-.4-.4-.92-.59-1.43-.59-.52 0-1.04.2-1.43.59L10.3 9.45l-7.72 7.72c-.78.78-.78 2.05 0 2.83L4 21.41c.39.39.9.59 1.41.59.51 0 1.02-.2 1.41-.59l7.78-7.78 2.81-2.81c.8-.78.8-2.07 0-2.86zM5.41 20L4 18.59l7.72-7.72 1.47 1.35L5.41 20z\"/>\n",
              "  </svg>\n",
              "      </button>\n",
              "      \n",
              "  <style>\n",
              "    .colab-df-container {\n",
              "      display:flex;\n",
              "      flex-wrap:wrap;\n",
              "      gap: 12px;\n",
              "    }\n",
              "\n",
              "    .colab-df-convert {\n",
              "      background-color: #E8F0FE;\n",
              "      border: none;\n",
              "      border-radius: 50%;\n",
              "      cursor: pointer;\n",
              "      display: none;\n",
              "      fill: #1967D2;\n",
              "      height: 32px;\n",
              "      padding: 0 0 0 0;\n",
              "      width: 32px;\n",
              "    }\n",
              "\n",
              "    .colab-df-convert:hover {\n",
              "      background-color: #E2EBFA;\n",
              "      box-shadow: 0px 1px 2px rgba(60, 64, 67, 0.3), 0px 1px 3px 1px rgba(60, 64, 67, 0.15);\n",
              "      fill: #174EA6;\n",
              "    }\n",
              "\n",
              "    [theme=dark] .colab-df-convert {\n",
              "      background-color: #3B4455;\n",
              "      fill: #D2E3FC;\n",
              "    }\n",
              "\n",
              "    [theme=dark] .colab-df-convert:hover {\n",
              "      background-color: #434B5C;\n",
              "      box-shadow: 0px 1px 3px 1px rgba(0, 0, 0, 0.15);\n",
              "      filter: drop-shadow(0px 1px 2px rgba(0, 0, 0, 0.3));\n",
              "      fill: #FFFFFF;\n",
              "    }\n",
              "  </style>\n",
              "\n",
              "      <script>\n",
              "        const buttonEl =\n",
              "          document.querySelector('#df-f4473d29-a21a-4574-a0bd-d9b4ea47a61c button.colab-df-convert');\n",
              "        buttonEl.style.display =\n",
              "          google.colab.kernel.accessAllowed ? 'block' : 'none';\n",
              "\n",
              "        async function convertToInteractive(key) {\n",
              "          const element = document.querySelector('#df-f4473d29-a21a-4574-a0bd-d9b4ea47a61c');\n",
              "          const dataTable =\n",
              "            await google.colab.kernel.invokeFunction('convertToInteractive',\n",
              "                                                     [key], {});\n",
              "          if (!dataTable) return;\n",
              "\n",
              "          const docLinkHtml = 'Like what you see? Visit the ' +\n",
              "            '<a target=\"_blank\" href=https://colab.research.google.com/notebooks/data_table.ipynb>data table notebook</a>'\n",
              "            + ' to learn more about interactive tables.';\n",
              "          element.innerHTML = '';\n",
              "          dataTable['output_type'] = 'display_data';\n",
              "          await google.colab.output.renderOutput(dataTable, element);\n",
              "          const docLink = document.createElement('div');\n",
              "          docLink.innerHTML = docLinkHtml;\n",
              "          element.appendChild(docLink);\n",
              "        }\n",
              "      </script>\n",
              "    </div>\n",
              "  </div>\n",
              "  "
            ]
          },
          "metadata": {},
          "execution_count": 321
        }
      ]
    },
    {
      "cell_type": "code",
      "source": [
        "results_df.index.name = 'image_type'\n",
        "results_df"
      ],
      "metadata": {
        "colab": {
          "base_uri": "https://localhost:8080/",
          "height": 269
        },
        "id": "CoRamA-lmtJV",
        "outputId": "2b08e989-ae23-42d4-bc3f-8fde4e32f5b8"
      },
      "execution_count": null,
      "outputs": [
        {
          "output_type": "execute_result",
          "data": {
            "text/plain": [
              "             train_loss  train_acc  test_loss  test_acc  val_loss   val_acc\n",
              "image_type                                                                 \n",
              "RGB            0.493132   0.740925   0.502304  0.744353  0.498364  0.741007\n",
              "NIR            0.527630   0.720434   0.562236  0.689938  0.535320  0.707091\n",
              "SWIR1          0.521002   0.726142   0.539058  0.712526  0.535991  0.706064\n",
              "SWIR2          0.510662   0.734874   0.545634  0.706366  0.527320  0.719424\n",
              "TEMP1          0.563197   0.701598   0.569696  0.696099  0.562375  0.698869\n",
              "NIGHTLIGHTS    0.489110   0.755365   0.502890  0.746407  0.460500  0.764645"
            ],
            "text/html": [
              "\n",
              "  <div id=\"df-edc1b5fa-4af5-47c6-9dfd-ca20a756279c\">\n",
              "    <div class=\"colab-df-container\">\n",
              "      <div>\n",
              "<style scoped>\n",
              "    .dataframe tbody tr th:only-of-type {\n",
              "        vertical-align: middle;\n",
              "    }\n",
              "\n",
              "    .dataframe tbody tr th {\n",
              "        vertical-align: top;\n",
              "    }\n",
              "\n",
              "    .dataframe thead th {\n",
              "        text-align: right;\n",
              "    }\n",
              "</style>\n",
              "<table border=\"1\" class=\"dataframe\">\n",
              "  <thead>\n",
              "    <tr style=\"text-align: right;\">\n",
              "      <th></th>\n",
              "      <th>train_loss</th>\n",
              "      <th>train_acc</th>\n",
              "      <th>test_loss</th>\n",
              "      <th>test_acc</th>\n",
              "      <th>val_loss</th>\n",
              "      <th>val_acc</th>\n",
              "    </tr>\n",
              "    <tr>\n",
              "      <th>image_type</th>\n",
              "      <th></th>\n",
              "      <th></th>\n",
              "      <th></th>\n",
              "      <th></th>\n",
              "      <th></th>\n",
              "      <th></th>\n",
              "    </tr>\n",
              "  </thead>\n",
              "  <tbody>\n",
              "    <tr>\n",
              "      <th>RGB</th>\n",
              "      <td>0.493132</td>\n",
              "      <td>0.740925</td>\n",
              "      <td>0.502304</td>\n",
              "      <td>0.744353</td>\n",
              "      <td>0.498364</td>\n",
              "      <td>0.741007</td>\n",
              "    </tr>\n",
              "    <tr>\n",
              "      <th>NIR</th>\n",
              "      <td>0.527630</td>\n",
              "      <td>0.720434</td>\n",
              "      <td>0.562236</td>\n",
              "      <td>0.689938</td>\n",
              "      <td>0.535320</td>\n",
              "      <td>0.707091</td>\n",
              "    </tr>\n",
              "    <tr>\n",
              "      <th>SWIR1</th>\n",
              "      <td>0.521002</td>\n",
              "      <td>0.726142</td>\n",
              "      <td>0.539058</td>\n",
              "      <td>0.712526</td>\n",
              "      <td>0.535991</td>\n",
              "      <td>0.706064</td>\n",
              "    </tr>\n",
              "    <tr>\n",
              "      <th>SWIR2</th>\n",
              "      <td>0.510662</td>\n",
              "      <td>0.734874</td>\n",
              "      <td>0.545634</td>\n",
              "      <td>0.706366</td>\n",
              "      <td>0.527320</td>\n",
              "      <td>0.719424</td>\n",
              "    </tr>\n",
              "    <tr>\n",
              "      <th>TEMP1</th>\n",
              "      <td>0.563197</td>\n",
              "      <td>0.701598</td>\n",
              "      <td>0.569696</td>\n",
              "      <td>0.696099</td>\n",
              "      <td>0.562375</td>\n",
              "      <td>0.698869</td>\n",
              "    </tr>\n",
              "    <tr>\n",
              "      <th>NIGHTLIGHTS</th>\n",
              "      <td>0.489110</td>\n",
              "      <td>0.755365</td>\n",
              "      <td>0.502890</td>\n",
              "      <td>0.746407</td>\n",
              "      <td>0.460500</td>\n",
              "      <td>0.764645</td>\n",
              "    </tr>\n",
              "  </tbody>\n",
              "</table>\n",
              "</div>\n",
              "      <button class=\"colab-df-convert\" onclick=\"convertToInteractive('df-edc1b5fa-4af5-47c6-9dfd-ca20a756279c')\"\n",
              "              title=\"Convert this dataframe to an interactive table.\"\n",
              "              style=\"display:none;\">\n",
              "        \n",
              "  <svg xmlns=\"http://www.w3.org/2000/svg\" height=\"24px\"viewBox=\"0 0 24 24\"\n",
              "       width=\"24px\">\n",
              "    <path d=\"M0 0h24v24H0V0z\" fill=\"none\"/>\n",
              "    <path d=\"M18.56 5.44l.94 2.06.94-2.06 2.06-.94-2.06-.94-.94-2.06-.94 2.06-2.06.94zm-11 1L8.5 8.5l.94-2.06 2.06-.94-2.06-.94L8.5 2.5l-.94 2.06-2.06.94zm10 10l.94 2.06.94-2.06 2.06-.94-2.06-.94-.94-2.06-.94 2.06-2.06.94z\"/><path d=\"M17.41 7.96l-1.37-1.37c-.4-.4-.92-.59-1.43-.59-.52 0-1.04.2-1.43.59L10.3 9.45l-7.72 7.72c-.78.78-.78 2.05 0 2.83L4 21.41c.39.39.9.59 1.41.59.51 0 1.02-.2 1.41-.59l7.78-7.78 2.81-2.81c.8-.78.8-2.07 0-2.86zM5.41 20L4 18.59l7.72-7.72 1.47 1.35L5.41 20z\"/>\n",
              "  </svg>\n",
              "      </button>\n",
              "      \n",
              "  <style>\n",
              "    .colab-df-container {\n",
              "      display:flex;\n",
              "      flex-wrap:wrap;\n",
              "      gap: 12px;\n",
              "    }\n",
              "\n",
              "    .colab-df-convert {\n",
              "      background-color: #E8F0FE;\n",
              "      border: none;\n",
              "      border-radius: 50%;\n",
              "      cursor: pointer;\n",
              "      display: none;\n",
              "      fill: #1967D2;\n",
              "      height: 32px;\n",
              "      padding: 0 0 0 0;\n",
              "      width: 32px;\n",
              "    }\n",
              "\n",
              "    .colab-df-convert:hover {\n",
              "      background-color: #E2EBFA;\n",
              "      box-shadow: 0px 1px 2px rgba(60, 64, 67, 0.3), 0px 1px 3px 1px rgba(60, 64, 67, 0.15);\n",
              "      fill: #174EA6;\n",
              "    }\n",
              "\n",
              "    [theme=dark] .colab-df-convert {\n",
              "      background-color: #3B4455;\n",
              "      fill: #D2E3FC;\n",
              "    }\n",
              "\n",
              "    [theme=dark] .colab-df-convert:hover {\n",
              "      background-color: #434B5C;\n",
              "      box-shadow: 0px 1px 3px 1px rgba(0, 0, 0, 0.15);\n",
              "      filter: drop-shadow(0px 1px 2px rgba(0, 0, 0, 0.3));\n",
              "      fill: #FFFFFF;\n",
              "    }\n",
              "  </style>\n",
              "\n",
              "      <script>\n",
              "        const buttonEl =\n",
              "          document.querySelector('#df-edc1b5fa-4af5-47c6-9dfd-ca20a756279c button.colab-df-convert');\n",
              "        buttonEl.style.display =\n",
              "          google.colab.kernel.accessAllowed ? 'block' : 'none';\n",
              "\n",
              "        async function convertToInteractive(key) {\n",
              "          const element = document.querySelector('#df-edc1b5fa-4af5-47c6-9dfd-ca20a756279c');\n",
              "          const dataTable =\n",
              "            await google.colab.kernel.invokeFunction('convertToInteractive',\n",
              "                                                     [key], {});\n",
              "          if (!dataTable) return;\n",
              "\n",
              "          const docLinkHtml = 'Like what you see? Visit the ' +\n",
              "            '<a target=\"_blank\" href=https://colab.research.google.com/notebooks/data_table.ipynb>data table notebook</a>'\n",
              "            + ' to learn more about interactive tables.';\n",
              "          element.innerHTML = '';\n",
              "          dataTable['output_type'] = 'display_data';\n",
              "          await google.colab.output.renderOutput(dataTable, element);\n",
              "          const docLink = document.createElement('div');\n",
              "          docLink.innerHTML = docLinkHtml;\n",
              "          element.appendChild(docLink);\n",
              "        }\n",
              "      </script>\n",
              "    </div>\n",
              "  </div>\n",
              "  "
            ]
          },
          "metadata": {},
          "execution_count": 322
        }
      ]
    },
    {
      "cell_type": "markdown",
      "source": [
        "#### Export the dataframes with predicted probabilities"
      ],
      "metadata": {
        "id": "i17Lvzpk4C9W"
      }
    },
    {
      "cell_type": "code",
      "source": [
        "csv_export_folder = '../data/NN_results_csvs'\n",
        "\n",
        "train.to_csv(f\"{csv_export_folder}/train.csv\", index_label='index')\n",
        "test.to_csv(f\"{csv_export_folder}/test.csv\", index_label='index')\n",
        "val.to_csv(f\"{csv_export_folder}/val.csv\", index_label='index')"
      ],
      "metadata": {
        "id": "lAYd6K26tdnM"
      },
      "execution_count": null,
      "outputs": []
    },
    {
      "cell_type": "markdown",
      "source": [
        "#### Export the loss and accuracy results dataframe\n",
        "\n"
      ],
      "metadata": {
        "id": "Vk3CFiwQmiH3"
      }
    },
    {
      "cell_type": "code",
      "source": [
        "results_df.to_csv(f\"{csv_export_folder}/nn_results.csv\", index_label='image_type')"
      ],
      "metadata": {
        "id": "Hf74dZhAtds4"
      },
      "execution_count": null,
      "outputs": []
    },
    {
      "cell_type": "markdown",
      "source": [
        "# What's next?\n",
        "\n",
        "In the [next notebook](./06_final_modeling.ipynb), we use the outputs of our Neural Network models, along with other varaibles, as features.  We build ensemble models and select the best performer as our production model."
      ],
      "metadata": {
        "id": "EY_NDydMnkh6"
      }
    }
  ]
}