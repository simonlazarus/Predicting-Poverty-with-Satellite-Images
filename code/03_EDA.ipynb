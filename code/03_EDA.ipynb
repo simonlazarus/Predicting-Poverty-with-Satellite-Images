{
  "nbformat": 4,
  "nbformat_minor": 0,
  "metadata": {
    "colab": {
      "provenance": []
    },
    "kernelspec": {
      "name": "python3",
      "display_name": "Python 3"
    },
    "language_info": {
      "name": "python"
    }
  },
  "cells": [
    {
      "cell_type": "markdown",
      "source": [
        "# Summary of this notebook\n",
        "\n",
        "In the [last notebook](02_extract_images_and_data.ipynb), we exported the downloaded images as individual `.npy` files and the non-image data as a `.csv` file.  In this notebook, we examine the non-image data to make sure that no data are missing and that no other unexpected problems occurred.  We then explore the features in these data."
      ],
      "metadata": {
        "id": "4zAf0d_TXqMg"
      }
    },
    {
      "cell_type": "code",
      "source": [
        "#If using Google Colab and Google Drive, run the following commands\n",
        "\n",
        "#from google.colab import drive\n",
        "#drive.mount('/content/drive')"
      ],
      "metadata": {
        "id": "TZHR_fOLry1q",
        "outputId": "737c371c-0712-43af-99c1-56ec07199248",
        "colab": {
          "base_uri": "https://localhost:8080/"
        }
      },
      "execution_count": 2,
      "outputs": [
        {
          "output_type": "stream",
          "name": "stdout",
          "text": [
            "Mounted at /content/drive\n"
          ]
        }
      ]
    },
    {
      "cell_type": "code",
      "source": [
        "#REPLACE THIS COMMAND WITH THE APPROPRIATE PATH TO THE \"code\" FOLDER ON YOUR GOOGLE DRIVE\n",
        "#%cd ./drive/MyDrive/poverty_project/group_project/code"
      ],
      "metadata": {
        "id": "t7LzllWFryuG",
        "colab": {
          "base_uri": "https://localhost:8080/"
        },
        "outputId": "5d0f0d91-8f8d-47aa-bb41-26973434152e"
      },
      "execution_count": 3,
      "outputs": [
        {
          "output_type": "stream",
          "name": "stdout",
          "text": [
            "/content/drive/MyDrive/poverty_project/group_project/code\n"
          ]
        }
      ]
    },
    {
      "cell_type": "markdown",
      "source": [
        "## Imports"
      ],
      "metadata": {
        "id": "p5ng6jnZoTGs"
      }
    },
    {
      "cell_type": "code",
      "execution_count": 4,
      "metadata": {
        "id": "05c2QWkWrZsv"
      },
      "outputs": [],
      "source": [
        "import pandas as pd\n",
        "import numpy as np\n",
        "import matplotlib.pyplot as plt\n",
        "\n",
        "from os import listdir\n",
        "from os.path import isfile, join"
      ]
    },
    {
      "cell_type": "code",
      "source": [
        "combined = pd.read_csv('../data/combined_dhs_data.csv', index_col='index')\n",
        "combined.head()"
      ],
      "metadata": {
        "colab": {
          "base_uri": "https://localhost:8080/",
          "height": 238
        },
        "id": "m6jOaflBoSdS",
        "outputId": "90e64b3b-22bf-4b05-dd65-c5d83644eb52"
      },
      "execution_count": 5,
      "outputs": [
        {
          "output_type": "execute_result",
          "data": {
            "text/plain": [
              "                 country    year  wealth_index  is_urban  households  \\\n",
              "index                                                                  \n",
              "angola_2011_00-0  angola  2011.0      2.595618       1.0        36.0   \n",
              "angola_2011_00-1  angola  2011.0      2.209620       1.0        32.0   \n",
              "angola_2011_00-2  angola  2011.0      0.906469       1.0        36.0   \n",
              "angola_2011_00-3  angola  2011.0      1.105359       1.0        35.0   \n",
              "angola_2011_00-4  angola  2011.0      1.879344       1.0        37.0   \n",
              "\n",
              "                   latitude  longitude  \n",
              "index                                   \n",
              "angola_2011_00-0 -12.350257  13.534922  \n",
              "angola_2011_00-1 -12.360865  13.551494  \n",
              "angola_2011_00-2 -12.613421  13.413085  \n",
              "angola_2011_00-3 -12.581454  13.397711  \n",
              "angola_2011_00-4 -12.578135  13.418748  "
            ],
            "text/html": [
              "\n",
              "  <div id=\"df-4b2f7cde-85fd-4cd9-b7f5-9f748354746d\">\n",
              "    <div class=\"colab-df-container\">\n",
              "      <div>\n",
              "<style scoped>\n",
              "    .dataframe tbody tr th:only-of-type {\n",
              "        vertical-align: middle;\n",
              "    }\n",
              "\n",
              "    .dataframe tbody tr th {\n",
              "        vertical-align: top;\n",
              "    }\n",
              "\n",
              "    .dataframe thead th {\n",
              "        text-align: right;\n",
              "    }\n",
              "</style>\n",
              "<table border=\"1\" class=\"dataframe\">\n",
              "  <thead>\n",
              "    <tr style=\"text-align: right;\">\n",
              "      <th></th>\n",
              "      <th>country</th>\n",
              "      <th>year</th>\n",
              "      <th>wealth_index</th>\n",
              "      <th>is_urban</th>\n",
              "      <th>households</th>\n",
              "      <th>latitude</th>\n",
              "      <th>longitude</th>\n",
              "    </tr>\n",
              "    <tr>\n",
              "      <th>index</th>\n",
              "      <th></th>\n",
              "      <th></th>\n",
              "      <th></th>\n",
              "      <th></th>\n",
              "      <th></th>\n",
              "      <th></th>\n",
              "      <th></th>\n",
              "    </tr>\n",
              "  </thead>\n",
              "  <tbody>\n",
              "    <tr>\n",
              "      <th>angola_2011_00-0</th>\n",
              "      <td>angola</td>\n",
              "      <td>2011.0</td>\n",
              "      <td>2.595618</td>\n",
              "      <td>1.0</td>\n",
              "      <td>36.0</td>\n",
              "      <td>-12.350257</td>\n",
              "      <td>13.534922</td>\n",
              "    </tr>\n",
              "    <tr>\n",
              "      <th>angola_2011_00-1</th>\n",
              "      <td>angola</td>\n",
              "      <td>2011.0</td>\n",
              "      <td>2.209620</td>\n",
              "      <td>1.0</td>\n",
              "      <td>32.0</td>\n",
              "      <td>-12.360865</td>\n",
              "      <td>13.551494</td>\n",
              "    </tr>\n",
              "    <tr>\n",
              "      <th>angola_2011_00-2</th>\n",
              "      <td>angola</td>\n",
              "      <td>2011.0</td>\n",
              "      <td>0.906469</td>\n",
              "      <td>1.0</td>\n",
              "      <td>36.0</td>\n",
              "      <td>-12.613421</td>\n",
              "      <td>13.413085</td>\n",
              "    </tr>\n",
              "    <tr>\n",
              "      <th>angola_2011_00-3</th>\n",
              "      <td>angola</td>\n",
              "      <td>2011.0</td>\n",
              "      <td>1.105359</td>\n",
              "      <td>1.0</td>\n",
              "      <td>35.0</td>\n",
              "      <td>-12.581454</td>\n",
              "      <td>13.397711</td>\n",
              "    </tr>\n",
              "    <tr>\n",
              "      <th>angola_2011_00-4</th>\n",
              "      <td>angola</td>\n",
              "      <td>2011.0</td>\n",
              "      <td>1.879344</td>\n",
              "      <td>1.0</td>\n",
              "      <td>37.0</td>\n",
              "      <td>-12.578135</td>\n",
              "      <td>13.418748</td>\n",
              "    </tr>\n",
              "  </tbody>\n",
              "</table>\n",
              "</div>\n",
              "      <button class=\"colab-df-convert\" onclick=\"convertToInteractive('df-4b2f7cde-85fd-4cd9-b7f5-9f748354746d')\"\n",
              "              title=\"Convert this dataframe to an interactive table.\"\n",
              "              style=\"display:none;\">\n",
              "        \n",
              "  <svg xmlns=\"http://www.w3.org/2000/svg\" height=\"24px\"viewBox=\"0 0 24 24\"\n",
              "       width=\"24px\">\n",
              "    <path d=\"M0 0h24v24H0V0z\" fill=\"none\"/>\n",
              "    <path d=\"M18.56 5.44l.94 2.06.94-2.06 2.06-.94-2.06-.94-.94-2.06-.94 2.06-2.06.94zm-11 1L8.5 8.5l.94-2.06 2.06-.94-2.06-.94L8.5 2.5l-.94 2.06-2.06.94zm10 10l.94 2.06.94-2.06 2.06-.94-2.06-.94-.94-2.06-.94 2.06-2.06.94z\"/><path d=\"M17.41 7.96l-1.37-1.37c-.4-.4-.92-.59-1.43-.59-.52 0-1.04.2-1.43.59L10.3 9.45l-7.72 7.72c-.78.78-.78 2.05 0 2.83L4 21.41c.39.39.9.59 1.41.59.51 0 1.02-.2 1.41-.59l7.78-7.78 2.81-2.81c.8-.78.8-2.07 0-2.86zM5.41 20L4 18.59l7.72-7.72 1.47 1.35L5.41 20z\"/>\n",
              "  </svg>\n",
              "      </button>\n",
              "      \n",
              "  <style>\n",
              "    .colab-df-container {\n",
              "      display:flex;\n",
              "      flex-wrap:wrap;\n",
              "      gap: 12px;\n",
              "    }\n",
              "\n",
              "    .colab-df-convert {\n",
              "      background-color: #E8F0FE;\n",
              "      border: none;\n",
              "      border-radius: 50%;\n",
              "      cursor: pointer;\n",
              "      display: none;\n",
              "      fill: #1967D2;\n",
              "      height: 32px;\n",
              "      padding: 0 0 0 0;\n",
              "      width: 32px;\n",
              "    }\n",
              "\n",
              "    .colab-df-convert:hover {\n",
              "      background-color: #E2EBFA;\n",
              "      box-shadow: 0px 1px 2px rgba(60, 64, 67, 0.3), 0px 1px 3px 1px rgba(60, 64, 67, 0.15);\n",
              "      fill: #174EA6;\n",
              "    }\n",
              "\n",
              "    [theme=dark] .colab-df-convert {\n",
              "      background-color: #3B4455;\n",
              "      fill: #D2E3FC;\n",
              "    }\n",
              "\n",
              "    [theme=dark] .colab-df-convert:hover {\n",
              "      background-color: #434B5C;\n",
              "      box-shadow: 0px 1px 3px 1px rgba(0, 0, 0, 0.15);\n",
              "      filter: drop-shadow(0px 1px 2px rgba(0, 0, 0, 0.3));\n",
              "      fill: #FFFFFF;\n",
              "    }\n",
              "  </style>\n",
              "\n",
              "      <script>\n",
              "        const buttonEl =\n",
              "          document.querySelector('#df-4b2f7cde-85fd-4cd9-b7f5-9f748354746d button.colab-df-convert');\n",
              "        buttonEl.style.display =\n",
              "          google.colab.kernel.accessAllowed ? 'block' : 'none';\n",
              "\n",
              "        async function convertToInteractive(key) {\n",
              "          const element = document.querySelector('#df-4b2f7cde-85fd-4cd9-b7f5-9f748354746d');\n",
              "          const dataTable =\n",
              "            await google.colab.kernel.invokeFunction('convertToInteractive',\n",
              "                                                     [key], {});\n",
              "          if (!dataTable) return;\n",
              "\n",
              "          const docLinkHtml = 'Like what you see? Visit the ' +\n",
              "            '<a target=\"_blank\" href=https://colab.research.google.com/notebooks/data_table.ipynb>data table notebook</a>'\n",
              "            + ' to learn more about interactive tables.';\n",
              "          element.innerHTML = '';\n",
              "          dataTable['output_type'] = 'display_data';\n",
              "          await google.colab.output.renderOutput(dataTable, element);\n",
              "          const docLink = document.createElement('div');\n",
              "          docLink.innerHTML = docLinkHtml;\n",
              "          element.appendChild(docLink);\n",
              "        }\n",
              "      </script>\n",
              "    </div>\n",
              "  </div>\n",
              "  "
            ]
          },
          "metadata": {},
          "execution_count": 5
        }
      ]
    },
    {
      "cell_type": "markdown",
      "source": [
        "# Exploratory Data Analysis"
      ],
      "metadata": {
        "id": "wLzL5vnNYyP8"
      }
    },
    {
      "cell_type": "markdown",
      "source": [
        "### Countries"
      ],
      "metadata": {
        "id": "w0ALdHSyz8FP"
      }
    },
    {
      "cell_type": "code",
      "source": [
        "combined.country.value_counts().plot(kind='barh', title='Country distribution', figsize=(8,8));"
      ],
      "metadata": {
        "colab": {
          "base_uri": "https://localhost:8080/",
          "height": 499
        },
        "id": "B-iQQNURyDjE",
        "outputId": "08f9ac5d-c79f-4921-f2e3-c959a6fcfff1"
      },
      "execution_count": 6,
      "outputs": [
        {
          "output_type": "display_data",
          "data": {
            "text/plain": [
              "<Figure size 576x576 with 1 Axes>"
            ],
            "image/png": "[encoded data removed]"
          },
          "metadata": {
            "needs_background": "light"
          }
        }
      ]
    },
    {
      "cell_type": "markdown",
      "source": [
        "### Years beginning the 3-year period of observation"
      ],
      "metadata": {
        "id": "7GERtUFiz-ym"
      }
    },
    {
      "cell_type": "code",
      "source": [
        "combined.year.value_counts().plot(kind='barh', title='Year distribution', figsize=(8,6));"
      ],
      "metadata": {
        "colab": {
          "base_uri": "https://localhost:8080/",
          "height": 390
        },
        "id": "jz_btomTxv9d",
        "outputId": "0e5b69ed-f528-4a8b-805c-8c999257634c"
      },
      "execution_count": 7,
      "outputs": [
        {
          "output_type": "display_data",
          "data": {
            "text/plain": [
              "<Figure size 576x432 with 1 Axes>"
            ],
            "image/png": "[encoded data removed]"
          },
          "metadata": {
            "needs_background": "light"
          }
        }
      ]
    },
    {
      "cell_type": "markdown",
      "source": [
        "Note that each of these \"years\" actually represents the beginning of the 3-year period over which the satellite images were constructed using median pixel values."
      ],
      "metadata": {
        "id": "RaUYRUbyy9Es"
      }
    },
    {
      "cell_type": "markdown",
      "source": [
        "### Welath Indices"
      ],
      "metadata": {
        "id": "LVotoqYI0Hvg"
      }
    },
    {
      "cell_type": "code",
      "source": [
        "combined.wealth_index.plot(kind='hist', title='Wealth Index distribution', figsize=(8,6))"
      ],
      "metadata": {
        "colab": {
          "base_uri": "https://localhost:8080/",
          "height": 407
        },
        "id": "G2N-8gx2zeeD",
        "outputId": "045224e2-37c7-4a30-d05b-176603c2b87b"
      },
      "execution_count": 8,
      "outputs": [
        {
          "output_type": "execute_result",
          "data": {
            "text/plain": [
              "<matplotlib.axes._subplots.AxesSubplot at 0x7f6983c98d60>"
            ]
          },
          "metadata": {},
          "execution_count": 8
        },
        {
          "output_type": "display_data",
          "data": {
            "text/plain": [
              "<Figure size 576x432 with 1 Axes>"
            ],
            "image/png": "[encoded data removed]"
          },
          "metadata": {
            "needs_background": "light"
          }
        }
      ]
    },
    {
      "cell_type": "code",
      "source": [
        "combined.wealth_index.describe()"
      ],
      "metadata": {
        "colab": {
          "base_uri": "https://localhost:8080/"
        },
        "id": "sLIRgxpt0ZKe",
        "outputId": "1eb4cfa7-0831-4a09-ad65-2a6026271e25"
      },
      "execution_count": 9,
      "outputs": [
        {
          "output_type": "execute_result",
          "data": {
            "text/plain": [
              "count    19467.000000\n",
              "mean         0.051598\n",
              "std          0.806677\n",
              "min         -1.282605\n",
              "25%         -0.586443\n",
              "50%         -0.207042\n",
              "75%          0.666849\n",
              "max          2.675832\n",
              "Name: wealth_index, dtype: float64"
            ]
          },
          "metadata": {},
          "execution_count": 9
        }
      ]
    },
    {
      "cell_type": "code",
      "source": [
        "combined.wealth_index.median()"
      ],
      "metadata": {
        "colab": {
          "base_uri": "https://localhost:8080/"
        },
        "id": "2RpGLc8fEJTt",
        "outputId": "f782b694-5f79-407b-c566-65f012d92a01"
      },
      "execution_count": 10,
      "outputs": [
        {
          "output_type": "execute_result",
          "data": {
            "text/plain": [
              "-0.2070417255163192"
            ]
          },
          "metadata": {},
          "execution_count": 10
        }
      ]
    },
    {
      "cell_type": "markdown",
      "source": [
        "So the wealth distribution is skewed to the right.  This is not surprising."
      ],
      "metadata": {
        "id": "lF-Dl6Mh0KZH"
      }
    },
    {
      "cell_type": "markdown",
      "source": [
        "Urban vs. Non-Urban"
      ],
      "metadata": {
        "id": "r01-5YK10KNc"
      }
    },
    {
      "cell_type": "code",
      "source": [
        "combined.is_urban.value_counts().plot(kind='barh', title='is_urban distribution');"
      ],
      "metadata": {
        "colab": {
          "base_uri": "https://localhost:8080/",
          "height": 281
        },
        "id": "ZOTrFjFvx6EQ",
        "outputId": "cc399278-7e77-4f30-c501-7de0f6ccfdca"
      },
      "execution_count": 11,
      "outputs": [
        {
          "output_type": "display_data",
          "data": {
            "text/plain": [
              "<Figure size 432x288 with 1 Axes>"
            ],
            "image/png": "[encoded data removed]"
          },
          "metadata": {
            "needs_background": "light"
          }
        }
      ]
    },
    {
      "cell_type": "markdown",
      "source": [
        "### Households per Village"
      ],
      "metadata": {
        "id": "TsABWZkOE2Mo"
      }
    },
    {
      "cell_type": "code",
      "source": [
        "combined.households.plot(kind='hist', title = 'Households per Village')"
      ],
      "metadata": {
        "colab": {
          "base_uri": "https://localhost:8080/",
          "height": 298
        },
        "id": "mHe8AVLDEUad",
        "outputId": "ed3f7665-f7d3-4421-9656-833abc3174d4"
      },
      "execution_count": 12,
      "outputs": [
        {
          "output_type": "execute_result",
          "data": {
            "text/plain": [
              "<matplotlib.axes._subplots.AxesSubplot at 0x7f6983bf8ca0>"
            ]
          },
          "metadata": {},
          "execution_count": 12
        },
        {
          "output_type": "display_data",
          "data": {
            "text/plain": [
              "<Figure size 432x288 with 1 Axes>"
            ],
            "image/png": "[encoded data removed]"
          },
          "metadata": {
            "needs_background": "light"
          }
        }
      ]
    },
    {
      "cell_type": "markdown",
      "source": [
        "### Geographic Coordinates"
      ],
      "metadata": {
        "id": "QSgk7WELE5IM"
      }
    },
    {
      "cell_type": "code",
      "source": [
        "xs = combined['longitude']\n",
        "ys = combined['latitude']\n",
        "\n",
        "plt.scatter(xs,ys);"
      ],
      "metadata": {
        "colab": {
          "base_uri": "https://localhost:8080/",
          "height": 265
        },
        "id": "ENw7XbSXEUWo",
        "outputId": "f5886e1f-d887-47ca-ad7c-3d6954be4f6a"
      },
      "execution_count": 13,
      "outputs": [
        {
          "output_type": "display_data",
          "data": {
            "text/plain": [
              "<Figure size 432x288 with 1 Axes>"
            ],
            "image/png": "[encoded data removed]"
          },
          "metadata": {
            "needs_background": "light"
          }
        }
      ]
    }
  ]
}