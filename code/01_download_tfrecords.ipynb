{
 "cells": [
  {
   "cell_type": "markdown",
   "metadata": {
    "id": "ef1rdhq7MIbl"
   },
   "source": [
    "# Summary of this notebook\n",
    "\n",
    "This notebook is adapted from Yeh et al. (2020)'s [repository](https://github.com/sustainlab-group/africa_poverty).  In this notebook, we download the satellite images from Google Earth Engine that correspond to the latitude and longitude coordinates in the DHS (and LSMS) surveys.  To avoid obfuscation due to clouds, each downloaded image is a composite of 3 years' worth of satellite images.  The composites are constructed by taking, for each pixel in the image, the median value that that pixel attains over the 3-year period."
   ]
  },
  {
   "cell_type": "code",
   "execution_count": null,
   "metadata": {
    "colab": {
     "base_uri": "https://localhost:8080/"
    },
    "executionInfo": {
     "elapsed": 20672,
     "status": "ok",
     "timestamp": 1674788196599,
     "user": {
      "displayName": "Simon Lazarus",
      "userId": "17611643969802645189"
     },
     "user_tz": 300
    },
    "id": "-bXaHqrZMTz2",
    "outputId": "3923125b-9875-433c-ec7a-1252f741ad85"
   },
   "outputs": [
    {
     "name": "stdout",
     "output_type": "stream",
     "text": [
      "Mounted at /content/drive\n"
     ]
    }
   ],
   "source": [
    "#If using Google Colab and Google Drive, run the following commands\n",
    "\n",
    "#from google.colab import drive\n",
    "#drive.mount('/content/drive')"
   ]
  },
  {
   "cell_type": "code",
   "execution_count": null,
   "metadata": {
    "colab": {
     "base_uri": "https://localhost:8080/"
    },
    "executionInfo": {
     "elapsed": 378,
     "status": "ok",
     "timestamp": 1674788214890,
     "user": {
      "displayName": "Simon Lazarus",
      "userId": "17611643969802645189"
     },
     "user_tz": 300
    },
    "id": "3_1oesCTMDT_",
    "outputId": "d6aa76fc-4697-4dbc-95cc-d545c61c1c86"
   },
   "outputs": [
    {
     "name": "stdout",
     "output_type": "stream",
     "text": [
      "/content/drive/MyDrive/poverty_project/africa_poverty-master/download\n"
     ]
    }
   ],
   "source": [
    "#REPLACE THIS COMMAND WITH THE APPROPRIATE PATH TO THE \"code\" FOLDER ON YOUR GOOGLE DRIVE\n",
    "# %cd ./drive/MyDrive/poverty_project/group_project/code"
   ]
  },
  {
   "cell_type": "markdown",
   "metadata": {
    "id": "thexpCzONJxX"
   },
   "source": [
    "# Steps (Borrowed from Yeh et al.)"
   ]
  },
  {
   "cell_type": "markdown",
   "metadata": {
    "id": "8-PVBpMMB1Sq"
   },
   "source": [
    "## Pre-requisites\n",
    "Register a Google account at [https://code.earthengine.google.com](https://code.earthengine.google.com). This process may take a couple of days. Without registration, the `ee.Initialize()` command below will throw an error message.\n",
    "\n",
    "## Instructions\n",
    "\n",
    "This notebook exports Landsat satellite image composites of DHS and LSMS clusters from Google Earth Engine.\n",
    "\n",
    "The images are saved in gzipped TFRecord format. By default, this notebook exports images to Google Drive. If you instead prefer to export images to Google Cloud Storage (GCS), change the `EXPORT` constant below to `'gcs'` and set `BUCKET` to the desired GCS bucket name.\n",
    "\n",
    "\n",
    "|      | Storage  | Expected Export Time\n",
    "|------|----------|---------------------\n",
    "| DHS  | ~16.0 GB | ~24h\n",
    "| LSMS |  ~2.5 GB | ~10h\n",
    "\n",
    "The exported images take up a significant amount of storage space. Before exporting, make sure you have enough storage space. The images are exported to the following locations, based on the constants `EXPORT` and `BUCKET` defined below:\n",
    "\n",
    "|      | Google Drive (default) | GCS\n",
    "|------|:-----------------------|:---\n",
    "| DHS  | `dhs_tfrecords_raw/`   | `{BUCKET}/dhs_tfrecords_raw/`\n",
    "| LSMS | `lsms_tfrecords_raw/`  | `{BUCKET}/lsms_tfrecords_raw/`\n",
    "\n",
    "Once the images have finished exporting, download the exported TFRecord files to the following folders:\n",
    "\n",
    "- DHS: `data/dhs_tfrecords_raw/`\n",
    "- LSMS: `data/lsms_tfrecords_raw/`\n",
    "\n",
    "The folder structure should look as follows:\n",
    "\n",
    "```\n",
    "data/\n",
    "    dhs_tfrecords_raw/\n",
    "        angola_2011_00.tfrecord.gz\n",
    "        ...\n",
    "        zimbabwe_2015_00.tfrecord.gz\n",
    "    lsms_tfrecords_raw/\n",
    "        ethiopia_2011_00.tfrecord.gz\n",
    "        ...\n",
    "        uganda_2013_00.tfrecord.gz\n",
    "```"
   ]
  },
  {
   "cell_type": "markdown",
   "metadata": {
    "id": "TzMfiybHB1Sq"
   },
   "source": [
    "## Imports and Constants"
   ]
  },
  {
   "cell_type": "code",
   "execution_count": null,
   "metadata": {
    "id": "dUULr78iB1Sr"
   },
   "outputs": [],
   "source": [
    "%load_ext autoreload\n",
    "%autoreload 2"
   ]
  },
  {
   "cell_type": "code",
   "execution_count": null,
   "metadata": {
    "id": "Unb32Hs1B1Sr"
   },
   "outputs": [],
   "source": [
    "import math\n",
    "from typing import Any, Dict, Optional, Tuple\n",
    "\n",
    "import ee\n",
    "import pandas as pd\n",
    "\n",
    "import ee_utils"
   ]
  },
  {
   "cell_type": "markdown",
   "metadata": {
    "id": "uHjcmtvhB1Sr"
   },
   "source": [
    "Before using the Earth Engine API, you must perform a one-time authentication that authorizes access to Earth Engine on behalf of your Google account you registered at [https://code.earthengine.google.com](https://code.earthengine.google.com). The authentication process saves a credentials file to `$HOME/.config/earthengine/credentials` for future use.\n",
    "\n",
    "The following command `ee.Authenticate()` runs the authentication process. Once you successfully authenticate, you may comment out this command because you should not need to authenticate again in the future, unless you delete the credentials file. If you do not authenticate, the subsequent `ee.Initialize()` command below will fail.\n",
    "\n",
    "For more information, see [https://developers.google.com/earth-engine/python_install-conda.html](https://developers.google.com/earth-engine/python_install-conda.html)."
   ]
  },
  {
   "cell_type": "code",
   "execution_count": null,
   "metadata": {
    "colab": {
     "base_uri": "https://localhost:8080/"
    },
    "executionInfo": {
     "elapsed": 26403,
     "status": "ok",
     "timestamp": 1674788371087,
     "user": {
      "displayName": "Simon Lazarus",
      "userId": "17611643969802645189"
     },
     "user_tz": 300
    },
    "id": "P5h5C-yMB1Sr",
    "outputId": "b02ad40b-bc00-45cd-d888-5a554bfb52a0"
   },
   "outputs": [
    {
     "name": "stdout",
     "output_type": "stream",
     "text": [
      "To authorize access needed by Earth Engine, open the following URL in a web browser and follow the instructions. If the web browser does not start automatically, please manually browse the URL below.\n",
      "\n",
      "    https://code.earthengine.google.com/client-auth?scopes=https%3A//www.googleapis.com/auth/earthengine%20https%3A//www.googleapis.com/auth/devstorage.full_control&request_id=zcdfjuBJ7BTll76V41R8xQY6kbUoHmc1555y5Rc8x5c&tc=Mg4Bim_D2Zg2y1zKEDvwJoI12_lz-pa8PpEWC-IGSDI&cc=KJPEJD63UQHMzD3KbWtDZnVFSPwHna998hi7GUYcYOY\n",
      "\n",
      "The authorization workflow will generate a code, which you should paste in the box below.\n",
      "Enter verification code: 4/1AWtgzh4fT2idGhJaIrnKO-Bbgz3Om_F_JUCHx7X8hx7wwVLVb9PbxpU13p8\n",
      "\n",
      "Successfully saved authorization token.\n"
     ]
    }
   ],
   "source": [
    "ee.Authenticate()"
   ]
  },
  {
   "cell_type": "code",
   "execution_count": null,
   "metadata": {
    "id": "_7tlkPgAB1Sr"
   },
   "outputs": [],
   "source": [
    "ee.Initialize()  # initialize the Earth Engine API"
   ]
  },
  {
   "cell_type": "markdown",
   "metadata": {
    "id": "arLsTolyB1Sr"
   },
   "source": [
    "## Constants"
   ]
  },
  {
   "cell_type": "code",
   "execution_count": null,
   "metadata": {
    "id": "SBAJURlyB1Ss"
   },
   "outputs": [],
   "source": [
    "# ========== ADAPT THESE PARAMETERS ==========\n",
    "\n",
    "# To export to Google Drive, uncomment the next 2 lines\n",
    "EXPORT = 'drive'\n",
    "BUCKET = None\n",
    "\n",
    "# To export to Google Cloud Storage (GCS), uncomment the next 2 lines\n",
    "# and set the bucket to the desired bucket name\n",
    "# EXPORT = 'gcs'\n",
    "# BUCKET = 'mybucket'\n",
    "\n",
    "\n",
    "# export location parameters\n",
    "\n",
    "#The locations you should export to to test this notebook for yourself\n",
    "DHS_EXPORT_FOLDER = '../data/dhs_tfrecords_raw/folder_for_you_to_replicate_our_downloads'\n",
    "LSMS_EXPORT_FOLDER = '../data/lsms_tfrecords_raw/folder_for_you_to_replicate_our_downloads'\n",
    "\n",
    "# Our original export folders\n",
    "# DO NOT USE THESE UNLESS THEY ARE EMPTY.  Trying to download the same data\n",
    "# twice can cause multiple .csv files containing the same data points.\n",
    "#DHS_EXPORT_FOLDER = '../data/dhs_tfrecords_raw'\n",
    "#LSMS_EXPORT_FOLDER = '../data/lsms_tfrecords_raw'\n",
    "\n",
    "\n",
    "# Data download chunk sizes\n",
    "\n",
    "#CHUNK_SIZE = None        # use this if there are no memory issues (there will be for some surveys)\n",
    "CHUNK_SIZE = 50           # set to a small number (<= 50) if Google Earth Engine reports memory errors"
   ]
  },
  {
   "cell_type": "code",
   "execution_count": null,
   "metadata": {
    "id": "NmCHNWS8B1Ss"
   },
   "outputs": [],
   "source": [
    "# ========== DO NOT MODIFY THESE ==========\n",
    "\n",
    "# input data paths\n",
    "DHS_CSV_PATH = '../data/yeh_et_al/dhs_clusters.csv'\n",
    "LSMS_CSV_PATH = '../data/yeh_et_al/lsms_clusters.csv'\n",
    "\n",
    "# band names\n",
    "MS_BANDS = ['BLUE', 'GREEN', 'RED', 'NIR', 'SWIR1', 'SWIR2', 'TEMP1']\n",
    "\n",
    "# image export parameters\n",
    "PROJECTION = 'EPSG:3857'  # see https://epsg.io/3857\n",
    "SCALE = 30                # export resolution: 30m/px\n",
    "EXPORT_TILE_RADIUS = 127  # image dimension = (2*EXPORT_TILE_RADIUS) + 1 = 255px"
   ]
  },
  {
   "cell_type": "markdown",
   "metadata": {
    "id": "vQCculkfB1Ss"
   },
   "source": [
    "## Export Images"
   ]
  },
  {
   "cell_type": "code",
   "execution_count": null,
   "metadata": {
    "id": "c0CE_7KhB1Ss"
   },
   "outputs": [],
   "source": [
    "def export_images(\n",
    "        df: pd.DataFrame,\n",
    "        country: str,\n",
    "        year: int,\n",
    "        export_folder: str,\n",
    "        chunk_size: Optional[int] = None,\n",
    "        ) -> Dict[Tuple[Any], ee.batch.Task]:\n",
    "    '''\n",
    "    Args\n",
    "    - df: pd.DataFrame, contains columns ['lat', 'lon', 'country', 'year']\n",
    "    - country: str, together with `year` determines the survey to export\n",
    "    - year: int, together with `country` determines the survey to export\n",
    "    - export_folder: str, name of folder for export\n",
    "    - chunk_size: int, optionally set a limit to the # of images exported per TFRecord file\n",
    "        - set to a small number (<= 50) if Google Earth Engine reports memory errors\n",
    "\n",
    "    Returns: dict, maps task name tuple (export_folder, country, year, chunk) to ee.batch.Task\n",
    "    '''\n",
    "    subset_df = df[(df['country'] == country) & (df['year'] == year)].reset_index(drop=True)\n",
    "    if chunk_size is None:\n",
    "        num_chunks = 1\n",
    "        #SIMON ADDED THE NEXT LINE TO MAKE THE CODE WORK\n",
    "        chunk_size = len(subset_df)\n",
    "    else:\n",
    "        num_chunks = int(math.ceil(len(subset_df) / chunk_size))\n",
    "    tasks = {}\n",
    "\n",
    "\n",
    "\n",
    "    for i in range(num_chunks):\n",
    "        chunk_slice = slice(i * chunk_size, (i+1) * chunk_size - 1)  # df.loc[] is inclusive\n",
    "        fc = ee_utils.df_to_fc(subset_df.loc[chunk_slice, :])\n",
    "        start_date, end_date = ee_utils.surveyyear_to_range(year)\n",
    "\n",
    "        # create 3-year Landsat composite image\n",
    "        roi = fc.geometry()\n",
    "        imgcol = ee_utils.LandsatSR(roi, start_date=start_date, end_date=end_date).merged\n",
    "        imgcol = imgcol.map(ee_utils.mask_qaclear).select(MS_BANDS)\n",
    "        img = imgcol.median()\n",
    "\n",
    "        # add nightlights, latitude, and longitude bands\n",
    "        img = ee_utils.add_latlon(img)\n",
    "        img = img.addBands(ee_utils.composite_nl(year))\n",
    "\n",
    "        fname = f'{country}_{year}_{i:02d}'\n",
    "        tasks[(export_folder, country, year, i)] = ee_utils.get_array_patches(\n",
    "            img=img, scale=SCALE, ksize=EXPORT_TILE_RADIUS,\n",
    "            points=fc, export='drive',\n",
    "            prefix=export_folder, fname=fname,\n",
    "            bucket=None)\n",
    "    return tasks"
   ]
  },
  {
   "cell_type": "code",
   "execution_count": null,
   "metadata": {
    "id": "ROyUFqD56uAS"
   },
   "outputs": [],
   "source": [
    "dhs_df = pd.read_csv(DHS_CSV_PATH, float_precision='high', index_col=False)\n",
    "dhs_surveys = list(dhs_df.groupby(['country', 'year']).groups.keys())\n",
    "\n",
    "#If you only want specific DHS data (and no LSMS data), then uncomment the\n",
    "#line below (specifying which countries/years you want) and then run\n",
    "#this cell and the next cell, then skip the following two (LSMS) cells,\n",
    "#and finally run the last cell of the notebook (\"ee.utils.wait_on_tasks...\")\n",
    "\n",
    "#dhs_surveys = [('angolga', 2011), ('ethiopia', 2010)]"
   ]
  },
  {
   "cell_type": "code",
   "execution_count": null,
   "metadata": {
    "id": "8mE-j7ZmB1Ss"
   },
   "outputs": [],
   "source": [
    "#dhs_df = pd.read_csv(DHS_CSV_PATH, float_precision='high', index_col=False)\n",
    "#dhs_surveys = list(dhs_df.groupby(['country', 'year']).groups.keys())\n",
    "\n",
    "\n",
    "tasks = {}\n",
    "\n",
    "for country, year in dhs_surveys:\n",
    "    new_tasks = export_images(\n",
    "        df=dhs_df, country=country, year=year,\n",
    "        export_folder=DHS_EXPORT_FOLDER, chunk_size=CHUNK_SIZE)\n",
    "    tasks.update(new_tasks)"
   ]
  },
  {
   "cell_type": "code",
   "execution_count": null,
   "metadata": {
    "id": "JrWbmApu8zqB"
   },
   "outputs": [],
   "source": [
    "lsms_df = pd.read_csv(LSMS_CSV_PATH, float_precision='high', index_col=False)\n",
    "lsms_surveys = list(lsms_df.groupby(['country', 'year']).groups.keys())\n",
    "\n",
    "#If you only want specific LSMS data (and no DHS data), then uncomment the\n",
    "#two lines below (specifying which countries/years you want)\n",
    "#and then run this cell and then the next two cells\n",
    "\n",
    "#tasks = {}\n",
    "#lsms_surveys = [('tanzania', 2012), ('uganda', 2013)]\n",
    "\n",
    "tasks = {}\n",
    "lsms_surveys = [('ethiopia', 2015)]"
   ]
  },
  {
   "cell_type": "code",
   "execution_count": null,
   "metadata": {
    "id": "tp3eotNfB1Ss"
   },
   "outputs": [],
   "source": [
    "#lsms_df = pd.read_csv(LSMS_CSV_PATH, float_precision='high', index_col=False)\n",
    "#lsms_surveys = list(lsms_df.groupby(['country', 'year']).groups.keys())\n",
    "\n",
    "for country, year in lsms_surveys:\n",
    "    new_tasks = export_images(\n",
    "        df=lsms_df, country=country, year=year,\n",
    "        export_folder=LSMS_EXPORT_FOLDER, chunk_size=CHUNK_SIZE)\n",
    "    tasks.update(new_tasks)"
   ]
  },
  {
   "cell_type": "markdown",
   "metadata": {
    "id": "VRkPBVWhB1Ss"
   },
   "source": [
    "Check on the status of each export task at [https://code.earthengine.google.com/](https://code.earthengine.google.com/), or run the following cell which checks every minute. Once all tasks have completed, download the DHS TFRecord files to `data/dhs_tfrecords_raw/` and LSMS TFRecord files to `data/lsms_tfrecords_raw/`."
   ]
  },
  {
   "cell_type": "code",
   "execution_count": null,
   "metadata": {
    "colab": {
     "base_uri": "https://localhost:8080/",
     "height": 171,
     "referenced_widgets": [
      "c7e77906e05e48b6b15dfc895b96b4ad",
      "76b4c3dbcd9e415e9334bc727696bddc",
      "714ff661e17147179add6b6f4229d493",
      "b5c5293e858641ed92992bfcc10eab30",
      "4a60ab20c1a5427bba22a90108060a48",
      "435a1eb0678645a28f34e8a5231c4708",
      "e7eaf5ccf36a4fd88be74a8577fd157a",
      "32dc62e2295347b48c6a07dbe71af66c",
      "4d5fb374f89345038a974a7ae7821cd8",
      "8d3eb6b6bb7b407c88377276c26e8126",
      "9e238995af7a4f59a60e7ecad1334cb0"
     ]
    },
    "executionInfo": {
     "elapsed": 375583,
     "status": "ok",
     "timestamp": 1674790293265,
     "user": {
      "displayName": "Simon Lazarus",
      "userId": "17611643969802645189"
     },
     "user_tz": 300
    },
    "id": "tc__9fsrB1Ss",
    "outputId": "54118712-05fd-4e25-b5e5-070bd944ef9e"
   },
   "outputs": [
    {
     "data": {
      "application/vnd.jupyter.widget-view+json": {
       "model_id": "c7e77906e05e48b6b15dfc895b96b4ad",
       "version_major": 2,
       "version_minor": 0
      },
      "text/plain": [
       "  0%|          | 0/7 [00:00<?, ?it/s]"
      ]
     },
     "metadata": {},
     "output_type": "display_data"
    },
    {
     "name": "stdout",
     "output_type": "stream",
     "text": [
      "Task ('../data/lsms_tfrecords_raw', 'ethiopia', 2015, 0) finished in 0 min with state: COMPLETED\n",
      "Task ('../data/lsms_tfrecords_raw', 'ethiopia', 2015, 1) finished in 1 min with state: COMPLETED\n",
      "Task ('../data/lsms_tfrecords_raw', 'ethiopia', 2015, 2) finished in 0 min with state: COMPLETED\n",
      "Task ('../data/lsms_tfrecords_raw', 'ethiopia', 2015, 3) finished in 1 min with state: COMPLETED\n",
      "Task ('../data/lsms_tfrecords_raw', 'ethiopia', 2015, 4) finished in 0 min with state: COMPLETED\n",
      "Task ('../data/lsms_tfrecords_raw', 'ethiopia', 2015, 6) finished in 0 min with state: COMPLETED\n",
      "Task ('../data/lsms_tfrecords_raw', 'ethiopia', 2015, 5) finished in 27 min with state: ('FAILED', 'Execution failed; out of memory.')\n"
     ]
    }
   ],
   "source": [
    "ee_utils.wait_on_tasks(tasks, poll_interval=60)"
   ]
  },
  {
   "cell_type": "markdown",
   "metadata": {
    "id": "PP0ZhC3PSpFe"
   },
   "source": [
    "It appears that, of all the satellite image data we attempted to download, the only images that failed to download were a few of those corresponding to the LSMS survey locations (specifically, about one-seventh of the images corresponding to Ethiopia's 2015 batch of LSMS surveys).  We will not be using the LSMS data for the primary training and evaluation of our models, so this will not be a problem."
   ]
  },
  {
   "cell_type": "markdown",
   "metadata": {
    "id": "WoOlPGqOXXtg"
   },
   "source": [
    "## What's next?\n",
    "\n",
    "In the [next notebook](02_extract_images_and_data.ipynb), we extract and export the image data (and non-image data) contained in the `.tfrecord.gz` files we downloaded in this notebook."
   ]
  }
 ],
 "metadata": {
  "colab": {
   "provenance": []
  },
  "kernelspec": {
   "display_name": "Python 3 (ipykernel)",
   "language": "python",
   "name": "python3"
  },
  "language_info": {
   "codemirror_mode": {
    "name": "ipython",
    "version": 3
   },
   "file_extension": ".py",
   "mimetype": "text/x-python",
   "name": "python",
   "nbconvert_exporter": "python",
   "pygments_lexer": "ipython3",
   "version": "3.9.12"
  },
  "toc": {
   "base_numbering": 1,
   "nav_menu": {},
   "number_sections": true,
   "sideBar": true,
   "skip_h1_title": false,
   "title_cell": "Table of Contents",
   "title_sidebar": "Contents",
   "toc_cell": true,
   "toc_position": {},
   "toc_section_display": true,
   "toc_window_display": true
  },
  "widgets": {
   "application/vnd.jupyter.widget-state+json": {
    "32dc62e2295347b48c6a07dbe71af66c": {
     "model_module": "@jupyter-widgets/base",
     "model_module_version": "1.2.0",
     "model_name": "LayoutModel",
     "state": {
      "_model_module": "@jupyter-widgets/base",
      "_model_module_version": "1.2.0",
      "_model_name": "LayoutModel",
      "_view_count": null,
      "_view_module": "@jupyter-widgets/base",
      "_view_module_version": "1.2.0",
      "_view_name": "LayoutView",
      "align_content": null,
      "align_items": null,
      "align_self": null,
      "border": null,
      "bottom": null,
      "display": null,
      "flex": null,
      "flex_flow": null,
      "grid_area": null,
      "grid_auto_columns": null,
      "grid_auto_flow": null,
      "grid_auto_rows": null,
      "grid_column": null,
      "grid_gap": null,
      "grid_row": null,
      "grid_template_areas": null,
      "grid_template_columns": null,
      "grid_template_rows": null,
      "height": null,
      "justify_content": null,
      "justify_items": null,
      "left": null,
      "margin": null,
      "max_height": null,
      "max_width": null,
      "min_height": null,
      "min_width": null,
      "object_fit": null,
      "object_position": null,
      "order": null,
      "overflow": null,
      "overflow_x": null,
      "overflow_y": null,
      "padding": null,
      "right": null,
      "top": null,
      "visibility": null,
      "width": null
     }
    },
    "435a1eb0678645a28f34e8a5231c4708": {
     "model_module": "@jupyter-widgets/base",
     "model_module_version": "1.2.0",
     "model_name": "LayoutModel",
     "state": {
      "_model_module": "@jupyter-widgets/base",
      "_model_module_version": "1.2.0",
      "_model_name": "LayoutModel",
      "_view_count": null,
      "_view_module": "@jupyter-widgets/base",
      "_view_module_version": "1.2.0",
      "_view_name": "LayoutView",
      "align_content": null,
      "align_items": null,
      "align_self": null,
      "border": null,
      "bottom": null,
      "display": null,
      "flex": null,
      "flex_flow": null,
      "grid_area": null,
      "grid_auto_columns": null,
      "grid_auto_flow": null,
      "grid_auto_rows": null,
      "grid_column": null,
      "grid_gap": null,
      "grid_row": null,
      "grid_template_areas": null,
      "grid_template_columns": null,
      "grid_template_rows": null,
      "height": null,
      "justify_content": null,
      "justify_items": null,
      "left": null,
      "margin": null,
      "max_height": null,
      "max_width": null,
      "min_height": null,
      "min_width": null,
      "object_fit": null,
      "object_position": null,
      "order": null,
      "overflow": null,
      "overflow_x": null,
      "overflow_y": null,
      "padding": null,
      "right": null,
      "top": null,
      "visibility": null,
      "width": null
     }
    },
    "4a60ab20c1a5427bba22a90108060a48": {
     "model_module": "@jupyter-widgets/base",
     "model_module_version": "1.2.0",
     "model_name": "LayoutModel",
     "state": {
      "_model_module": "@jupyter-widgets/base",
      "_model_module_version": "1.2.0",
      "_model_name": "LayoutModel",
      "_view_count": null,
      "_view_module": "@jupyter-widgets/base",
      "_view_module_version": "1.2.0",
      "_view_name": "LayoutView",
      "align_content": null,
      "align_items": null,
      "align_self": null,
      "border": null,
      "bottom": null,
      "display": null,
      "flex": null,
      "flex_flow": null,
      "grid_area": null,
      "grid_auto_columns": null,
      "grid_auto_flow": null,
      "grid_auto_rows": null,
      "grid_column": null,
      "grid_gap": null,
      "grid_row": null,
      "grid_template_areas": null,
      "grid_template_columns": null,
      "grid_template_rows": null,
      "height": null,
      "justify_content": null,
      "justify_items": null,
      "left": null,
      "margin": null,
      "max_height": null,
      "max_width": null,
      "min_height": null,
      "min_width": null,
      "object_fit": null,
      "object_position": null,
      "order": null,
      "overflow": null,
      "overflow_x": null,
      "overflow_y": null,
      "padding": null,
      "right": null,
      "top": null,
      "visibility": null,
      "width": null
     }
    },
    "4d5fb374f89345038a974a7ae7821cd8": {
     "model_module": "@jupyter-widgets/controls",
     "model_module_version": "1.5.0",
     "model_name": "ProgressStyleModel",
     "state": {
      "_model_module": "@jupyter-widgets/controls",
      "_model_module_version": "1.5.0",
      "_model_name": "ProgressStyleModel",
      "_view_count": null,
      "_view_module": "@jupyter-widgets/base",
      "_view_module_version": "1.2.0",
      "_view_name": "StyleView",
      "bar_color": null,
      "description_width": ""
     }
    },
    "714ff661e17147179add6b6f4229d493": {
     "model_module": "@jupyter-widgets/controls",
     "model_module_version": "1.5.0",
     "model_name": "FloatProgressModel",
     "state": {
      "_dom_classes": [],
      "_model_module": "@jupyter-widgets/controls",
      "_model_module_version": "1.5.0",
      "_model_name": "FloatProgressModel",
      "_view_count": null,
      "_view_module": "@jupyter-widgets/controls",
      "_view_module_version": "1.5.0",
      "_view_name": "ProgressView",
      "bar_style": "success",
      "description": "",
      "description_tooltip": null,
      "layout": "IPY_MODEL_32dc62e2295347b48c6a07dbe71af66c",
      "max": 7,
      "min": 0,
      "orientation": "horizontal",
      "style": "IPY_MODEL_4d5fb374f89345038a974a7ae7821cd8",
      "value": 7
     }
    },
    "76b4c3dbcd9e415e9334bc727696bddc": {
     "model_module": "@jupyter-widgets/controls",
     "model_module_version": "1.5.0",
     "model_name": "HTMLModel",
     "state": {
      "_dom_classes": [],
      "_model_module": "@jupyter-widgets/controls",
      "_model_module_version": "1.5.0",
      "_model_name": "HTMLModel",
      "_view_count": null,
      "_view_module": "@jupyter-widgets/controls",
      "_view_module_version": "1.5.0",
      "_view_name": "HTMLView",
      "description": "",
      "description_tooltip": null,
      "layout": "IPY_MODEL_435a1eb0678645a28f34e8a5231c4708",
      "placeholder": "​",
      "style": "IPY_MODEL_e7eaf5ccf36a4fd88be74a8577fd157a",
      "value": "100%"
     }
    },
    "8d3eb6b6bb7b407c88377276c26e8126": {
     "model_module": "@jupyter-widgets/base",
     "model_module_version": "1.2.0",
     "model_name": "LayoutModel",
     "state": {
      "_model_module": "@jupyter-widgets/base",
      "_model_module_version": "1.2.0",
      "_model_name": "LayoutModel",
      "_view_count": null,
      "_view_module": "@jupyter-widgets/base",
      "_view_module_version": "1.2.0",
      "_view_name": "LayoutView",
      "align_content": null,
      "align_items": null,
      "align_self": null,
      "border": null,
      "bottom": null,
      "display": null,
      "flex": null,
      "flex_flow": null,
      "grid_area": null,
      "grid_auto_columns": null,
      "grid_auto_flow": null,
      "grid_auto_rows": null,
      "grid_column": null,
      "grid_gap": null,
      "grid_row": null,
      "grid_template_areas": null,
      "grid_template_columns": null,
      "grid_template_rows": null,
      "height": null,
      "justify_content": null,
      "justify_items": null,
      "left": null,
      "margin": null,
      "max_height": null,
      "max_width": null,
      "min_height": null,
      "min_width": null,
      "object_fit": null,
      "object_position": null,
      "order": null,
      "overflow": null,
      "overflow_x": null,
      "overflow_y": null,
      "padding": null,
      "right": null,
      "top": null,
      "visibility": null,
      "width": null
     }
    },
    "9e238995af7a4f59a60e7ecad1334cb0": {
     "model_module": "@jupyter-widgets/controls",
     "model_module_version": "1.5.0",
     "model_name": "DescriptionStyleModel",
     "state": {
      "_model_module": "@jupyter-widgets/controls",
      "_model_module_version": "1.5.0",
      "_model_name": "DescriptionStyleModel",
      "_view_count": null,
      "_view_module": "@jupyter-widgets/base",
      "_view_module_version": "1.2.0",
      "_view_name": "StyleView",
      "description_width": ""
     }
    },
    "b5c5293e858641ed92992bfcc10eab30": {
     "model_module": "@jupyter-widgets/controls",
     "model_module_version": "1.5.0",
     "model_name": "HTMLModel",
     "state": {
      "_dom_classes": [],
      "_model_module": "@jupyter-widgets/controls",
      "_model_module_version": "1.5.0",
      "_model_name": "HTMLModel",
      "_view_count": null,
      "_view_module": "@jupyter-widgets/controls",
      "_view_module_version": "1.5.0",
      "_view_name": "HTMLView",
      "description": "",
      "description_tooltip": null,
      "layout": "IPY_MODEL_8d3eb6b6bb7b407c88377276c26e8126",
      "placeholder": "​",
      "style": "IPY_MODEL_9e238995af7a4f59a60e7ecad1334cb0",
      "value": " 7/7 [29:11&lt;00:00, 430.64s/it]"
     }
    },
    "c7e77906e05e48b6b15dfc895b96b4ad": {
     "model_module": "@jupyter-widgets/controls",
     "model_module_version": "1.5.0",
     "model_name": "HBoxModel",
     "state": {
      "_dom_classes": [],
      "_model_module": "@jupyter-widgets/controls",
      "_model_module_version": "1.5.0",
      "_model_name": "HBoxModel",
      "_view_count": null,
      "_view_module": "@jupyter-widgets/controls",
      "_view_module_version": "1.5.0",
      "_view_name": "HBoxView",
      "box_style": "",
      "children": [
       "IPY_MODEL_76b4c3dbcd9e415e9334bc727696bddc",
       "IPY_MODEL_714ff661e17147179add6b6f4229d493",
       "IPY_MODEL_b5c5293e858641ed92992bfcc10eab30"
      ],
      "layout": "IPY_MODEL_4a60ab20c1a5427bba22a90108060a48"
     }
    },
    "e7eaf5ccf36a4fd88be74a8577fd157a": {
     "model_module": "@jupyter-widgets/controls",
     "model_module_version": "1.5.0",
     "model_name": "DescriptionStyleModel",
     "state": {
      "_model_module": "@jupyter-widgets/controls",
      "_model_module_version": "1.5.0",
      "_model_name": "DescriptionStyleModel",
      "_view_count": null,
      "_view_module": "@jupyter-widgets/base",
      "_view_module_version": "1.2.0",
      "_view_name": "StyleView",
      "description_width": ""
     }
    }
   }
  }
 },
 "nbformat": 4,
 "nbformat_minor": 4
}
