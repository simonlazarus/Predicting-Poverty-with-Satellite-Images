{
 "cells": [
  {
   "cell_type": "markdown",
   "metadata": {
    "id": "4zAf0d_TXqMg"
   },
   "source": [
    "# Summary of this notebook\n",
    "\n",
    "..."
   ]
  },
  {
   "cell_type": "code",
   "execution_count": 1,
   "metadata": {
    "colab": {
     "base_uri": "https://localhost:8080/"
    },
    "id": "TZHR_fOLry1q",
    "outputId": "737c371c-0712-43af-99c1-56ec07199248"
   },
   "outputs": [],
   "source": [
    "#If using Google Colab and Google Drive, run the following commands\n",
    "\n",
    "#from google.colab import drive\n",
    "#drive.mount('/content/drive')"
   ]
  },
  {
   "cell_type": "code",
   "execution_count": 2,
   "metadata": {
    "colab": {
     "base_uri": "https://localhost:8080/"
    },
    "id": "t7LzllWFryuG",
    "outputId": "5d0f0d91-8f8d-47aa-bb41-26973434152e"
   },
   "outputs": [],
   "source": [
    "#REPLACE THIS COMMAND WITH THE APPROPRIATE PATH TO THE \"code\" FOLDER ON YOUR GOOGLE DRIVE\n",
    "#%cd ./drive/MyDrive/poverty_project/group_project/code"
   ]
  },
  {
   "cell_type": "markdown",
   "metadata": {
    "id": "p5ng6jnZoTGs"
   },
   "source": [
    "### Imports"
   ]
  },
  {
   "cell_type": "code",
   "execution_count": 3,
   "metadata": {
    "id": "05c2QWkWrZsv"
   },
   "outputs": [],
   "source": [
    "import pandas as pd\n",
    "import numpy as np\n",
    "\n",
    "#from os import listdir\n",
    "#from os.path import isfile, join\n",
    "\n",
    "from sklearn.model_selection import train_test_split\n",
    "from sklearn.linear_model import LogisticRegression\n",
    "from sklearn.ensemble import RandomForestClassifier, AdaBoostClassifier\n",
    "from sklearn.neighbors import KNeighborsClassifier"
   ]
  },
  {
   "cell_type": "markdown",
   "metadata": {},
   "source": [
    "### Load data"
   ]
  },
  {
   "cell_type": "code",
   "execution_count": 4,
   "metadata": {
    "colab": {
     "base_uri": "https://localhost:8080/",
     "height": 238
    },
    "id": "m6jOaflBoSdS",
    "outputId": "90e64b3b-22bf-4b05-dd65-c5d83644eb52"
   },
   "outputs": [
    {
     "data": {
      "text/html": [
       "<div>\n",
       "<style scoped>\n",
       "    .dataframe tbody tr th:only-of-type {\n",
       "        vertical-align: middle;\n",
       "    }\n",
       "\n",
       "    .dataframe tbody tr th {\n",
       "        vertical-align: top;\n",
       "    }\n",
       "\n",
       "    .dataframe thead th {\n",
       "        text-align: right;\n",
       "    }\n",
       "</style>\n",
       "<table border=\"1\" class=\"dataframe\">\n",
       "  <thead>\n",
       "    <tr style=\"text-align: right;\">\n",
       "      <th></th>\n",
       "      <th>country</th>\n",
       "      <th>year</th>\n",
       "      <th>wealth_index</th>\n",
       "      <th>is_urban</th>\n",
       "      <th>households</th>\n",
       "      <th>latitude</th>\n",
       "      <th>longitude</th>\n",
       "      <th>is_poorest</th>\n",
       "    </tr>\n",
       "    <tr>\n",
       "      <th>index</th>\n",
       "      <th></th>\n",
       "      <th></th>\n",
       "      <th></th>\n",
       "      <th></th>\n",
       "      <th></th>\n",
       "      <th></th>\n",
       "      <th></th>\n",
       "      <th></th>\n",
       "    </tr>\n",
       "  </thead>\n",
       "  <tbody>\n",
       "    <tr>\n",
       "      <th>lesotho_2014_00-254</th>\n",
       "      <td>lesotho</td>\n",
       "      <td>2014.0</td>\n",
       "      <td>0.983558</td>\n",
       "      <td>1.0</td>\n",
       "      <td>24.0</td>\n",
       "      <td>-28.909042</td>\n",
       "      <td>27.936529</td>\n",
       "      <td>0</td>\n",
       "    </tr>\n",
       "    <tr>\n",
       "      <th>burkina_faso_2010_00-162</th>\n",
       "      <td>burkina_faso</td>\n",
       "      <td>2010.0</td>\n",
       "      <td>-0.604069</td>\n",
       "      <td>0.0</td>\n",
       "      <td>25.0</td>\n",
       "      <td>11.163129</td>\n",
       "      <td>-3.322228</td>\n",
       "      <td>1</td>\n",
       "    </tr>\n",
       "    <tr>\n",
       "      <th>mali_2012_00-381</th>\n",
       "      <td>mali</td>\n",
       "      <td>2012.0</td>\n",
       "      <td>-0.371823</td>\n",
       "      <td>0.0</td>\n",
       "      <td>25.0</td>\n",
       "      <td>11.877264</td>\n",
       "      <td>-6.966146</td>\n",
       "      <td>0</td>\n",
       "    </tr>\n",
       "    <tr>\n",
       "      <th>lesotho_2009_00-237</th>\n",
       "      <td>lesotho</td>\n",
       "      <td>2009.0</td>\n",
       "      <td>-0.110702</td>\n",
       "      <td>0.0</td>\n",
       "      <td>23.0</td>\n",
       "      <td>-29.518770</td>\n",
       "      <td>28.033241</td>\n",
       "      <td>0</td>\n",
       "    </tr>\n",
       "    <tr>\n",
       "      <th>zimbabwe_2010_00-125</th>\n",
       "      <td>zimbabwe</td>\n",
       "      <td>2010.0</td>\n",
       "      <td>-0.749686</td>\n",
       "      <td>0.0</td>\n",
       "      <td>28.0</td>\n",
       "      <td>-16.217611</td>\n",
       "      <td>30.610455</td>\n",
       "      <td>1</td>\n",
       "    </tr>\n",
       "  </tbody>\n",
       "</table>\n",
       "</div>"
      ],
      "text/plain": [
       "                               country    year  wealth_index  is_urban  \\\n",
       "index                                                                    \n",
       "lesotho_2014_00-254            lesotho  2014.0      0.983558       1.0   \n",
       "burkina_faso_2010_00-162  burkina_faso  2010.0     -0.604069       0.0   \n",
       "mali_2012_00-381                  mali  2012.0     -0.371823       0.0   \n",
       "lesotho_2009_00-237            lesotho  2009.0     -0.110702       0.0   \n",
       "zimbabwe_2010_00-125          zimbabwe  2010.0     -0.749686       0.0   \n",
       "\n",
       "                          households   latitude  longitude  is_poorest  \n",
       "index                                                                   \n",
       "lesotho_2014_00-254             24.0 -28.909042  27.936529           0  \n",
       "burkina_faso_2010_00-162        25.0  11.163129  -3.322228           1  \n",
       "mali_2012_00-381                25.0  11.877264  -6.966146           0  \n",
       "lesotho_2009_00-237             23.0 -29.518770  28.033241           0  \n",
       "zimbabwe_2010_00-125            28.0 -16.217611  30.610455           1  "
      ]
     },
     "execution_count": 4,
     "metadata": {},
     "output_type": "execute_result"
    }
   ],
   "source": [
    "train = pd.read_csv('../data/train.csv', index_col='index')\n",
    "test = pd.read_csv('../data/test.csv', index_col='index')\n",
    "train.head()"
   ]
  },
  {
   "cell_type": "code",
   "execution_count": 5,
   "metadata": {},
   "outputs": [
    {
     "data": {
      "text/html": [
       "<div>\n",
       "<style scoped>\n",
       "    .dataframe tbody tr th:only-of-type {\n",
       "        vertical-align: middle;\n",
       "    }\n",
       "\n",
       "    .dataframe tbody tr th {\n",
       "        vertical-align: top;\n",
       "    }\n",
       "\n",
       "    .dataframe thead th {\n",
       "        text-align: right;\n",
       "    }\n",
       "</style>\n",
       "<table border=\"1\" class=\"dataframe\">\n",
       "  <thead>\n",
       "    <tr style=\"text-align: right;\">\n",
       "      <th></th>\n",
       "      <th>country</th>\n",
       "      <th>year</th>\n",
       "      <th>wealth_index</th>\n",
       "      <th>is_urban</th>\n",
       "      <th>households</th>\n",
       "      <th>latitude</th>\n",
       "      <th>longitude</th>\n",
       "      <th>is_poorest</th>\n",
       "    </tr>\n",
       "    <tr>\n",
       "      <th>index</th>\n",
       "      <th></th>\n",
       "      <th></th>\n",
       "      <th></th>\n",
       "      <th></th>\n",
       "      <th></th>\n",
       "      <th></th>\n",
       "      <th></th>\n",
       "      <th></th>\n",
       "    </tr>\n",
       "  </thead>\n",
       "  <tbody>\n",
       "    <tr>\n",
       "      <th>kenya_2014_17-28</th>\n",
       "      <td>kenya</td>\n",
       "      <td>2014.0</td>\n",
       "      <td>-0.199972</td>\n",
       "      <td>1.0</td>\n",
       "      <td>20.0</td>\n",
       "      <td>-0.907212</td>\n",
       "      <td>34.582047</td>\n",
       "      <td>0</td>\n",
       "    </tr>\n",
       "    <tr>\n",
       "      <th>kenya_2014_31-11</th>\n",
       "      <td>kenya</td>\n",
       "      <td>2014.0</td>\n",
       "      <td>-0.311057</td>\n",
       "      <td>0.0</td>\n",
       "      <td>23.0</td>\n",
       "      <td>0.541424</td>\n",
       "      <td>34.334202</td>\n",
       "      <td>0</td>\n",
       "    </tr>\n",
       "    <tr>\n",
       "      <th>zimbabwe_2015_00-334</th>\n",
       "      <td>zimbabwe</td>\n",
       "      <td>2015.0</td>\n",
       "      <td>1.621408</td>\n",
       "      <td>1.0</td>\n",
       "      <td>28.0</td>\n",
       "      <td>-18.985624</td>\n",
       "      <td>32.593941</td>\n",
       "      <td>0</td>\n",
       "    </tr>\n",
       "    <tr>\n",
       "      <th>lesotho_2009_00-370</th>\n",
       "      <td>lesotho</td>\n",
       "      <td>2009.0</td>\n",
       "      <td>-0.373018</td>\n",
       "      <td>0.0</td>\n",
       "      <td>21.0</td>\n",
       "      <td>-29.093271</td>\n",
       "      <td>27.666286</td>\n",
       "      <td>0</td>\n",
       "    </tr>\n",
       "    <tr>\n",
       "      <th>zambia_2013_00-466</th>\n",
       "      <td>zambia</td>\n",
       "      <td>2013.0</td>\n",
       "      <td>-0.556459</td>\n",
       "      <td>0.0</td>\n",
       "      <td>23.0</td>\n",
       "      <td>-17.476536</td>\n",
       "      <td>26.537828</td>\n",
       "      <td>1</td>\n",
       "    </tr>\n",
       "  </tbody>\n",
       "</table>\n",
       "</div>"
      ],
      "text/plain": [
       "                       country    year  wealth_index  is_urban  households  \\\n",
       "index                                                                        \n",
       "kenya_2014_17-28         kenya  2014.0     -0.199972       1.0        20.0   \n",
       "kenya_2014_31-11         kenya  2014.0     -0.311057       0.0        23.0   \n",
       "zimbabwe_2015_00-334  zimbabwe  2015.0      1.621408       1.0        28.0   \n",
       "lesotho_2009_00-370    lesotho  2009.0     -0.373018       0.0        21.0   \n",
       "zambia_2013_00-466      zambia  2013.0     -0.556459       0.0        23.0   \n",
       "\n",
       "                       latitude  longitude  is_poorest  \n",
       "index                                                   \n",
       "kenya_2014_17-28      -0.907212  34.582047           0  \n",
       "kenya_2014_31-11       0.541424  34.334202           0  \n",
       "zimbabwe_2015_00-334 -18.985624  32.593941           0  \n",
       "lesotho_2009_00-370  -29.093271  27.666286           0  \n",
       "zambia_2013_00-466   -17.476536  26.537828           1  "
      ]
     },
     "execution_count": 5,
     "metadata": {},
     "output_type": "execute_result"
    }
   ],
   "source": [
    "test.head()"
   ]
  },
  {
   "cell_type": "code",
   "execution_count": 6,
   "metadata": {},
   "outputs": [
    {
     "data": {
      "text/plain": [
       "0    0.665411\n",
       "1    0.334589\n",
       "Name: is_poorest, dtype: float64"
      ]
     },
     "execution_count": 6,
     "metadata": {},
     "output_type": "execute_result"
    }
   ],
   "source": [
    "train['is_poorest'].value_counts(normalize=True)"
   ]
  },
  {
   "cell_type": "code",
   "execution_count": 7,
   "metadata": {},
   "outputs": [
    {
     "data": {
      "text/plain": [
       "0    0.663244\n",
       "1    0.336756\n",
       "Name: is_poorest, dtype: float64"
      ]
     },
     "execution_count": 7,
     "metadata": {},
     "output_type": "execute_result"
    }
   ],
   "source": [
    "test['is_poorest'].value_counts(normalize=True)"
   ]
  },
  {
   "cell_type": "markdown",
   "metadata": {
    "id": "wLzL5vnNYyP8"
   },
   "source": [
    "### Create dummies"
   ]
  },
  {
   "cell_type": "code",
   "execution_count": 8,
   "metadata": {},
   "outputs": [
    {
     "data": {
      "text/plain": [
       "29"
      ]
     },
     "execution_count": 8,
     "metadata": {},
     "output_type": "execute_result"
    }
   ],
   "source": [
    "train = pd.get_dummies(train, columns=['country'], drop_first=True)\n",
    "len(train.columns)"
   ]
  },
  {
   "cell_type": "code",
   "execution_count": 9,
   "metadata": {},
   "outputs": [
    {
     "data": {
      "text/plain": [
       "29"
      ]
     },
     "execution_count": 9,
     "metadata": {},
     "output_type": "execute_result"
    }
   ],
   "source": [
    "test = pd.get_dummies(test, columns=['country'], drop_first=True)\n",
    "len(test.columns)"
   ]
  },
  {
   "cell_type": "markdown",
   "metadata": {},
   "source": [
    "### Create funtion to run models"
   ]
  },
  {
   "cell_type": "code",
   "execution_count": 10,
   "metadata": {},
   "outputs": [],
   "source": [
    "def fit_and_report(model, df_train, df_test, is_print=False):\n",
    "    # Split X, y\n",
    "    only_country = ['year', 'wealth_index', 'households', 'is_poorest', 'latitude', 'longitude', 'is_urban']\n",
    "    country_is_urban = ['year', 'wealth_index', 'households', 'is_poorest', 'latitude', 'longitude']\n",
    "    country_is_urban_lat_long = ['year', 'wealth_index', 'households', 'is_poorest']\n",
    "    y = 'is_poorest'\n",
    "    \n",
    "    df_train_f1 = df_train.drop(columns=only_country)\n",
    "    df_train_f2 = df_train.drop(columns=country_is_urban)\n",
    "    df_train_f3 = df_train.drop(columns=country_is_urban_lat_long)\n",
    "    X_train = [df_train_f1, df_train_f2, df_train_f3]\n",
    "    y_train = df_train[y]\n",
    "    \n",
    "    df_test_f1 = df_test.drop(columns=only_country)\n",
    "    df_test_f2 = df_test.drop(columns=country_is_urban)\n",
    "    df_test_f3 = df_test.drop(columns=country_is_urban_lat_long)\n",
    "    X_test = [df_test_f1, df_test_f2, df_test_f3]\n",
    "    y_test = df_test[y]\n",
    "    \n",
    "    scores = []\n",
    "    for i in range(3):\n",
    "        model[i].fit(X_train[i], y_train)\n",
    "        scores.append(model[i].score(X_train[i], y_train))\n",
    "        scores.append(model[i].score(X_test[i], y_test))\n",
    "        if is_print:\n",
    "            print(f'feature {i+1} train = {model[i].score(X_train[i], y_train)}')\n",
    "            print(f'feature {i+1} test = {model[i].score(X_test[i], y_test)}\\n')\n",
    "    return scores"
   ]
  },
  {
   "cell_type": "markdown",
   "metadata": {},
   "source": [
    "### Modeling & Result"
   ]
  },
  {
   "cell_type": "code",
   "execution_count": 11,
   "metadata": {},
   "outputs": [
    {
     "name": "stderr",
     "output_type": "stream",
     "text": [
      "/Users/atigon/opt/anaconda3/lib/python3.9/site-packages/sklearn/linear_model/_logistic.py:814: ConvergenceWarning: lbfgs failed to converge (status=1):\n",
      "STOP: TOTAL NO. of ITERATIONS REACHED LIMIT.\n",
      "\n",
      "Increase the number of iterations (max_iter) or scale the data as shown in:\n",
      "    https://scikit-learn.org/stable/modules/preprocessing.html\n",
      "Please also refer to the documentation for alternative solver options:\n",
      "    https://scikit-learn.org/stable/modules/linear_model.html#logistic-regression\n",
      "  n_iter_i = _check_optimize_result(\n",
      "/Users/atigon/opt/anaconda3/lib/python3.9/site-packages/sklearn/neighbors/_classification.py:228: FutureWarning: Unlike other reduction functions (e.g. `skew`, `kurtosis`), the default behavior of `mode` typically preserves the axis it acts along. In SciPy 1.11.0, this behavior will change: the default value of `keepdims` will become False, the `axis` over which the statistic is taken will be eliminated, and the value None will no longer be accepted. Set `keepdims` to True or False to avoid this warning.\n",
      "  mode, _ = stats.mode(_y[neigh_ind, k], axis=1)\n",
      "/Users/atigon/opt/anaconda3/lib/python3.9/site-packages/sklearn/neighbors/_classification.py:228: FutureWarning: Unlike other reduction functions (e.g. `skew`, `kurtosis`), the default behavior of `mode` typically preserves the axis it acts along. In SciPy 1.11.0, this behavior will change: the default value of `keepdims` will become False, the `axis` over which the statistic is taken will be eliminated, and the value None will no longer be accepted. Set `keepdims` to True or False to avoid this warning.\n",
      "  mode, _ = stats.mode(_y[neigh_ind, k], axis=1)\n",
      "/Users/atigon/opt/anaconda3/lib/python3.9/site-packages/sklearn/neighbors/_classification.py:228: FutureWarning: Unlike other reduction functions (e.g. `skew`, `kurtosis`), the default behavior of `mode` typically preserves the axis it acts along. In SciPy 1.11.0, this behavior will change: the default value of `keepdims` will become False, the `axis` over which the statistic is taken will be eliminated, and the value None will no longer be accepted. Set `keepdims` to True or False to avoid this warning.\n",
      "  mode, _ = stats.mode(_y[neigh_ind, k], axis=1)\n",
      "/Users/atigon/opt/anaconda3/lib/python3.9/site-packages/sklearn/neighbors/_classification.py:228: FutureWarning: Unlike other reduction functions (e.g. `skew`, `kurtosis`), the default behavior of `mode` typically preserves the axis it acts along. In SciPy 1.11.0, this behavior will change: the default value of `keepdims` will become False, the `axis` over which the statistic is taken will be eliminated, and the value None will no longer be accepted. Set `keepdims` to True or False to avoid this warning.\n",
      "  mode, _ = stats.mode(_y[neigh_ind, k], axis=1)\n",
      "/Users/atigon/opt/anaconda3/lib/python3.9/site-packages/sklearn/neighbors/_classification.py:228: FutureWarning: Unlike other reduction functions (e.g. `skew`, `kurtosis`), the default behavior of `mode` typically preserves the axis it acts along. In SciPy 1.11.0, this behavior will change: the default value of `keepdims` will become False, the `axis` over which the statistic is taken will be eliminated, and the value None will no longer be accepted. Set `keepdims` to True or False to avoid this warning.\n",
      "  mode, _ = stats.mode(_y[neigh_ind, k], axis=1)\n",
      "/Users/atigon/opt/anaconda3/lib/python3.9/site-packages/sklearn/neighbors/_classification.py:228: FutureWarning: Unlike other reduction functions (e.g. `skew`, `kurtosis`), the default behavior of `mode` typically preserves the axis it acts along. In SciPy 1.11.0, this behavior will change: the default value of `keepdims` will become False, the `axis` over which the statistic is taken will be eliminated, and the value None will no longer be accepted. Set `keepdims` to True or False to avoid this warning.\n",
      "  mode, _ = stats.mode(_y[neigh_ind, k], axis=1)\n"
     ]
    },
    {
     "data": {
      "text/html": [
       "<div>\n",
       "<style scoped>\n",
       "    .dataframe tbody tr th:only-of-type {\n",
       "        vertical-align: middle;\n",
       "    }\n",
       "\n",
       "    .dataframe tbody tr th {\n",
       "        vertical-align: top;\n",
       "    }\n",
       "\n",
       "    .dataframe thead th {\n",
       "        text-align: right;\n",
       "    }\n",
       "</style>\n",
       "<table border=\"1\" class=\"dataframe\">\n",
       "  <thead>\n",
       "    <tr style=\"text-align: right;\">\n",
       "      <th></th>\n",
       "      <th>LogisticRegression</th>\n",
       "      <th>RandomForestClassifier</th>\n",
       "      <th>AdaBoostClassifier</th>\n",
       "      <th>KNeighborsClassifier</th>\n",
       "    </tr>\n",
       "  </thead>\n",
       "  <tbody>\n",
       "    <tr>\n",
       "      <th>only_country_train</th>\n",
       "      <td>0.709247</td>\n",
       "      <td>0.709075</td>\n",
       "      <td>0.709247</td>\n",
       "      <td>0.628596</td>\n",
       "    </tr>\n",
       "    <tr>\n",
       "      <th>only_country_test</th>\n",
       "      <td>0.709446</td>\n",
       "      <td>0.704312</td>\n",
       "      <td>0.709446</td>\n",
       "      <td>0.605749</td>\n",
       "    </tr>\n",
       "    <tr>\n",
       "      <th>country_is_urban_train</th>\n",
       "      <td>0.799886</td>\n",
       "      <td>0.799886</td>\n",
       "      <td>0.799886</td>\n",
       "      <td>0.782763</td>\n",
       "    </tr>\n",
       "    <tr>\n",
       "      <th>country_is_urban_test</th>\n",
       "      <td>0.783368</td>\n",
       "      <td>0.783368</td>\n",
       "      <td>0.783368</td>\n",
       "      <td>0.764887</td>\n",
       "    </tr>\n",
       "    <tr>\n",
       "      <th>country_is_urban_lat_long_train</th>\n",
       "      <td>0.790354</td>\n",
       "      <td>0.999829</td>\n",
       "      <td>0.817637</td>\n",
       "      <td>0.880936</td>\n",
       "    </tr>\n",
       "    <tr>\n",
       "      <th>country_is_urban_lat_long_test</th>\n",
       "      <td>0.781314</td>\n",
       "      <td>0.820329</td>\n",
       "      <td>0.808008</td>\n",
       "      <td>0.813142</td>\n",
       "    </tr>\n",
       "  </tbody>\n",
       "</table>\n",
       "</div>"
      ],
      "text/plain": [
       "                                 LogisticRegression  RandomForestClassifier  \\\n",
       "only_country_train                         0.709247                0.709075   \n",
       "only_country_test                          0.709446                0.704312   \n",
       "country_is_urban_train                     0.799886                0.799886   \n",
       "country_is_urban_test                      0.783368                0.783368   \n",
       "country_is_urban_lat_long_train            0.790354                0.999829   \n",
       "country_is_urban_lat_long_test             0.781314                0.820329   \n",
       "\n",
       "                                 AdaBoostClassifier  KNeighborsClassifier  \n",
       "only_country_train                         0.709247              0.628596  \n",
       "only_country_test                          0.709446              0.605749  \n",
       "country_is_urban_train                     0.799886              0.782763  \n",
       "country_is_urban_test                      0.783368              0.764887  \n",
       "country_is_urban_lat_long_train            0.817637              0.880936  \n",
       "country_is_urban_lat_long_test             0.808008              0.813142  "
      ]
     },
     "execution_count": 11,
     "metadata": {},
     "output_type": "execute_result"
    }
   ],
   "source": [
    "# Prepare datafram to keep the results\n",
    "df_score = pd.DataFrame(index=['only_country_train', 'only_country_test', \n",
    "                               'country_is_urban_train', 'country_is_urban_test', \n",
    "                               'country_is_urban_lat_long_train', 'country_is_urban_lat_long_test'])\n",
    "\n",
    "# Iterate through all models for making the baseline model\n",
    "logr, rf, ada, knn = [], [], [], []\n",
    "for _ in range(3):\n",
    "    logr.append(LogisticRegression(random_state=42))\n",
    "    rf.append(RandomForestClassifier(random_state=42))\n",
    "    ada.append(AdaBoostClassifier(random_state=42))\n",
    "    knn.append(KNeighborsClassifier())\n",
    "df_score['LogisticRegression'] = fit_and_report(logr, train, test);\n",
    "df_score['RandomForestClassifier'] = fit_and_report(rf, train, test);\n",
    "df_score['AdaBoostClassifier'] = fit_and_report(ada, train, test);\n",
    "df_score['KNeighborsClassifier'] = fit_and_report(knn, train, test);\n",
    "\n",
    "df_score"
   ]
  },
  {
   "cell_type": "markdown",
   "metadata": {},
   "source": [
    "### Export"
   ]
  },
  {
   "cell_type": "code",
   "execution_count": 13,
   "metadata": {},
   "outputs": [],
   "source": [
    "df_score.to_csv('../data/baseline_model_score.csv')"
   ]
  },
  {
   "cell_type": "code",
   "execution_count": null,
   "metadata": {},
   "outputs": [],
   "source": []
  }
 ],
 "metadata": {
  "colab": {
   "provenance": []
  },
  "kernelspec": {
   "display_name": "Python 3 (ipykernel)",
   "language": "python",
   "name": "python3"
  },
  "language_info": {
   "codemirror_mode": {
    "name": "ipython",
    "version": 3
   },
   "file_extension": ".py",
   "mimetype": "text/x-python",
   "name": "python",
   "nbconvert_exporter": "python",
   "pygments_lexer": "ipython3",
   "version": "3.9.13"
  }
 },
 "nbformat": 4,
 "nbformat_minor": 4
}
