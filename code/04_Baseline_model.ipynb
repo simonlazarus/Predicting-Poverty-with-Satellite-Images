{
 "cells": [
  {
   "cell_type": "markdown",
   "metadata": {
    "id": "4zAf0d_TXqMg"
   },
   "source": [
    "# Summary of this notebook\n",
    "\n",
    "In this notebook, we use the non-image data associated with each of the villages in our training data set in order to train candidate baseline models.  We select the model with the highest accuracy score on the test data as our baseline model, and then we evaluate its performance in terms of accuracy and recall scores on the unseen validation data.  This baseline model will be an important point of comparison for our production model in the [final notebook](06_final_modeling.ipynb)."
   ]
  },
  {
   "cell_type": "code",
   "execution_count": 1,
   "metadata": {
    "colab": {
     "base_uri": "https://localhost:8080/"
    },
    "id": "TZHR_fOLry1q",
    "outputId": "737c371c-0712-43af-99c1-56ec07199248"
   },
   "outputs": [],
   "source": [
    "#If using Google Colab and Google Drive, run the following commands\n",
    "\n",
    "#from google.colab import drive\n",
    "#drive.mount('/content/drive')"
   ]
  },
  {
   "cell_type": "code",
   "execution_count": 2,
   "metadata": {
    "colab": {
     "base_uri": "https://localhost:8080/"
    },
    "id": "t7LzllWFryuG",
    "outputId": "5d0f0d91-8f8d-47aa-bb41-26973434152e"
   },
   "outputs": [],
   "source": [
    "#REPLACE THIS COMMAND WITH THE APPROPRIATE PATH TO THE \"code\" FOLDER ON YOUR GOOGLE DRIVE\n",
    "#%cd ./drive/MyDrive/poverty_project/group_project/code"
   ]
  },
  {
   "cell_type": "markdown",
   "metadata": {
    "id": "p5ng6jnZoTGs"
   },
   "source": [
    "### Imports"
   ]
  },
  {
   "cell_type": "code",
   "execution_count": 3,
   "metadata": {
    "id": "05c2QWkWrZsv"
   },
   "outputs": [],
   "source": [
    "import pandas as pd\n",
    "import numpy as np\n",
    "\n",
    "#from os import listdir\n",
    "#from os.path import isfile, join\n",
    "from sklearn.metrics import confusion_matrix\n",
    "from sklearn.model_selection import train_test_split\n",
    "from sklearn.linear_model import LogisticRegression\n",
    "from sklearn.ensemble import RandomForestClassifier, AdaBoostClassifier\n",
    "from sklearn.neighbors import KNeighborsClassifier"
   ]
  },
  {
   "cell_type": "markdown",
   "metadata": {},
   "source": [
    "### Load data"
   ]
  },
  {
   "cell_type": "code",
   "execution_count": 4,
   "metadata": {
    "colab": {
     "base_uri": "https://localhost:8080/",
     "height": 238
    },
    "id": "m6jOaflBoSdS",
    "outputId": "90e64b3b-22bf-4b05-dd65-c5d83644eb52"
   },
   "outputs": [],
   "source": [
    "# Load data\n",
    "train = pd.read_csv('../data/train.csv', index_col='index')\n",
    "test = pd.read_csv('../data/test.csv', index_col='index')\n",
    "val = pd.read_csv('../data/val.csv', index_col='index')"
   ]
  },
  {
   "cell_type": "code",
   "execution_count": 5,
   "metadata": {},
   "outputs": [
    {
     "name": "stdout",
     "output_type": "stream",
     "text": [
      "(17520, 8)\n",
      "(974, 8)\n",
      "(973, 8)\n"
     ]
    }
   ],
   "source": [
    "# Dimension check\n",
    "print(train.shape)\n",
    "print(test.shape)\n",
    "print(val.shape)"
   ]
  },
  {
   "cell_type": "code",
   "execution_count": 6,
   "metadata": {},
   "outputs": [
    {
     "name": "stdout",
     "output_type": "stream",
     "text": [
      "0    0.665411\n",
      "1    0.334589\n",
      "Name: is_poorest, dtype: float64\n",
      "0    0.663244\n",
      "1    0.336756\n",
      "Name: is_poorest, dtype: float64\n",
      "0    0.692703\n",
      "1    0.307297\n",
      "Name: is_poorest, dtype: float64\n"
     ]
    }
   ],
   "source": [
    "# Normalize check\n",
    "print(train['is_poorest'].value_counts(normalize=True))\n",
    "print(test['is_poorest'].value_counts(normalize=True))\n",
    "print(val['is_poorest'].value_counts(normalize=True))"
   ]
  },
  {
   "cell_type": "markdown",
   "metadata": {
    "id": "wLzL5vnNYyP8"
   },
   "source": [
    "### Create dummies"
   ]
  },
  {
   "cell_type": "code",
   "execution_count": 7,
   "metadata": {},
   "outputs": [],
   "source": [
    "train = pd.get_dummies(train, columns=['country'], drop_first=True)\n",
    "test = pd.get_dummies(test, columns=['country'], drop_first=True)\n",
    "val = pd.get_dummies(val, columns=['country'], drop_first=True)"
   ]
  },
  {
   "cell_type": "code",
   "execution_count": 8,
   "metadata": {},
   "outputs": [
    {
     "name": "stdout",
     "output_type": "stream",
     "text": [
      "1.0\n",
      "1.0\n"
     ]
    }
   ],
   "source": [
    "# Dummies check: value must return 1.0 for both line\n",
    "print(np.mean([int(x) for x in (train.columns == test.columns)]))\n",
    "print(np.mean([int(x) for x in (test.columns == val.columns)]))"
   ]
  },
  {
   "cell_type": "markdown",
   "metadata": {},
   "source": [
    "### Create funtion to run models"
   ]
  },
  {
   "cell_type": "code",
   "execution_count": 9,
   "metadata": {},
   "outputs": [],
   "source": [
    "def fit_and_report(model, df_train, df_test, df_val, is_print=False):\n",
    "    \n",
    "    # Prepare variable\n",
    "    only_country = ['year', 'wealth_index', 'households', 'is_poorest', 'latitude', 'longitude', 'is_urban']\n",
    "    country_is_urban = ['year', 'wealth_index', 'households', 'is_poorest', 'latitude', 'longitude']\n",
    "    country_is_urban_lat_long = ['year', 'wealth_index', 'households', 'is_poorest']\n",
    "    only_lat_long = ['latitude', 'longitude']\n",
    "    country_lat_long = ['year', 'wealth_index', 'households', 'is_poorest', 'is_urban']\n",
    "    y = 'is_poorest'\n",
    "    \n",
    "    # Split X, y --- Train\n",
    "    df_train_f1 = df_train.drop(columns=only_country)\n",
    "    df_train_f2 = df_train.drop(columns=country_is_urban)\n",
    "    df_train_f3 = df_train.drop(columns=country_is_urban_lat_long)\n",
    "    df_train_f4 = df_train[only_lat_long] # easier to just select lat&long columns\n",
    "    df_train_f5 = df_train.drop(columns=country_lat_long)\n",
    "    X_train = [df_train_f1, df_train_f2, df_train_f3, df_train_f4, df_train_f5]\n",
    "    y_train = df_train[y]\n",
    "    \n",
    "    # Split X, y --- Test\n",
    "    df_test_f1 = df_test.drop(columns=only_country)\n",
    "    df_test_f2 = df_test.drop(columns=country_is_urban)\n",
    "    df_test_f3 = df_test.drop(columns=country_is_urban_lat_long)\n",
    "    df_test_f4 = df_test[only_lat_long] # easier to just select lat&long columns\n",
    "    df_test_f5 = df_test.drop(columns=country_lat_long)\n",
    "    X_test = [df_test_f1, df_test_f2, df_test_f3, df_test_f4, df_test_f5]\n",
    "    y_test = df_test[y]\n",
    "    \n",
    "    # Split X, y --- Val\n",
    "    df_val_f1 = df_val.drop(columns=only_country)\n",
    "    df_val_f2 = df_val.drop(columns=country_is_urban)\n",
    "    df_val_f3 = df_val.drop(columns=country_is_urban_lat_long)\n",
    "    df_val_f4 = df_val[only_lat_long] # easier to just select lat&long columns\n",
    "    df_val_f5 = df_val.drop(columns=country_lat_long)\n",
    "    X_val = [df_val_f1, df_val_f2, df_val_f3, df_val_f4, df_val_f5]\n",
    "    y_val = df_val[y]\n",
    "    \n",
    "    # Fitting and store results\n",
    "    scores = []\n",
    "    cm = []\n",
    "    cm_val = []\n",
    "    for i in range(len(model)):\n",
    "        model[i].fit(X_train[i], y_train) # fit the model here\n",
    "        scores.append(model[i].score(X_train[i], y_train))\n",
    "        scores.append(model[i].score(X_test[i], y_test))\n",
    "        scores.append(model[i].score(X_val[i], y_val))\n",
    "        cm.append(confusion_matrix(y_test, model[i].predict(X_test[i])))\n",
    "        cm_val.append(confusion_matrix(y_val, model[i].predict(X_val[i])))\n",
    "        if is_print:\n",
    "            print(f'feature {i+1} train = {model[i].score(X_train[i], y_train)}')\n",
    "            print(f'feature {i+1} test = {model[i].score(X_test[i], y_test)}\\n')\n",
    "    \n",
    "    return scores, cm, cm_val"
   ]
  },
  {
   "cell_type": "markdown",
   "metadata": {},
   "source": [
    "### Modeling & Result"
   ]
  },
  {
   "cell_type": "code",
   "execution_count": 10,
   "metadata": {
    "scrolled": true,
    "tags": []
   },
   "outputs": [
    {
     "name": "stderr",
     "output_type": "stream",
     "text": [
      "/Users/atigon/opt/anaconda3/lib/python3.9/site-packages/sklearn/linear_model/_logistic.py:814: ConvergenceWarning: lbfgs failed to converge (status=1):\n",
      "STOP: TOTAL NO. of ITERATIONS REACHED LIMIT.\n",
      "\n",
      "Increase the number of iterations (max_iter) or scale the data as shown in:\n",
      "    https://scikit-learn.org/stable/modules/preprocessing.html\n",
      "Please also refer to the documentation for alternative solver options:\n",
      "    https://scikit-learn.org/stable/modules/linear_model.html#logistic-regression\n",
      "  n_iter_i = _check_optimize_result(\n",
      "/Users/atigon/opt/anaconda3/lib/python3.9/site-packages/sklearn/linear_model/_logistic.py:814: ConvergenceWarning: lbfgs failed to converge (status=1):\n",
      "STOP: TOTAL NO. of ITERATIONS REACHED LIMIT.\n",
      "\n",
      "Increase the number of iterations (max_iter) or scale the data as shown in:\n",
      "    https://scikit-learn.org/stable/modules/preprocessing.html\n",
      "Please also refer to the documentation for alternative solver options:\n",
      "    https://scikit-learn.org/stable/modules/linear_model.html#logistic-regression\n",
      "  n_iter_i = _check_optimize_result(\n",
      "/Users/atigon/opt/anaconda3/lib/python3.9/site-packages/sklearn/neighbors/_classification.py:228: FutureWarning: Unlike other reduction functions (e.g. `skew`, `kurtosis`), the default behavior of `mode` typically preserves the axis it acts along. In SciPy 1.11.0, this behavior will change: the default value of `keepdims` will become False, the `axis` over which the statistic is taken will be eliminated, and the value None will no longer be accepted. Set `keepdims` to True or False to avoid this warning.\n",
      "  mode, _ = stats.mode(_y[neigh_ind, k], axis=1)\n",
      "/Users/atigon/opt/anaconda3/lib/python3.9/site-packages/sklearn/neighbors/_classification.py:228: FutureWarning: Unlike other reduction functions (e.g. `skew`, `kurtosis`), the default behavior of `mode` typically preserves the axis it acts along. In SciPy 1.11.0, this behavior will change: the default value of `keepdims` will become False, the `axis` over which the statistic is taken will be eliminated, and the value None will no longer be accepted. Set `keepdims` to True or False to avoid this warning.\n",
      "  mode, _ = stats.mode(_y[neigh_ind, k], axis=1)\n",
      "/Users/atigon/opt/anaconda3/lib/python3.9/site-packages/sklearn/neighbors/_classification.py:228: FutureWarning: Unlike other reduction functions (e.g. `skew`, `kurtosis`), the default behavior of `mode` typically preserves the axis it acts along. In SciPy 1.11.0, this behavior will change: the default value of `keepdims` will become False, the `axis` over which the statistic is taken will be eliminated, and the value None will no longer be accepted. Set `keepdims` to True or False to avoid this warning.\n",
      "  mode, _ = stats.mode(_y[neigh_ind, k], axis=1)\n",
      "/Users/atigon/opt/anaconda3/lib/python3.9/site-packages/sklearn/neighbors/_classification.py:228: FutureWarning: Unlike other reduction functions (e.g. `skew`, `kurtosis`), the default behavior of `mode` typically preserves the axis it acts along. In SciPy 1.11.0, this behavior will change: the default value of `keepdims` will become False, the `axis` over which the statistic is taken will be eliminated, and the value None will no longer be accepted. Set `keepdims` to True or False to avoid this warning.\n",
      "  mode, _ = stats.mode(_y[neigh_ind, k], axis=1)\n",
      "/Users/atigon/opt/anaconda3/lib/python3.9/site-packages/sklearn/neighbors/_classification.py:228: FutureWarning: Unlike other reduction functions (e.g. `skew`, `kurtosis`), the default behavior of `mode` typically preserves the axis it acts along. In SciPy 1.11.0, this behavior will change: the default value of `keepdims` will become False, the `axis` over which the statistic is taken will be eliminated, and the value None will no longer be accepted. Set `keepdims` to True or False to avoid this warning.\n",
      "  mode, _ = stats.mode(_y[neigh_ind, k], axis=1)\n",
      "/Users/atigon/opt/anaconda3/lib/python3.9/site-packages/sklearn/neighbors/_classification.py:228: FutureWarning: Unlike other reduction functions (e.g. `skew`, `kurtosis`), the default behavior of `mode` typically preserves the axis it acts along. In SciPy 1.11.0, this behavior will change: the default value of `keepdims` will become False, the `axis` over which the statistic is taken will be eliminated, and the value None will no longer be accepted. Set `keepdims` to True or False to avoid this warning.\n",
      "  mode, _ = stats.mode(_y[neigh_ind, k], axis=1)\n",
      "/Users/atigon/opt/anaconda3/lib/python3.9/site-packages/sklearn/neighbors/_classification.py:228: FutureWarning: Unlike other reduction functions (e.g. `skew`, `kurtosis`), the default behavior of `mode` typically preserves the axis it acts along. In SciPy 1.11.0, this behavior will change: the default value of `keepdims` will become False, the `axis` over which the statistic is taken will be eliminated, and the value None will no longer be accepted. Set `keepdims` to True or False to avoid this warning.\n",
      "  mode, _ = stats.mode(_y[neigh_ind, k], axis=1)\n",
      "/Users/atigon/opt/anaconda3/lib/python3.9/site-packages/sklearn/neighbors/_classification.py:228: FutureWarning: Unlike other reduction functions (e.g. `skew`, `kurtosis`), the default behavior of `mode` typically preserves the axis it acts along. In SciPy 1.11.0, this behavior will change: the default value of `keepdims` will become False, the `axis` over which the statistic is taken will be eliminated, and the value None will no longer be accepted. Set `keepdims` to True or False to avoid this warning.\n",
      "  mode, _ = stats.mode(_y[neigh_ind, k], axis=1)\n",
      "/Users/atigon/opt/anaconda3/lib/python3.9/site-packages/sklearn/neighbors/_classification.py:228: FutureWarning: Unlike other reduction functions (e.g. `skew`, `kurtosis`), the default behavior of `mode` typically preserves the axis it acts along. In SciPy 1.11.0, this behavior will change: the default value of `keepdims` will become False, the `axis` over which the statistic is taken will be eliminated, and the value None will no longer be accepted. Set `keepdims` to True or False to avoid this warning.\n",
      "  mode, _ = stats.mode(_y[neigh_ind, k], axis=1)\n",
      "/Users/atigon/opt/anaconda3/lib/python3.9/site-packages/sklearn/neighbors/_classification.py:228: FutureWarning: Unlike other reduction functions (e.g. `skew`, `kurtosis`), the default behavior of `mode` typically preserves the axis it acts along. In SciPy 1.11.0, this behavior will change: the default value of `keepdims` will become False, the `axis` over which the statistic is taken will be eliminated, and the value None will no longer be accepted. Set `keepdims` to True or False to avoid this warning.\n",
      "  mode, _ = stats.mode(_y[neigh_ind, k], axis=1)\n",
      "/Users/atigon/opt/anaconda3/lib/python3.9/site-packages/sklearn/neighbors/_classification.py:228: FutureWarning: Unlike other reduction functions (e.g. `skew`, `kurtosis`), the default behavior of `mode` typically preserves the axis it acts along. In SciPy 1.11.0, this behavior will change: the default value of `keepdims` will become False, the `axis` over which the statistic is taken will be eliminated, and the value None will no longer be accepted. Set `keepdims` to True or False to avoid this warning.\n",
      "  mode, _ = stats.mode(_y[neigh_ind, k], axis=1)\n",
      "/Users/atigon/opt/anaconda3/lib/python3.9/site-packages/sklearn/neighbors/_classification.py:228: FutureWarning: Unlike other reduction functions (e.g. `skew`, `kurtosis`), the default behavior of `mode` typically preserves the axis it acts along. In SciPy 1.11.0, this behavior will change: the default value of `keepdims` will become False, the `axis` over which the statistic is taken will be eliminated, and the value None will no longer be accepted. Set `keepdims` to True or False to avoid this warning.\n",
      "  mode, _ = stats.mode(_y[neigh_ind, k], axis=1)\n",
      "/Users/atigon/opt/anaconda3/lib/python3.9/site-packages/sklearn/neighbors/_classification.py:228: FutureWarning: Unlike other reduction functions (e.g. `skew`, `kurtosis`), the default behavior of `mode` typically preserves the axis it acts along. In SciPy 1.11.0, this behavior will change: the default value of `keepdims` will become False, the `axis` over which the statistic is taken will be eliminated, and the value None will no longer be accepted. Set `keepdims` to True or False to avoid this warning.\n",
      "  mode, _ = stats.mode(_y[neigh_ind, k], axis=1)\n",
      "/Users/atigon/opt/anaconda3/lib/python3.9/site-packages/sklearn/neighbors/_classification.py:228: FutureWarning: Unlike other reduction functions (e.g. `skew`, `kurtosis`), the default behavior of `mode` typically preserves the axis it acts along. In SciPy 1.11.0, this behavior will change: the default value of `keepdims` will become False, the `axis` over which the statistic is taken will be eliminated, and the value None will no longer be accepted. Set `keepdims` to True or False to avoid this warning.\n",
      "  mode, _ = stats.mode(_y[neigh_ind, k], axis=1)\n",
      "/Users/atigon/opt/anaconda3/lib/python3.9/site-packages/sklearn/neighbors/_classification.py:228: FutureWarning: Unlike other reduction functions (e.g. `skew`, `kurtosis`), the default behavior of `mode` typically preserves the axis it acts along. In SciPy 1.11.0, this behavior will change: the default value of `keepdims` will become False, the `axis` over which the statistic is taken will be eliminated, and the value None will no longer be accepted. Set `keepdims` to True or False to avoid this warning.\n",
      "  mode, _ = stats.mode(_y[neigh_ind, k], axis=1)\n",
      "/Users/atigon/opt/anaconda3/lib/python3.9/site-packages/sklearn/neighbors/_classification.py:228: FutureWarning: Unlike other reduction functions (e.g. `skew`, `kurtosis`), the default behavior of `mode` typically preserves the axis it acts along. In SciPy 1.11.0, this behavior will change: the default value of `keepdims` will become False, the `axis` over which the statistic is taken will be eliminated, and the value None will no longer be accepted. Set `keepdims` to True or False to avoid this warning.\n",
      "  mode, _ = stats.mode(_y[neigh_ind, k], axis=1)\n",
      "/Users/atigon/opt/anaconda3/lib/python3.9/site-packages/sklearn/neighbors/_classification.py:228: FutureWarning: Unlike other reduction functions (e.g. `skew`, `kurtosis`), the default behavior of `mode` typically preserves the axis it acts along. In SciPy 1.11.0, this behavior will change: the default value of `keepdims` will become False, the `axis` over which the statistic is taken will be eliminated, and the value None will no longer be accepted. Set `keepdims` to True or False to avoid this warning.\n",
      "  mode, _ = stats.mode(_y[neigh_ind, k], axis=1)\n",
      "/Users/atigon/opt/anaconda3/lib/python3.9/site-packages/sklearn/neighbors/_classification.py:228: FutureWarning: Unlike other reduction functions (e.g. `skew`, `kurtosis`), the default behavior of `mode` typically preserves the axis it acts along. In SciPy 1.11.0, this behavior will change: the default value of `keepdims` will become False, the `axis` over which the statistic is taken will be eliminated, and the value None will no longer be accepted. Set `keepdims` to True or False to avoid this warning.\n",
      "  mode, _ = stats.mode(_y[neigh_ind, k], axis=1)\n",
      "/Users/atigon/opt/anaconda3/lib/python3.9/site-packages/sklearn/neighbors/_classification.py:228: FutureWarning: Unlike other reduction functions (e.g. `skew`, `kurtosis`), the default behavior of `mode` typically preserves the axis it acts along. In SciPy 1.11.0, this behavior will change: the default value of `keepdims` will become False, the `axis` over which the statistic is taken will be eliminated, and the value None will no longer be accepted. Set `keepdims` to True or False to avoid this warning.\n",
      "  mode, _ = stats.mode(_y[neigh_ind, k], axis=1)\n",
      "/Users/atigon/opt/anaconda3/lib/python3.9/site-packages/sklearn/neighbors/_classification.py:228: FutureWarning: Unlike other reduction functions (e.g. `skew`, `kurtosis`), the default behavior of `mode` typically preserves the axis it acts along. In SciPy 1.11.0, this behavior will change: the default value of `keepdims` will become False, the `axis` over which the statistic is taken will be eliminated, and the value None will no longer be accepted. Set `keepdims` to True or False to avoid this warning.\n",
      "  mode, _ = stats.mode(_y[neigh_ind, k], axis=1)\n",
      "/Users/atigon/opt/anaconda3/lib/python3.9/site-packages/sklearn/neighbors/_classification.py:228: FutureWarning: Unlike other reduction functions (e.g. `skew`, `kurtosis`), the default behavior of `mode` typically preserves the axis it acts along. In SciPy 1.11.0, this behavior will change: the default value of `keepdims` will become False, the `axis` over which the statistic is taken will be eliminated, and the value None will no longer be accepted. Set `keepdims` to True or False to avoid this warning.\n",
      "  mode, _ = stats.mode(_y[neigh_ind, k], axis=1)\n",
      "/Users/atigon/opt/anaconda3/lib/python3.9/site-packages/sklearn/neighbors/_classification.py:228: FutureWarning: Unlike other reduction functions (e.g. `skew`, `kurtosis`), the default behavior of `mode` typically preserves the axis it acts along. In SciPy 1.11.0, this behavior will change: the default value of `keepdims` will become False, the `axis` over which the statistic is taken will be eliminated, and the value None will no longer be accepted. Set `keepdims` to True or False to avoid this warning.\n",
      "  mode, _ = stats.mode(_y[neigh_ind, k], axis=1)\n",
      "/Users/atigon/opt/anaconda3/lib/python3.9/site-packages/sklearn/neighbors/_classification.py:228: FutureWarning: Unlike other reduction functions (e.g. `skew`, `kurtosis`), the default behavior of `mode` typically preserves the axis it acts along. In SciPy 1.11.0, this behavior will change: the default value of `keepdims` will become False, the `axis` over which the statistic is taken will be eliminated, and the value None will no longer be accepted. Set `keepdims` to True or False to avoid this warning.\n",
      "  mode, _ = stats.mode(_y[neigh_ind, k], axis=1)\n",
      "/Users/atigon/opt/anaconda3/lib/python3.9/site-packages/sklearn/neighbors/_classification.py:228: FutureWarning: Unlike other reduction functions (e.g. `skew`, `kurtosis`), the default behavior of `mode` typically preserves the axis it acts along. In SciPy 1.11.0, this behavior will change: the default value of `keepdims` will become False, the `axis` over which the statistic is taken will be eliminated, and the value None will no longer be accepted. Set `keepdims` to True or False to avoid this warning.\n",
      "  mode, _ = stats.mode(_y[neigh_ind, k], axis=1)\n",
      "/Users/atigon/opt/anaconda3/lib/python3.9/site-packages/sklearn/neighbors/_classification.py:228: FutureWarning: Unlike other reduction functions (e.g. `skew`, `kurtosis`), the default behavior of `mode` typically preserves the axis it acts along. In SciPy 1.11.0, this behavior will change: the default value of `keepdims` will become False, the `axis` over which the statistic is taken will be eliminated, and the value None will no longer be accepted. Set `keepdims` to True or False to avoid this warning.\n",
      "  mode, _ = stats.mode(_y[neigh_ind, k], axis=1)\n"
     ]
    }
   ],
   "source": [
    "# run the model\n",
    "n_features = 5\n",
    "df_score = pd.DataFrame(index=['only_country_train', 'only_country_test', 'only_country_val',\n",
    "                               'country_is_urban_train', 'country_is_urban_test', 'country_is_urban_val',\n",
    "                               'country_is_urban_lat_long_train', 'country_is_urban_lat_long_test', 'country_is_urban_lat_long_val',\n",
    "                               'only_lat_long_train', 'only_lat_long_test', 'only_lat_long_val',\n",
    "                               'country_lat_long_train', 'country_lat_long_test', 'country_lat_long_val',\n",
    "                              ])\n",
    "\n",
    "# Iterate through all models for making the baseline model\n",
    "logr, rf, ada, knn = [], [], [], []\n",
    "for _ in range(n_features):\n",
    "    logr.append(LogisticRegression(random_state=42))\n",
    "    rf.append(RandomForestClassifier(random_state=42))\n",
    "    ada.append(AdaBoostClassifier(random_state=42))\n",
    "    knn.append(KNeighborsClassifier())\n",
    "df_score['LogisticRegression'], lr_cm, lr_cm_val = fit_and_report(logr, train, test, val)\n",
    "df_score['RandomForestClassifier'], rf_cm, rf_cm_val = fit_and_report(rf, train, test, val)\n",
    "df_score['AdaBoostClassifier'], ada_cm, ada_cm_val = fit_and_report(ada, train, test, val)\n",
    "df_score['KNeighborsClassifier'], knn_cm, knn_cm_val = fit_and_report(knn, train, test, val)"
   ]
  },
  {
   "cell_type": "code",
   "execution_count": 11,
   "metadata": {},
   "outputs": [
    {
     "data": {
      "text/html": [
       "<div>\n",
       "<style scoped>\n",
       "    .dataframe tbody tr th:only-of-type {\n",
       "        vertical-align: middle;\n",
       "    }\n",
       "\n",
       "    .dataframe tbody tr th {\n",
       "        vertical-align: top;\n",
       "    }\n",
       "\n",
       "    .dataframe thead th {\n",
       "        text-align: right;\n",
       "    }\n",
       "</style>\n",
       "<table border=\"1\" class=\"dataframe\">\n",
       "  <thead>\n",
       "    <tr style=\"text-align: right;\">\n",
       "      <th></th>\n",
       "      <th>LogisticRegression</th>\n",
       "      <th>RandomForestClassifier</th>\n",
       "      <th>AdaBoostClassifier</th>\n",
       "      <th>KNeighborsClassifier</th>\n",
       "    </tr>\n",
       "  </thead>\n",
       "  <tbody>\n",
       "    <tr>\n",
       "      <th>only_country_train</th>\n",
       "      <td>0.709247</td>\n",
       "      <td>0.709075</td>\n",
       "      <td>0.709247</td>\n",
       "      <td>0.628596</td>\n",
       "    </tr>\n",
       "    <tr>\n",
       "      <th>only_country_test</th>\n",
       "      <td>0.709446</td>\n",
       "      <td>0.704312</td>\n",
       "      <td>0.709446</td>\n",
       "      <td>0.605749</td>\n",
       "    </tr>\n",
       "    <tr>\n",
       "      <th>only_country_val</th>\n",
       "      <td>0.730730</td>\n",
       "      <td>0.729702</td>\n",
       "      <td>0.730730</td>\n",
       "      <td>0.627955</td>\n",
       "    </tr>\n",
       "    <tr>\n",
       "      <th>country_is_urban_train</th>\n",
       "      <td>0.799886</td>\n",
       "      <td>0.799886</td>\n",
       "      <td>0.799886</td>\n",
       "      <td>0.782763</td>\n",
       "    </tr>\n",
       "    <tr>\n",
       "      <th>country_is_urban_test</th>\n",
       "      <td>0.783368</td>\n",
       "      <td>0.783368</td>\n",
       "      <td>0.783368</td>\n",
       "      <td>0.764887</td>\n",
       "    </tr>\n",
       "    <tr>\n",
       "      <th>country_is_urban_val</th>\n",
       "      <td>0.782117</td>\n",
       "      <td>0.782117</td>\n",
       "      <td>0.782117</td>\n",
       "      <td>0.786228</td>\n",
       "    </tr>\n",
       "    <tr>\n",
       "      <th>country_is_urban_lat_long_train</th>\n",
       "      <td>0.790354</td>\n",
       "      <td>0.999829</td>\n",
       "      <td>0.817637</td>\n",
       "      <td>0.880936</td>\n",
       "    </tr>\n",
       "    <tr>\n",
       "      <th>country_is_urban_lat_long_test</th>\n",
       "      <td>0.781314</td>\n",
       "      <td>0.820329</td>\n",
       "      <td>0.808008</td>\n",
       "      <td>0.813142</td>\n",
       "    </tr>\n",
       "    <tr>\n",
       "      <th>country_is_urban_lat_long_val</th>\n",
       "      <td>0.786228</td>\n",
       "      <td>0.818088</td>\n",
       "      <td>0.806783</td>\n",
       "      <td>0.827338</td>\n",
       "    </tr>\n",
       "    <tr>\n",
       "      <th>only_lat_long_train</th>\n",
       "      <td>0.675628</td>\n",
       "      <td>0.999772</td>\n",
       "      <td>0.729909</td>\n",
       "      <td>0.856164</td>\n",
       "    </tr>\n",
       "    <tr>\n",
       "      <th>only_lat_long_test</th>\n",
       "      <td>0.672485</td>\n",
       "      <td>0.794661</td>\n",
       "      <td>0.717659</td>\n",
       "      <td>0.790554</td>\n",
       "    </tr>\n",
       "    <tr>\n",
       "      <th>only_lat_long_val</th>\n",
       "      <td>0.698869</td>\n",
       "      <td>0.810894</td>\n",
       "      <td>0.752312</td>\n",
       "      <td>0.801644</td>\n",
       "    </tr>\n",
       "    <tr>\n",
       "      <th>country_lat_long_train</th>\n",
       "      <td>0.717295</td>\n",
       "      <td>0.999886</td>\n",
       "      <td>0.743436</td>\n",
       "      <td>0.856621</td>\n",
       "    </tr>\n",
       "    <tr>\n",
       "      <th>country_lat_long_test</th>\n",
       "      <td>0.719713</td>\n",
       "      <td>0.813142</td>\n",
       "      <td>0.743326</td>\n",
       "      <td>0.793634</td>\n",
       "    </tr>\n",
       "    <tr>\n",
       "      <th>country_lat_long_val</th>\n",
       "      <td>0.738952</td>\n",
       "      <td>0.803700</td>\n",
       "      <td>0.752312</td>\n",
       "      <td>0.801644</td>\n",
       "    </tr>\n",
       "  </tbody>\n",
       "</table>\n",
       "</div>"
      ],
      "text/plain": [
       "                                 LogisticRegression  RandomForestClassifier  \\\n",
       "only_country_train                         0.709247                0.709075   \n",
       "only_country_test                          0.709446                0.704312   \n",
       "only_country_val                           0.730730                0.729702   \n",
       "country_is_urban_train                     0.799886                0.799886   \n",
       "country_is_urban_test                      0.783368                0.783368   \n",
       "country_is_urban_val                       0.782117                0.782117   \n",
       "country_is_urban_lat_long_train            0.790354                0.999829   \n",
       "country_is_urban_lat_long_test             0.781314                0.820329   \n",
       "country_is_urban_lat_long_val              0.786228                0.818088   \n",
       "only_lat_long_train                        0.675628                0.999772   \n",
       "only_lat_long_test                         0.672485                0.794661   \n",
       "only_lat_long_val                          0.698869                0.810894   \n",
       "country_lat_long_train                     0.717295                0.999886   \n",
       "country_lat_long_test                      0.719713                0.813142   \n",
       "country_lat_long_val                       0.738952                0.803700   \n",
       "\n",
       "                                 AdaBoostClassifier  KNeighborsClassifier  \n",
       "only_country_train                         0.709247              0.628596  \n",
       "only_country_test                          0.709446              0.605749  \n",
       "only_country_val                           0.730730              0.627955  \n",
       "country_is_urban_train                     0.799886              0.782763  \n",
       "country_is_urban_test                      0.783368              0.764887  \n",
       "country_is_urban_val                       0.782117              0.786228  \n",
       "country_is_urban_lat_long_train            0.817637              0.880936  \n",
       "country_is_urban_lat_long_test             0.808008              0.813142  \n",
       "country_is_urban_lat_long_val              0.806783              0.827338  \n",
       "only_lat_long_train                        0.729909              0.856164  \n",
       "only_lat_long_test                         0.717659              0.790554  \n",
       "only_lat_long_val                          0.752312              0.801644  \n",
       "country_lat_long_train                     0.743436              0.856621  \n",
       "country_lat_long_test                      0.743326              0.793634  \n",
       "country_lat_long_val                       0.752312              0.801644  "
      ]
     },
     "execution_count": 11,
     "metadata": {},
     "output_type": "execute_result"
    }
   ],
   "source": [
    "df_score"
   ]
  },
  {
   "cell_type": "code",
   "execution_count": 12,
   "metadata": {},
   "outputs": [],
   "source": [
    "# Print score function\n",
    "def print_score(cm, is_print=False):\n",
    "    tn, fp, fn, tp = cm.ravel()\n",
    "    # calculate accuracy\n",
    "    conf_accuracy = (float (tp+tn) / float(tp + tn + fp + fn))\n",
    "    \n",
    "    # calculate the recall\n",
    "    conf_recall = (tp / float(tp + fn))\n",
    "\n",
    "    if is_print:\n",
    "        decimal = 3\n",
    "        print(f'Accuracy: \\t{round(conf_accuracy,decimal)}') \n",
    "        print(f'Recall: \\t{round(conf_recall,decimal)}') \n",
    "    return conf_accuracy, conf_recall"
   ]
  },
  {
   "cell_type": "code",
   "execution_count": 13,
   "metadata": {},
   "outputs": [
    {
     "name": "stdout",
     "output_type": "stream",
     "text": [
      "--------------------------------------------------\n",
      "ฺBaseline score: Random Forest + country_lat_long + test\n",
      "Accuracy: \t0.813\n",
      "Recall: \t0.716\n",
      "--------------------------------------------------\n",
      "Baseline score: Random Forest + country_lat_long + val\n",
      "Accuracy: \t0.804\n",
      "Recall: \t0.672\n",
      "--------------------------------------------------\n"
     ]
    }
   ],
   "source": [
    "# View baseline accuracy and recall score for test and val data\n",
    "print('-'*50)\n",
    "print('ฺBaseline score: Random Forest + country_lat_long + test')\n",
    "print_score(rf_cm[4], True)\n",
    "print('-'*50)\n",
    "print('Baseline score: Random Forest + country_lat_long + val')\n",
    "print_score(rf_cm_val[4], True)\n",
    "print('-'*50)"
   ]
  },
  {
   "cell_type": "code",
   "execution_count": 14,
   "metadata": {},
   "outputs": [
    {
     "name": "stdout",
     "output_type": "stream",
     "text": [
      "Confusion matrix: Random Forest + country_lat_long + val\n"
     ]
    },
    {
     "data": {
      "text/html": [
       "<div>\n",
       "<style scoped>\n",
       "    .dataframe tbody tr th:only-of-type {\n",
       "        vertical-align: middle;\n",
       "    }\n",
       "\n",
       "    .dataframe tbody tr th {\n",
       "        vertical-align: top;\n",
       "    }\n",
       "\n",
       "    .dataframe thead th {\n",
       "        text-align: right;\n",
       "    }\n",
       "</style>\n",
       "<table border=\"1\" class=\"dataframe\">\n",
       "  <thead>\n",
       "    <tr style=\"text-align: right;\">\n",
       "      <th></th>\n",
       "      <th>Predicted not Poorest</th>\n",
       "      <th>Predicted Poorest</th>\n",
       "    </tr>\n",
       "  </thead>\n",
       "  <tbody>\n",
       "    <tr>\n",
       "      <th>Actual not Poorest</th>\n",
       "      <td>581</td>\n",
       "      <td>93</td>\n",
       "    </tr>\n",
       "    <tr>\n",
       "      <th>Actual Poorest</th>\n",
       "      <td>98</td>\n",
       "      <td>201</td>\n",
       "    </tr>\n",
       "  </tbody>\n",
       "</table>\n",
       "</div>"
      ],
      "text/plain": [
       "                    Predicted not Poorest  Predicted Poorest\n",
       "Actual not Poorest                    581                 93\n",
       "Actual Poorest                         98                201"
      ]
     },
     "execution_count": 14,
     "metadata": {},
     "output_type": "execute_result"
    }
   ],
   "source": [
    "# Confusion matrix: Random Forest + country_lat_long + val\n",
    "print('Confusion matrix: Random Forest + country_lat_long + val')\n",
    "cm_df = pd.DataFrame(rf_cm_val[4], \n",
    "            columns = ['Predicted not Poorest', 'Predicted Poorest'],\n",
    "            index = ['Actual not Poorest', 'Actual Poorest'])\n",
    "cm_df"
   ]
  },
  {
   "cell_type": "code",
   "execution_count": 15,
   "metadata": {},
   "outputs": [
    {
     "data": {
      "text/html": [
       "<div>\n",
       "<style scoped>\n",
       "    .dataframe tbody tr th:only-of-type {\n",
       "        vertical-align: middle;\n",
       "    }\n",
       "\n",
       "    .dataframe tbody tr th {\n",
       "        vertical-align: top;\n",
       "    }\n",
       "\n",
       "    .dataframe thead th {\n",
       "        text-align: right;\n",
       "    }\n",
       "</style>\n",
       "<table border=\"1\" class=\"dataframe\">\n",
       "  <thead>\n",
       "    <tr style=\"text-align: right;\">\n",
       "      <th></th>\n",
       "      <th>RandomForestClassifier</th>\n",
       "    </tr>\n",
       "  </thead>\n",
       "  <tbody>\n",
       "    <tr>\n",
       "      <th>country_lat_long_train</th>\n",
       "      <td>0.999886</td>\n",
       "    </tr>\n",
       "    <tr>\n",
       "      <th>country_lat_long_test</th>\n",
       "      <td>0.813142</td>\n",
       "    </tr>\n",
       "    <tr>\n",
       "      <th>country_lat_long_val</th>\n",
       "      <td>0.803700</td>\n",
       "    </tr>\n",
       "    <tr>\n",
       "      <th>accuracy_val</th>\n",
       "      <td>0.803700</td>\n",
       "    </tr>\n",
       "    <tr>\n",
       "      <th>recall_val</th>\n",
       "      <td>0.672241</td>\n",
       "    </tr>\n",
       "  </tbody>\n",
       "</table>\n",
       "</div>"
      ],
      "text/plain": [
       "                        RandomForestClassifier\n",
       "country_lat_long_train                0.999886\n",
       "country_lat_long_test                 0.813142\n",
       "country_lat_long_val                  0.803700\n",
       "accuracy_val                          0.803700\n",
       "recall_val                            0.672241"
      ]
     },
     "execution_count": 15,
     "metadata": {},
     "output_type": "execute_result"
    }
   ],
   "source": [
    "df_best_model = df_score.iloc[-3:,1:2]\n",
    "acc_rec = pd.DataFrame(data=[print_score(rf_cm_val[4])[0], print_score(rf_cm_val[4])[1]], index=['accuracy_val', 'recall_val'], columns=['RandomForestClassifier'])\n",
    "df_best_model = pd.concat([df_best_model, acc_rec])\n",
    "df_best_model"
   ]
  },
  {
   "cell_type": "markdown",
   "metadata": {},
   "source": [
    "### Export"
   ]
  },
  {
   "cell_type": "code",
   "execution_count": 16,
   "metadata": {},
   "outputs": [],
   "source": [
    "df_score.to_csv('../data/all_baseline_model_score.csv')"
   ]
  },
  {
   "cell_type": "code",
   "execution_count": 17,
   "metadata": {},
   "outputs": [],
   "source": [
    "df_best_model.to_csv('../data/best_baseline_model_score_with_recall.csv')"
   ]
  }
 ],
 "metadata": {
  "colab": {
   "provenance": []
  },
  "kernelspec": {
   "display_name": "Python 3 (ipykernel)",
   "language": "python",
   "name": "python3"
  },
  "language_info": {
   "codemirror_mode": {
    "name": "ipython",
    "version": 3
   },
   "file_extension": ".py",
   "mimetype": "text/x-python",
   "name": "python",
   "nbconvert_exporter": "python",
   "pygments_lexer": "ipython3",
   "version": "3.9.13"
  }
 },
 "nbformat": 4,
 "nbformat_minor": 4
}
