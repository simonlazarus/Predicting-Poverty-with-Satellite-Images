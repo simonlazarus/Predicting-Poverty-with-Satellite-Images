{
 "cells": [
  {
   "cell_type": "markdown",
   "metadata": {
    "id": "4zAf0d_TXqMg"
   },
   "source": [
    "# Summary of this notebook\n",
    "\n",
    "..."
   ]
  },
  {
   "cell_type": "code",
   "execution_count": 1,
   "metadata": {
    "colab": {
     "base_uri": "https://localhost:8080/"
    },
    "id": "TZHR_fOLry1q",
    "outputId": "737c371c-0712-43af-99c1-56ec07199248"
   },
   "outputs": [],
   "source": [
    "#If using Google Colab and Google Drive, run the following commands\n",
    "\n",
    "#from google.colab import drive\n",
    "#drive.mount('/content/drive')"
   ]
  },
  {
   "cell_type": "code",
   "execution_count": 2,
   "metadata": {
    "colab": {
     "base_uri": "https://localhost:8080/"
    },
    "id": "t7LzllWFryuG",
    "outputId": "5d0f0d91-8f8d-47aa-bb41-26973434152e"
   },
   "outputs": [],
   "source": [
    "#REPLACE THIS COMMAND WITH THE APPROPRIATE PATH TO THE \"code\" FOLDER ON YOUR GOOGLE DRIVE\n",
    "#%cd ./drive/MyDrive/poverty_project/group_project/code"
   ]
  },
  {
   "cell_type": "markdown",
   "metadata": {
    "id": "p5ng6jnZoTGs"
   },
   "source": [
    "## Imports"
   ]
  },
  {
   "cell_type": "code",
   "execution_count": 3,
   "metadata": {
    "id": "05c2QWkWrZsv"
   },
   "outputs": [],
   "source": [
    "import pandas as pd\n",
    "import numpy as np\n",
    "\n",
    "#from os import listdir\n",
    "#from os.path import isfile, join\n",
    "\n",
    "from sklearn.model_selection import train_test_split\n",
    "from sklearn.linear_model import LogisticRegression\n",
    "from sklearn.ensemble import RandomForestClassifier, AdaBoostClassifier\n",
    "from sklearn.neighbors import KNeighborsClassifier"
   ]
  },
  {
   "cell_type": "code",
   "execution_count": 4,
   "metadata": {
    "colab": {
     "base_uri": "https://localhost:8080/",
     "height": 238
    },
    "id": "m6jOaflBoSdS",
    "outputId": "90e64b3b-22bf-4b05-dd65-c5d83644eb52"
   },
   "outputs": [
    {
     "data": {
      "text/html": [
       "<div>\n",
       "<style scoped>\n",
       "    .dataframe tbody tr th:only-of-type {\n",
       "        vertical-align: middle;\n",
       "    }\n",
       "\n",
       "    .dataframe tbody tr th {\n",
       "        vertical-align: top;\n",
       "    }\n",
       "\n",
       "    .dataframe thead th {\n",
       "        text-align: right;\n",
       "    }\n",
       "</style>\n",
       "<table border=\"1\" class=\"dataframe\">\n",
       "  <thead>\n",
       "    <tr style=\"text-align: right;\">\n",
       "      <th></th>\n",
       "      <th>country</th>\n",
       "      <th>year</th>\n",
       "      <th>wealth_index</th>\n",
       "      <th>is_urban</th>\n",
       "      <th>households</th>\n",
       "      <th>latitude</th>\n",
       "      <th>longitude</th>\n",
       "      <th>is_poorest</th>\n",
       "    </tr>\n",
       "    <tr>\n",
       "      <th>index</th>\n",
       "      <th></th>\n",
       "      <th></th>\n",
       "      <th></th>\n",
       "      <th></th>\n",
       "      <th></th>\n",
       "      <th></th>\n",
       "      <th></th>\n",
       "      <th></th>\n",
       "    </tr>\n",
       "  </thead>\n",
       "  <tbody>\n",
       "    <tr>\n",
       "      <th>angola_2011_00-0</th>\n",
       "      <td>angola</td>\n",
       "      <td>2011.0</td>\n",
       "      <td>2.595618</td>\n",
       "      <td>1.0</td>\n",
       "      <td>36.0</td>\n",
       "      <td>-12.350257</td>\n",
       "      <td>13.534922</td>\n",
       "      <td>0</td>\n",
       "    </tr>\n",
       "    <tr>\n",
       "      <th>angola_2011_00-1</th>\n",
       "      <td>angola</td>\n",
       "      <td>2011.0</td>\n",
       "      <td>2.209620</td>\n",
       "      <td>1.0</td>\n",
       "      <td>32.0</td>\n",
       "      <td>-12.360865</td>\n",
       "      <td>13.551494</td>\n",
       "      <td>0</td>\n",
       "    </tr>\n",
       "    <tr>\n",
       "      <th>angola_2011_00-2</th>\n",
       "      <td>angola</td>\n",
       "      <td>2011.0</td>\n",
       "      <td>0.906469</td>\n",
       "      <td>1.0</td>\n",
       "      <td>36.0</td>\n",
       "      <td>-12.613421</td>\n",
       "      <td>13.413085</td>\n",
       "      <td>0</td>\n",
       "    </tr>\n",
       "    <tr>\n",
       "      <th>angola_2011_00-3</th>\n",
       "      <td>angola</td>\n",
       "      <td>2011.0</td>\n",
       "      <td>1.105359</td>\n",
       "      <td>1.0</td>\n",
       "      <td>35.0</td>\n",
       "      <td>-12.581454</td>\n",
       "      <td>13.397711</td>\n",
       "      <td>0</td>\n",
       "    </tr>\n",
       "    <tr>\n",
       "      <th>angola_2011_00-4</th>\n",
       "      <td>angola</td>\n",
       "      <td>2011.0</td>\n",
       "      <td>1.879344</td>\n",
       "      <td>1.0</td>\n",
       "      <td>37.0</td>\n",
       "      <td>-12.578135</td>\n",
       "      <td>13.418748</td>\n",
       "      <td>0</td>\n",
       "    </tr>\n",
       "  </tbody>\n",
       "</table>\n",
       "</div>"
      ],
      "text/plain": [
       "                 country    year  wealth_index  is_urban  households  \\\n",
       "index                                                                  \n",
       "angola_2011_00-0  angola  2011.0      2.595618       1.0        36.0   \n",
       "angola_2011_00-1  angola  2011.0      2.209620       1.0        32.0   \n",
       "angola_2011_00-2  angola  2011.0      0.906469       1.0        36.0   \n",
       "angola_2011_00-3  angola  2011.0      1.105359       1.0        35.0   \n",
       "angola_2011_00-4  angola  2011.0      1.879344       1.0        37.0   \n",
       "\n",
       "                   latitude  longitude  is_poorest  \n",
       "index                                               \n",
       "angola_2011_00-0 -12.350257  13.534922           0  \n",
       "angola_2011_00-1 -12.360865  13.551494           0  \n",
       "angola_2011_00-2 -12.613421  13.413085           0  \n",
       "angola_2011_00-3 -12.581454  13.397711           0  \n",
       "angola_2011_00-4 -12.578135  13.418748           0  "
      ]
     },
     "execution_count": 4,
     "metadata": {},
     "output_type": "execute_result"
    }
   ],
   "source": [
    "combined = pd.read_csv('../data/combined_dhs_data.csv', index_col='index')\n",
    "combined.head()"
   ]
  },
  {
   "cell_type": "code",
   "execution_count": 5,
   "metadata": {},
   "outputs": [
    {
     "data": {
      "text/plain": [
       "0    0.666667\n",
       "1    0.333333\n",
       "Name: is_poorest, dtype: float64"
      ]
     },
     "execution_count": 5,
     "metadata": {},
     "output_type": "execute_result"
    }
   ],
   "source": [
    "combined['is_poorest'].value_counts(normalize=True)"
   ]
  },
  {
   "cell_type": "markdown",
   "metadata": {
    "id": "wLzL5vnNYyP8"
   },
   "source": [
    "# Create basic baseline model"
   ]
  },
  {
   "cell_type": "markdown",
   "metadata": {},
   "source": [
    "### Prepare dataset\n",
    "##### X_1 using 'country' feature only\n",
    "##### X_2 using 'country', 'is_urban' features\n",
    "##### X_3 using 'country',  'is_urban', 'latigude', 'longitude' features"
   ]
  },
  {
   "cell_type": "code",
   "execution_count": 6,
   "metadata": {},
   "outputs": [
    {
     "data": {
      "text/plain": [
       "Index(['year', 'wealth_index', 'is_urban', 'households', 'latitude',\n",
       "       'longitude', 'is_poorest', 'country_benin', 'country_burkina_faso',\n",
       "       'country_cameroon', 'country_cote_d_ivoire',\n",
       "       'country_democratic_republic_of_congo', 'country_ethiopia',\n",
       "       'country_ghana', 'country_guinea', 'country_kenya', 'country_lesotho',\n",
       "       'country_malawi', 'country_mali', 'country_mozambique',\n",
       "       'country_nigeria', 'country_rwanda', 'country_senegal',\n",
       "       'country_sierra_leone', 'country_tanzania', 'country_togo',\n",
       "       'country_uganda', 'country_zambia', 'country_zimbabwe'],\n",
       "      dtype='object')"
      ]
     },
     "execution_count": 6,
     "metadata": {},
     "output_type": "execute_result"
    }
   ],
   "source": [
    "combined = pd.get_dummies(combined, columns=['country'], drop_first=True)\n",
    "combined.columns"
   ]
  },
  {
   "cell_type": "code",
   "execution_count": 7,
   "metadata": {},
   "outputs": [],
   "source": [
    "# Split X, y\n",
    "X_1 = combined.drop(columns=['year', 'wealth_index', 'households', 'is_poorest', 'latitude', 'longitude', 'is_urban'])\n",
    "X_2 = combined.drop(columns=['year', 'wealth_index', 'households', 'is_poorest', 'latitude', 'longitude'])\n",
    "X_3 = combined.drop(columns=['year', 'wealth_index', 'households', 'is_poorest'])\n",
    "y = combined['is_poorest']"
   ]
  },
  {
   "cell_type": "code",
   "execution_count": 8,
   "metadata": {},
   "outputs": [],
   "source": [
    "X_train_1, X_test_1, y_train_1, y_test_1 = train_test_split(X_1, y, stratify=y, random_state=42, test_size=0.2)\n",
    "X_train_2, X_test_2, y_train_2, y_test_2 = train_test_split(X_2, y, stratify=y, random_state=42, test_size=0.2)\n",
    "X_train_3, X_test_3, y_train_3, y_test_3 = train_test_split(X_3, y, stratify=y, random_state=42, test_size=0.2)"
   ]
  },
  {
   "cell_type": "markdown",
   "metadata": {
    "tags": []
   },
   "source": [
    "### Logistic regression"
   ]
  },
  {
   "cell_type": "code",
   "execution_count": 9,
   "metadata": {},
   "outputs": [
    {
     "name": "stdout",
     "output_type": "stream",
     "text": [
      "logr_1 train = 0.708855069671868\n",
      "logr_1 test = 0.7162300975860297\n",
      "\n",
      "logr_2 train = 0.7990111089706543\n",
      "logr_2 test = 0.7960965588084232\n",
      "\n",
      "logr_3 train = 0.7990111089706543\n",
      "logr_3 test = 0.7960965588084232\n"
     ]
    },
    {
     "name": "stderr",
     "output_type": "stream",
     "text": [
      "/Users/atigon/opt/anaconda3/lib/python3.9/site-packages/sklearn/linear_model/_logistic.py:814: ConvergenceWarning: lbfgs failed to converge (status=1):\n",
      "STOP: TOTAL NO. of ITERATIONS REACHED LIMIT.\n",
      "\n",
      "Increase the number of iterations (max_iter) or scale the data as shown in:\n",
      "    https://scikit-learn.org/stable/modules/preprocessing.html\n",
      "Please also refer to the documentation for alternative solver options:\n",
      "    https://scikit-learn.org/stable/modules/linear_model.html#logistic-regression\n",
      "  n_iter_i = _check_optimize_result(\n"
     ]
    }
   ],
   "source": [
    "logr_1 = LogisticRegression(random_state=42)\n",
    "logr_2 = LogisticRegression(random_state=42)\n",
    "logr_3 = LogisticRegression(random_state=42)\n",
    "\n",
    "logr_1.fit(X_train_1, y_train_1)\n",
    "logr_2.fit(X_train_2, y_train_2)\n",
    "logr_3.fit(X_train_3, y_train_3)\n",
    "\n",
    "print(f'logr_1 train = {logr_1.score(X_train_1, y_train_1)}')\n",
    "print(f'logr_1 test = {logr_1.score(X_test_1, y_test_1)}\\n')\n",
    "print(f'logr_2 train = {logr_2.score(X_train_2, y_train_2)}')\n",
    "print(f'logr_2 test = {logr_2.score(X_test_2, y_test_2)}\\n')\n",
    "print(f'logr_3 train = {logr_2.score(X_train_2, y_train_2)}')\n",
    "print(f'logr_3 test = {logr_2.score(X_test_2, y_test_2)}')"
   ]
  },
  {
   "cell_type": "markdown",
   "metadata": {
    "id": "w0ALdHSyz8FP"
   },
   "source": [
    "### Random Forest"
   ]
  },
  {
   "cell_type": "code",
   "execution_count": 10,
   "metadata": {},
   "outputs": [
    {
     "name": "stdout",
     "output_type": "stream",
     "text": [
      "rf_1 train = 0.708855069671868\n",
      "rf_1 test = 0.7162300975860297\n",
      "\n",
      "rf_2 train = 0.7990111089706543\n",
      "rf_2 test = 0.7960965588084232\n",
      "\n",
      "rf_3 train = 0.7990111089706543\n",
      "rf_3 test = 0.7960965588084232\n"
     ]
    }
   ],
   "source": [
    "rf_1 = RandomForestClassifier(random_state=42)\n",
    "rf_2 = RandomForestClassifier(random_state=42)\n",
    "rf_3 = RandomForestClassifier(random_state=42)\n",
    "\n",
    "rf_1.fit(X_train_1, y_train_1)\n",
    "rf_2.fit(X_train_2, y_train_2)\n",
    "rf_3.fit(X_train_3, y_train_3)\n",
    "\n",
    "print(f'rf_1 train = {rf_1.score(X_train_1, y_train_1)}')\n",
    "print(f'rf_1 test = {rf_1.score(X_test_1, y_test_1)}\\n')\n",
    "print(f'rf_2 train = {rf_2.score(X_train_2, y_train_2)}')\n",
    "print(f'rf_2 test = {rf_2.score(X_test_2, y_test_2)}\\n')\n",
    "print(f'rf_3 train = {rf_2.score(X_train_2, y_train_2)}')\n",
    "print(f'rf_3 test = {rf_2.score(X_test_2, y_test_2)}')"
   ]
  },
  {
   "cell_type": "markdown",
   "metadata": {},
   "source": [
    "### Ada Boosting"
   ]
  },
  {
   "cell_type": "code",
   "execution_count": 11,
   "metadata": {},
   "outputs": [
    {
     "name": "stdout",
     "output_type": "stream",
     "text": [
      "ada_1 train = 0.708855069671868\n",
      "ada_1 test = 0.7162300975860297\n",
      "\n",
      "ada_2 train = 0.7990111089706543\n",
      "ada_2 test = 0.7960965588084232\n",
      "\n",
      "ada_3 train = 0.7990111089706543\n",
      "ada_3 test = 0.7960965588084232\n"
     ]
    }
   ],
   "source": [
    "ada_1 = AdaBoostClassifier(random_state=42)\n",
    "ada_2 = AdaBoostClassifier(random_state=42)\n",
    "ada_3 = AdaBoostClassifier(random_state=42)\n",
    "\n",
    "ada_1.fit(X_train_1, y_train_1)\n",
    "ada_2.fit(X_train_2, y_train_2)\n",
    "ada_3.fit(X_train_3, y_train_3)\n",
    "\n",
    "print(f'ada_1 train = {ada_1.score(X_train_1, y_train_1)}')\n",
    "print(f'ada_1 test = {ada_1.score(X_test_1, y_test_1)}\\n')\n",
    "print(f'ada_2 train = {ada_2.score(X_train_2, y_train_2)}')\n",
    "print(f'ada_2 test = {ada_2.score(X_test_2, y_test_2)}\\n')\n",
    "print(f'ada_3 train = {ada_2.score(X_train_2, y_train_2)}')\n",
    "print(f'ada_3 test = {ada_2.score(X_test_2, y_test_2)}')"
   ]
  },
  {
   "cell_type": "markdown",
   "metadata": {},
   "source": [
    "### kNN"
   ]
  },
  {
   "cell_type": "code",
   "execution_count": 12,
   "metadata": {},
   "outputs": [
    {
     "name": "stderr",
     "output_type": "stream",
     "text": [
      "/Users/atigon/opt/anaconda3/lib/python3.9/site-packages/sklearn/neighbors/_classification.py:228: FutureWarning: Unlike other reduction functions (e.g. `skew`, `kurtosis`), the default behavior of `mode` typically preserves the axis it acts along. In SciPy 1.11.0, this behavior will change: the default value of `keepdims` will become False, the `axis` over which the statistic is taken will be eliminated, and the value None will no longer be accepted. Set `keepdims` to True or False to avoid this warning.\n",
      "  mode, _ = stats.mode(_y[neigh_ind, k], axis=1)\n",
      "/Users/atigon/opt/anaconda3/lib/python3.9/site-packages/sklearn/neighbors/_classification.py:228: FutureWarning: Unlike other reduction functions (e.g. `skew`, `kurtosis`), the default behavior of `mode` typically preserves the axis it acts along. In SciPy 1.11.0, this behavior will change: the default value of `keepdims` will become False, the `axis` over which the statistic is taken will be eliminated, and the value None will no longer be accepted. Set `keepdims` to True or False to avoid this warning.\n",
      "  mode, _ = stats.mode(_y[neigh_ind, k], axis=1)\n",
      "/Users/atigon/opt/anaconda3/lib/python3.9/site-packages/sklearn/neighbors/_classification.py:228: FutureWarning: Unlike other reduction functions (e.g. `skew`, `kurtosis`), the default behavior of `mode` typically preserves the axis it acts along. In SciPy 1.11.0, this behavior will change: the default value of `keepdims` will become False, the `axis` over which the statistic is taken will be eliminated, and the value None will no longer be accepted. Set `keepdims` to True or False to avoid this warning.\n",
      "  mode, _ = stats.mode(_y[neigh_ind, k], axis=1)\n",
      "/Users/atigon/opt/anaconda3/lib/python3.9/site-packages/sklearn/neighbors/_classification.py:228: FutureWarning: Unlike other reduction functions (e.g. `skew`, `kurtosis`), the default behavior of `mode` typically preserves the axis it acts along. In SciPy 1.11.0, this behavior will change: the default value of `keepdims` will become False, the `axis` over which the statistic is taken will be eliminated, and the value None will no longer be accepted. Set `keepdims` to True or False to avoid this warning.\n",
      "  mode, _ = stats.mode(_y[neigh_ind, k], axis=1)\n",
      "/Users/atigon/opt/anaconda3/lib/python3.9/site-packages/sklearn/neighbors/_classification.py:228: FutureWarning: Unlike other reduction functions (e.g. `skew`, `kurtosis`), the default behavior of `mode` typically preserves the axis it acts along. In SciPy 1.11.0, this behavior will change: the default value of `keepdims` will become False, the `axis` over which the statistic is taken will be eliminated, and the value None will no longer be accepted. Set `keepdims` to True or False to avoid this warning.\n",
      "  mode, _ = stats.mode(_y[neigh_ind, k], axis=1)\n",
      "/Users/atigon/opt/anaconda3/lib/python3.9/site-packages/sklearn/neighbors/_classification.py:228: FutureWarning: Unlike other reduction functions (e.g. `skew`, `kurtosis`), the default behavior of `mode` typically preserves the axis it acts along. In SciPy 1.11.0, this behavior will change: the default value of `keepdims` will become False, the `axis` over which the statistic is taken will be eliminated, and the value None will no longer be accepted. Set `keepdims` to True or False to avoid this warning.\n",
      "  mode, _ = stats.mode(_y[neigh_ind, k], axis=1)\n"
     ]
    }
   ],
   "source": [
    "knn_1 = KNeighborsClassifier()\n",
    "knn_2 = KNeighborsClassifier()\n",
    "knn_3 = KNeighborsClassifier()\n",
    "\n",
    "knn_1.fit(X_train_1, y_train_1)\n",
    "knn_2.fit(X_train_2, y_train_2)\n",
    "knn_3.fit(X_train_3, y_train_3)\n",
    "\n",
    "score = []\n",
    "score.append(knn_1.score(X_train_1, y_train_1))\n",
    "score.append(knn_1.score(X_test_1, y_test_1))\n",
    "score.append(knn_2.score(X_train_2, y_train_2))\n",
    "score.append(knn_2.score(X_test_2, y_test_2))\n",
    "score.append(knn_2.score(X_train_2, y_train_2))\n",
    "score.append(knn_2.score(X_test_2, y_test_2))"
   ]
  },
  {
   "cell_type": "code",
   "execution_count": 13,
   "metadata": {},
   "outputs": [
    {
     "name": "stdout",
     "output_type": "stream",
     "text": [
      "knn_1 train = 0.6823990239517113\n",
      "knn_1 test = 0.6905495634309193\n",
      "\n",
      "knn_2 train = 0.789443267193219\n",
      "knn_2 test = 0.7863379558294813\n",
      "\n",
      "knn_3 train = 0.789443267193219\n",
      "knn_3 test = 0.7863379558294813\n"
     ]
    }
   ],
   "source": [
    "print(f'knn_1 train = {score[0]}')\n",
    "print(f'knn_1 test = {score[1]}\\n')\n",
    "print(f'knn_2 train = {score[2]}')\n",
    "print(f'knn_2 test = {score[3]}\\n')\n",
    "print(f'knn_3 train = {score[4]}')\n",
    "print(f'knn_3 test = {score[5]}')"
   ]
  }
 ],
 "metadata": {
  "colab": {
   "provenance": []
  },
  "kernelspec": {
   "display_name": "Python 3 (ipykernel)",
   "language": "python",
   "name": "python3"
  },
  "language_info": {
   "codemirror_mode": {
    "name": "ipython",
    "version": 3
   },
   "file_extension": ".py",
   "mimetype": "text/x-python",
   "name": "python",
   "nbconvert_exporter": "python",
   "pygments_lexer": "ipython3",
   "version": "3.9.13"
  }
 },
 "nbformat": 4,
 "nbformat_minor": 4
}
